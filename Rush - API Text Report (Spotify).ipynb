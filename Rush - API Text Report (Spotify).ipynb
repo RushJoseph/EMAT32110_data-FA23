{
 "cells": [
  {
   "cell_type": "markdown",
   "id": "49aca7d7",
   "metadata": {},
   "source": [
    "# Duration and Traction in Starting a Podcast\n",
    "\n",
    "## 15 October, 2023\n",
    "\n",
    "## Joseph Rush\n",
    "\n",
    "### Hypothesis\n",
    "When starting a new podcast, listeners will be less willing to start with long episodes. So, when a podcast is first starting out, it will tend to have shorter, more contained episodes, probably less than an hour, and if they move into a longer length it will be a steady lengthening over time as they gain audience and traction.\n",
    "\n",
    "I am testing this hypothesis with episode data from the most popular podcast on Spotify on 10/2/23, \"New Heights with Jason and Travis Kelce.\" As a podcast with a large listener base, it is a good test case for what best practices are to grow an audience.\n",
    "\n",
    "### Methodology\n",
    "\n",
    "To test this hypothesis, I will be using the Get Show Episodes endpoint. This will pull episodes of a single podcast with title, date, and length information, which will allow me to conduct my time-based analysis of length.\n",
    "\n",
    "The main limitation to this approach is that one podcast is not an ideal representation of a market segment. A more broad and inclusive study would include information from many podcasts, with multiple additional layers of analysis for context, role in an existing property, brand, or ecosystem, podcast genre, and a multitude of other factors. Creative endeavors are complicated, and quantifying them is even moreso.\n",
    "\n",
    "This data also only includes Spotify and is not a cohesive picture across listening platforms. Apple, Spotify, IHeartRadio, and many other services host podcasts. To get a cohesive idea of a podcast's traction and growth, one would have to scrape a multitude of platforms."
   ]
  },
  {
   "cell_type": "markdown",
   "id": "5ffd1667",
   "metadata": {},
   "source": [
    "First, getting my ducks in a row with Spotify API credentials"
   ]
  },
  {
   "cell_type": "code",
   "execution_count": 43,
   "id": "8d2590fb",
   "metadata": {
    "scrolled": true
   },
   "outputs": [
    {
     "data": {
      "text/plain": [
       "200"
      ]
     },
     "execution_count": 43,
     "metadata": {},
     "output_type": "execute_result"
    }
   ],
   "source": [
    "# Setup\n",
    "import requests as rq\n",
    "import pandas as pd\n",
    "import base64 # Remove in final\n",
    "import json\n",
    "import urllib # Remove in final\n",
    "import matplotlib.pyplot as plt \n",
    "import numpy as np \n",
    "\n",
    "# Spotify credential retrieval from local storage\n",
    "\n",
    "client_id = pd.read_csv('230919-SpotifyCredentials.txt')['Client_ID'].iloc[0]\n",
    "client_secret = pd.read_csv('230919-SpotifyCredentials.txt')['Client_Secret'].iloc[0]\n",
    "\n",
    "# Encode Spotify client credentials into ascii for use in requests\n",
    "client_cred = base64.b64encode(str(client_id + \":\" + client_secret).encode(\"ascii\"))\n",
    "\n",
    "# Turn client_cred into acceptable header\n",
    "headers = {\"Authorization\": \"Basic {}\".format(client_cred.decode(\"ascii\"))}\n",
    "\n",
    "# Define more arguments to authorize access\n",
    "payload = {'grant_type' : 'client_credentials'}\n",
    "url = 'https://accounts.spotify.com/api/token'\n",
    "\n",
    "# Check if Spotify likes my credentials. 200 is success\n",
    "session_key_response = rq.post(url = url, data = payload, headers = headers)\n",
    "session_key_response.status_code"
   ]
  },
  {
   "cell_type": "code",
   "execution_count": 44,
   "id": "1c4adf55",
   "metadata": {},
   "outputs": [],
   "source": [
    "# Grab & store necessary access information\n",
    "session_header_key = session_key_response.json()['access_token']\n",
    "\n",
    "# Pass provided access_token key into headers of my actual request\n",
    "session_headers ={\"Authorization\": \"Bearer {}\".format(session_header_key)}"
   ]
  },
  {
   "cell_type": "markdown",
   "id": "068d0d33",
   "metadata": {},
   "source": [
    "Next, I pull in the Spotify podcast IDs I gathered in a csv"
   ]
  },
  {
   "cell_type": "code",
   "execution_count": 45,
   "id": "1d5e8294",
   "metadata": {},
   "outputs": [],
   "source": [
    "# method to import .csv with all the Spotify API links\n",
    "pod_list_df = pd.read_csv('SpotifyTop50Podcasts_231002.csv')"
   ]
  },
  {
   "cell_type": "markdown",
   "id": "7f04e5b8",
   "metadata": {},
   "source": [
    "## The Podcast\n",
    "\n",
    "The most popular podcast on 10/2/23 was \"New Heights with Jason and Travis Kelce.\" It is the first item in my csv of the top 48 most popular podcasts that I gathered on the same day. I will be gathering the maximum number of episodes allowed in a single call, 50, and using an offset of 10 so that I can pull episodes 1-50."
   ]
  },
  {
   "cell_type": "code",
   "execution_count": 46,
   "id": "611bbf07",
   "metadata": {},
   "outputs": [],
   "source": [
    "# Define search URL\n",
    "show_episodes_url = 'https://api.spotify.com/v1/shows/{}/episodes?market=US&limit=50&offset=10'.format(pod_list_df['Spotify ID'][0])"
   ]
  },
  {
   "cell_type": "code",
   "execution_count": 47,
   "id": "fa3b37b0",
   "metadata": {},
   "outputs": [
    {
     "data": {
      "text/plain": [
       "200"
      ]
     },
     "execution_count": 47,
     "metadata": {},
     "output_type": "execute_result"
    }
   ],
   "source": [
    "# Create search URL\n",
    "showEpisodes = rq.get(url = show_episodes_url, headers = session_headers)\n",
    "showEpisodes.status_code"
   ]
  },
  {
   "cell_type": "code",
   "execution_count": 48,
   "id": "97f6718d",
   "metadata": {
    "scrolled": true
   },
   "outputs": [],
   "source": [
    "# Load in the resulting data as a json\n",
    "showEpisodes_json = json.loads(showEpisodes.text)"
   ]
  },
  {
   "cell_type": "code",
   "execution_count": 49,
   "id": "ad3472df",
   "metadata": {
    "scrolled": true
   },
   "outputs": [
    {
     "data": {
      "text/plain": [
       "dict_keys(['href', 'items', 'limit', 'next', 'offset', 'previous', 'total'])"
      ]
     },
     "execution_count": 49,
     "metadata": {},
     "output_type": "execute_result"
    }
   ],
   "source": [
    "showEpisodes_json.keys()"
   ]
  },
  {
   "cell_type": "markdown",
   "id": "752d3151",
   "metadata": {},
   "source": [
    "Now, I find myself confronted with the fact that all the information I want (name, release_date, duration_ms) are within the \"items\" key in the response, so I have to go in and pull the information I need."
   ]
  },
  {
   "cell_type": "markdown",
   "id": "8dec979c",
   "metadata": {},
   "source": [
    "#### Episode Names"
   ]
  },
  {
   "cell_type": "code",
   "execution_count": 50,
   "id": "7c6c351c",
   "metadata": {},
   "outputs": [],
   "source": [
    "# Define a method to pull the Name values from the Items key\n",
    "\n",
    "def find_values_by_key(showEpisodes_json, key_to_find):\n",
    "    names = []\n",
    "\n",
    "    # Check if the current data is a dictionary\n",
    "    if isinstance(showEpisodes_json, dict):\n",
    "        for key, value in showEpisodes_json.items():\n",
    "            if key == key_to_find:\n",
    "                names.append(value)\n",
    "            else:\n",
    "                names.extend(find_values_by_key(value, key_to_find))\n",
    "\n",
    "    # Check if the current data is a list (array)\n",
    "    elif isinstance(showEpisodes_json, list):\n",
    "        for item in showEpisodes_json:\n",
    "            names.extend(find_values_by_key(item, key_to_find))\n",
    "\n",
    "    return names\n",
    "\n",
    "# Which key do I want?\n",
    "key_to_find = 'name'\n",
    "\n",
    "# Run the method\n",
    "names = find_values_by_key(showEpisodes_json, key_to_find)\n",
    "\n",
    "# print(names)"
   ]
  },
  {
   "cell_type": "markdown",
   "id": "e5bc2b2e",
   "metadata": {},
   "source": [
    "Now, I can make a DataFrame with all of the episode names and start adding my dates and durations as additional columns"
   ]
  },
  {
   "cell_type": "code",
   "execution_count": 51,
   "id": "43dff3e7",
   "metadata": {
    "scrolled": false
   },
   "outputs": [
    {
     "data": {
      "text/html": [
       "<div>\n",
       "<style scoped>\n",
       "    .dataframe tbody tr th:only-of-type {\n",
       "        vertical-align: middle;\n",
       "    }\n",
       "\n",
       "    .dataframe tbody tr th {\n",
       "        vertical-align: top;\n",
       "    }\n",
       "\n",
       "    .dataframe thead th {\n",
       "        text-align: right;\n",
       "    }\n",
       "</style>\n",
       "<table border=\"1\" class=\"dataframe\">\n",
       "  <thead>\n",
       "    <tr style=\"text-align: right;\">\n",
       "      <th></th>\n",
       "      <th>0</th>\n",
       "    </tr>\n",
       "  </thead>\n",
       "  <tbody>\n",
       "    <tr>\n",
       "      <th>0</th>\n",
       "      <td>Julian Edelman on His Brady Relationship, Bein...</td>\n",
       "    </tr>\n",
       "    <tr>\n",
       "      <th>1</th>\n",
       "      <td>Travis Dominates The Match, Jason Goes Full Co...</td>\n",
       "    </tr>\n",
       "    <tr>\n",
       "      <th>2</th>\n",
       "      <td>The Beer Bowl with Landon Dickerson, Jeff Stou...</td>\n",
       "    </tr>\n",
       "    <tr>\n",
       "      <th>3</th>\n",
       "      <td>Alejandro Villanueva on his NFL Career, Servin...</td>\n",
       "    </tr>\n",
       "    <tr>\n",
       "      <th>4</th>\n",
       "      <td>Mahomes Who, Best Throwbacks, and Whale Wars |...</td>\n",
       "    </tr>\n",
       "  </tbody>\n",
       "</table>\n",
       "</div>"
      ],
      "text/plain": [
       "                                                   0\n",
       "0  Julian Edelman on His Brady Relationship, Bein...\n",
       "1  Travis Dominates The Match, Jason Goes Full Co...\n",
       "2  The Beer Bowl with Landon Dickerson, Jeff Stou...\n",
       "3  Alejandro Villanueva on his NFL Career, Servin...\n",
       "4  Mahomes Who, Best Throwbacks, and Whale Wars |..."
      ]
     },
     "execution_count": 51,
     "metadata": {},
     "output_type": "execute_result"
    }
   ],
   "source": [
    "new_df = pd.DataFrame(names)\n",
    "new_df.head()"
   ]
  },
  {
   "cell_type": "markdown",
   "id": "e1a2f2bc",
   "metadata": {},
   "source": [
    "#### Release Dates"
   ]
  },
  {
   "cell_type": "code",
   "execution_count": 52,
   "id": "992b8dc6",
   "metadata": {},
   "outputs": [],
   "source": [
    "# Define a method to pull the Release Date values from the Items key\n",
    "\n",
    "def find_values_by_key(showEpisodes_json, key_to_find):\n",
    "    dates = []\n",
    "\n",
    "    # Check if the current data is a dictionary\n",
    "    if isinstance(showEpisodes_json, dict):\n",
    "        for key, value in showEpisodes_json.items():\n",
    "            if key == key_to_find:\n",
    "                dates.append(value)\n",
    "            else:\n",
    "                dates.extend(find_values_by_key(value, key_to_find))\n",
    "\n",
    "    # Check if the current data is a list (array)\n",
    "    elif isinstance(showEpisodes_json, list):\n",
    "        for item in showEpisodes_json:\n",
    "            dates.extend(find_values_by_key(item, key_to_find))\n",
    "\n",
    "    return dates\n",
    "\n",
    "# Which key do I want?\n",
    "key_to_find = 'release_date'\n",
    "\n",
    "# Find my values\n",
    "dates = find_values_by_key(showEpisodes_json, key_to_find)\n",
    "\n",
    "# print(dates)"
   ]
  },
  {
   "cell_type": "markdown",
   "id": "4e092854",
   "metadata": {},
   "source": [
    "#### Milliseconds"
   ]
  },
  {
   "cell_type": "code",
   "execution_count": 54,
   "id": "d8dae3de",
   "metadata": {},
   "outputs": [],
   "source": [
    "# Define a method to pull the Millisecond values from the Items key\n",
    "\n",
    "def find_values_by_key(showEpisodes_json, key_to_find):\n",
    "    length = []\n",
    "\n",
    "    # Check if the current data is a dictionary\n",
    "    if isinstance(showEpisodes_json, dict):\n",
    "        for key, value in showEpisodes_json.items():\n",
    "            if key == key_to_find:\n",
    "                length.append(int(value))\n",
    "            else:\n",
    "                length.extend(find_values_by_key(value, key_to_find))\n",
    "\n",
    "    # Check if the current data is a list (array)\n",
    "    elif isinstance(showEpisodes_json, list):\n",
    "        for item in showEpisodes_json:\n",
    "            length.extend(find_values_by_key(item, key_to_find))\n",
    "\n",
    "    return length\n",
    "\n",
    "# Which key do I want?\n",
    "key_to_find = 'duration_ms'\n",
    "\n",
    "# Find my values\n",
    "length = find_values_by_key(showEpisodes_json, key_to_find)\n",
    "\n",
    "# print(length)"
   ]
  },
  {
   "cell_type": "code",
   "execution_count": 55,
   "id": "5ba13a6a",
   "metadata": {
    "scrolled": false
   },
   "outputs": [
    {
     "data": {
      "text/html": [
       "<div>\n",
       "<style scoped>\n",
       "    .dataframe tbody tr th:only-of-type {\n",
       "        vertical-align: middle;\n",
       "    }\n",
       "\n",
       "    .dataframe tbody tr th {\n",
       "        vertical-align: top;\n",
       "    }\n",
       "\n",
       "    .dataframe thead th {\n",
       "        text-align: right;\n",
       "    }\n",
       "</style>\n",
       "<table border=\"1\" class=\"dataframe\">\n",
       "  <thead>\n",
       "    <tr style=\"text-align: right;\">\n",
       "      <th></th>\n",
       "      <th>0</th>\n",
       "      <th>Release Date</th>\n",
       "      <th>Milliseconds</th>\n",
       "    </tr>\n",
       "  </thead>\n",
       "  <tbody>\n",
       "    <tr>\n",
       "      <th>0</th>\n",
       "      <td>Julian Edelman on His Brady Relationship, Bein...</td>\n",
       "      <td>2023-07-19</td>\n",
       "      <td>5624084</td>\n",
       "    </tr>\n",
       "    <tr>\n",
       "      <th>1</th>\n",
       "      <td>Travis Dominates The Match, Jason Goes Full Co...</td>\n",
       "      <td>2023-07-12</td>\n",
       "      <td>2759706</td>\n",
       "    </tr>\n",
       "    <tr>\n",
       "      <th>2</th>\n",
       "      <td>The Beer Bowl with Landon Dickerson, Jeff Stou...</td>\n",
       "      <td>2023-07-06</td>\n",
       "      <td>4754677</td>\n",
       "    </tr>\n",
       "    <tr>\n",
       "      <th>3</th>\n",
       "      <td>Alejandro Villanueva on his NFL Career, Servin...</td>\n",
       "      <td>2023-06-30</td>\n",
       "      <td>5596133</td>\n",
       "    </tr>\n",
       "    <tr>\n",
       "      <th>4</th>\n",
       "      <td>Mahomes Who, Best Throwbacks, and Whale Wars |...</td>\n",
       "      <td>2023-06-21</td>\n",
       "      <td>3798125</td>\n",
       "    </tr>\n",
       "  </tbody>\n",
       "</table>\n",
       "</div>"
      ],
      "text/plain": [
       "                                                   0 Release Date  \\\n",
       "0  Julian Edelman on His Brady Relationship, Bein...   2023-07-19   \n",
       "1  Travis Dominates The Match, Jason Goes Full Co...   2023-07-12   \n",
       "2  The Beer Bowl with Landon Dickerson, Jeff Stou...   2023-07-06   \n",
       "3  Alejandro Villanueva on his NFL Career, Servin...   2023-06-30   \n",
       "4  Mahomes Who, Best Throwbacks, and Whale Wars |...   2023-06-21   \n",
       "\n",
       "   Milliseconds  \n",
       "0       5624084  \n",
       "1       2759706  \n",
       "2       4754677  \n",
       "3       5596133  \n",
       "4       3798125  "
      ]
     },
     "execution_count": 55,
     "metadata": {},
     "output_type": "execute_result"
    }
   ],
   "source": [
    "new_df['Milliseconds'] = length\n",
    "new_df.head()"
   ]
  },
  {
   "cell_type": "markdown",
   "id": "ac262a1b",
   "metadata": {},
   "source": [
    "Now, I just need to quickly deal with the fact that my episodes are arranged newest to oldest, instead of oldest to newest."
   ]
  },
  {
   "cell_type": "code",
   "execution_count": 65,
   "id": "a7529f17",
   "metadata": {
    "scrolled": true
   },
   "outputs": [
    {
     "data": {
      "text/html": [
       "<div>\n",
       "<style scoped>\n",
       "    .dataframe tbody tr th:only-of-type {\n",
       "        vertical-align: middle;\n",
       "    }\n",
       "\n",
       "    .dataframe tbody tr th {\n",
       "        vertical-align: top;\n",
       "    }\n",
       "\n",
       "    .dataframe thead th {\n",
       "        text-align: right;\n",
       "    }\n",
       "</style>\n",
       "<table border=\"1\" class=\"dataframe\">\n",
       "  <thead>\n",
       "    <tr style=\"text-align: right;\">\n",
       "      <th></th>\n",
       "      <th>0</th>\n",
       "      <th>Release Date</th>\n",
       "      <th>Milliseconds</th>\n",
       "    </tr>\n",
       "  </thead>\n",
       "  <tbody>\n",
       "    <tr>\n",
       "      <th>0</th>\n",
       "      <td>New Offenses, Last Dances and Epic Super Bowl ...</td>\n",
       "      <td>2022-09-08</td>\n",
       "      <td>3614380</td>\n",
       "    </tr>\n",
       "    <tr>\n",
       "      <th>1</th>\n",
       "      <td>Chiefs Offense, Eagles Playmakers and TNF Game...</td>\n",
       "      <td>2022-09-14</td>\n",
       "      <td>3054915</td>\n",
       "    </tr>\n",
       "    <tr>\n",
       "      <th>2</th>\n",
       "      <td>Body Slams, Blown Leads and Days Off | New Hei...</td>\n",
       "      <td>2022-09-21</td>\n",
       "      <td>4877557</td>\n",
       "    </tr>\n",
       "    <tr>\n",
       "      <th>3</th>\n",
       "      <td>Big Plays, Butt Punts and Brady Stories | New ...</td>\n",
       "      <td>2022-09-28</td>\n",
       "      <td>4741250</td>\n",
       "    </tr>\n",
       "    <tr>\n",
       "      <th>4</th>\n",
       "      <td>Best Tight Ends, Bad Media and Birthdays with ...</td>\n",
       "      <td>2022-10-05</td>\n",
       "      <td>5323415</td>\n",
       "    </tr>\n",
       "  </tbody>\n",
       "</table>\n",
       "</div>"
      ],
      "text/plain": [
       "                                                   0 Release Date  \\\n",
       "0  New Offenses, Last Dances and Epic Super Bowl ...   2022-09-08   \n",
       "1  Chiefs Offense, Eagles Playmakers and TNF Game...   2022-09-14   \n",
       "2  Body Slams, Blown Leads and Days Off | New Hei...   2022-09-21   \n",
       "3  Big Plays, Butt Punts and Brady Stories | New ...   2022-09-28   \n",
       "4  Best Tight Ends, Bad Media and Birthdays with ...   2022-10-05   \n",
       "\n",
       "   Milliseconds  \n",
       "0       3614380  \n",
       "1       3054915  \n",
       "2       4877557  \n",
       "3       4741250  \n",
       "4       5323415  "
      ]
     },
     "execution_count": 65,
     "metadata": {},
     "output_type": "execute_result"
    }
   ],
   "source": [
    "final_df = new_df.loc[::-1].reset_index(drop=True)\n",
    "final_df.head()"
   ]
  },
  {
   "cell_type": "markdown",
   "id": "7e70ce2a",
   "metadata": {},
   "source": [
    "Now, the episodes are arranged in chronological order. \n",
    "On to making a graph!"
   ]
  },
  {
   "cell_type": "code",
   "execution_count": 59,
   "id": "dd10f671",
   "metadata": {
    "scrolled": true
   },
   "outputs": [
    {
     "data": {
      "image/png": "[encoded data removed]",
      "text/plain": [
       "<Figure size 432x288 with 1 Axes>"
      ]
     },
     "metadata": {
      "needs_background": "light"
     },
     "output_type": "display_data"
    }
   ],
   "source": [
    "x = [1,2,3,4,5,6,7,8,9,10,11,12,13,14,15,16,17,18,19,20,21,22,23,24,25,26,27,28,29,30,31,32,33,34,35,36,37,38,39,40,41,42,43,44,45,46,47,48,49,50]\n",
    "y = final_df['Milliseconds']\n",
    "\n",
    "fig1, ax1 = plt.subplots()\n",
    "\n",
    "plt.plot(x,y)\n",
    "plt.xlabel(\"Episode Number\") \n",
    "plt.ylabel(\"Milliseconds\")\n",
    "plt.title(\"New Heights with Jason and Travis Kelce\")\n",
    "\n",
    "b, a = np.polyfit(x, y, deg=1)\n",
    "xseq = np.linspace(0, 50, num=50)\n",
    "ax1.plot(xseq, a + b * xseq, color=\"k\", lw=1)\n",
    "\n",
    "plt.show()"
   ]
  },
  {
   "cell_type": "markdown",
   "id": "2dcd8125",
   "metadata": {},
   "source": [
    "Doing some quick conversions from milliseconds to hours, minutes, and seconds, we find the following four episodes defining the extremes of the values\n",
    "\n",
    "The first episode was \"New Offenses, Last Dances and Epic Super Bowl Rings\" at __1 hour, 0 minutes, and 14 seconds__.\n",
    "\n",
    "The longest episode was Episode 31, \"Jason’s Coming Back, Rodgers Decision & Nick Sirianni,\" at __2 Hours, 26 Minutes 45 Seconds__.\n",
    "\n",
    "The shortest episode was Episode 19, \"Playoff Football, Pro Bowl Memories & JJ Watt Retires\" at __22 Minutes, 8 Seconds__.\n",
    "\n",
    "The most recent episode was Episode 49, \"Julian Edelman on His Brady Relationship, Being Scared of Belichick and Randy Moss' Hot Tub,\" at __1 Hour, 33 Minutes, 44 Seconds__. (Somewhere within the episodes seems to have been some kind of special episode that did not receive a full episode number)."
   ]
  },
  {
   "cell_type": "markdown",
   "id": "6d21254a",
   "metadata": {},
   "source": [
    "## Conclusion\n",
    "\n",
    "My hypothesis was not supported by the data. The length trend, as shown by the black line of best fit on the graph, has undergone almost no change. The episode lengths, based on the dates and titles, seem to vary seasonally or by subject, rather than following any general trend. This seems to represent a case study in fitting length to content, rather than approaching content with a length in mind.\n",
    "\n",
    "The logical and effective expansion of this analysis would be to grab data from many podcasts, dozens or even hundreds, that have performed well. These podcasts would need to be analyzed for genre, creator, date, platform, and more to provide a more cohesive picture of launching a show and gaining audience traction. This expanded data should also be gathered on a variety of platforms, since podcasts can gain more or less traction on one platform or another based on user preferences and algorithmic biases."
   ]
  }
 ],
 "metadata": {
  "kernelspec": {
   "display_name": "Python 3 (ipykernel)",
   "language": "python",
   "name": "python3"
  },
  "language_info": {
   "codemirror_mode": {
    "name": "ipython",
    "version": 3
   },
   "file_extension": ".py",
   "mimetype": "text/x-python",
   "name": "python",
   "nbconvert_exporter": "python",
   "pygments_lexer": "ipython3",
   "version": "3.9.12"
  }
 },
 "nbformat": 4,
 "nbformat_minor": 5
}
