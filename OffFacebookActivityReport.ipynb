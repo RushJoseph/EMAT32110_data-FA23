{
 "cells": [
  {
   "cell_type": "markdown",
   "id": "54a9c3f8",
   "metadata": {},
   "source": [
    "# Off Facebook Activity Report of Dr. David E. Silva\n",
    "## Joseph Rush\n",
    "\n",
    "In this analysis, I expect the following websites:\n",
    "- Github, because Professor Silva accesses it for classes and work\n",
    "- Instagram, because Professor Silva has used it for prior projects and provided his data\n",
    "- Stack Overflow or other programming forums, since Dr. Silva regularly writes code and, outside of the classroom, only crazy people and geniuses write every last line from scratch\n",
    "\n",
    "I don't know what other websites to expect, beyond Flashline and Canvas and other Kent State websites. I don't have a solid grasp on Dr. Silva's internet habits. I suspect that I will find other commonly used websites, like Hulu, Netflix, Google, YouTube, Spotify, and the like. Dr. Silva has mentioned consuming different visual media as well as music, so those should be in the footprint, as well"
   ]
  },
  {
   "cell_type": "code",
   "execution_count": 1,
   "id": "621ece87",
   "metadata": {},
   "outputs": [],
   "source": [
    "# Setup\n",
    "import requests as rq\n",
    "import pandas as pd\n",
    "import base64\n",
    "import json\n",
    "import urllib\n",
    "import matplotlib.pyplot as plt \n",
    "import numpy as np \n",
    "from scipy import stats"
   ]
  },
  {
   "cell_type": "code",
   "execution_count": 31,
   "id": "4fa9b479",
   "metadata": {},
   "outputs": [],
   "source": [
    "with open(r\"E:\\College\\EMAT32110_2-DataInEmergingMediaAndTechnology\\230911-facebook-davidsilva100046_year-to_share\\apps_and_websites_off_of_facebook\\your_off-facebook_activity.json\") as likes_json:\n",
    "    likes_data = json.load(likes_json)"
   ]
  },
  {
   "cell_type": "markdown",
   "id": "184994ee",
   "metadata": {},
   "source": [
    "#### Describe the raw data structure and variables included in the data\n",
    "\n",
    "The data's top layer is an object labeled \"off_facebook_activity_v2\"\n",
    "\n",
    "Within that object are 568 dictionaries, each of which is a different website visited. These dictionaries have 2 keys, \"name\" and \"events.\"\n",
    "\n",
    "\"Name\" just has a string with the name of the website, but \"Events\" contains a dictionary with three more keys, \"id,\" \"type,\" and \"timestamp.\""
   ]
  },
  {
   "cell_type": "code",
   "execution_count": 32,
   "id": "ba85a6e0",
   "metadata": {
    "scrolled": true
   },
   "outputs": [],
   "source": [
    "# Get the data into a DataFrame without all of it being wrapped inside the useless top layer\n",
    "fb_df = pd.DataFrame(likes_data['off_facebook_activity_v2'])"
   ]
  },
  {
   "cell_type": "code",
   "execution_count": 33,
   "id": "6cfa12f9",
   "metadata": {},
   "outputs": [],
   "source": [
    "# Get the length of each events key, which tells me how many entries it has.\n",
    "event_count = [len(x['events']) for x in likes_data['off_facebook_activity_v2']]"
   ]
  },
  {
   "cell_type": "code",
   "execution_count": 34,
   "id": "97efcf2c",
   "metadata": {},
   "outputs": [],
   "source": [
    "# Add the list of counts I just generated into my DataFrame\n",
    "fb_df.insert(1, 'Count', event_count)"
   ]
  },
  {
   "cell_type": "code",
   "execution_count": 35,
   "id": "a0731d17",
   "metadata": {},
   "outputs": [
    {
     "data": {
      "text/html": [
       "<div>\n",
       "<style scoped>\n",
       "    .dataframe tbody tr th:only-of-type {\n",
       "        vertical-align: middle;\n",
       "    }\n",
       "\n",
       "    .dataframe tbody tr th {\n",
       "        vertical-align: top;\n",
       "    }\n",
       "\n",
       "    .dataframe thead th {\n",
       "        text-align: right;\n",
       "    }\n",
       "</style>\n",
       "<table border=\"1\" class=\"dataframe\">\n",
       "  <thead>\n",
       "    <tr style=\"text-align: right;\">\n",
       "      <th></th>\n",
       "      <th>name</th>\n",
       "      <th>Count</th>\n",
       "    </tr>\n",
       "  </thead>\n",
       "  <tbody>\n",
       "    <tr>\n",
       "      <th>0</th>\n",
       "      <td>Spotify: Spotify: Music and Podcasts</td>\n",
       "      <td>1</td>\n",
       "    </tr>\n",
       "    <tr>\n",
       "      <th>1</th>\n",
       "      <td>cameo.com</td>\n",
       "      <td>5</td>\n",
       "    </tr>\n",
       "    <tr>\n",
       "      <th>2</th>\n",
       "      <td>kent.edu</td>\n",
       "      <td>631</td>\n",
       "    </tr>\n",
       "    <tr>\n",
       "      <th>3</th>\n",
       "      <td>Allstate</td>\n",
       "      <td>2</td>\n",
       "    </tr>\n",
       "    <tr>\n",
       "      <th>4</th>\n",
       "      <td>Bed Bath &amp; Beyond</td>\n",
       "      <td>2</td>\n",
       "    </tr>\n",
       "  </tbody>\n",
       "</table>\n",
       "</div>"
      ],
      "text/plain": [
       "                                   name  Count\n",
       "0  Spotify: Spotify: Music and Podcasts      1\n",
       "1                             cameo.com      5\n",
       "2                              kent.edu    631\n",
       "3                              Allstate      2\n",
       "4                     Bed Bath & Beyond      2"
      ]
     },
     "execution_count": 35,
     "metadata": {},
     "output_type": "execute_result"
    }
   ],
   "source": [
    "# Drop the old 'events' column since I have what I need from it.\n",
    "new_df = fb_df.drop('events', axis=1)\n",
    "new_df.head()"
   ]
  },
  {
   "cell_type": "markdown",
   "id": "91f7aa85",
   "metadata": {},
   "source": [
    "#### Histogram"
   ]
  },
  {
   "cell_type": "code",
   "execution_count": 36,
   "id": "4c258642",
   "metadata": {},
   "outputs": [
    {
     "data": {
      "image/png": "[encoded data removed]",
      "text/plain": [
       "<Figure size 640x480 with 1 Axes>"
      ]
     },
     "metadata": {},
     "output_type": "display_data"
    }
   ],
   "source": [
    "fig4, ax4 = plt.subplots()\n",
    "ax4.hist(new_df['name'])\n",
    "ax4.set_ylabel(\"Interactions\")\n",
    "\n",
    "plt.show()"
   ]
  },
  {
   "cell_type": "markdown",
   "id": "0f2f4809",
   "metadata": {},
   "source": [
    "#### a) What can you conclude about the data from this histogram\n",
    "Absolutely nothing. There are too many entries in too little space. I can't even read the labels."
   ]
  },
  {
   "cell_type": "markdown",
   "id": "399d0d3e",
   "metadata": {},
   "source": [
    "#### 20 most logged websites and apps"
   ]
  },
  {
   "cell_type": "code",
   "execution_count": null,
   "id": "8045c28b",
   "metadata": {},
   "outputs": [],
   "source": [
    "trimsort_df = new_df.sort_values(by=['Count'],ascending=False).iloc[:20]"
   ]
  },
  {
   "cell_type": "code",
   "execution_count": null,
   "id": "ed90a03a",
   "metadata": {},
   "outputs": [],
   "source": [
    "trimsort_df.head()"
   ]
  },
  {
   "cell_type": "code",
   "execution_count": null,
   "id": "9b1beac9",
   "metadata": {},
   "outputs": [],
   "source": [
    "trimsort_df.tail()"
   ]
  },
  {
   "cell_type": "code",
   "execution_count": null,
   "id": "b53d0e23",
   "metadata": {},
   "outputs": [],
   "source": [
    "fig5, ax5 = plt.subplots()\n",
    "ax5.barh(trimsort_df['name'], trimsort_df['Count'])\n",
    "ax5.invert_yaxis()\n",
    "ax5.set_xlabel(\"Interactions\")\n",
    "ax5.set_title(\"Dr. Silva's 20 most interacted websites according to Facebook\")\n",
    "\n",
    "plt.show()"
   ]
  },
  {
   "cell_type": "markdown",
   "id": "b83ac9be",
   "metadata": {},
   "source": [
    "#### a) What can you conclude about the data from this bar plot?\n",
    "I can conclude that, of the websites and activity that Facebook is tracking, Dr. Silva has the most interactions with TikTok, Kent.edu, and Hulu. I would especially note that Tiktok has 2 different bars, and Hulu has 3, speaking to some kind of discrepancies under the hood in the data."
   ]
  },
  {
   "cell_type": "markdown",
   "id": "e4f50b49",
   "metadata": {},
   "source": [
    "#### b) What would Facebook likely conclude from an analysis of this data?\n",
    "Facebook would conclude that Dr. Silva spends a great deal of his time on those 3 websites, as well as the other top entries."
   ]
  },
  {
   "cell_type": "markdown",
   "id": "7122439a",
   "metadata": {},
   "source": [
    "#### c) Would Facebook’s conclusion be accurate? Why or why not?\n",
    "It *might* be accurate. This information seems to track all sorts of interactions, not just site visits. So, while Dr. Silva is hitting the most buttons on TikTok, Kent.edu, and Hulu, he might actually spend a great deal more time hanging out on Discord or listening to Spotify, except that he just hits UI buttons much less often on those services.\n",
    "\n",
    "However, it seems safe to assume that these are a roughly accurate reflection of his online activities, since his top platforms are so much higher than the next ones recorded.\n",
    "\n",
    "Further, this data is only that which Facebook has access to. There could be whole realms of Dr. Silva's internet activity that are not being tracked."
   ]
  },
  {
   "cell_type": "markdown",
   "id": "81699631",
   "metadata": {},
   "source": [
    "#### Assesses the quality of the data analysis noting any weaknesses and limitations\n",
    "The quality of the data analysis has a few key limitations. First, the site names are not being tracked cleanly. The top 20 sites have 3 instances of Hulu and 2 instances of TikTok, and there's not currently anything in the analysis to account for what other redundancy might lurk in the remaining 548 entries.\n",
    "\n",
    "Second, the analysis is not tracked over any kind of time scale. Over a long enough time, all of this activity becomes negligible, and it's also important to understand when the user is interacting with which sites, whether they are used simultaneously, in sequence, or disparately.\n",
    "\n",
    "Third, this data analysis did not bother with the types of interactions. Interactions such as a \"like\" take very little effort, while comments and posts represent greater time and effort for the user. So, it is easy for a deliberately low-effort platform like TikTok to rack up many, many interactions."
   ]
  },
  {
   "cell_type": "markdown",
   "id": "8e9f31f9",
   "metadata": {},
   "source": [
    "#### Reflects on alternative approaches and potential next steps\n",
    "The next step would be cleaning the data for redundancies. All data for each site should be grouped together, rather than spread out, unless the site distinctions reflect some kind of meaningfully different activity.\n",
    "\n",
    "After that, the data should be analyzed for trends over time. The first step is just analyzing the time scale of the data, followed by looking at frequencies and clusters of interactions.\n",
    "\n",
    "If possible, other tracking data should be acquired and correlated with  the existing information to paint a more robust picture of this user's activity."
   ]
  },
  {
   "cell_type": "markdown",
   "id": "144d2fb5",
   "metadata": {},
   "source": [
    "## Spotify Track Data Analysis Demonstration\n",
    "\n",
    "The first album I'm choosing is \"Deleted Scenes from the Cutting Room Floor\" by Caro Emerald. I played and listened to a lot of jazz when I was younger, particularly saxophone since that was what I played, and I burnt out on it completely for a few  years. This album is what got me back into it. In addition, my wife and I started listening to the album together after I showed it to her, which gave me new reasons to be fond of it.\n",
    "\n",
    "The second album is \"Swingin' for the Fences\" by Gordon Goodwin's Big Phat Band. It has my single favorite big band song, \"Mueva los Huesos (Shake Your Bones) which I discovered in high school when our jazz ensemble performed it. I played the lead soprano saxophone part. It is the only big band song I have ever liked better than the immortal classic \"Sing, Sing, Sing.\""
   ]
  },
  {
   "cell_type": "code",
   "execution_count": 2,
   "id": "11011916",
   "metadata": {},
   "outputs": [
    {
     "data": {
      "text/plain": [
       "200"
      ]
     },
     "execution_count": 2,
     "metadata": {},
     "output_type": "execute_result"
    }
   ],
   "source": [
    "# Spotify credential retrieval from local storage\n",
    "client_id = pd.read_csv('230919-SpotifyCredentials.txt')['Client_ID'].iloc[0]\n",
    "client_secret = pd.read_csv('230919-SpotifyCredentials.txt')['Client_Secret'].iloc[0]\n",
    "\n",
    "# Encode Spotify client credentials into ascii for use in requests\n",
    "client_cred = base64.b64encode(str(client_id + \":\" + client_secret).encode(\"ascii\"))\n",
    "\n",
    "# Turn client_cred into acceptable header\n",
    "headers = {\"Authorization\": \"Basic {}\".format(client_cred.decode(\"ascii\"))}\n",
    "\n",
    "# Define more arguments to authorize access\n",
    "payload = {'grant_type' : 'client_credentials'}\n",
    "url = 'https://accounts.spotify.com/api/token'\n",
    "\n",
    "# Check if Spotify likes my credentials. 200 is success\n",
    "session_key_response = rq.post(url = url, data = payload, headers = headers)\n",
    "session_key_response.status_code"
   ]
  },
  {
   "cell_type": "code",
   "execution_count": 3,
   "id": "2bd39b24",
   "metadata": {},
   "outputs": [
    {
     "data": {
      "text/plain": [
       "200"
      ]
     },
     "execution_count": 3,
     "metadata": {},
     "output_type": "execute_result"
    }
   ],
   "source": [
    "session_key_response.status_code"
   ]
  },
  {
   "cell_type": "code",
   "execution_count": 4,
   "id": "7c8fc80d",
   "metadata": {},
   "outputs": [],
   "source": [
    "# Grab & store necessary access information\n",
    "session_header_key = session_key_response.json()['access_token']\n",
    "\n",
    "# Pass provided access_token key into headers of my actual request\n",
    "session_headers ={\"Authorization\": \"Bearer {}\".format(session_header_key)}"
   ]
  },
  {
   "cell_type": "markdown",
   "id": "45a65b63",
   "metadata": {},
   "source": [
    "### Pull the album information for Caro Emerald"
   ]
  },
  {
   "cell_type": "code",
   "execution_count": 5,
   "id": "45a53c41",
   "metadata": {},
   "outputs": [],
   "source": [
    "# Caro Emerald\n",
    "album1_id = '7KYgUgJTrsxT4gkHRALi3R'\n",
    "album1_url = 'https://api.spotify.com/v1/albums/{}/tracks'.format(album1_id)"
   ]
  },
  {
   "cell_type": "code",
   "execution_count": 6,
   "id": "8a0e69cd",
   "metadata": {
    "scrolled": false
   },
   "outputs": [
    {
     "data": {
      "text/plain": [
       "200"
      ]
     },
     "execution_count": 6,
     "metadata": {},
     "output_type": "execute_result"
    }
   ],
   "source": [
    "response1 = rq.get(url = album1_url, headers = session_headers)\n",
    "response1.status_code"
   ]
  },
  {
   "cell_type": "code",
   "execution_count": 7,
   "id": "ceebeb0f",
   "metadata": {},
   "outputs": [],
   "source": [
    "data1 = json.loads(response1.text)"
   ]
  },
  {
   "cell_type": "markdown",
   "id": "14a1bfb7",
   "metadata": {},
   "source": [
    "### Pull the album information for Gordon Goodwin"
   ]
  },
  {
   "cell_type": "code",
   "execution_count": 8,
   "id": "6d29adbf",
   "metadata": {},
   "outputs": [],
   "source": [
    "# Gordon Goodwin\n",
    "album2_id = '4ZxgQ07bLb5r2QEBAa7Zmt'\n",
    "album2_url = 'https://api.spotify.com/v1/albums/{}/tracks'.format(album2_id)"
   ]
  },
  {
   "cell_type": "code",
   "execution_count": 9,
   "id": "d8b8aba4",
   "metadata": {
    "scrolled": true
   },
   "outputs": [
    {
     "data": {
      "text/plain": [
       "200"
      ]
     },
     "execution_count": 9,
     "metadata": {},
     "output_type": "execute_result"
    }
   ],
   "source": [
    "response2 = rq.get(url = album2_url, headers = session_headers)\n",
    "response2.status_code"
   ]
  },
  {
   "cell_type": "code",
   "execution_count": 10,
   "id": "f2923837",
   "metadata": {},
   "outputs": [],
   "source": [
    "data2 = json.loads(response2.text)"
   ]
  },
  {
   "cell_type": "markdown",
   "id": "9be0d83b",
   "metadata": {},
   "source": [
    "### Manipulate the IDs of all the tracks for both albums and put them into a single dataframe"
   ]
  },
  {
   "cell_type": "code",
   "execution_count": 11,
   "id": "e438f53e",
   "metadata": {},
   "outputs": [],
   "source": [
    "# Extract the track IDs from both album jsons & put them in a combined list\n",
    "track_ids = [x['id'] for x in data1['items']] + [x['id'] for x in data2['items']]"
   ]
  },
  {
   "cell_type": "code",
   "execution_count": 12,
   "id": "3a27c1e3",
   "metadata": {},
   "outputs": [],
   "source": [
    "# Turn that combined list into text separated by commas for use in the URL\n",
    "track_list = ','.join(list(track_ids))"
   ]
  },
  {
   "cell_type": "code",
   "execution_count": 13,
   "id": "50ee8a14",
   "metadata": {},
   "outputs": [
    {
     "data": {
      "text/plain": [
       "200"
      ]
     },
     "execution_count": 13,
     "metadata": {},
     "output_type": "execute_result"
    }
   ],
   "source": [
    "# Send the track list to the audio_features endpoint\n",
    "audio_features_url = 'https://api.spotify.com/v1/audio-features?ids={}'.format(track_list)\n",
    "features_response = rq.get(url = audio_features_url, headers = session_headers)\n",
    "features_response.status_code"
   ]
  },
  {
   "cell_type": "code",
   "execution_count": 14,
   "id": "db90fd91",
   "metadata": {
    "scrolled": true
   },
   "outputs": [],
   "source": [
    "# Get the features json and load it into a Data Frame\n",
    "features = features_response.json()\n",
    "df_features = pd.DataFrame(features['audio_features'])"
   ]
  },
  {
   "cell_type": "code",
   "execution_count": 15,
   "id": "be16d869",
   "metadata": {},
   "outputs": [],
   "source": [
    "# Generate the list of track names and add it as a new column\n",
    "names1 = [x['name'] for x in data1['items']]\n",
    "names2 = [x['name'] for x in data2['items']]\n",
    "name_list = names1+names2\n",
    "df_features.insert(0,'Track',name_list)"
   ]
  },
  {
   "cell_type": "code",
   "execution_count": 16,
   "id": "519ad0d9",
   "metadata": {},
   "outputs": [],
   "source": [
    "# Generate the list of album names and add it as a new column\n",
    "album1 = [\"Deleted\"] * len(data1['items'])\n",
    "album2 = [\"Fences\"] * len(data2['items'])\n",
    "album_list = album1 + album2\n",
    "df_features.insert(0,'Album',album_list)"
   ]
  },
  {
   "cell_type": "code",
   "execution_count": 25,
   "id": "bfbb33f0",
   "metadata": {},
   "outputs": [],
   "source": [
    "# df_features.head()"
   ]
  },
  {
   "cell_type": "markdown",
   "id": "35100de4",
   "metadata": {},
   "source": [
    "#### Two audio features that best encompass the albums\n",
    "Tempo and loudness are my chosen values. Caro's songs tend to have a variety of tempos, few of them fast, while the Big Phat Band tends to have high tempos in much of their music.\n",
    "\n",
    "For loudness, Caro Emerald's music runs a wide spectrum of volumes, while the Big Phat Band is often derided for always blowing their lungs out at maximum volume.\n",
    "\n",
    "#### Describe the raw data structure and variables included in the data\n",
    "The data is a two-dimensional dataframe. Each track is its own row with columns of attributes. Those columns are Album (string), Track (string), danceability (float),\tenergy (float),\tkey (float), loudness (float), mode (int), speechiness (float), acousticness (float), instrumentalness (float), liveness (float), valence (float), tempo (float), type (string), id (string), uri (string), track_href (string), analysis_url (string), duration_ms (integer), and time_signature (integer)."
   ]
  },
  {
   "cell_type": "markdown",
   "id": "c1133770",
   "metadata": {},
   "source": [
    "### Histograms"
   ]
  },
  {
   "cell_type": "code",
   "execution_count": 18,
   "id": "f9568b10",
   "metadata": {},
   "outputs": [],
   "source": [
    "# Pull the tempo and loudness values by album from the dataframe\n",
    "del_tempo = df_features[df_features['Album'] == 'Deleted']['tempo']\n",
    "fences_tempo = df_features[df_features['Album'] == 'Fences']['tempo']\n",
    "del_loud = df_features[df_features['Album'] == 'Deleted']['loudness']\n",
    "fences_loud = df_features[df_features['Album'] == 'Fences']['loudness']"
   ]
  },
  {
   "cell_type": "code",
   "execution_count": 19,
   "id": "d747a011",
   "metadata": {},
   "outputs": [],
   "source": [
    "df_tempo = df_features[['Album','tempo']]\n",
    "# df_tempo"
   ]
  },
  {
   "cell_type": "code",
   "execution_count": 20,
   "id": "ad919b4a",
   "metadata": {
    "scrolled": true
   },
   "outputs": [
    {
     "data": {
      "image/png": "[encoded data removed]",
      "text/plain": [
       "<Figure size 640x480 with 2 Axes>"
      ]
     },
     "metadata": {},
     "output_type": "display_data"
    }
   ],
   "source": [
    "fig1, ax1 = plt.subplots(1,2)\n",
    "# ax1[0].hist(df_features['tempo'])\n",
    "ax1[0].hist(del_tempo, label = 'Deleted', color = 'Blue')\n",
    "ax1[0].hist(fences_tempo, label = 'Fences', color = 'Orange')\n",
    "ax1[0].legend()\n",
    "ax1[0].set_xlabel('Tempo')\n",
    "ax1[0].set_ylabel('Quantity')\n",
    "\n",
    "ax1[1].hist(del_loud, label = 'Deleted', color = 'Blue')\n",
    "ax1[1].hist(fences_loud, label = 'Fences', color = 'Orange')\n",
    "ax1[1].legend()\n",
    "ax1[1].set_xlabel('Loudness')\n",
    "ax1[1].set_ylabel('Quantity')\n",
    "\n",
    "fig1.tight_layout(pad=2)\n",
    "\n",
    "plt.show()"
   ]
  },
  {
   "cell_type": "markdown",
   "id": "68507fd3",
   "metadata": {},
   "source": [
    "#### What can you conclude from these histograms?\n",
    "It looks like I can conclude that the tracks on Caro Emerald's \"Deleted Scenes from the Cutting Room Floor\" tend to be both faster and louder, defying my expectations. However, both albums have a spread, and I am skeptical of drawing too many conclusions about this sort of data from a histogram.\n",
    "\n",
    "In addition, loudness may only reflect the volume to which the tracks were mastered. If this is true and the two albums were not treated in an equivalent way, this variable may lose its relevance."
   ]
  },
  {
   "cell_type": "markdown",
   "id": "147b85d9",
   "metadata": {},
   "source": [
    "### Scatter Plots"
   ]
  },
  {
   "cell_type": "markdown",
   "id": "cdf16397",
   "metadata": {},
   "source": [
    "#### Albums Plotted Separately"
   ]
  },
  {
   "cell_type": "code",
   "execution_count": 21,
   "id": "cbd156ec",
   "metadata": {
    "scrolled": true
   },
   "outputs": [
    {
     "data": {
      "image/png": "[encoded data removed]",
      "text/plain": [
       "<Figure size 640x480 with 2 Axes>"
      ]
     },
     "metadata": {},
     "output_type": "display_data"
    }
   ],
   "source": [
    "fig2, ax2 = plt.subplots(1,2)\n",
    "ax2[0].scatter(x = del_tempo, y= del_loud, color = 'Blue')\n",
    "ax2[0].set_xlabel('Tempo')\n",
    "ax2[0].set_ylabel('Loudness')\n",
    "ax2[0].set_title('Deleted')\n",
    "\n",
    "ax2[1].scatter(x = fences_tempo, y = fences_loud, color = 'Orange')\n",
    "ax2[1].set_xlabel('Tempo')\n",
    "ax2[1].set_ylabel('Loudness')\n",
    "ax2[1].set_title('Fences')\n",
    "\n",
    "fig2.tight_layout(pad=2)\n",
    "\n",
    "plt.show()"
   ]
  },
  {
   "cell_type": "markdown",
   "id": "611dbe1e",
   "metadata": {},
   "source": [
    "#### Albums Plotted Together"
   ]
  },
  {
   "cell_type": "code",
   "execution_count": 22,
   "id": "8fc980db",
   "metadata": {
    "scrolled": true
   },
   "outputs": [
    {
     "data": {
      "image/png": "[encoded data removed]",
      "text/plain": [
       "<Figure size 640x480 with 1 Axes>"
      ]
     },
     "metadata": {},
     "output_type": "display_data"
    }
   ],
   "source": [
    "fig2, ax2 = plt.subplots()\n",
    "ax2.scatter(x = del_tempo, y= del_loud, color = 'Blue', label = 'Deleted')\n",
    "ax2.scatter(x = fences_tempo, y = fences_loud, color = 'Orange', label = 'Fences')\n",
    "ax2.legend()\n",
    "ax2.set_xlabel('Tempo')\n",
    "ax2.set_ylabel('Loudness')\n",
    "ax2.set_title('Scatter Comparison')\n",
    "\n",
    "plt.show()"
   ]
  },
  {
   "cell_type": "markdown",
   "id": "bf4479ec",
   "metadata": {},
   "source": [
    "#### Box Plots of a single feature"
   ]
  },
  {
   "cell_type": "code",
   "execution_count": 23,
   "id": "f8be184f",
   "metadata": {
    "scrolled": true
   },
   "outputs": [
    {
     "data": {
      "image/png": "[encoded data removed]",
      "text/plain": [
       "<Figure size 640x480 with 1 Axes>"
      ]
     },
     "metadata": {},
     "output_type": "display_data"
    }
   ],
   "source": [
    "both_xs = [1] * 22\n",
    "del_xs = [2] * len(del_tempo)\n",
    "fences_xs = [3] * len(fences_tempo)\n",
    "\n",
    "fig3, ax3 = plt.subplots()\n",
    "ax3.boxplot(df_features['tempo'])\n",
    "ax3.scatter(both_xs, df_features['tempo'], color = 'Green', alpha = .5, label = 'Both')\n",
    "\n",
    "ax3.boxplot(del_tempo, positions = [2])\n",
    "ax3.scatter(del_xs, del_tempo, color = 'Blue', alpha = .5, label = 'Deleted')\n",
    "\n",
    "ax3.boxplot(fences_tempo, positions = [3])\n",
    "ax3.scatter(fences_xs, fences_tempo, color = 'Orange', alpha = .5, label = 'Fences')\n",
    "\n",
    "ax3.legend()\n",
    "ax3.set_ylabel('BPM')\n",
    "ax3.set_title('Tempo Comparison')\n",
    "\n",
    "plt.show()"
   ]
  },
  {
   "cell_type": "markdown",
   "id": "17b4e208",
   "metadata": {},
   "source": [
    "#### For the same feature, test for statistical differences using the ttest_ind() function from the scipy.stats module."
   ]
  },
  {
   "cell_type": "code",
   "execution_count": 24,
   "id": "478c804b",
   "metadata": {},
   "outputs": [
    {
     "data": {
      "text/plain": [
       "TtestResult(statistic=0.7980985844973564, pvalue=0.43418806179884917, df=20.0)"
      ]
     },
     "execution_count": 24,
     "metadata": {},
     "output_type": "execute_result"
    }
   ],
   "source": [
    "result1 = stats.ttest_ind(del_tempo,fences_tempo)\n",
    "result1"
   ]
  },
  {
   "cell_type": "markdown",
   "id": "db241001",
   "metadata": {},
   "source": [
    "#### What do the results of the ttest_ind() function tell you?\n",
    "The T value is very small and the p value is very high, so there is very little difference between the means of the albums' tempos and a random distribution could easily produce the same result. There is no statistical significance to be found here."
   ]
  }
 ],
 "metadata": {
  "kernelspec": {
   "display_name": "Python 3 (ipykernel)",
   "language": "python",
   "name": "python3"
  },
  "language_info": {
   "codemirror_mode": {
    "name": "ipython",
    "version": 3
   },
   "file_extension": ".py",
   "mimetype": "text/x-python",
   "name": "python",
   "nbconvert_exporter": "python",
   "pygments_lexer": "ipython3",
   "version": "3.9.18"
  }
 },
 "nbformat": 4,
 "nbformat_minor": 5
}
