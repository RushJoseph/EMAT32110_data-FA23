{
 "cells": [
  {
   "cell_type": "markdown",
   "id": "fe067046",
   "metadata": {},
   "source": [
    "# Pushing the Limit in Controlled Difficulty\n",
    "## Finding the hardest settings the Killing Floor 2 economy allows\n",
    "#### Joseph Rush\n",
    "\n",
    "## 1. Introduction\n",
    "\n",
    "Killing Floor 2 (KF2) is a team-based first-person shooter released in 2015. In the game, a team of players has to defeat successive waves of enemies, referred to as \"Zeds.\" As time has gone on, players have found the game's hardest difficulty, Hell on Earth, not to be challenging enough and too random, and they have sought to find their own solutions through creating mods for the game. One of the solutions, and possibly the most popular, is Controlled Difficulty (CD), originally created by **Blackout** and since iterated on by other modders.\n",
    "\n",
    "As the name suggests, Controlled Difficulty allows players to control the game's difficulty through a variety of factors, such as how often enemies are spawned, how many enemies can be on the map at one time, how the collision between enemies is treated, and more. One of the biggest ways difficulty is tweaked is by manipulating which enemies spawn in what order. This is known as creating a \"spawn cycle,\" which is essentially a list of enemies that the game runs through in a set order.\n",
    "\n",
    "The way that spawning works varies by a multitude of factors that introduce randomness into play--which gives CD its infinite replayability--but the essential point for this inquiry is that the number and types of enemies that will spawn can be known beforehand. Players are also rewarded with a set amount of money from defeating a given enemy. A \"cyst\" gives 7 dosh (unit of in-game currency) on kill, a \"gorefast\" gives 12, etc. Then, at the end of the round, the game provides bonus money to each player who is still alive based on how much money they earned during the round.\n",
    "\n",
    "This means that the minimum income for the team can be known by looking at the enemies in a spawn cycle and the reward on kill for each enemy. From there, a designer can extrapolate to what weapons a team a team might buy, and therefore how much firepower the team will have access to on the next wave. There are more than a hundred weapons in Killing Floor 2 between the core game and the DLCs, so this inquiry will be limiting the list quite severely. There are also many perks (classes) available to players. I will be limiting these quite severely, as well. These are limits I need to put into place to keep the model under control.\n",
    "\n",
    "**(This paragraph is game minutiae and can be skipped if you don't care about the fiddly intricacies of my modeling decisions.)** Things that would particularly break all but the most complicated models include the fact that the berserker perk, being based in melee weapons, has a theoretically infinite amoung of damage it can deal, and a firebug or SWAT, with their infinite ammunition in Zed Time (the slow motion that occurs periodically throughout the game), are a nightmare to calculate for.\n",
    "\n",
    "Another known value is the head health of each enemy. The body of the enemy and the head are treated as two different areas for incoming damage. (The reality is more complicated than that, but that is everything one needs to know to understand the model, and I'm not taking any shortcuts that would effect accuracy in this regard.) I will specifically be examining headshots, as modeling body damage and perks focused on body damage is extremely complicated to the point of intractability, and could only be analyzed post facto from a large data set.\n",
    "\n",
    "Similarly, if a designer knows roughly how accurate players are, they can tune even more precisely by knowing how many headshots a team will hit, and therefore how much damage a team can actually deal with a given amount of ammunition.\n",
    "\n",
    "So, that brings us to our question: **How far can a designer push the difficulty of the enemy  before players physically do not have enough damage available each wave to defeat them?**\n",
    "\n",
    "It also brings us to the question of limits. When do we stop the model? At what point do players have enough stuff? I've chosen to set my limit using the final wave (wave 10) of Tamari's nvm_v1 cycle. This cycle has the highest number of large zeds (scrakes and fleshpounds, the hardest enemies) of any commonly played cycle, and an *enormous* number of medium zeds (bloats, sirens, and husks). I feel that its zeds' HP total represents a reasonable cutoff for how much firepower a team should need to get through a game. Any guns bought beyond that point are, from this design perspective, superfluous, at least for the purposes of examining the economic ramp-up in the first few waves of a game. An inquiry into the upper limits of what it is possible for a team to defeat overall is more about playtesting than modeling and simply is not what I'm looking to examine here. It would become an exercise in modeling damage per second vs. spawns per second, rather than the budgeting I'm examining here."
   ]
  },
  {
   "cell_type": "markdown",
   "id": "10d250ac",
   "metadata": {},
   "source": [
    "## 2. Assumptions\n",
    "- **Precision meta team**: 1 commando, 2 gunslingers, 2 sharpshooters, as well as 1 medic. There are many possible combinations of perks, but I am choosing to examine the high level precision composition here, as it has an outsized impact on cycle design and popularity, since the majority of the player base uses this team composition. They are also the simplest to model.\n",
    "- **Meta weapons loadouts**. Through collaboration with other players, I've come up with the following weapons for each perk:\n",
    " - 9mm, Dual 1858, SPX(+2), dual deagles, and single AF for gunslinger\n",
    " - 9mm, Winchester, EBR(+1), SPX(+2) for sharpshooter\n",
    " - 9mm, AR15, Bullpup, SCAR, FN FAL for commando\n",
    "- **Unmodded weapons**. I will not be running the numbers for any of the variant weapon packs in use by different communities. Those are an inquiry that would be very interesting to examine in the future, but they are outside the scope of the current examination.\n",
    "- **Damage Modeled according to certain skills**. Different perks have many different skills available to them, and there's a lot of choices available. I will be using some of the most common combinations, documented below.\n",
    " - **Always 5 REU**. There is an ability on sharpshooters and gunslingers called \"Rack 'Em Up.\" It awards extra damage for hitting multiple headshots in a row, up to 5, and decays after 2 seconds of not hitting any headshots. I am choosing to always keep this at its highest value. It isn’t quite accurate to real play, particularly for players with lower accuracy or playing parts of the map where they don’t have a constant flow of enemies to shoot, but it’s close enough to reality for this model. A more complicated and thorough model could look at shots fired per wave and real wave durations and perhaps model REU based on how many 2 second intervals go by without any headshots expected to be hit \n",
    "- Sharpshooters use 4 freeze grenades each in every wave. This is very realistic to actual play in the early waves I am examining. If anything, they tend to use fewer. \n",
    "- **All players only fill their SPX to 80 rounds**. This prevents me from having to juggle individual weapon limits for different players.\n",
    "- **All zeds are killed by players**. This ignores the ways that different zeds can cause friendly fire to one another, but there's no way outside of some insane and fraught data-crunching to begin to estimate how many zeds die to friendly fire, and there will be huge variance by map. In addition, I would not trust any such data, because getting usable statistics out of Killing Floor 2 is such a fraught activity. The base game simply isn't designed to gather all but the most basic stats in the first place, and there are limits to what can be done on the scripting side that the mods work with. In addition, not *that* many zeds die this way when you look at total zeds spawned vs. total zeds killed by players, so I feel safe disregarding it here.\n",
    "- **Medics**: see Tradeoff #1\n",
    "- **No one dies**. When a player dies, the game does not calculate bonus dosh for them, reducing the amount of money available to the team overall.\n",
    "\n",
    "### Note: Perk skill notation\n",
    "\n",
    "Each perk has a 10 skill choices, arranged into 5 tiers of 2 choices. The choices are mutually exclusive. A common notation for this is to say which side, left or right, the player is choosing, resulting in notation like RLLLR. This indicate the right side skill for the first tier, the left side skill for the second tier, and so on. It would be a waste of space to ennumerate every skill here, so I'm refraining from doing so. The following only notes the skills that affect the calculations in this analysis.\n",
    "\n",
    "#### Commando Skill & Weapons\n",
    "- Class damage bonus\n",
    " - +25% perk weapon damage\n",
    "- Skills are RLLLR until they buy their SCAR. The following skills affect damage:\n",
    " - Fallback: Increase damage with your 9mm pistol/HRG 93R and knife 85%; increase weapon switching speed 50%.\n",
    " - Hollow Point Rounds: Increase damage of perk weapons 30%\n",
    "- RLLRR after they buy their SCAR. The following skills affect damage:\n",
    " - Fallback: Increase damage with your 9mm pistol/HRG 93R and knife 85%, and increase weapon switching speed 50%.\n",
    " \n",
    "1. AR15 & 9mm\n",
    "2. Bullpup, AR15, & 9mm\n",
    "3. SCAR, Bullpup, & 9mm\n",
    "4. SCAR, FN FAL, & 9mm\n",
    "5. Add Spare SCAR\n",
    "6. Add Spare FAL\n",
    "7. Add 9mm upgrade(s)\n",
    "8. Add spare FAL\n",
    " \n",
    "#### Gunslinger Skills & Weapons\n",
    "- Class damage bonus\n",
    " - +25% perk weapon damage\n",
    "- RLRLR skills for all waves. The following skill affects damage:\n",
    " - Rack ‘em Up: Consecutive headshots with perk weapons increases damage 10%, to a maximum of 50%\n",
    " \n",
    "1. 1858s & 9mm\n",
    "2. SPX, 1858s (rebought), & 9mm\n",
    "3. Dual deags, SPX, 1858s (rebought), & 9mm\n",
    "4. Dual deags, SPX+2, & 9mm\n",
    "5. Add spare deag\n",
    "6. Add single AF\n",
    "7. Add spare deag\n",
    "8. Add spare SPX+2\n",
    " \n",
    "#### Sharpshooter Skills and Weapons\n",
    "- Class base\n",
    " - +25% headshot damage\n",
    "- RLLRR skills for all waves. The following skills affect damage:\n",
    " - Stability: +30% damage\n",
    " - Rack ‘em Up: Consecutive headshots with perk weapons increases damage 10%, to a maximum of 50%\n",
    "\n",
    "1. Winchester & 9mm\n",
    "2. EBR, Winchester, & 9mm; 6 freezes\n",
    "3. EBR, EBR, Winchester, & 9mm; 6 freezes\n",
    "4. EBR+1, EBR+1, Winchester, & 9mm; 6 freezes\n",
    "5. SPX+2, EBR+1, EBR+1, 9mm; 6 freezes\n",
    "6. Add EBR+1\n",
    "7. Add SPX+2\n",
    "8. Add EBR+1"
   ]
  },
  {
   "cell_type": "markdown",
   "id": "28c17c7f",
   "metadata": {},
   "source": [
    "## 3. Tradeoffs:\n",
    "\n",
    "Killing Floor 2 is a ridiculously complicated game under the hood, produced by dozens or hundreds of developers across multiple years. As mentioned above, I have to impose reasonable limits on this model to control complexity and scope creep as well as work within my programming abilities. For these reasons, the following represent places where more detail is possible, but I'm not going down the rabbit hole.\n",
    "1.\t**Headshot damage only**. It is often reasonable to kill the weak enemies in-game with body shots. Hit zone data does exist for zed kills via the extensive data-tracking on Tamari's servers, but it does not account for prior shots or, in the case of larges, for decapitations before the body was killed. A fleshpound cannot be assumed to have been killed with body shots when it was actually decapitated first and then shot in the chest for the quadruple damage multiplier on its decapitated body that is commonly used in play. Additionally, precision play emphasizes headshots, as they are most effective, and for the sake of not expanding the model into intractably unknowable territory, only headshots will be applied to zeds.\n",
    "2.\t**Medics are excerpted from the economic modeling**, and they can be an extremely valuable part of team eco. I am ignoring them because their income is almost entirely dependent on healing the damage taken by players, and that can vary wildly. They will be assumed for any amount of dosh required for both sharps to load up on w2 EBR and freeze grenades, as that is true to actual play. They are then assumed to be able to contribute that much dosh to the team’s pool each wave. To include medics in detail, I would need real world wave by wave eco data for them, and I currently don't have to implement the data I have available.\n",
    "3.\t**I am ignoring overkill and penetration damage**. This is perhaps the most distorting tradeoff. Overkill damage is when, for instance, a zed with 20 head HP is hit by a gun that does 130 damage, causing 110 damage to disappear into the void. Penetration damage is when certain weapons are able to fire through multiple enemies, which effectively adds damage from the void. They probably do not equal one another in practical play, and it would be possible for a better programmer than I to be modeling every kill by individual bullets and breakpoints, but that's an enormously complicated algorithm to even create, much less debug. If that's within your programming capabilities and you're reading this, hit me up.\n",
    "4. **The impact of weapon penetration on accuracy values is ignored**. When your weapon goes through two zeds, it counts as two hits for only one shot fired. This is an inevitable and impossible to calculate part of play in the game, and I am choosing to ignore its impact. I consider it to be helping to offset the way I am disregarding overkill, as noted above.\n",
    "5.\t**Zed damage resistance is weighted by the raw statistic**. Weighting for zed damage resistances would be best derived from actual wave by wave kills per perk per cycle, but that’s beyond the scope of the easily accessible data.\n",
    "6.\t**The model does not currently account for target prioritization**. Without diverting too far into the nit and grit of play, some weapons and perks are better off spending their time shooting some enemies than others. An even more accurate model would weight damage distributions accordingly, but that is another significant addition in complexity.\n",
    "7.\t**My ability to account for shared money is limited**. In the game, if you do even one point of damage to an enemy you get its full dosh reward when it dies, because there's no good way to determine how significant your contribution was. What accounting I do have for this is rough guesstimation based on experience, rather than anything solid.\n",
    "8.\t**Grenade damage for commando & gunslinger is not included in the model**. The way the game models grenades is complicated. There's falloff by distance, projectiles, etc. I assume that grenades are used for the purposes of spending the model players' money, but they're not being applied as damage.\n",
    "9.\t**The Dead-Eye skill is ignored for sharpshooter**. This skill adds damage when a sharpshooter aims down sights (uses their scope/iron sights.) Its impact is unreliable and usually extremely minimal, since it depends on individual playstyles, maps, and situations, so I'm ignoring it entirely.\n",
    "10.\t**The assumption that all zeds are killed by players is somewhat inaccurate to real games**. This was addressed above under \"all zeds are killed by players,\" but bears repeating here.\n",
    "11. **Medic buffs are disregarded**. Medics can cause players to deal additional damage, up to 20% per shot. The in-game usage of this is incredibly complicated and varies from medic to medic and weapon to weapon, even day to day and wave to wave by factors like how much caffeine the player had or how much sleep they got the night before. There are no good stats available on buffs applied by medics and no way to acquire them outside of scraping hundreds or thousands of hours of recorded game footage on YouTube and noting hundreds upon hundreds of timestamps per game then modeling games individually over time played instead of just by wave, so I am simply regarding this as another factor working against damage lost to overkill and calling it a day. I do, eventually, want to see the sun again.\n",
    "12. **Tournament accuracy data is not perfectly comparable to general play**. The ruleset in the tournament encouraged playing maps in strange, difficult places for speed, rather than staying in more traditional and safer locations where targets are easier to hit. This means that accuracy in the tournament dataset tends to be lower than what is seen in Tamari's community during more standard play."
   ]
  },
  {
   "cell_type": "markdown",
   "id": "2cbf2406",
   "metadata": {},
   "source": [
    "## 4. The Data\n",
    "\n",
    "This data was gathered from two primary places:\n",
    "1. The data from Tamari's recent community tournament\n",
    "2. The spreadsheet maintained by a currently active EU static team that plays Nightcore zeds."
   ]
  },
  {
   "cell_type": "markdown",
   "id": "c9fb2c63",
   "metadata": {},
   "source": [
    "#### 4a. Gunslinger & Sharpshooter Accuracy & Headshot Accuracy\n",
    "These values have been cleaned for data-distortions from AF2011s (a weapon that counts as one shot fired but 2 shots hit, which massively inflates accuracy statistics) by simply discarding any player who did a significant amount of damage with that weapon (above about 40,000 points of damage.) A notable exception to this is the data from the EU group, whose server uses a calculation to deal with the distortion from AFs that has proven quite reliable in practice, so I feel comfortable just taking their statistics at face value.\n",
    "\n",
    "Additionally, the damage dealt by the player, the team's overall damage, and the % of the team damage dealt by that player (for use in weighting certain calculations down the line) are included in this table.\n",
    "\n",
    "The first column, ACC, indicates the percentage of shots fired that impacted a zed.\n",
    "\n",
    "The second column, HSACC (hits), indicates the percentage of shots that *both* hit a zed and were headshots.\n",
    "\n",
    "The third column, HSACC (shots), is a derived statistic from multiplying the other two. It shows the percentage of shots fired that were headshots. For a semi-automatic gun, this is your percentage of clicks that hit a zed in the head."
   ]
  },
  {
   "cell_type": "code",
   "execution_count": 1,
   "id": "c47c1c44",
   "metadata": {
    "scrolled": true
   },
   "outputs": [
    {
     "data": {
      "text/html": [
       "<div>\n",
       "<style scoped>\n",
       "    .dataframe tbody tr th:only-of-type {\n",
       "        vertical-align: middle;\n",
       "    }\n",
       "\n",
       "    .dataframe tbody tr th {\n",
       "        vertical-align: top;\n",
       "    }\n",
       "\n",
       "    .dataframe thead th {\n",
       "        text-align: right;\n",
       "    }\n",
       "</style>\n",
       "<table border=\"1\" class=\"dataframe\">\n",
       "  <thead>\n",
       "    <tr style=\"text-align: right;\">\n",
       "      <th></th>\n",
       "      <th>ACC</th>\n",
       "      <th>HSACC (Hits)</th>\n",
       "      <th>HSACC (Shots)</th>\n",
       "      <th>DD</th>\n",
       "      <th>Team DD</th>\n",
       "      <th>% of DD</th>\n",
       "    </tr>\n",
       "  </thead>\n",
       "  <tbody>\n",
       "    <tr>\n",
       "      <th>0</th>\n",
       "      <td>68.790538</td>\n",
       "      <td>49.639490</td>\n",
       "      <td>34.147272</td>\n",
       "      <td>365402</td>\n",
       "      <td>1449721</td>\n",
       "      <td>0.252050</td>\n",
       "    </tr>\n",
       "    <tr>\n",
       "      <th>1</th>\n",
       "      <td>67.096135</td>\n",
       "      <td>37.444609</td>\n",
       "      <td>25.123885</td>\n",
       "      <td>300911</td>\n",
       "      <td>1449721</td>\n",
       "      <td>0.207565</td>\n",
       "    </tr>\n",
       "  </tbody>\n",
       "</table>\n",
       "</div>"
      ],
      "text/plain": [
       "         ACC  HSACC (Hits)  HSACC (Shots)      DD  Team DD   % of DD\n",
       "0  68.790538     49.639490      34.147272  365402  1449721  0.252050\n",
       "1  67.096135     37.444609      25.123885  300911  1449721  0.207565"
      ]
     },
     "execution_count": 1,
     "metadata": {},
     "output_type": "execute_result"
    }
   ],
   "source": [
    "# Two-dimensional table, no nested layers. \n",
    "# 2 example rows displayed of the 184 in the dataset.\n",
    "\n",
    "import pandas as pd\n",
    "dps_acc = pd.read_csv('E:\\College\\FinalProjectData\\GS&SS_acc.csv')\n",
    "dps_acc_df = pd.DataFrame(data=dps_acc)\n",
    "dps_acc_df.head(2)"
   ]
  },
  {
   "cell_type": "markdown",
   "id": "2fee3c10",
   "metadata": {},
   "source": [
    "#### 4b. Commando Accuracy & Headshot Accuracy\n",
    "Accuracy and headshot accuracy values for commando players. Drawn from the recent tournament hosted by Tamari as well as the closed EU group. No cleaning was required for this data.\n",
    "\n",
    "Commando accuracy is treated separately because their weapons and playstyle differ significantly. They use automatic weapons rather than semi-automatic, meaning that they miss more, and during certain play situations it is more advantageous for them to fire many shots to secure the kill than to be stingy with their ammunition. So, their statistics trend much lower than sharpshooters or gunslingers."
   ]
  },
  {
   "cell_type": "code",
   "execution_count": 2,
   "id": "562b83a2",
   "metadata": {},
   "outputs": [
    {
     "data": {
      "text/html": [
       "<div>\n",
       "<style scoped>\n",
       "    .dataframe tbody tr th:only-of-type {\n",
       "        vertical-align: middle;\n",
       "    }\n",
       "\n",
       "    .dataframe tbody tr th {\n",
       "        vertical-align: top;\n",
       "    }\n",
       "\n",
       "    .dataframe thead th {\n",
       "        text-align: right;\n",
       "    }\n",
       "</style>\n",
       "<table border=\"1\" class=\"dataframe\">\n",
       "  <thead>\n",
       "    <tr style=\"text-align: right;\">\n",
       "      <th></th>\n",
       "      <th>ACC</th>\n",
       "      <th>HSACC (Hits)</th>\n",
       "      <th>HSACC (Shots)</th>\n",
       "      <th>DD</th>\n",
       "      <th>Team DD</th>\n",
       "      <th>% of DD</th>\n",
       "    </tr>\n",
       "  </thead>\n",
       "  <tbody>\n",
       "    <tr>\n",
       "      <th>0</th>\n",
       "      <td>57.98684</td>\n",
       "      <td>33.196523</td>\n",
       "      <td>19.249615</td>\n",
       "      <td>282885</td>\n",
       "      <td>1449721</td>\n",
       "      <td>0.195131</td>\n",
       "    </tr>\n",
       "    <tr>\n",
       "      <th>1</th>\n",
       "      <td>64.20765</td>\n",
       "      <td>37.624113</td>\n",
       "      <td>24.157559</td>\n",
       "      <td>267287</td>\n",
       "      <td>1223218</td>\n",
       "      <td>0.218511</td>\n",
       "    </tr>\n",
       "  </tbody>\n",
       "</table>\n",
       "</div>"
      ],
      "text/plain": [
       "        ACC  HSACC (Hits)  HSACC (Shots)      DD  Team DD   % of DD\n",
       "0  57.98684     33.196523      19.249615  282885  1449721  0.195131\n",
       "1  64.20765     37.624113      24.157559  267287  1223218  0.218511"
      ]
     },
     "execution_count": 2,
     "metadata": {},
     "output_type": "execute_result"
    }
   ],
   "source": [
    "# Two-dimensional table, no nested layers. \n",
    "# 2 example rows displayed of the 61 in the dataset.\n",
    "\n",
    "mando_acc = pd.read_csv('E:\\College\\FinalProjectData\\mando_acc.csv')\n",
    "mando_acc_df = pd.DataFrame(data=mando_acc)\n",
    "mando_acc_df.head(2)"
   ]
  },
  {
   "cell_type": "markdown",
   "id": "180c5177",
   "metadata": {},
   "source": [
    "#### 4c. Zed Populations\n",
    "For a given cycle, how many of each enemy type are spawned in a given wave. In particular, I will be using my mb_v0a cycle that is currently under development, as it seeks to explore the exact question of how far the economy can be pushed before the team breaks. On these tables, row 0 is wave 1, row 1 is wave 2, and so on. These are *not* the order the enemies spawn in, just the number of them who have existed by the end of the wave."
   ]
  },
  {
   "cell_type": "code",
   "execution_count": 3,
   "id": "c6e24d90",
   "metadata": {},
   "outputs": [
    {
     "data": {
      "text/html": [
       "<div>\n",
       "<style scoped>\n",
       "    .dataframe tbody tr th:only-of-type {\n",
       "        vertical-align: middle;\n",
       "    }\n",
       "\n",
       "    .dataframe tbody tr th {\n",
       "        vertical-align: top;\n",
       "    }\n",
       "\n",
       "    .dataframe thead th {\n",
       "        text-align: right;\n",
       "    }\n",
       "</style>\n",
       "<table border=\"1\" class=\"dataframe\">\n",
       "  <thead>\n",
       "    <tr style=\"text-align: right;\">\n",
       "      <th></th>\n",
       "      <th>Cyst</th>\n",
       "      <th>Alpha Clot</th>\n",
       "      <th>Slasher</th>\n",
       "      <th>Rioter</th>\n",
       "      <th>Gorefast</th>\n",
       "      <th>Gorefiend</th>\n",
       "      <th>Crawler</th>\n",
       "      <th>Stalker</th>\n",
       "      <th>Bloat</th>\n",
       "      <th>Husk</th>\n",
       "      <th>Siren</th>\n",
       "      <th>Scrake</th>\n",
       "      <th>Quarterpound</th>\n",
       "      <th>Fleshpound</th>\n",
       "    </tr>\n",
       "  </thead>\n",
       "  <tbody>\n",
       "    <tr>\n",
       "      <th>0</th>\n",
       "      <td>26</td>\n",
       "      <td>26</td>\n",
       "      <td>26</td>\n",
       "      <td>20</td>\n",
       "      <td>28</td>\n",
       "      <td>20</td>\n",
       "      <td>28</td>\n",
       "      <td>26</td>\n",
       "      <td>14</td>\n",
       "      <td>10</td>\n",
       "      <td>14</td>\n",
       "      <td>4</td>\n",
       "      <td>0</td>\n",
       "      <td>2</td>\n",
       "    </tr>\n",
       "    <tr>\n",
       "      <th>1</th>\n",
       "      <td>22</td>\n",
       "      <td>24</td>\n",
       "      <td>24</td>\n",
       "      <td>14</td>\n",
       "      <td>32</td>\n",
       "      <td>24</td>\n",
       "      <td>30</td>\n",
       "      <td>28</td>\n",
       "      <td>16</td>\n",
       "      <td>14</td>\n",
       "      <td>16</td>\n",
       "      <td>16</td>\n",
       "      <td>0</td>\n",
       "      <td>14</td>\n",
       "    </tr>\n",
       "  </tbody>\n",
       "</table>\n",
       "</div>"
      ],
      "text/plain": [
       "   Cyst  Alpha Clot  Slasher  Rioter  Gorefast  Gorefiend  Crawler  Stalker  \\\n",
       "0    26          26       26      20        28         20       28       26   \n",
       "1    22          24       24      14        32         24       30       28   \n",
       "\n",
       "   Bloat  Husk  Siren  Scrake  Quarterpound  Fleshpound  \n",
       "0     14    10     14       4             0           2  \n",
       "1     16    14     16      16             0          14  "
      ]
     },
     "execution_count": 3,
     "metadata": {},
     "output_type": "execute_result"
    }
   ],
   "source": [
    "# Two-dimensional tables, no nested layers. \n",
    "# Gathered by analyzing the text files loaded into the Controlled Difficulty Mod. \n",
    "# I used Tamari's SpawnCycler program for that analysis. \n",
    "# 2 example rows displayed.\n",
    "\n",
    "bl2_spawns = pd.read_csv('E:\\College\\FinalProjectData\\populations-bl_v2.csv')\n",
    "nt2_spawns = pd.read_csv('E:\\College\\FinalProjectData\\populations-nt_v2.csv')\n",
    "osffi1_spawns = pd.read_csv('E:\\College\\FinalProjectData\\populations-osffi_v1.csv')\n",
    "apm2_spawns = pd.read_csv('E:\\College\\FinalProjectData\\populations-apm_v2.csv')\n",
    "mig2_spawns = pd.read_csv('E:\\College\\FinalProjectData\\populations-ts_mig_v2.csv')\n",
    "doom2pr_spawns = pd.read_csv('E:\\College\\FinalProjectData\\populations-doom_v2_plus_rmk.csv')\n",
    "mig3_spawns = pd.read_csv('E:\\College\\FinalProjectData\\populations-ts_mig_v3.csv')\n",
    "mb0a_spawns = pd.read_csv('E:\\College\\FinalProjectData\\populations-mb_v0a.csv')\n",
    "nvm1_spawns = pd.read_csv('E:\\College\\FinalProjectData\\populations-nvm_v1.csv')\n",
    "nvm1_df = mb0a_df = pd.DataFrame(data=nvm1_spawns)\n",
    "mb0a_df = pd.DataFrame(data=mb0a_spawns)\n",
    "mb0a_df.head(2)"
   ]
  },
  {
   "cell_type": "markdown",
   "id": "63c818f6",
   "metadata": {},
   "source": [
    "#### 4d. Zed Stats\n",
    "Head health, headshot multiplier, & damage resistances (handgun, rifle, & assault rifle) for each zed type.\n",
    "\n",
    "This table itself isn't actually used, instead values are derived from it are placed in related dataframes, but it's here for reader reference."
   ]
  },
  {
   "cell_type": "code",
   "execution_count": 4,
   "id": "4a631bc9",
   "metadata": {},
   "outputs": [],
   "source": [
    "# Two-dimensional tables, no nested layers, \n",
    "# Gathered from SimpleCat's KF2 Stats Spreadsheet\n",
    "\n",
    "zedstats = pd.read_csv('E:\\College\\FinalProjectData\\ZedStats.csv')\n",
    "zedstats_df_display = pd.DataFrame(data=zedstats)\n",
    "# column_to_keep_as_is = 'Category'\n",
    "# columns_to_convert = [col for col in zedstats_df_mix.columns if col != column_to_keep_as_is]\n",
    "# columns_to_convert"
   ]
  },
  {
   "cell_type": "code",
   "execution_count": 5,
   "id": "c1be73f1",
   "metadata": {},
   "outputs": [],
   "source": [
    "# zedstats_temp = zedstats_df_mix[columns_to_convert].astype(float)\n",
    "# zedstats_temp"
   ]
  },
  {
   "cell_type": "code",
   "execution_count": 6,
   "id": "3fcc5d47",
   "metadata": {},
   "outputs": [
    {
     "data": {
      "text/html": [
       "<div>\n",
       "<style scoped>\n",
       "    .dataframe tbody tr th:only-of-type {\n",
       "        vertical-align: middle;\n",
       "    }\n",
       "\n",
       "    .dataframe tbody tr th {\n",
       "        vertical-align: top;\n",
       "    }\n",
       "\n",
       "    .dataframe thead th {\n",
       "        text-align: right;\n",
       "    }\n",
       "</style>\n",
       "<table border=\"1\" class=\"dataframe\">\n",
       "  <thead>\n",
       "    <tr style=\"text-align: right;\">\n",
       "      <th></th>\n",
       "      <th>Category</th>\n",
       "      <th>Cyst</th>\n",
       "      <th>Alpha Clot</th>\n",
       "      <th>Slasher</th>\n",
       "      <th>Rioter</th>\n",
       "      <th>Gorefast</th>\n",
       "      <th>Gorefiend</th>\n",
       "      <th>Crawler</th>\n",
       "      <th>Stalker</th>\n",
       "      <th>Bloat</th>\n",
       "      <th>Husk</th>\n",
       "      <th>Siren</th>\n",
       "      <th>Scrake</th>\n",
       "      <th>Quarterpound</th>\n",
       "      <th>Fleshpound</th>\n",
       "    </tr>\n",
       "  </thead>\n",
       "  <tbody>\n",
       "    <tr>\n",
       "      <th>0</th>\n",
       "      <td>Head Health</td>\n",
       "      <td>20.00</td>\n",
       "      <td>20.00</td>\n",
       "      <td>20.00</td>\n",
       "      <td>125.00</td>\n",
       "      <td>50.00</td>\n",
       "      <td>150.00</td>\n",
       "      <td>20.00</td>\n",
       "      <td>20.00</td>\n",
       "      <td>82.0000</td>\n",
       "      <td>220.000</td>\n",
       "      <td>155.00</td>\n",
       "      <td>1584.0</td>\n",
       "      <td>1228.00</td>\n",
       "      <td>1716.00</td>\n",
       "    </tr>\n",
       "    <tr>\n",
       "      <th>1</th>\n",
       "      <td>Headshot Multiplier</td>\n",
       "      <td>1.10</td>\n",
       "      <td>1.10</td>\n",
       "      <td>1.10</td>\n",
       "      <td>1.10</td>\n",
       "      <td>1.10</td>\n",
       "      <td>1.10</td>\n",
       "      <td>1.10</td>\n",
       "      <td>1.10</td>\n",
       "      <td>1.0001</td>\n",
       "      <td>1.001</td>\n",
       "      <td>1.10</td>\n",
       "      <td>1.1</td>\n",
       "      <td>1.10</td>\n",
       "      <td>1.10</td>\n",
       "    </tr>\n",
       "    <tr>\n",
       "      <th>2</th>\n",
       "      <td>Adjusted Head Health</td>\n",
       "      <td>18.18</td>\n",
       "      <td>18.18</td>\n",
       "      <td>18.18</td>\n",
       "      <td>113.64</td>\n",
       "      <td>45.45</td>\n",
       "      <td>136.36</td>\n",
       "      <td>18.18</td>\n",
       "      <td>18.18</td>\n",
       "      <td>81.9900</td>\n",
       "      <td>219.780</td>\n",
       "      <td>140.91</td>\n",
       "      <td>1440.0</td>\n",
       "      <td>1116.36</td>\n",
       "      <td>1560.00</td>\n",
       "    </tr>\n",
       "    <tr>\n",
       "      <th>3</th>\n",
       "      <td>AssaultRifle_AR15 resistance</td>\n",
       "      <td>1.50</td>\n",
       "      <td>1.00</td>\n",
       "      <td>1.00</td>\n",
       "      <td>1.00</td>\n",
       "      <td>1.20</td>\n",
       "      <td>1.20</td>\n",
       "      <td>1.50</td>\n",
       "      <td>1.50</td>\n",
       "      <td>0.4000</td>\n",
       "      <td>0.650</td>\n",
       "      <td>1.00</td>\n",
       "      <td>1.0</td>\n",
       "      <td>0.62</td>\n",
       "      <td>0.50</td>\n",
       "    </tr>\n",
       "    <tr>\n",
       "      <th>4</th>\n",
       "      <td>Assault Rifle resistance</td>\n",
       "      <td>1.50</td>\n",
       "      <td>1.00</td>\n",
       "      <td>1.00</td>\n",
       "      <td>1.00</td>\n",
       "      <td>1.20</td>\n",
       "      <td>1.20</td>\n",
       "      <td>1.50</td>\n",
       "      <td>1.50</td>\n",
       "      <td>0.3500</td>\n",
       "      <td>0.650</td>\n",
       "      <td>1.00</td>\n",
       "      <td>1.0</td>\n",
       "      <td>0.62</td>\n",
       "      <td>0.50</td>\n",
       "    </tr>\n",
       "    <tr>\n",
       "      <th>5</th>\n",
       "      <td>Rifle resistance</td>\n",
       "      <td>1.00</td>\n",
       "      <td>1.00</td>\n",
       "      <td>1.00</td>\n",
       "      <td>1.00</td>\n",
       "      <td>1.25</td>\n",
       "      <td>1.25</td>\n",
       "      <td>1.00</td>\n",
       "      <td>0.85</td>\n",
       "      <td>0.3500</td>\n",
       "      <td>0.700</td>\n",
       "      <td>1.00</td>\n",
       "      <td>1.0</td>\n",
       "      <td>0.75</td>\n",
       "      <td>0.75</td>\n",
       "    </tr>\n",
       "    <tr>\n",
       "      <th>6</th>\n",
       "      <td>Handgun resistance</td>\n",
       "      <td>1.01</td>\n",
       "      <td>1.01</td>\n",
       "      <td>1.01</td>\n",
       "      <td>1.01</td>\n",
       "      <td>1.00</td>\n",
       "      <td>1.00</td>\n",
       "      <td>1.00</td>\n",
       "      <td>1.00</td>\n",
       "      <td>0.3000</td>\n",
       "      <td>0.850</td>\n",
       "      <td>1.00</td>\n",
       "      <td>0.8</td>\n",
       "      <td>0.75</td>\n",
       "      <td>0.75</td>\n",
       "    </tr>\n",
       "    <tr>\n",
       "      <th>7</th>\n",
       "      <td>Handgun_9mm resistance</td>\n",
       "      <td>1.01</td>\n",
       "      <td>1.01</td>\n",
       "      <td>1.01</td>\n",
       "      <td>1.01</td>\n",
       "      <td>1.00</td>\n",
       "      <td>1.00</td>\n",
       "      <td>1.00</td>\n",
       "      <td>1.00</td>\n",
       "      <td>0.6500</td>\n",
       "      <td>1.000</td>\n",
       "      <td>1.00</td>\n",
       "      <td>0.8</td>\n",
       "      <td>0.75</td>\n",
       "      <td>0.75</td>\n",
       "    </tr>\n",
       "    <tr>\n",
       "      <th>8</th>\n",
       "      <td>Handgun_1858 resistance</td>\n",
       "      <td>1.01</td>\n",
       "      <td>1.01</td>\n",
       "      <td>1.01</td>\n",
       "      <td>1.01</td>\n",
       "      <td>1.00</td>\n",
       "      <td>1.00</td>\n",
       "      <td>1.00</td>\n",
       "      <td>1.00</td>\n",
       "      <td>0.6500</td>\n",
       "      <td>1.000</td>\n",
       "      <td>1.00</td>\n",
       "      <td>0.8</td>\n",
       "      <td>0.75</td>\n",
       "      <td>0.75</td>\n",
       "    </tr>\n",
       "    <tr>\n",
       "      <th>9</th>\n",
       "      <td>Dosh reward</td>\n",
       "      <td>7.00</td>\n",
       "      <td>7.00</td>\n",
       "      <td>7.00</td>\n",
       "      <td>7.00</td>\n",
       "      <td>12.00</td>\n",
       "      <td>12.00</td>\n",
       "      <td>10.00</td>\n",
       "      <td>15.00</td>\n",
       "      <td>17.0000</td>\n",
       "      <td>17.000</td>\n",
       "      <td>25.00</td>\n",
       "      <td>75.0</td>\n",
       "      <td>75.00</td>\n",
       "      <td>200.00</td>\n",
       "    </tr>\n",
       "  </tbody>\n",
       "</table>\n",
       "</div>"
      ],
      "text/plain": [
       "                       Category   Cyst  Alpha Clot  Slasher  Rioter  Gorefast  \\\n",
       "0                   Head Health  20.00       20.00    20.00  125.00     50.00   \n",
       "1           Headshot Multiplier   1.10        1.10     1.10    1.10      1.10   \n",
       "2          Adjusted Head Health  18.18       18.18    18.18  113.64     45.45   \n",
       "3  AssaultRifle_AR15 resistance   1.50        1.00     1.00    1.00      1.20   \n",
       "4      Assault Rifle resistance   1.50        1.00     1.00    1.00      1.20   \n",
       "5              Rifle resistance   1.00        1.00     1.00    1.00      1.25   \n",
       "6            Handgun resistance   1.01        1.01     1.01    1.01      1.00   \n",
       "7        Handgun_9mm resistance   1.01        1.01     1.01    1.01      1.00   \n",
       "8       Handgun_1858 resistance   1.01        1.01     1.01    1.01      1.00   \n",
       "9                   Dosh reward   7.00        7.00     7.00    7.00     12.00   \n",
       "\n",
       "   Gorefiend  Crawler  Stalker    Bloat     Husk   Siren  Scrake  \\\n",
       "0     150.00    20.00    20.00  82.0000  220.000  155.00  1584.0   \n",
       "1       1.10     1.10     1.10   1.0001    1.001    1.10     1.1   \n",
       "2     136.36    18.18    18.18  81.9900  219.780  140.91  1440.0   \n",
       "3       1.20     1.50     1.50   0.4000    0.650    1.00     1.0   \n",
       "4       1.20     1.50     1.50   0.3500    0.650    1.00     1.0   \n",
       "5       1.25     1.00     0.85   0.3500    0.700    1.00     1.0   \n",
       "6       1.00     1.00     1.00   0.3000    0.850    1.00     0.8   \n",
       "7       1.00     1.00     1.00   0.6500    1.000    1.00     0.8   \n",
       "8       1.00     1.00     1.00   0.6500    1.000    1.00     0.8   \n",
       "9      12.00    10.00    15.00  17.0000   17.000   25.00    75.0   \n",
       "\n",
       "   Quarterpound  Fleshpound  \n",
       "0       1228.00     1716.00  \n",
       "1          1.10        1.10  \n",
       "2       1116.36     1560.00  \n",
       "3          0.62        0.50  \n",
       "4          0.62        0.50  \n",
       "5          0.75        0.75  \n",
       "6          0.75        0.75  \n",
       "7          0.75        0.75  \n",
       "8          0.75        0.75  \n",
       "9         75.00      200.00  "
      ]
     },
     "execution_count": 6,
     "metadata": {},
     "output_type": "execute_result"
    }
   ],
   "source": [
    "# zedstats_df = pd.concat([zedstats_df_mix[[column_to_keep_as_is]], zedstats_temp], axis=1)\n",
    "zedstats_df_display"
   ]
  },
  {
   "cell_type": "code",
   "execution_count": 7,
   "id": "3ffb3e1d",
   "metadata": {},
   "outputs": [],
   "source": [
    "# column_to_exclude = 'Category'\n",
    "# row_index = 0\n",
    "# row_sum = zedstats_df.drop(column_to_exclude, axis=1).loc[row_index].sum()\n",
    "# row_sum"
   ]
  },
  {
   "cell_type": "code",
   "execution_count": 8,
   "id": "81676aa0",
   "metadata": {},
   "outputs": [],
   "source": [
    "# def sum_row_except_column(df, column_to_exclude, row_index):\n",
    "#     \"\"\"\n",
    "#    Calculate the sum of values in a specified row of a DataFrame,\n",
    "#    excluding a specific column.\n",
    "#\n",
    "#    Parameters:\n",
    "#    - df (pd.DataFrame): The DataFrame.\n",
    "#    - column_to_exclude (str): The column to exclude from the sum.\n",
    "#    - row_index (int): The index of the row for which to calculate the sum.\n",
    "#\n",
    "#    Returns:\n",
    "#    - row_sum (float): The sum of values in the specified row excluding the specified column.\n",
    "#    \"\"\"\n",
    "#    row = df.drop(column_to_exclude, axis=1).loc[row_index]\n",
    "#    row_sum = row.sum()\n",
    "#    return row_sum"
   ]
  },
  {
   "cell_type": "code",
   "execution_count": 9,
   "id": "901a467b",
   "metadata": {},
   "outputs": [],
   "source": [
    "# tester = sum_row_except_column(zedstats_df,'Category',0)\n",
    "# tester"
   ]
  },
  {
   "cell_type": "code",
   "execution_count": 10,
   "id": "95ed9dbd",
   "metadata": {},
   "outputs": [],
   "source": [
    "# sum = zedstats_df.iloc[0].sum(axis=0)\n",
    "# sum"
   ]
  },
  {
   "cell_type": "code",
   "execution_count": 11,
   "id": "2c3d88b9",
   "metadata": {},
   "outputs": [],
   "source": [
    "# zedstats_df"
   ]
  },
  {
   "cell_type": "code",
   "execution_count": 12,
   "id": "1363b703",
   "metadata": {},
   "outputs": [],
   "source": [
    "# mb0a_df['Cyst']\n",
    "# mb0a_df.pd.len(df.columns)a\n",
    "# zedstats_df.iloc[2][14]"
   ]
  },
  {
   "cell_type": "code",
   "execution_count": 13,
   "id": "5a0794dc",
   "metadata": {},
   "outputs": [],
   "source": [
    "# zedstats_df.iloc[2][14]"
   ]
  },
  {
   "cell_type": "code",
   "execution_count": 14,
   "id": "d96e5478",
   "metadata": {},
   "outputs": [],
   "source": [
    "# mb0a_df.iloc[0][13]*zedstats_df.iloc[2][14]"
   ]
  },
  {
   "cell_type": "code",
   "execution_count": 15,
   "id": "3f08743c",
   "metadata": {},
   "outputs": [],
   "source": [
    "# x = 13\n",
    "# mb0a_df.iloc[0][x] * zedstats_df.iloc[2][x+1]"
   ]
  },
  {
   "cell_type": "code",
   "execution_count": 16,
   "id": "2090cb5a",
   "metadata": {},
   "outputs": [],
   "source": [
    "# multiplication test\n",
    "# wave1_head_hp = []\n",
    "# for i in mb0a_df.columns:\n",
    "#    x = i+1\n",
    "#    wave1_head_hp[i] = mb0a_df.iloc[0][i] * zedstats_df.iloc[2][x]\n",
    "#    \n",
    "# wave1_head_hp.print()"
   ]
  },
  {
   "cell_type": "markdown",
   "id": "a511a3f0",
   "metadata": {},
   "source": [
    "#### 4e. Weapon Data\n",
    "Cost for initial purchase, rounds received with initial purpose, cost per magazine, cost per bullet, base damage per bullet, and damage per bullet after per bonuses are applied, noted at Total Damage. \n",
    "\n",
    "Upgraded weapons are included as a line entry with no initial bullets that costs the price of the upgrade.\n",
    "\n",
    "The HPR beside the the AR15 and bullpup entries indicate that those values are for when the commando is using Hollow Point Rounds, which boost weapon damage."
   ]
  },
  {
   "cell_type": "code",
   "execution_count": 17,
   "id": "ee33c46f",
   "metadata": {},
   "outputs": [
    {
     "data": {
      "text/html": [
       "<div>\n",
       "<style scoped>\n",
       "    .dataframe tbody tr th:only-of-type {\n",
       "        vertical-align: middle;\n",
       "    }\n",
       "\n",
       "    .dataframe tbody tr th {\n",
       "        vertical-align: top;\n",
       "    }\n",
       "\n",
       "    .dataframe thead th {\n",
       "        text-align: right;\n",
       "    }\n",
       "</style>\n",
       "<table border=\"1\" class=\"dataframe\">\n",
       "  <thead>\n",
       "    <tr style=\"text-align: right;\">\n",
       "      <th></th>\n",
       "      <th>Weapon</th>\n",
       "      <th>Purchase cost</th>\n",
       "      <th>Purchase ammo</th>\n",
       "      <th>Cost per magazine</th>\n",
       "      <th>Bullets per magazine</th>\n",
       "      <th>Max Ammo (mag+spare)</th>\n",
       "      <th>Cost per bullet</th>\n",
       "      <th>1. Base damage</th>\n",
       "      <th>Total Damage</th>\n",
       "      <th>Damage Type</th>\n",
       "    </tr>\n",
       "  </thead>\n",
       "  <tbody>\n",
       "    <tr>\n",
       "      <th>0</th>\n",
       "      <td>9mm (mando)</td>\n",
       "      <td>0</td>\n",
       "      <td>90</td>\n",
       "      <td>12.0000</td>\n",
       "      <td>15</td>\n",
       "      <td>90</td>\n",
       "      <td>0.8000</td>\n",
       "      <td>25</td>\n",
       "      <td>47</td>\n",
       "      <td>Handgun</td>\n",
       "    </tr>\n",
       "    <tr>\n",
       "      <th>1</th>\n",
       "      <td>AR15 HPR</td>\n",
       "      <td>200</td>\n",
       "      <td>120</td>\n",
       "      <td>20.0000</td>\n",
       "      <td>20</td>\n",
       "      <td>308</td>\n",
       "      <td>1.0000</td>\n",
       "      <td>30</td>\n",
       "      <td>39</td>\n",
       "      <td>Assault</td>\n",
       "    </tr>\n",
       "    <tr>\n",
       "      <th>2</th>\n",
       "      <td>Bullpup HPR</td>\n",
       "      <td>650</td>\n",
       "      <td>90</td>\n",
       "      <td>30.0000</td>\n",
       "      <td>32</td>\n",
       "      <td>354</td>\n",
       "      <td>0.9375</td>\n",
       "      <td>32</td>\n",
       "      <td>42</td>\n",
       "      <td>Assault</td>\n",
       "    </tr>\n",
       "    <tr>\n",
       "      <th>3</th>\n",
       "      <td>Bullpup</td>\n",
       "      <td>650</td>\n",
       "      <td>90</td>\n",
       "      <td>30.0000</td>\n",
       "      <td>32</td>\n",
       "      <td>354</td>\n",
       "      <td>0.9375</td>\n",
       "      <td>32</td>\n",
       "      <td>32</td>\n",
       "      <td>Assault</td>\n",
       "    </tr>\n",
       "    <tr>\n",
       "      <th>4</th>\n",
       "      <td>SCAR</td>\n",
       "      <td>1500</td>\n",
       "      <td>80</td>\n",
       "      <td>28.0000</td>\n",
       "      <td>20</td>\n",
       "      <td>428</td>\n",
       "      <td>1.4000</td>\n",
       "      <td>55</td>\n",
       "      <td>55</td>\n",
       "      <td>Assault</td>\n",
       "    </tr>\n",
       "    <tr>\n",
       "      <th>5</th>\n",
       "      <td>FN FAL</td>\n",
       "      <td>1500</td>\n",
       "      <td>60</td>\n",
       "      <td>47.0000</td>\n",
       "      <td>20</td>\n",
       "      <td>428</td>\n",
       "      <td>2.3500</td>\n",
       "      <td>70</td>\n",
       "      <td>70</td>\n",
       "      <td>Rifle</td>\n",
       "    </tr>\n",
       "    <tr>\n",
       "      <th>6</th>\n",
       "      <td>9mm (sharp)</td>\n",
       "      <td>0</td>\n",
       "      <td>90</td>\n",
       "      <td>12.0000</td>\n",
       "      <td>15</td>\n",
       "      <td>109</td>\n",
       "      <td>0.8000</td>\n",
       "      <td>25</td>\n",
       "      <td>45</td>\n",
       "      <td>Handgun</td>\n",
       "    </tr>\n",
       "    <tr>\n",
       "      <th>7</th>\n",
       "      <td>Winchester</td>\n",
       "      <td>200</td>\n",
       "      <td>48</td>\n",
       "      <td>32.0000</td>\n",
       "      <td>12</td>\n",
       "      <td>117</td>\n",
       "      <td>2.6667</td>\n",
       "      <td>80</td>\n",
       "      <td>144</td>\n",
       "      <td>Rifle</td>\n",
       "    </tr>\n",
       "    <tr>\n",
       "      <th>8</th>\n",
       "      <td>EBR</td>\n",
       "      <td>1100</td>\n",
       "      <td>40</td>\n",
       "      <td>53.0000</td>\n",
       "      <td>20</td>\n",
       "      <td>170</td>\n",
       "      <td>2.6500</td>\n",
       "      <td>80</td>\n",
       "      <td>144</td>\n",
       "      <td>Rifle</td>\n",
       "    </tr>\n",
       "    <tr>\n",
       "      <th>9</th>\n",
       "      <td>EBR+1</td>\n",
       "      <td>700</td>\n",
       "      <td>0</td>\n",
       "      <td>53.0000</td>\n",
       "      <td>20</td>\n",
       "      <td>170</td>\n",
       "      <td>2.6500</td>\n",
       "      <td>92</td>\n",
       "      <td>166</td>\n",
       "      <td>Rifle</td>\n",
       "    </tr>\n",
       "    <tr>\n",
       "      <th>10</th>\n",
       "      <td>SPX (sharp)</td>\n",
       "      <td>650</td>\n",
       "      <td>20</td>\n",
       "      <td>55.0000</td>\n",
       "      <td>10</td>\n",
       "      <td>98</td>\n",
       "      <td>5.5000</td>\n",
       "      <td>165</td>\n",
       "      <td>297</td>\n",
       "      <td>Rifle</td>\n",
       "    </tr>\n",
       "    <tr>\n",
       "      <th>11</th>\n",
       "      <td>SPX+1 (sharp)</td>\n",
       "      <td>600</td>\n",
       "      <td>0</td>\n",
       "      <td>55.0000</td>\n",
       "      <td>10</td>\n",
       "      <td>98</td>\n",
       "      <td>5.5000</td>\n",
       "      <td>189</td>\n",
       "      <td>341</td>\n",
       "      <td>Rifle</td>\n",
       "    </tr>\n",
       "    <tr>\n",
       "      <th>12</th>\n",
       "      <td>SPX+2 (sharp)</td>\n",
       "      <td>700</td>\n",
       "      <td>0</td>\n",
       "      <td>55.0000</td>\n",
       "      <td>10</td>\n",
       "      <td>98</td>\n",
       "      <td>5.5000</td>\n",
       "      <td>214</td>\n",
       "      <td>386</td>\n",
       "      <td>Rifle</td>\n",
       "    </tr>\n",
       "    <tr>\n",
       "      <th>13</th>\n",
       "      <td>9mm (slinger)</td>\n",
       "      <td>0</td>\n",
       "      <td>90</td>\n",
       "      <td>12.0000</td>\n",
       "      <td>15</td>\n",
       "      <td>90</td>\n",
       "      <td>0.8000</td>\n",
       "      <td>25</td>\n",
       "      <td>38</td>\n",
       "      <td>Handgun</td>\n",
       "    </tr>\n",
       "    <tr>\n",
       "      <th>14</th>\n",
       "      <td>SPX (slinger)</td>\n",
       "      <td>650</td>\n",
       "      <td>20</td>\n",
       "      <td>55.0000</td>\n",
       "      <td>10</td>\n",
       "      <td>80</td>\n",
       "      <td>5.5000</td>\n",
       "      <td>165</td>\n",
       "      <td>248</td>\n",
       "      <td>Rifle</td>\n",
       "    </tr>\n",
       "    <tr>\n",
       "      <th>15</th>\n",
       "      <td>SPX+1 (slinger)</td>\n",
       "      <td>600</td>\n",
       "      <td>0</td>\n",
       "      <td>55.0000</td>\n",
       "      <td>10</td>\n",
       "      <td>80</td>\n",
       "      <td>5.5000</td>\n",
       "      <td>189</td>\n",
       "      <td>284</td>\n",
       "      <td>Rifle</td>\n",
       "    </tr>\n",
       "    <tr>\n",
       "      <th>16</th>\n",
       "      <td>SPX+2 (slinger)</td>\n",
       "      <td>700</td>\n",
       "      <td>0</td>\n",
       "      <td>55.0000</td>\n",
       "      <td>10</td>\n",
       "      <td>80</td>\n",
       "      <td>5.5000</td>\n",
       "      <td>214</td>\n",
       "      <td>321</td>\n",
       "      <td>Rifle</td>\n",
       "    </tr>\n",
       "    <tr>\n",
       "      <th>17</th>\n",
       "      <td>1858 (single)</td>\n",
       "      <td>100</td>\n",
       "      <td>72</td>\n",
       "      <td>8.3333</td>\n",
       "      <td>12</td>\n",
       "      <td>144</td>\n",
       "      <td>0.6944</td>\n",
       "      <td>50</td>\n",
       "      <td>75</td>\n",
       "      <td>Handgun</td>\n",
       "    </tr>\n",
       "    <tr>\n",
       "      <th>18</th>\n",
       "      <td>Deagle (single)</td>\n",
       "      <td>550</td>\n",
       "      <td>35</td>\n",
       "      <td>21.0000</td>\n",
       "      <td>7</td>\n",
       "      <td>112</td>\n",
       "      <td>3.0000</td>\n",
       "      <td>91</td>\n",
       "      <td>137</td>\n",
       "      <td>Handgun</td>\n",
       "    </tr>\n",
       "  </tbody>\n",
       "</table>\n",
       "</div>"
      ],
      "text/plain": [
       "             Weapon  Purchase cost  Purchase ammo  Cost per magazine  \\\n",
       "0       9mm (mando)              0             90            12.0000   \n",
       "1          AR15 HPR            200            120            20.0000   \n",
       "2       Bullpup HPR            650             90            30.0000   \n",
       "3           Bullpup            650             90            30.0000   \n",
       "4              SCAR           1500             80            28.0000   \n",
       "5            FN FAL           1500             60            47.0000   \n",
       "6       9mm (sharp)              0             90            12.0000   \n",
       "7        Winchester            200             48            32.0000   \n",
       "8               EBR           1100             40            53.0000   \n",
       "9             EBR+1            700              0            53.0000   \n",
       "10      SPX (sharp)            650             20            55.0000   \n",
       "11    SPX+1 (sharp)            600              0            55.0000   \n",
       "12    SPX+2 (sharp)            700              0            55.0000   \n",
       "13    9mm (slinger)              0             90            12.0000   \n",
       "14    SPX (slinger)            650             20            55.0000   \n",
       "15  SPX+1 (slinger)            600              0            55.0000   \n",
       "16  SPX+2 (slinger)            700              0            55.0000   \n",
       "17    1858 (single)            100             72             8.3333   \n",
       "18  Deagle (single)            550             35            21.0000   \n",
       "\n",
       "    Bullets per magazine  Max Ammo (mag+spare)  Cost per bullet  \\\n",
       "0                     15                    90           0.8000   \n",
       "1                     20                   308           1.0000   \n",
       "2                     32                   354           0.9375   \n",
       "3                     32                   354           0.9375   \n",
       "4                     20                   428           1.4000   \n",
       "5                     20                   428           2.3500   \n",
       "6                     15                   109           0.8000   \n",
       "7                     12                   117           2.6667   \n",
       "8                     20                   170           2.6500   \n",
       "9                     20                   170           2.6500   \n",
       "10                    10                    98           5.5000   \n",
       "11                    10                    98           5.5000   \n",
       "12                    10                    98           5.5000   \n",
       "13                    15                    90           0.8000   \n",
       "14                    10                    80           5.5000   \n",
       "15                    10                    80           5.5000   \n",
       "16                    10                    80           5.5000   \n",
       "17                    12                   144           0.6944   \n",
       "18                     7                   112           3.0000   \n",
       "\n",
       "    1. Base damage  Total Damage Damage Type  \n",
       "0               25            47     Handgun  \n",
       "1               30            39     Assault  \n",
       "2               32            42     Assault  \n",
       "3               32            32     Assault  \n",
       "4               55            55     Assault  \n",
       "5               70            70       Rifle  \n",
       "6               25            45     Handgun  \n",
       "7               80           144       Rifle  \n",
       "8               80           144       Rifle  \n",
       "9               92           166       Rifle  \n",
       "10             165           297       Rifle  \n",
       "11             189           341       Rifle  \n",
       "12             214           386       Rifle  \n",
       "13              25            38     Handgun  \n",
       "14             165           248       Rifle  \n",
       "15             189           284       Rifle  \n",
       "16             214           321       Rifle  \n",
       "17              50            75     Handgun  \n",
       "18              91           137     Handgun  "
      ]
     },
     "execution_count": 17,
     "metadata": {},
     "output_type": "execute_result"
    }
   ],
   "source": [
    "# Two-dimensional tables, no nested layers\n",
    "# Gathered from in-game UI and SimpleCat's KF2 Stats Spreadsheet\n",
    "\n",
    "weapons_data = pd.read_csv('E:\\College\\FinalProjectData\\WeaponStats.csv')\n",
    "weapons_df = pd.DataFrame(data=weapons_data)\n",
    "\n",
    "weapons_df"
   ]
  },
  {
   "cell_type": "markdown",
   "id": "8c160f0f",
   "metadata": {},
   "source": [
    "#### 4f. Medic Economy\n",
    "\n",
    "Medics are an important part of team economy. The imported CSV is per wave data gathered from the 17 times a medic was employed during Tamari's community tournament. Row 0 is the average earnings, and therefore the value we're concerned with."
   ]
  },
  {
   "cell_type": "code",
   "execution_count": 18,
   "id": "d68a116b",
   "metadata": {},
   "outputs": [
    {
     "data": {
      "text/html": [
       "<div>\n",
       "<style scoped>\n",
       "    .dataframe tbody tr th:only-of-type {\n",
       "        vertical-align: middle;\n",
       "    }\n",
       "\n",
       "    .dataframe tbody tr th {\n",
       "        vertical-align: top;\n",
       "    }\n",
       "\n",
       "    .dataframe thead th {\n",
       "        text-align: right;\n",
       "    }\n",
       "</style>\n",
       "<table border=\"1\" class=\"dataframe\">\n",
       "  <thead>\n",
       "    <tr style=\"text-align: right;\">\n",
       "      <th></th>\n",
       "      <th>Wave 1</th>\n",
       "      <th>Wave 2</th>\n",
       "      <th>Wave 3</th>\n",
       "      <th>Wave 4</th>\n",
       "      <th>Wave 5</th>\n",
       "    </tr>\n",
       "  </thead>\n",
       "  <tbody>\n",
       "    <tr>\n",
       "      <th>0</th>\n",
       "      <td>459</td>\n",
       "      <td>635</td>\n",
       "      <td>1034</td>\n",
       "      <td>1047</td>\n",
       "      <td>1108</td>\n",
       "    </tr>\n",
       "  </tbody>\n",
       "</table>\n",
       "</div>"
      ],
      "text/plain": [
       "   Wave 1  Wave 2  Wave 3  Wave 4  Wave 5\n",
       "0     459     635    1034    1047    1108"
      ]
     },
     "execution_count": 18,
     "metadata": {},
     "output_type": "execute_result"
    }
   ],
   "source": [
    "# Two-dimensional tables, no nested layers\n",
    "# Gathered from Tamari tournament data\n",
    "\n",
    "med_eco = pd.read_csv('E:\\College\\FinalProjectData\\MedDosh_5wave.csv')\n",
    "med_eco_df = pd.DataFrame(data=med_eco)\n",
    "#averages = med_eco_df.mean()\n",
    "#med_eco_df['Average'] = averages\n",
    "med_eco_df.head(1)"
   ]
  },
  {
   "cell_type": "markdown",
   "id": "29e6a9e1",
   "metadata": {},
   "source": [
    "## 5. The Damage Formula of Killing Floor 2\n",
    "\n",
    "In Killing Floor 2, damage is modeled with a pretty complicated formula that has up to 13 steps.\n",
    "The full documentation starts in row 561 of Simple Cat's excellent Killing Floor 2 Statistics spreadsheet. https://docs.google.com/spreadsheets/d/1GDpg2mN1l_86U_RaDug0glFx8cZCuErwxZLiBKl9SyY/htmlview\n",
    "\n",
    "\n",
    "The long and the short of it for my purposes here is that it results in the Calculated Damage column in section **4e**, above, when after 1-6 are applied.\n",
    "\n",
    "Step 7 of the formula, which is hitzone damage, is dealt with in the zed statistic of \"Adjusted Head Health\" in section **4d**, above. \n",
    "\n",
    "Step 8, which is the damage weaknesses and resistances of each zed, is dealt with during the analysis below. \n",
    "\n",
    "Steps 9-13 aren't relevant when you're modeling pure headshot decapitations."
   ]
  },
  {
   "cell_type": "markdown",
   "id": "6b2fdad6",
   "metadata": {},
   "source": [
    "## 6. The Analysis\n",
    "\n",
    "First, some quick housekeeping with importing libraries."
   ]
  },
  {
   "cell_type": "code",
   "execution_count": 19,
   "id": "19025613",
   "metadata": {},
   "outputs": [],
   "source": [
    "import numpy as np\n",
    "from scipy import stats\n",
    "from matplotlib import pyplot as plt"
   ]
  },
  {
   "cell_type": "markdown",
   "id": "19cb9f8a",
   "metadata": {},
   "source": [
    "Next, we need to figure out what players we are looking at. There are a lot of possible player skill levels a designer could want to tune to. They might want to design something for intermediate players, or a mix of beginner, intermediate, and advanced players. They might want to design specifically for advanced or elite players. "
   ]
  },
  {
   "cell_type": "markdown",
   "id": "5a98faa4",
   "metadata": {},
   "source": [
    "#### 6a. Sharpshooters & gunslingers\n",
    "\n",
    "The following box plot shows the distribution of headshot accuracy values for **sharpshooters and gunslingers** in section **4a**. Specifically, these are the percentages of total shots fired that impacted a zed in the head, (HSACC (Shots))."
   ]
  },
  {
   "cell_type": "code",
   "execution_count": 20,
   "id": "b39c076b",
   "metadata": {
    "scrolled": false
   },
   "outputs": [
    {
     "data": {
      "text/plain": [
       "([<matplotlib.axis.XTick at 0x2b531b882e0>], [Text(1, 0, 'HSACC (Shots)')])"
      ]
     },
     "execution_count": 20,
     "metadata": {},
     "output_type": "execute_result"
    },
    {
     "data": {
      "image/png": "[encoded data removed]",
      "text/plain": [
       "<Figure size 640x480 with 1 Axes>"
      ]
     },
     "metadata": {},
     "output_type": "display_data"
    }
   ],
   "source": [
    "fig1, ax1 = plt.subplots()\n",
    "# ax1.scatter(x=dps_acc_df['ACC'],y=dps_acc_df['HSACC (Hits)'])\n",
    "# dps_acc_plot = ax1.boxplot(x=dps_acc_df['ACC'], positions = [1])\n",
    "# dps_hsacc_plot = ax1.boxplot(x=dps_acc_df['HSACC (Shots)'], positions = [2])\n",
    "dps_hsacc_plot = ax1.boxplot(x=dps_acc_df['HSACC (Shots)'], positions = [1\n",
    "                                                                        ])\n",
    "ax1.set_title('Sharp & Slinger Headshot Accuracy')\n",
    "ax1.set_ylabel('Percentage')\n",
    "\n",
    "plt.xticks([1], ['HSACC (Shots)'])"
   ]
  },
  {
   "cell_type": "code",
   "execution_count": 21,
   "id": "e532fdcc",
   "metadata": {},
   "outputs": [
    {
     "name": "stdout",
     "output_type": "stream",
     "text": [
      "Headshot Accuracy Plot Statistics:\n",
      "  Lower Quartile (Q1): 32.426879167500005\n",
      "  Median (Q2): 40.798135599999995\n",
      "  Upper Quartile (Q3): 51.025\n",
      "  Interquartile Range (IQR): 18.598120832499994\n",
      "  Lower Whisker: 15.6274357\n",
      "  Upper Whisker: 67.2\n",
      "  Outliers: []\n",
      "\n"
     ]
    }
   ],
   "source": [
    "print(\"Headshot Accuracy Plot Statistics:\")\n",
    "print(f\"  Lower Quartile (Q1): {dps_hsacc_plot['boxes'][0].get_ydata()[1]}\")\n",
    "print(f\"  Median (Q2): {dps_hsacc_plot['medians'][0].get_ydata()[1]}\")\n",
    "print(f\"  Upper Quartile (Q3): {dps_hsacc_plot['boxes'][0].get_ydata()[3]}\")\n",
    "print(f\"  Interquartile Range (IQR): {dps_hsacc_plot['boxes'][0].get_ydata()[3] - dps_hsacc_plot['boxes'][0].get_ydata()[1]}\")\n",
    "print(f\"  Lower Whisker: {dps_hsacc_plot['whiskers'][0].get_ydata()[1]}\")\n",
    "print(f\"  Upper Whisker: {dps_hsacc_plot['whiskers'][1].get_ydata()[1]}\")\n",
    "print(f\"  Outliers: {dps_hsacc_plot['fliers'][0].get_ydata()}\")\n",
    "print(\"\")\n",
    "\n",
    "dps_hsacc = dps_hsacc_plot['boxes'][0].get_ydata()[3]/100"
   ]
  },
  {
   "cell_type": "markdown",
   "id": "88d1f04d",
   "metadata": {},
   "source": [
    "For now, I am choosing a value on the high end from this data set. I intend to return to this question with mixed sets of different players when modeling for different difficulties in the future, but for now I'm most interested in how far difficulty can be pushed for high level play. \n",
    "\n",
    "So, I will use the upper quartile values. This means that I am assuming **51.025%** of total shots fired are headshots for sharpshooters and slingers."
   ]
  },
  {
   "cell_type": "markdown",
   "id": "7c851ae4",
   "metadata": {},
   "source": [
    "#### 6b. Command Accuracy\n",
    "\n",
    "Next, the **commandos**. Once again, these are the percentages of total shots fired that impacted a zed in the head, (HSACC (Shots))."
   ]
  },
  {
   "cell_type": "code",
   "execution_count": 22,
   "id": "cacd3892",
   "metadata": {
    "scrolled": false
   },
   "outputs": [
    {
     "data": {
      "text/plain": [
       "([<matplotlib.axis.XTick at 0x2b53245b550>], [Text(1, 0, 'HSACC (Hits)')])"
      ]
     },
     "execution_count": 22,
     "metadata": {},
     "output_type": "execute_result"
    },
    {
     "data": {
      "image/png": "[encoded data removed]",
      "text/plain": [
       "<Figure size 640x480 with 1 Axes>"
      ]
     },
     "metadata": {},
     "output_type": "display_data"
    }
   ],
   "source": [
    "fig2, ax2 = plt.subplots()\n",
    "\n",
    "mando_hsacc_plot = ax2.boxplot(x=mando_acc_df['HSACC (Shots)'], positions = [1])\n",
    "\n",
    "ax2.set_title('Commando Headshot Accuracy')\n",
    "ax2.set_ylabel('Percentage')\n",
    "\n",
    "plt.xticks([1], ['HSACC (Hits)'])"
   ]
  },
  {
   "cell_type": "code",
   "execution_count": 23,
   "id": "06117938",
   "metadata": {},
   "outputs": [
    {
     "name": "stdout",
     "output_type": "stream",
     "text": [
      "Headshot Accuracy Plot Statistics:\n",
      "  Lower Quartile (Q1): 10.48850575\n",
      "  Median (Q2): 14.75155279\n",
      "  Upper Quartile (Q3): 17.82\n",
      "  Interquartile Range (IQR): 7.33149425\n",
      "  Lower Whisker: 5.41186393\n",
      "  Upper Whisker: 28.52893456\n",
      "  Outliers: [30.43478261]\n",
      "\n"
     ]
    }
   ],
   "source": [
    "print(\"Headshot Accuracy Plot Statistics:\")\n",
    "print(f\"  Lower Quartile (Q1): {mando_hsacc_plot['boxes'][0].get_ydata()[1]}\")\n",
    "print(f\"  Median (Q2): {mando_hsacc_plot['medians'][0].get_ydata()[1]}\")\n",
    "print(f\"  Upper Quartile (Q3): {mando_hsacc_plot['boxes'][0].get_ydata()[3]}\")\n",
    "print(f\"  Interquartile Range (IQR): {mando_hsacc_plot['boxes'][0].get_ydata()[3] - mando_hsacc_plot['boxes'][0].get_ydata()[1]}\")\n",
    "print(f\"  Lower Whisker: {mando_hsacc_plot['whiskers'][0].get_ydata()[1]}\")\n",
    "print(f\"  Upper Whisker: {mando_hsacc_plot['whiskers'][1].get_ydata()[1]}\")\n",
    "print(f\"  Outliers: {mando_hsacc_plot['fliers'][0].get_ydata()}\")\n",
    "print(\"\")\n",
    "\n",
    "mando_hsacc = mando_hsacc_plot['boxes'][0].get_ydata()[3]/100"
   ]
  },
  {
   "cell_type": "markdown",
   "id": "e5241596",
   "metadata": {},
   "source": [
    "Again, I'm going to use the upper quartile value, so our commando is assumed to have about **17.82%** of his rounds hit enemies in the head."
   ]
  },
  {
   "cell_type": "markdown",
   "id": "521d9094",
   "metadata": {},
   "source": [
    "### 6c. Find _Weighted Damage Resistance Values_ \n",
    "\n",
    "Different enemies have different resistances to different weapons. For instance, fleshpounds are more resistant to handguns than rifles. This step uses the percentage of a given zed in the wave for the weight of that zed’s resistance value. \n",
    "\n",
    "##### If time, use tourney data for kills per wave."
   ]
  },
  {
   "cell_type": "code",
   "execution_count": 24,
   "id": "c8bfae79",
   "metadata": {},
   "outputs": [],
   "source": [
    "# Skipping for now to get other things working"
   ]
  },
  {
   "cell_type": "markdown",
   "id": "421a9701",
   "metadata": {},
   "source": [
    "### 6d. *Zed Head Health Pool*\n",
    "\n",
    "This is how much collective **Adjusted Head HP** is present for each zed in a given wave. As a reminder, the **Adjusted Head HP** is the zed's head health divided by the hitzone multiplier for its head.\n",
    "\n",
    "The file imported here, the \"ZedStats_HPMatrix,\" is just the Adjusted Head HP of every zed repeated 10 times for easy use in dataframe calculations."
   ]
  },
  {
   "cell_type": "code",
   "execution_count": 25,
   "id": "af09c536",
   "metadata": {
    "scrolled": true
   },
   "outputs": [
    {
     "data": {
      "text/html": [
       "<div>\n",
       "<style scoped>\n",
       "    .dataframe tbody tr th:only-of-type {\n",
       "        vertical-align: middle;\n",
       "    }\n",
       "\n",
       "    .dataframe tbody tr th {\n",
       "        vertical-align: top;\n",
       "    }\n",
       "\n",
       "    .dataframe thead th {\n",
       "        text-align: right;\n",
       "    }\n",
       "</style>\n",
       "<table border=\"1\" class=\"dataframe\">\n",
       "  <thead>\n",
       "    <tr style=\"text-align: right;\">\n",
       "      <th></th>\n",
       "      <th>Cyst</th>\n",
       "      <th>Alpha Clot</th>\n",
       "      <th>Slasher</th>\n",
       "      <th>Rioter</th>\n",
       "      <th>Gorefast</th>\n",
       "      <th>Gorefiend</th>\n",
       "      <th>Crawler</th>\n",
       "      <th>Stalker</th>\n",
       "      <th>Bloat</th>\n",
       "      <th>Husk</th>\n",
       "      <th>Siren</th>\n",
       "      <th>Scrake</th>\n",
       "      <th>Quarterpound</th>\n",
       "      <th>Fleshpound</th>\n",
       "    </tr>\n",
       "  </thead>\n",
       "  <tbody>\n",
       "    <tr>\n",
       "      <th>0</th>\n",
       "      <td>18.18</td>\n",
       "      <td>18.18</td>\n",
       "      <td>18.18</td>\n",
       "      <td>113.64</td>\n",
       "      <td>45.45</td>\n",
       "      <td>136.36</td>\n",
       "      <td>18.18</td>\n",
       "      <td>18.18</td>\n",
       "      <td>81.99</td>\n",
       "      <td>219.78</td>\n",
       "      <td>140.91</td>\n",
       "      <td>1440</td>\n",
       "      <td>1116.36</td>\n",
       "      <td>1560</td>\n",
       "    </tr>\n",
       "    <tr>\n",
       "      <th>1</th>\n",
       "      <td>18.18</td>\n",
       "      <td>18.18</td>\n",
       "      <td>18.18</td>\n",
       "      <td>113.64</td>\n",
       "      <td>45.45</td>\n",
       "      <td>136.36</td>\n",
       "      <td>18.18</td>\n",
       "      <td>18.18</td>\n",
       "      <td>81.99</td>\n",
       "      <td>219.78</td>\n",
       "      <td>140.91</td>\n",
       "      <td>1440</td>\n",
       "      <td>1116.36</td>\n",
       "      <td>1560</td>\n",
       "    </tr>\n",
       "  </tbody>\n",
       "</table>\n",
       "</div>"
      ],
      "text/plain": [
       "    Cyst  Alpha Clot  Slasher  Rioter  Gorefast  Gorefiend  Crawler  Stalker  \\\n",
       "0  18.18       18.18    18.18  113.64     45.45     136.36    18.18    18.18   \n",
       "1  18.18       18.18    18.18  113.64     45.45     136.36    18.18    18.18   \n",
       "\n",
       "   Bloat    Husk   Siren  Scrake  Quarterpound  Fleshpound  \n",
       "0  81.99  219.78  140.91    1440       1116.36        1560  \n",
       "1  81.99  219.78  140.91    1440       1116.36        1560  "
      ]
     },
     "execution_count": 25,
     "metadata": {},
     "output_type": "execute_result"
    }
   ],
   "source": [
    "ZedStats_HPMatrix = pd.read_csv('E:\\College\\FinalProjectData\\ZedStats_HPMatrix.csv')\n",
    "HP_Matrix_df = pd.DataFrame(data=ZedStats_HPMatrix)\n",
    "HP_Matrix_df.head(2)"
   ]
  },
  {
   "cell_type": "code",
   "execution_count": 26,
   "id": "c2241dfd",
   "metadata": {},
   "outputs": [
    {
     "data": {
      "text/html": [
       "<div>\n",
       "<style scoped>\n",
       "    .dataframe tbody tr th:only-of-type {\n",
       "        vertical-align: middle;\n",
       "    }\n",
       "\n",
       "    .dataframe tbody tr th {\n",
       "        vertical-align: top;\n",
       "    }\n",
       "\n",
       "    .dataframe thead th {\n",
       "        text-align: right;\n",
       "    }\n",
       "</style>\n",
       "<table border=\"1\" class=\"dataframe\">\n",
       "  <thead>\n",
       "    <tr style=\"text-align: right;\">\n",
       "      <th></th>\n",
       "      <th>Cyst</th>\n",
       "      <th>Alpha Clot</th>\n",
       "      <th>Slasher</th>\n",
       "      <th>Rioter</th>\n",
       "      <th>Gorefast</th>\n",
       "      <th>Gorefiend</th>\n",
       "      <th>Crawler</th>\n",
       "      <th>Stalker</th>\n",
       "      <th>Bloat</th>\n",
       "      <th>Husk</th>\n",
       "      <th>Siren</th>\n",
       "      <th>Scrake</th>\n",
       "      <th>Quarterpound</th>\n",
       "      <th>Fleshpound</th>\n",
       "    </tr>\n",
       "  </thead>\n",
       "  <tbody>\n",
       "    <tr>\n",
       "      <th>0</th>\n",
       "      <td>472.68</td>\n",
       "      <td>472.68</td>\n",
       "      <td>472.68</td>\n",
       "      <td>2272.80</td>\n",
       "      <td>1272.6</td>\n",
       "      <td>2727.20</td>\n",
       "      <td>509.04</td>\n",
       "      <td>472.68</td>\n",
       "      <td>1147.86</td>\n",
       "      <td>2197.80</td>\n",
       "      <td>1972.74</td>\n",
       "      <td>5760</td>\n",
       "      <td>0.0</td>\n",
       "      <td>3120</td>\n",
       "    </tr>\n",
       "    <tr>\n",
       "      <th>1</th>\n",
       "      <td>399.96</td>\n",
       "      <td>436.32</td>\n",
       "      <td>436.32</td>\n",
       "      <td>1590.96</td>\n",
       "      <td>1454.4</td>\n",
       "      <td>3272.64</td>\n",
       "      <td>545.40</td>\n",
       "      <td>509.04</td>\n",
       "      <td>1311.84</td>\n",
       "      <td>3076.92</td>\n",
       "      <td>2254.56</td>\n",
       "      <td>23040</td>\n",
       "      <td>0.0</td>\n",
       "      <td>21840</td>\n",
       "    </tr>\n",
       "  </tbody>\n",
       "</table>\n",
       "</div>"
      ],
      "text/plain": [
       "     Cyst  Alpha Clot  Slasher   Rioter  Gorefast  Gorefiend  Crawler  \\\n",
       "0  472.68      472.68   472.68  2272.80    1272.6    2727.20   509.04   \n",
       "1  399.96      436.32   436.32  1590.96    1454.4    3272.64   545.40   \n",
       "\n",
       "   Stalker    Bloat     Husk    Siren  Scrake  Quarterpound  Fleshpound  \n",
       "0   472.68  1147.86  2197.80  1972.74    5760           0.0        3120  \n",
       "1   509.04  1311.84  3076.92  2254.56   23040           0.0       21840  "
      ]
     },
     "execution_count": 26,
     "metadata": {},
     "output_type": "execute_result"
    }
   ],
   "source": [
    "# mb_v0a, all waves\n",
    "mb0a_by_zed = HP_Matrix_df * mb0a_df\n",
    "\n",
    "mb0a_by_zed.head(2)"
   ]
  },
  {
   "cell_type": "code",
   "execution_count": 27,
   "id": "a403a69a",
   "metadata": {},
   "outputs": [
    {
     "data": {
      "text/plain": [
       "22870.760000000002"
      ]
     },
     "execution_count": 27,
     "metadata": {},
     "output_type": "execute_result"
    }
   ],
   "source": [
    "# mb_v0a, wave 1\n",
    "mb0a_1_by_zed = mb0a_by_zed.iloc[0]\n",
    "mb0a_wave1_pool=mb0a_1_by_zed.sum()\n",
    "\n",
    "mb0a_wave1_pool"
   ]
  },
  {
   "cell_type": "markdown",
   "id": "70fad439",
   "metadata": {},
   "source": [
    "#### 6d. Conclusion\n",
    "MB_v0a's wave 1 has about **22,871** adjusted Zed head HP"
   ]
  },
  {
   "cell_type": "markdown",
   "id": "bc87ec54",
   "metadata": {},
   "source": [
    "### 6e. *Zed Head Health Pool* for NVM_v1\n",
    "\n",
    "This pool represents the upper bounds of where I'm going push the model. Once players have the firepower needed to clear this, they're fine."
   ]
  },
  {
   "cell_type": "code",
   "execution_count": 28,
   "id": "e8c2db1e",
   "metadata": {},
   "outputs": [
    {
     "data": {
      "text/html": [
       "<div>\n",
       "<style scoped>\n",
       "    .dataframe tbody tr th:only-of-type {\n",
       "        vertical-align: middle;\n",
       "    }\n",
       "\n",
       "    .dataframe tbody tr th {\n",
       "        vertical-align: top;\n",
       "    }\n",
       "\n",
       "    .dataframe thead th {\n",
       "        text-align: right;\n",
       "    }\n",
       "</style>\n",
       "<table border=\"1\" class=\"dataframe\">\n",
       "  <thead>\n",
       "    <tr style=\"text-align: right;\">\n",
       "      <th></th>\n",
       "      <th>Cyst</th>\n",
       "      <th>Alpha Clot</th>\n",
       "      <th>Slasher</th>\n",
       "      <th>Rioter</th>\n",
       "      <th>Gorefast</th>\n",
       "      <th>Gorefiend</th>\n",
       "      <th>Crawler</th>\n",
       "      <th>Stalker</th>\n",
       "      <th>Bloat</th>\n",
       "      <th>Husk</th>\n",
       "      <th>Siren</th>\n",
       "      <th>Scrake</th>\n",
       "      <th>Quarterpound</th>\n",
       "      <th>Fleshpound</th>\n",
       "    </tr>\n",
       "  </thead>\n",
       "  <tbody>\n",
       "    <tr>\n",
       "      <th>8</th>\n",
       "      <td>0.0</td>\n",
       "      <td>327.24</td>\n",
       "      <td>236.34</td>\n",
       "      <td>4886.52</td>\n",
       "      <td>590.85</td>\n",
       "      <td>4636.24</td>\n",
       "      <td>509.04</td>\n",
       "      <td>363.60</td>\n",
       "      <td>2705.67</td>\n",
       "      <td>11208.78</td>\n",
       "      <td>5495.49</td>\n",
       "      <td>110880</td>\n",
       "      <td>0.0</td>\n",
       "      <td>65520</td>\n",
       "    </tr>\n",
       "    <tr>\n",
       "      <th>9</th>\n",
       "      <td>0.0</td>\n",
       "      <td>218.16</td>\n",
       "      <td>109.08</td>\n",
       "      <td>5454.72</td>\n",
       "      <td>818.10</td>\n",
       "      <td>4772.60</td>\n",
       "      <td>163.62</td>\n",
       "      <td>218.16</td>\n",
       "      <td>3279.60</td>\n",
       "      <td>12967.02</td>\n",
       "      <td>5777.31</td>\n",
       "      <td>120960</td>\n",
       "      <td>0.0</td>\n",
       "      <td>73320</td>\n",
       "    </tr>\n",
       "  </tbody>\n",
       "</table>\n",
       "</div>"
      ],
      "text/plain": [
       "   Cyst  Alpha Clot  Slasher   Rioter  Gorefast  Gorefiend  Crawler  Stalker  \\\n",
       "8   0.0      327.24   236.34  4886.52    590.85    4636.24   509.04   363.60   \n",
       "9   0.0      218.16   109.08  5454.72    818.10    4772.60   163.62   218.16   \n",
       "\n",
       "     Bloat      Husk    Siren  Scrake  Quarterpound  Fleshpound  \n",
       "8  2705.67  11208.78  5495.49  110880           0.0       65520  \n",
       "9  3279.60  12967.02  5777.31  120960           0.0       73320  "
      ]
     },
     "execution_count": 28,
     "metadata": {},
     "output_type": "execute_result"
    }
   ],
   "source": [
    "# nvm_v1, all waves\n",
    "nvm1_by_zed = HP_Matrix_df * nvm1_df\n",
    "\n",
    "nvm1_by_zed.tail(2)"
   ]
  },
  {
   "cell_type": "code",
   "execution_count": 29,
   "id": "dfb89f67",
   "metadata": {},
   "outputs": [],
   "source": [
    "# nvm_v1, wave 10\n",
    "nvm1_10_by_zed = nvm1_by_zed.iloc[9]\n",
    "# nvm1_10_by_zed"
   ]
  },
  {
   "cell_type": "code",
   "execution_count": 30,
   "id": "0d40700f",
   "metadata": {},
   "outputs": [
    {
     "data": {
      "text/plain": [
       "228058.37"
      ]
     },
     "execution_count": 30,
     "metadata": {},
     "output_type": "execute_result"
    }
   ],
   "source": [
    "nvm1_10_pool = nvm1_10_by_zed.sum()\n",
    "nvm1_10_pool"
   ]
  },
  {
   "cell_type": "markdown",
   "id": "86840b4e",
   "metadata": {},
   "source": [
    "#### 6e. Conclusion\n",
    "NVM_v1's wave 10 has a monumental **228,058.37** points of adjusted Zed head HP"
   ]
  },
  {
   "cell_type": "markdown",
   "id": "b8f9c2b4",
   "metadata": {},
   "source": [
    "### 6f. Maximum Team Damage with Wave 1 Loadouts"
   ]
  },
  {
   "cell_type": "code",
   "execution_count": 31,
   "id": "43e5802a",
   "metadata": {},
   "outputs": [],
   "source": [
    "# Setting up weapon damage variables\n",
    "nine_cmd_dmg = int(weapons_df['Total Damage'][0])\n",
    "ar15_hpr_dmg = int(weapons_df['Total Damage'][1])\n",
    "bullpup_hpr_dmg = int(weapons_df['Total Damage'][2])\n",
    "bullpup_cmd_dmg = int(weapons_df['Total Damage'][3])\n",
    "scar_cmd_dmg = int(weapons_df['Total Damage'][4])\n",
    "fnfal_cmd_dmg = int(weapons_df['Total Damage'][5])\n",
    "nine_ss_dmg = int(weapons_df['Total Damage'][6])\n",
    "winch_ss_dmg = int(weapons_df['Total Damage'][7])\n",
    "ebr_ss_dmg = int(weapons_df['Total Damage'][8])\n",
    "ebr1_ss_dmg = int(weapons_df['Total Damage'][9])\n",
    "spx_ss_dmg = int(weapons_df['Total Damage'][10])\n",
    "spx1_ss_dmg = int(weapons_df['Total Damage'][11])\n",
    "spx2_ss_dmg = int(weapons_df['Total Damage'][12])\n",
    "nine_gs_dmg = int(weapons_df['Total Damage'][13])\n",
    "spx_gs_dmg = int(weapons_df['Total Damage'][14])\n",
    "spx1_gs_dmg = int(weapons_df['Total Damage'][15])\n",
    "spx2_gs_dmg = int(weapons_df['Total Damage'][16])\n",
    "revol_gs_dmg = int(weapons_df['Total Damage'][17])\n",
    "deag_gs_dmg = int(weapons_df['Total Damage'][18])"
   ]
  },
  {
   "cell_type": "code",
   "execution_count": 32,
   "id": "4275a293",
   "metadata": {},
   "outputs": [],
   "source": [
    "# REFERENCE LIST TO COPY AROUND\n",
    "# nine_cmd_dmg = int(weapons_df['Total Damage'][0])\n",
    "# ar15_hpr_dmg = int(weapons_df['Total Damage'][1])\n",
    "# bullpup_hpr_dmg = int(weapons_df['Total Damage'][2])\n",
    "# bullpup_cmd_dmg = int(weapons_df['Total Damage'][3])\n",
    "# scar_cmd_dmg = int(weapons_df['Total Damage'][4])\n",
    "# fnfal_cmd_dmg = int(weapons_df['Total Damage'][5])\n",
    "# nine_ss_dmg = int(weapons_df['Total Damage'][6])\n",
    "# winch_ss_dmg = int(weapons_df['Total Damage'][7])\n",
    "# ebr_ss_dmg = int(weapons_df['Total Damage'][8])\n",
    "# ebr1_ss_dmg = int(weapons_df['Total Damage'][9])\n",
    "# spx_ss_dmg = int(weapons_df['Total Damage'][10])\n",
    "# spx1_ss_dmg = int(weapons_df['Total Damage'][11])\n",
    "# spx2_ss_dmg = int(weapons_df['Total Damage'][12])\n",
    "# nine_gs_dmg = int(weapons_df['Total Damage'][13])\n",
    "# spx_gs_dmg = int(weapons_df['Total Damage'][14])\n",
    "# spx1_gs_dmg = int(weapons_df['Total Damage'][15])\n",
    "# spx2_gs_dmg = int(weapons_df['Total Damage'][16])\n",
    "# revol_gs_dmg = int(weapons_df['Total Damage'][17])\n",
    "# deag_gs_dmg = int(weapons_df['Total Damage'][18])"
   ]
  },
  {
   "cell_type": "markdown",
   "id": "15405f64",
   "metadata": {},
   "source": [
    "Perks will spawn in with the following ammunition loads:\n",
    "\n",
    "#### Commando\n",
    "\n",
    "- AR15 HPR, 308 rounds\n",
    "- 9mm (mando), 90 rounds\n",
    "\n",
    "#### Gunslinger 1\n",
    "\n",
    "- Dual 1858, 144 rounds\n",
    "- 9mm (slinger), 90 rounds\n",
    "\n",
    "#### Gunslinger 2\n",
    "\n",
    "- Dual 1858, 144 rounds\n",
    "- 9mm (slinger), 90 rounds\n",
    "\n",
    "#### Sharpshooter 1\n",
    "\n",
    "- Winchester, 117 rounds\n",
    "- 9mm (sharp), 109 rounds\n",
    "\n",
    "The following code calculates the max damage of each player's loadout and stores those values in an array. "
   ]
  },
  {
   "cell_type": "code",
   "execution_count": 76,
   "id": "9b53e6d2",
   "metadata": {},
   "outputs": [
    {
     "data": {
      "text/plain": [
       "array([], dtype=float64)"
      ]
     },
     "execution_count": 76,
     "metadata": {},
     "output_type": "execute_result"
    }
   ],
   "source": [
    "# Initialize the array for collecting together the team's damage\n",
    "team_w1_full = np.empty(shape=(0))\n",
    "team_w1_full"
   ]
  },
  {
   "cell_type": "code",
   "execution_count": 77,
   "id": "aff1ecc3",
   "metadata": {},
   "outputs": [
    {
     "data": {
      "text/plain": [
       "array([ 4230., 12012.])"
      ]
     },
     "execution_count": 77,
     "metadata": {},
     "output_type": "execute_result"
    }
   ],
   "source": [
    "# Commando, Wave 1\n",
    "cmd_w1 = []\n",
    "cmd_w1.append(nine_cmd_dmg*90) \n",
    "cmd_w1.append(ar15_hpr_dmg*308)\n",
    "cmd_dmg_w1 = sum(cmd_w1)\n",
    "\n",
    "team_w1_full = np.append(team_w1_full,cmd_w1)\n",
    "team_w1_full"
   ]
  },
  {
   "cell_type": "code",
   "execution_count": 78,
   "id": "f2d5b9e4",
   "metadata": {},
   "outputs": [
    {
     "data": {
      "text/plain": [
       "array([ 4230., 12012.,  3420., 10800.])"
      ]
     },
     "execution_count": 78,
     "metadata": {},
     "output_type": "execute_result"
    }
   ],
   "source": [
    "# Gunslinger 1, Wave 1\n",
    "gs1_w1 = [0,0]\n",
    "gs1_w1[0] = nine_gs_dmg*90\n",
    "gs1_w1[1] = revol_gs_dmg*144\n",
    "gs1_dmg_w1 = sum(gs1_w1)\n",
    "\n",
    "team_w1_full = np.append(team_w1_full,gs1_w1)\n",
    "team_w1_full"
   ]
  },
  {
   "cell_type": "code",
   "execution_count": 79,
   "id": "acfdc69a",
   "metadata": {},
   "outputs": [
    {
     "data": {
      "text/plain": [
       "array([ 4230., 12012.,  3420., 10800.,  3420., 10800.])"
      ]
     },
     "execution_count": 79,
     "metadata": {},
     "output_type": "execute_result"
    }
   ],
   "source": [
    "# Gunslinger 2, Wave 1\n",
    "gs2_w1 = [0,0]\n",
    "gs2_w1[0] = nine_gs_dmg*90\n",
    "gs2_w1[1] = revol_gs_dmg*144\n",
    "gs2_dmg_w1 = sum(gs2_w1)\n",
    "\n",
    "team_w1_full = np.append(team_w1_full,gs2_w1)\n",
    "team_w1_full"
   ]
  },
  {
   "cell_type": "code",
   "execution_count": 80,
   "id": "2ea2b3c5",
   "metadata": {},
   "outputs": [
    {
     "data": {
      "text/plain": [
       "array([ 4230., 12012.,  3420., 10800.,  3420., 10800.,  4905., 16848.])"
      ]
     },
     "execution_count": 80,
     "metadata": {},
     "output_type": "execute_result"
    }
   ],
   "source": [
    "# Sharpshooter 1, Wave 1\n",
    "ss1_w1 = [0,0]\n",
    "ss1_w1[0] = nine_ss_dmg*109\n",
    "ss1_w1[1] = winch_ss_dmg*117\n",
    "ss1_dmg_w1 = sum(ss1_w1)\n",
    "\n",
    "team_w1_full = np.append(team_w1_full,ss1_w1)\n",
    "team_w1_full"
   ]
  },
  {
   "cell_type": "code",
   "execution_count": 81,
   "id": "84b4f590",
   "metadata": {},
   "outputs": [
    {
     "data": {
      "text/plain": [
       "array([ 4230., 12012.,  3420., 10800.,  3420., 10800.,  4905., 16848.,\n",
       "        4905., 16848.])"
      ]
     },
     "execution_count": 81,
     "metadata": {},
     "output_type": "execute_result"
    }
   ],
   "source": [
    "# Sharpshooter 2, Wave 1\n",
    "ss2_w1 = [0,0]\n",
    "ss2_w1[0] = nine_ss_dmg*109\n",
    "ss2_w1[1] = winch_ss_dmg*117\n",
    "ss2_dmg_w1 = sum(ss2_w1)\n",
    "\n",
    "team_w1_full = np.append(team_w1_full,ss2_w1)\n",
    "team_w1_full"
   ]
  },
  {
   "cell_type": "code",
   "execution_count": 82,
   "id": "d93a2a1c",
   "metadata": {},
   "outputs": [
    {
     "data": {
      "text/plain": [
       "88188.0"
      ]
     },
     "execution_count": 82,
     "metadata": {},
     "output_type": "execute_result"
    }
   ],
   "source": [
    "# Total Team Damage\n",
    "Max_Team_Damage_w1 = sum(team_w1_full)\n",
    "Max_Team_Damage_w1"
   ]
  },
  {
   "cell_type": "markdown",
   "id": "db822fce",
   "metadata": {},
   "source": [
    "#### 6f. Conclusion\n",
    "Through this process, we discover our team, if they had 100% accuracy at all times and the zeds didn't resist any damage, could deal an impressive **88,188** points of damage.\n",
    "\n",
    "However, players are not perfect aim bots, and even aim bots might find themselves baffled by ragdoll physics in KF2 while trying to reach perfect accuracy. So, we proceed onward in our calculations."
   ]
  },
  {
   "cell_type": "markdown",
   "id": "d7215a44",
   "metadata": {},
   "source": [
    "### 6g. Max Team Damage after Weapon Resistances"
   ]
  },
  {
   "cell_type": "code",
   "execution_count": 67,
   "id": "8791203b",
   "metadata": {},
   "outputs": [],
   "source": [
    "# Skipped for now to accomplish other things\n",
    "# Might roll this into 6f\n",
    "\n",
    "# 8. Find the Max Damage per Player for a given wave. \n",
    "# This is [damage for every available bullet in a weapon]*[weighted resistance value] + the same for all their other weapons."
   ]
  },
  {
   "cell_type": "code",
   "execution_count": 91,
   "id": "31ff0d77",
   "metadata": {},
   "outputs": [
    {
     "data": {
      "text/plain": [
       "array([ 4230., 12012.,  3420., 10800.,  3420., 10800.,  4905., 16848.,\n",
       "        4905., 16848.])"
      ]
     },
     "execution_count": 91,
     "metadata": {},
     "output_type": "execute_result"
    }
   ],
   "source": [
    "# This is the final array that will be spat out after the resistances.\n",
    "# So, I need this variable name for now\n",
    "\n",
    "team_w1_res = np.copy(team_w1_full)\n",
    "team_w1_res"
   ]
  },
  {
   "cell_type": "code",
   "execution_count": 90,
   "id": "66fad6e5",
   "metadata": {},
   "outputs": [
    {
     "data": {
      "text/plain": [
       "88188.0"
      ]
     },
     "execution_count": 90,
     "metadata": {},
     "output_type": "execute_result"
    }
   ],
   "source": [
    "Max_Team_Damage_w1_RES = sum(team_w1_res)\n",
    "Max_Team_Damage_w1_RES"
   ]
  },
  {
   "cell_type": "markdown",
   "id": "5a6821b7",
   "metadata": {},
   "source": [
    "### 6h. Max Team Damage after HSACC\n",
    "\n",
    "Now, we apply the headshot accuracies we found waaaaay back in 6a and 6b.\n",
    "We found dps_hsacc to be **51.025%** and mando_hsacc to be **17.82%**. Now, we need to modify our damage totals appropriately so we know how many shots players are actually going to land.\n",
    "\n",
    "At the end, we will also createan array with the percentage of the team's total damage that each weapon represents. This will be used to weight the ammunition expenditure from each weapon."
   ]
  },
  {
   "cell_type": "code",
   "execution_count": 84,
   "id": "76d19313",
   "metadata": {},
   "outputs": [
    {
     "data": {
      "text/plain": [
       "array([ 4230., 12012.,  3420., 10800.,  3420., 10800.,  4905., 16848.,\n",
       "        4905., 16848.])"
      ]
     },
     "execution_count": 84,
     "metadata": {},
     "output_type": "execute_result"
    }
   ],
   "source": [
    "team_w1_hsacc = np.copy(team_w1_res)\n",
    "team_w1_hsacc"
   ]
  },
  {
   "cell_type": "code",
   "execution_count": 85,
   "id": "a08dacb9",
   "metadata": {},
   "outputs": [
    {
     "data": {
      "text/plain": [
       "array([ 753.786  , 2140.5384 , 1745.055  , 5510.7    , 1745.055  ,\n",
       "       5510.7    , 2502.77625, 8596.692  , 2502.77625, 8596.692  ])"
      ]
     },
     "execution_count": 85,
     "metadata": {},
     "output_type": "execute_result"
    }
   ],
   "source": [
    "team_w1_hsacc[:2]*=mando_hsacc\n",
    "team_w1_hsacc[2:]*=dps_hsacc\n",
    "team_w1_hsacc"
   ]
  },
  {
   "cell_type": "code",
   "execution_count": 87,
   "id": "c902bfc1",
   "metadata": {
    "scrolled": true
   },
   "outputs": [
    {
     "data": {
      "text/plain": [
       "39604.770899999996"
      ]
     },
     "execution_count": 87,
     "metadata": {},
     "output_type": "execute_result"
    }
   ],
   "source": [
    "Max_Team_Damage_w1_HSACC = sum(team_w1_hsacc)\n",
    "Max_Team_Damage_w1_HSACC"
   ]
  },
  {
   "cell_type": "code",
   "execution_count": 72,
   "id": "0e2ace7e",
   "metadata": {},
   "outputs": [
    {
     "data": {
      "text/plain": [
       "array([0.01903271, 0.05404749, 0.04406174, 0.13914233, 0.04406174,\n",
       "       0.13914233, 0.06319381, 0.21706203, 0.06319381, 0.21706203])"
      ]
     },
     "execution_count": 72,
     "metadata": {},
     "output_type": "execute_result"
    }
   ],
   "source": [
    "# Percent of overall damage dealt by each weapon, used to weight ammo expenditure\n",
    "team_w1_hsacc_perc = team_w1_hsacc / sum(team_w1_hsacc)\n",
    "team_w1_hsacc_perc"
   ]
  },
  {
   "cell_type": "markdown",
   "id": "1d3b8210",
   "metadata": {},
   "source": [
    "#### 6h. Max Team Damage after HSACC Conclusion\n",
    "\n",
    "Now, we find that our team is expected to do a much more modest **39,605** points of damage, and we have percentages of that total that each weapon is expected to do."
   ]
  },
  {
   "cell_type": "markdown",
   "id": "4a111e59",
   "metadata": {},
   "source": [
    "### 6i. The Story So Far\n",
    "So, we've done a ton of math and I would not blame anyone for getting lost, so it's time for some visuals! The following bar plot displays, from left to right:\n",
    "1. NVM_v1's wave 10 adjusted zed head HP pool. \n",
    " - *nvm1_10_pool*\n",
    "2. The team's total possible damage if they were perfectly accurate. \n",
    " - *Max_Team_Damage_w1*\n",
    "3. The team's total possible damage if they were perfectly accurate but zed resistances were applied. \n",
    " - *Max_Team_Damage_w1_RES*\n",
    "4. The team's expected damage output after resistances and accuracy are accounted for. \n",
    " - *Max_Team_Damage_w1_HSACC*\n",
    "5. MB_v0a's wave 1 adjusted zed head HP pool, \n",
    " - *mb0a_wave1_pool*"
   ]
  },
  {
   "cell_type": "code",
   "execution_count": 100,
   "id": "29cc92e2",
   "metadata": {},
   "outputs": [
    {
     "data": {
      "text/plain": [
       "['NVM_v1 w10', 'Team Max', 'Resisted Max', 'HSACC Max', 'MB_v0a w1']"
      ]
     },
     "execution_count": 100,
     "metadata": {},
     "output_type": "execute_result"
    }
   ],
   "source": [
    "bar_labels_6i = ['NVM_v1 w10','Team Max', 'Resisted Max','HSACC Max','MB_v0a w1']\n",
    "bar_labels_6i"
   ]
  },
  {
   "cell_type": "code",
   "execution_count": 101,
   "id": "282e2292",
   "metadata": {},
   "outputs": [
    {
     "data": {
      "text/plain": [
       "[228058.37, 88188.0, 88188.0, 39604.770899999996, 22870.760000000002]"
      ]
     },
     "execution_count": 101,
     "metadata": {},
     "output_type": "execute_result"
    }
   ],
   "source": [
    "bar_6i_values = [nvm1_10_pool,Max_Team_Damage_w1,Max_Team_Damage_w1_RES,Max_Team_Damage_w1_HSACC,mb0a_wave1_pool]\n",
    "bar_6i_values"
   ]
  },
  {
   "cell_type": "code",
   "execution_count": 102,
   "id": "265ff09f",
   "metadata": {
    "scrolled": false
   },
   "outputs": [
    {
     "data": {
      "text/plain": [
       "<BarContainer object of 5 artists>"
      ]
     },
     "execution_count": 102,
     "metadata": {},
     "output_type": "execute_result"
    },
    {
     "data": {
      "image/png": "[encoded data removed]",
      "text/plain": [
       "<Figure size 640x480 with 1 Axes>"
      ]
     },
     "metadata": {},
     "output_type": "display_data"
    }
   ],
   "source": [
    "fig3, ax3 = plt.subplots()\n",
    "ax3.bar(bar_labels_6i,bar_6i_values,color=['black','purple','blue','green','red'])"
   ]
  },
  {
   "cell_type": "markdown",
   "id": "3f97418e",
   "metadata": {},
   "source": [
    "#### 6i. The Story So Far Conclusion\n",
    "So, we can see that we have enough damage to complete the first wave of mb_v0a available to the team, but none of our damage budgets are anywhere near the NVM_v1 wave 10 cutoff."
   ]
  },
  {
   "cell_type": "markdown",
   "id": "8c2be499",
   "metadata": {},
   "source": [
    "### 6j. Distributing the damage\n",
    "Now, we know how much damage the team is expected to deal, and roughly how much is expected to come from each of their weapons. Now, it's time to figure out how  many rounds we used and what we have left to us.\n",
    "\n",
    "First, we figure out how much damage the team did not need."
   ]
  },
  {
   "cell_type": "code",
   "execution_count": null,
   "id": "4a7d20a3",
   "metadata": {},
   "outputs": [],
   "source": []
  },
  {
   "cell_type": "markdown",
   "id": "89eb3e55",
   "metadata": {},
   "source": [
    "13.\tSubtract _Adjusted Zed Head Health Pool_ and _Expected Team Damage_.\n",
    "14.\t__**BAR PLOT**__ of _Max Damage for Team_ vs. _Expected Team Damage_ vs. _Adjusted Zed Head Health Pool_.\n",
    "15.\tUse the damage per perk data, either per wave or final in the matches, to create a _Damage Pool Weight_ that represents each perk’s expected contribution to the total damage. This helps account for target priority, where the mando in particular is firing at many low health targets and largely ignoring high health targets.\n",
    "16.\tDivide the spent damage among the players using the _Damage Pool Weight__ and their weapons to get _Damage Per Player-_ and spread across their weapons to get _Expected Ammunition Expenditure_. (This will weight 9mm higher than actual play. That is an acceptable tradeoff)\n",
    "17.\tIf a wave total wants too much damage from a player, such as a mando not having enough ammo to deal the expected damage, distribute the overflow among the other players equally.\n",
    "18.\tUse the _Damage per Player_ and their HSACC% to find their ammo expenditure\n",
    "19.\tFind the _Minimum Dosh Total_, which is the minimum amount of money the team can earn if every zed is killed with no teamwork.\n",
    "20.\tDivide the _Minimum Dosh Total_ among the players. Buy, fill, sell, & upgrade weapons from the model build orders.\n",
    "21.\tUse any leftover money from players to buy ammo, freeze grenades, & upgrades for other players (this will have to be by hand. Writing an optimization algorithm to maximize team damage output is beyond my current skills).\n",
    "22.\tUse any leftover money to buy grenades for non-sharpshooters\n",
    "23.\tSave any remaining money for future use\n",
    "24.\tRepeat with next wave\n",
    "25.\t_**LINE PLOT**_ of team money per wave.\n",
    "26.\tConglomerate _**LINE PLOT**_ of team money per wave for different cycles.\n",
    "27.\tWhen _Expected Team Damage Pool_ is greater than _NVM_v1 w10 Adjusted Head Health Pool_, cut the model off. Players, if they play well, can deal with basically any number of zeds in waves after this point. It is the \"Git Gud\" Threshold."
   ]
  }
 ],
 "metadata": {
  "kernelspec": {
   "display_name": "Python 3 (ipykernel)",
   "language": "python",
   "name": "python3"
  },
  "language_info": {
   "codemirror_mode": {
    "name": "ipython",
    "version": 3
   },
   "file_extension": ".py",
   "mimetype": "text/x-python",
   "name": "python",
   "nbconvert_exporter": "python",
   "pygments_lexer": "ipython3",
   "version": "3.9.18"
  }
 },
 "nbformat": 4,
 "nbformat_minor": 5
}
