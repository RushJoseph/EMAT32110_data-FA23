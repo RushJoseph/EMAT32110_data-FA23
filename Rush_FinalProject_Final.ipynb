{
 "cells": [
  {
   "cell_type": "markdown",
   "id": "fe067046",
   "metadata": {},
   "source": [
    "# Pushing the Limit in Controlled Difficulty\n",
    "## Finding the hardest settings the Killing Floor 2 economy allows\n",
    "#### Joseph Rush\n",
    "\n",
    "## 1. Introduction\n",
    "\n",
    "Killing Floor 2 (KF2) is a team-based first-person shooter released in 2015. In the game, a team of players has to defeat successive waves of enemies, referred to as \"Zeds.\" As time has gone on, players have found the game's hardest difficulty, Hell on Earth, not to be challenging enough and too random, and they have sought to find their own solutions through creating mods for the game. One of the solutions, and possibly the most popular, is Controlled Difficulty (CD), originally created by **Blackout** and since iterated on by other modders.\n",
    "\n",
    "As the name suggests, Controlled Difficulty allows players to control the game's difficulty through a variety of factors, such as how often enemies are spawned, how many enemies can be on the map at one time, how the collision between enemies is treated, and more. One of the biggest ways difficulty is tweaked is by manipulating which enemies spawn in what order. This is known as creating a \"spawn cycle,\" which is essentially a list of enemies that the game runs through in a set order.\n",
    "\n",
    "The way that spawning works varies by a multitude of factors that introduce randomness into play--which gives CD its infinite replayability--but the essential point for this inquiry is that the number and types of enemies that will spawn can be known beforehand. Players are also rewarded with a set amount of money from defeating a given enemy. A \"cyst\" gives 7 dosh (unit of in-game currency) on kill, a \"gorefast\" gives 12, etc. Then, at the end of the round, the game provides bonus money to each player who is still alive based on how much money they earned during the round.\n",
    "\n",
    "This means that the minimum income for the team can be known by looking at the enemies in a spawn cycle and the reward on kill for each enemy. From there, a designer can extrapolate to what weapons a team a team might buy, and therefore how much firepower the team will have access to on the next wave. There are more than a hundred weapons in Killing Floor 2 between the core game and the DLCs, so this inquiry will be limiting the list quite severely. There are also many perks (classes) available to players. I will be limiting these quite severely, as well. These are limits I need to put into place to keep the model under control.\n",
    "\n",
    "**(This paragraph is game minutiae and can be skipped if you don't care about the fiddly intricacies of my modeling decisions.)** Things that would particularly break all but the most complicated models include the fact that the berserker perk, being based in melee weapons, has a theoretically infinite amoung of damage it can deal, and a firebug or SWAT, with their infinite ammunition in Zed Time (the slow motion that occurs periodically throughout the game), are a nightmare to calculate for.\n",
    "\n",
    "Another known value is the head health of each enemy. The body of the enemy and the head are treated as two different areas for incoming damage. (The reality is more complicated than that, but that is everything one needs to know to understand the model, and I'm not taking any shortcuts that would effect accuracy in this regard.) I will specifically be examining headshots, as modeling body damage and perks focused on body damage is extremely complicated to the point of intractability, and could only be analyzed post facto from a large data set.\n",
    "\n",
    "Similarly, if a designer knows roughly how accurate players are, they can tune even more precisely by knowing how many headshots a team will hit, and therefore how much damage a team can actually deal with a given amount of ammunition.\n",
    "\n",
    "This model is a stepping-stone to answering interesting and complex questions about difficulty in the game. Being able to model per-wave damage and ammo expenditure is the first step to completing a full investigation of early game difficulty. In particular, this iteration seeks to examine the question of how difficult a recently produced cycle, mb_v0a, is. It's wave 1 is meant to be quite challenging, but if a team plays optimally, how much more room is there to increase difficulty without creating impossible conditions for play?"
   ]
  },
  {
   "cell_type": "markdown",
   "id": "10d250ac",
   "metadata": {},
   "source": [
    "# 2. Assumptions\n",
    "- **Precision meta team**: 1 commando, 2 gunslingers, 2 sharpshooters, as well as 1 medic. There are many possible combinations of perks, but I am choosing to examine the high level precision composition here, as it has an outsized impact on cycle design and popularity, since the majority of the player base uses this team composition. They are also the simplest to model.\n",
    "- **Meta weapons loadouts**. Through collaboration with other players, I've come up with the following weapons for each perk:\n",
    " - 9mm, Dual 1858, SPX(+2), dual deagles, and single AF for gunslinger\n",
    " - 9mm, Winchester, EBR(+1), SPX(+2) for sharpshooter\n",
    " - 9mm, AR15, Bullpup, SCAR, FN FAL for commando\n",
    "- **Unmodded weapons**. I will not be running the numbers for any of the variant weapon packs in use by different communities. Those are an inquiry that would be very interesting to examine in the future, but they are outside the scope of the current examination.\n",
    "- **Damage Modeled according to certain skills**. Different perks have many different skills available to them, and there's a lot of choices available. I will be using some of the most common combinations, documented below.\n",
    " - **Always 5 REU**. There is an ability on sharpshooters and gunslingers called \"Rack 'Em Up.\" It awards extra damage for hitting multiple headshots in a row, up to 5, and decays after 2 seconds of not hitting any headshots. I am choosing to always keep this at its highest value. It isn’t quite accurate to real play, particularly for players with lower accuracy or playing parts of the map where they don’t have a constant flow of enemies to shoot, but it’s close enough to reality for this model. A more complicated and thorough model could look at shots fired per wave and real wave durations and perhaps model REU based on how many 2 second intervals go by without any headshots expected to be hit \n",
    "- Sharpshooters use 4 freeze grenades each in every wave. This is very realistic to actual play in the early waves I am examining. If anything, they tend to use fewer. \n",
    "- **All players only fill their SPX to 80 rounds**. This prevents me from having to juggle individual weapon limits for different players.\n",
    "- **All zeds are killed by players**. This ignores the ways that different zeds can cause friendly fire to one another, but there's no way outside of some insane and fraught data-crunching to begin to estimate how many zeds die to friendly fire, and there will be huge variance by map. In addition, I would not trust any such data, because getting usable statistics out of Killing Floor 2 is such a fraught activity. The base game simply isn't designed to gather all but the most basic stats in the first place, and there are limits to what can be done on the scripting side that the mods work with. In addition, not *that* many zeds die this way when you look at total zeds spawned vs. total zeds killed by players, so I feel safe disregarding it here.\n",
    "- **Medics**: Earn money basically equivalent to the values I have available from the tournament. Their income tends not to vary as heavily as other perks since they make their money off healing their allies, not off the enemy.\n",
    "- **No one dies**. Interestingly, the team only loses assist money from joint takedowns in the case of a player dying--the wave end bonus doesn't change. That said, players dying is messy and would add complexity to the model that doesn't need to be there.\n",
    "\n",
    "### Note: Perk skill notation\n",
    "\n",
    "Each perk has a 10 skill choices, arranged into 5 tiers of 2 choices. The choices are mutually exclusive. A common notation for this is to say which side, left or right, the player is choosing, resulting in notation like RLLLR. This indicate the right side skill for the first tier, the left side skill for the second tier, and so on. It would be a waste of space to ennumerate every skill here, so I'm refraining from doing so. The following only notes the skills that affect the calculations in this analysis.\n",
    "\n",
    "#### Commando Skill & Weapons\n",
    "- Class damage bonus\n",
    " - +25% perk weapon damage\n",
    "- Skills are RLLLR until they buy their SCAR. The following skills affect damage:\n",
    " - Fallback: Increase damage with your 9mm pistol/HRG 93R and knife 85%; increase weapon switching speed 50%.\n",
    " - Hollow Point Rounds: Increase damage of perk weapons 30%\n",
    "- RLLRR after they buy their SCAR. The following skills affect damage:\n",
    " - Fallback: Increase damage with your 9mm pistol/HRG 93R and knife 85%, and increase weapon switching speed 50%.\n",
    " \n",
    "1. AR15 & 9mm\n",
    "2. Bullpup, AR15, & 9mm\n",
    "3. SCAR, Bullpup, & 9mm\n",
    "4. SCAR, FN FAL, & 9mm\n",
    "5. Add Spare SCAR\n",
    "6. Add Spare FAL\n",
    "7. Add 9mm upgrade(s)\n",
    "8. Add spare FAL\n",
    " \n",
    "#### Gunslinger Skills & Weapons\n",
    "- Class damage bonus\n",
    " - +25% perk weapon damage\n",
    "- RLRLR skills for all waves. The following skill affects damage:\n",
    " - Rack ‘em Up: Consecutive headshots with perk weapons increases damage 10%, to a maximum of 50%\n",
    " \n",
    "1. 1858s & 9mm\n",
    "2. SPX, 1858s (rebought), & 9mm\n",
    "3. Dual deags, SPX, 1858s (rebought), & 9mm\n",
    "4. Dual deags, SPX+2, & 9mm\n",
    "5. Add spare deag\n",
    "6. Add single AF\n",
    "7. Add spare deag\n",
    "8. Add spare SPX+2\n",
    " \n",
    "#### Sharpshooter Skills and Weapons\n",
    "- Class base\n",
    " - +25% headshot damage\n",
    "- RLLRR skills for all waves. The following skills affect damage:\n",
    " - Stability: +30% damage\n",
    " - Rack ‘em Up: Consecutive headshots with perk weapons increases damage 10%, to a maximum of 50%\n",
    "\n",
    "1. Winchester & 9mm\n",
    "2. EBR, Winchester, & 9mm; 6 freezes\n",
    "3. EBR, EBR, Winchester, & 9mm; 6 freezes\n",
    "4. EBR+1, EBR+1, Winchester, & 9mm; 6 freezes\n",
    "5. SPX+2, EBR+1, EBR+1, 9mm; 6 freezes\n",
    "6. Add EBR+1\n",
    "7. Add SPX+2\n",
    "8. Add EBR+1"
   ]
  },
  {
   "cell_type": "markdown",
   "id": "28c17c7f",
   "metadata": {},
   "source": [
    "## 3. Tradeoffs:\n",
    "\n",
    "Killing Floor 2 is a ridiculously complicated game under the hood, produced by dozens or hundreds of developers across multiple years. As mentioned above, I have to impose reasonable limits on this model to control complexity and scope creep as well as work within my programming abilities. For these reasons, the following represent places where more detail is possible, but I'm not going down the rabbit hole.\n",
    "1.\t**Headshot damage only**. It is often reasonable to kill the weak enemies in-game with body shots. Hit zone data does exist for zed kills via the extensive data-tracking on Tamari's servers, but it does not account for prior shots or, in the case of larges, for decapitations before the body was killed. A fleshpound cannot be assumed to have been killed with body shots when it was actually decapitated first and then shot in the chest for the quadruple damage multiplier on its decapitated body that is commonly used in play. Additionally, precision play emphasizes headshots, as they are most effective, and for the sake of not expanding the model into intractably unknowable territory, only headshots will be applied to zeds.\n",
    "2.\t**I am ignoring overkill and penetration damage**. This is perhaps the most distorting tradeoff. Overkill damage is when, for instance, a zed with 20 head HP is hit by a gun that does 130 damage, causing 110 damage to disappear into the void. Penetration damage is when certain weapons are able to fire through multiple enemies, which effectively adds damage from the void. They probably do not equal one another in practical play, and it would be possible for a better programmer than I to be modeling every kill by individual bullets and breakpoints, but that's an enormously complicated algorithm to even create, much less debug. If that's within your programming capabilities and you're reading this, hit me up.\n",
    "3. **The impact of weapon penetration on accuracy values is ignored**. When your weapon goes through two zeds, it counts as two hits for only one shot fired. This is an inevitable and impossible to calculate part of play in the game, and I am choosing to ignore its impact. I consider it to be helping to offset the way I am disregarding overkill, as noted above.\n",
    "4.\t**Zed damage resistance is weighted by the raw statistic**. Weighting for zed damage resistances would be best derived from actual wave by wave kills per perk per cycle, but that’s beyond the scope of the easily accessible data.\n",
    "5.\t**The model does not currently account for target prioritization**. Without diverting too far into the nit and grit of play, some weapons and perks are better off spending their time shooting some enemies than others. An even more accurate model would weight damage distributions accordingly, but that is another significant addition in complexity.\n",
    "6.\t**My ability to account for shared money is limited**. In the game, if you do even one point of damage to an enemy you get its full dosh reward when it dies, because there's no good way to determine how significant your contribution was. What accounting I do have for this is rough guesstimation based on experience, rather than anything solid.\n",
    "7.\t**Grenade damage for commando & gunslinger is not included in the model**. The way the game models grenades is complicated. There's falloff by distance, projectiles, etc. I assume that grenades are used for the purposes of spending the model players' money, but they're not being applied as damage.\n",
    "8.\t**The Dead-Eye skill is ignored for sharpshooter**. This skill adds damage when a sharpshooter aims down sights (uses their scope/iron sights.) Its impact is unreliable and usually extremely minimal, since it depends on individual playstyles, maps, and situations, so I'm ignoring it entirely.\n",
    "9.\t**The assumption that all zeds are killed by players is somewhat inaccurate to real games**. This was addressed above under \"all zeds are killed by players,\" but bears repeating here.\n",
    "10. **Medic buffs are disregarded**. Medics can cause players to deal additional damage, up to 20% per shot. The in-game usage of this is incredibly complicated and varies from medic to medic and weapon to weapon, even day to day and wave to wave by factors like how much caffeine the player had or how much sleep they got the night before. There are no good stats available on buffs applied by medics and no way to acquire them outside of scraping hundreds or thousands of hours of recorded game footage on YouTube and noting hundreds upon hundreds of timestamps per game then modeling games individually over time played instead of just by wave, so I am simply regarding this as another factor working against damage lost to overkill and calling it a day. I do, eventually, want to see the sun again.\n",
    "11. **Tournament accuracy data is not perfectly comparable to general play**. The ruleset in the tournament encouraged playing maps in strange, difficult places for speed, rather than staying in more traditional and safer locations where targets are easier to hit. This means that accuracy in the tournament dataset tends to be lower than what is seen in Tamari's community during more standard play."
   ]
  },
  {
   "cell_type": "markdown",
   "id": "2cbf2406",
   "metadata": {},
   "source": [
    "## 4. The Data\n",
    "\n",
    "This data was gathered from two primary places:\n",
    "1. The data from Tamari's recent community tournament\n",
    "2. The spreadsheet maintained by a currently active EU static team that plays Nightcore zeds.\n",
    "A quick divergence to import necessary libraries:"
   ]
  },
  {
   "cell_type": "code",
   "execution_count": 5,
   "id": "2b98bb22",
   "metadata": {},
   "outputs": [],
   "source": [
    "import pandas as pd\n",
    "import numpy as np\n",
    "from scipy import stats\n",
    "from matplotlib import pyplot as plt"
   ]
  },
  {
   "cell_type": "markdown",
   "id": "c9fb2c63",
   "metadata": {},
   "source": [
    "#### 4a. Gunslinger & Sharpshooter Accuracy & Headshot Accuracy\n",
    "These values have been cleaned for data-distortions from AF2011s (a weapon that counts as one shot fired but 2 shots hit, which massively inflates accuracy statistics) by simply discarding any player who did a significant amount of damage with that weapon (above about 40,000 points of damage.) A notable exception to this is the data from the EU group, whose server uses a calculation to deal with the distortion from AFs that has proven quite reliable in practice, so I feel comfortable just taking their statistics at face value.\n",
    "\n",
    "Additionally, the damage dealt by the player, the team's overall damage, and the % of the team damage dealt by that player (for use in weighting certain calculations down the line) are included in this table.\n",
    "\n",
    "The first column, ACC, indicates the percentage of shots fired that impacted a zed.\n",
    "\n",
    "The second column, HSACC (hits), indicates the percentage of shots that *both* hit a zed and were headshots.\n",
    "\n",
    "The third column, HSACC (shots), is a derived statistic from multiplying the other two. It shows the percentage of shots fired that were headshots. For a semi-automatic gun, this is your percentage of clicks that hit a zed in the head."
   ]
  },
  {
   "cell_type": "code",
   "execution_count": 6,
   "id": "c47c1c44",
   "metadata": {
    "scrolled": true
   },
   "outputs": [
    {
     "data": {
      "text/html": [
       "<div>\n",
       "<style scoped>\n",
       "    .dataframe tbody tr th:only-of-type {\n",
       "        vertical-align: middle;\n",
       "    }\n",
       "\n",
       "    .dataframe tbody tr th {\n",
       "        vertical-align: top;\n",
       "    }\n",
       "\n",
       "    .dataframe thead th {\n",
       "        text-align: right;\n",
       "    }\n",
       "</style>\n",
       "<table border=\"1\" class=\"dataframe\">\n",
       "  <thead>\n",
       "    <tr style=\"text-align: right;\">\n",
       "      <th></th>\n",
       "      <th>ACC</th>\n",
       "      <th>HSACC (Hits)</th>\n",
       "      <th>HSACC (Shots)</th>\n",
       "      <th>DD</th>\n",
       "      <th>Team DD</th>\n",
       "      <th>% of DD</th>\n",
       "    </tr>\n",
       "  </thead>\n",
       "  <tbody>\n",
       "    <tr>\n",
       "      <th>0</th>\n",
       "      <td>68.790538</td>\n",
       "      <td>49.639490</td>\n",
       "      <td>34.147272</td>\n",
       "      <td>365402</td>\n",
       "      <td>1449721</td>\n",
       "      <td>0.252050</td>\n",
       "    </tr>\n",
       "    <tr>\n",
       "      <th>1</th>\n",
       "      <td>67.096135</td>\n",
       "      <td>37.444609</td>\n",
       "      <td>25.123885</td>\n",
       "      <td>300911</td>\n",
       "      <td>1449721</td>\n",
       "      <td>0.207565</td>\n",
       "    </tr>\n",
       "  </tbody>\n",
       "</table>\n",
       "</div>"
      ],
      "text/plain": [
       "         ACC  HSACC (Hits)  HSACC (Shots)      DD  Team DD   % of DD\n",
       "0  68.790538     49.639490      34.147272  365402  1449721  0.252050\n",
       "1  67.096135     37.444609      25.123885  300911  1449721  0.207565"
      ]
     },
     "execution_count": 6,
     "metadata": {},
     "output_type": "execute_result"
    }
   ],
   "source": [
    "# Two-dimensional table, no nested layers. \n",
    "# 2 example rows displayed of the 184 in the dataset.\n",
    "\n",
    "\n",
    "dps_acc = pd.read_csv('E:\\College\\FinalProjectData\\GS&SS_acc.csv')\n",
    "dps_acc_df = pd.DataFrame(data=dps_acc)\n",
    "dps_acc_df.head(2)"
   ]
  },
  {
   "cell_type": "markdown",
   "id": "2fee3c10",
   "metadata": {},
   "source": [
    "#### 4b. Commando Accuracy & Headshot Accuracy\n",
    "Accuracy and headshot accuracy values for commando players. Drawn from the recent tournament hosted by Tamari as well as the closed EU group. No cleaning was required for this data.\n",
    "\n",
    "Commando accuracy is treated separately because their weapons and playstyle differ significantly. They use automatic weapons rather than semi-automatic, meaning that they miss more, and during certain play situations it is more advantageous for them to fire many shots to secure the kill than to be stingy with their ammunition. So, their statistics trend much lower than sharpshooters or gunslingers."
   ]
  },
  {
   "cell_type": "code",
   "execution_count": 7,
   "id": "562b83a2",
   "metadata": {},
   "outputs": [
    {
     "data": {
      "text/html": [
       "<div>\n",
       "<style scoped>\n",
       "    .dataframe tbody tr th:only-of-type {\n",
       "        vertical-align: middle;\n",
       "    }\n",
       "\n",
       "    .dataframe tbody tr th {\n",
       "        vertical-align: top;\n",
       "    }\n",
       "\n",
       "    .dataframe thead th {\n",
       "        text-align: right;\n",
       "    }\n",
       "</style>\n",
       "<table border=\"1\" class=\"dataframe\">\n",
       "  <thead>\n",
       "    <tr style=\"text-align: right;\">\n",
       "      <th></th>\n",
       "      <th>ACC</th>\n",
       "      <th>HSACC (Hits)</th>\n",
       "      <th>HSACC (Shots)</th>\n",
       "      <th>DD</th>\n",
       "      <th>Team DD</th>\n",
       "      <th>% of DD</th>\n",
       "    </tr>\n",
       "  </thead>\n",
       "  <tbody>\n",
       "    <tr>\n",
       "      <th>0</th>\n",
       "      <td>57.98684</td>\n",
       "      <td>33.196523</td>\n",
       "      <td>19.249615</td>\n",
       "      <td>282885</td>\n",
       "      <td>1449721</td>\n",
       "      <td>0.195131</td>\n",
       "    </tr>\n",
       "    <tr>\n",
       "      <th>1</th>\n",
       "      <td>64.20765</td>\n",
       "      <td>37.624113</td>\n",
       "      <td>24.157559</td>\n",
       "      <td>267287</td>\n",
       "      <td>1223218</td>\n",
       "      <td>0.218511</td>\n",
       "    </tr>\n",
       "  </tbody>\n",
       "</table>\n",
       "</div>"
      ],
      "text/plain": [
       "        ACC  HSACC (Hits)  HSACC (Shots)      DD  Team DD   % of DD\n",
       "0  57.98684     33.196523      19.249615  282885  1449721  0.195131\n",
       "1  64.20765     37.624113      24.157559  267287  1223218  0.218511"
      ]
     },
     "execution_count": 7,
     "metadata": {},
     "output_type": "execute_result"
    }
   ],
   "source": [
    "# Two-dimensional table, no nested layers. \n",
    "# 2 example rows displayed of the 61 in the dataset.\n",
    "\n",
    "mando_acc = pd.read_csv('E:\\College\\FinalProjectData\\mando_acc.csv')\n",
    "mando_acc_df = pd.DataFrame(data=mando_acc)\n",
    "mando_acc_df.head(2)"
   ]
  },
  {
   "cell_type": "markdown",
   "id": "180c5177",
   "metadata": {},
   "source": [
    "#### 4c. Zed Populations\n",
    "For a given cycle, how many of each enemy type are spawned in a given wave. In particular, I will be using my mb_v0a cycle that is currently under development, as it seeks to explore the exact question of how far the economy can be pushed before the team breaks. On these tables, row 0 is wave 1, row 1 is wave 2, and so on. These are *not* the order the enemies spawn in, just the number of them who have existed by the end of the wave."
   ]
  },
  {
   "cell_type": "code",
   "execution_count": 8,
   "id": "c6e24d90",
   "metadata": {},
   "outputs": [
    {
     "data": {
      "text/html": [
       "<div>\n",
       "<style scoped>\n",
       "    .dataframe tbody tr th:only-of-type {\n",
       "        vertical-align: middle;\n",
       "    }\n",
       "\n",
       "    .dataframe tbody tr th {\n",
       "        vertical-align: top;\n",
       "    }\n",
       "\n",
       "    .dataframe thead th {\n",
       "        text-align: right;\n",
       "    }\n",
       "</style>\n",
       "<table border=\"1\" class=\"dataframe\">\n",
       "  <thead>\n",
       "    <tr style=\"text-align: right;\">\n",
       "      <th></th>\n",
       "      <th>Cyst</th>\n",
       "      <th>Alpha Clot</th>\n",
       "      <th>Slasher</th>\n",
       "      <th>Rioter</th>\n",
       "      <th>Gorefast</th>\n",
       "      <th>Gorefiend</th>\n",
       "      <th>Crawler</th>\n",
       "      <th>Stalker</th>\n",
       "      <th>Bloat</th>\n",
       "      <th>Husk</th>\n",
       "      <th>Siren</th>\n",
       "      <th>Scrake</th>\n",
       "      <th>Quarterpound</th>\n",
       "      <th>Fleshpound</th>\n",
       "    </tr>\n",
       "  </thead>\n",
       "  <tbody>\n",
       "    <tr>\n",
       "      <th>0</th>\n",
       "      <td>26</td>\n",
       "      <td>26</td>\n",
       "      <td>26</td>\n",
       "      <td>20</td>\n",
       "      <td>28</td>\n",
       "      <td>20</td>\n",
       "      <td>28</td>\n",
       "      <td>26</td>\n",
       "      <td>14</td>\n",
       "      <td>10</td>\n",
       "      <td>14</td>\n",
       "      <td>4</td>\n",
       "      <td>0</td>\n",
       "      <td>2</td>\n",
       "    </tr>\n",
       "    <tr>\n",
       "      <th>1</th>\n",
       "      <td>22</td>\n",
       "      <td>24</td>\n",
       "      <td>24</td>\n",
       "      <td>14</td>\n",
       "      <td>32</td>\n",
       "      <td>24</td>\n",
       "      <td>30</td>\n",
       "      <td>28</td>\n",
       "      <td>16</td>\n",
       "      <td>14</td>\n",
       "      <td>16</td>\n",
       "      <td>16</td>\n",
       "      <td>0</td>\n",
       "      <td>14</td>\n",
       "    </tr>\n",
       "  </tbody>\n",
       "</table>\n",
       "</div>"
      ],
      "text/plain": [
       "   Cyst  Alpha Clot  Slasher  Rioter  Gorefast  Gorefiend  Crawler  Stalker  \\\n",
       "0    26          26       26      20        28         20       28       26   \n",
       "1    22          24       24      14        32         24       30       28   \n",
       "\n",
       "   Bloat  Husk  Siren  Scrake  Quarterpound  Fleshpound  \n",
       "0     14    10     14       4             0           2  \n",
       "1     16    14     16      16             0          14  "
      ]
     },
     "execution_count": 8,
     "metadata": {},
     "output_type": "execute_result"
    }
   ],
   "source": [
    "# Two-dimensional tables, no nested layers. \n",
    "# Gathered by analyzing the text files loaded into the Controlled Difficulty Mod. \n",
    "# I used Tamari's SpawnCycler program for that analysis. \n",
    "# 2 example rows displayed.\n",
    "\n",
    "bl2_spawns = pd.read_csv('E:\\College\\FinalProjectData\\populations-bl_v2.csv')\n",
    "nt2_spawns = pd.read_csv('E:\\College\\FinalProjectData\\populations-nt_v2.csv')\n",
    "osffi1_spawns = pd.read_csv('E:\\College\\FinalProjectData\\populations-osffi_v1.csv')\n",
    "apm2_spawns = pd.read_csv('E:\\College\\FinalProjectData\\populations-apm_v2.csv')\n",
    "mig2_spawns = pd.read_csv('E:\\College\\FinalProjectData\\populations-ts_mig_v2.csv')\n",
    "doom2pr_spawns = pd.read_csv('E:\\College\\FinalProjectData\\populations-doom_v2_plus_rmk.csv')\n",
    "mig3_spawns = pd.read_csv('E:\\College\\FinalProjectData\\populations-ts_mig_v3.csv')\n",
    "mb0a_spawns = pd.read_csv('E:\\College\\FinalProjectData\\populations-mb_v0a.csv')\n",
    "nvm1_spawns = pd.read_csv('E:\\College\\FinalProjectData\\populations-nvm_v1.csv')\n",
    "nvm1_df = mb0a_df = pd.DataFrame(data=nvm1_spawns)\n",
    "mb0a_df = pd.DataFrame(data=mb0a_spawns)\n",
    "mb0a_df.head(2)"
   ]
  },
  {
   "cell_type": "markdown",
   "id": "63c818f6",
   "metadata": {},
   "source": [
    "#### 4d. Zed Stats\n",
    "Head health, headshot multiplier, & damage resistances (handgun, rifle, & assault rifle) for each zed type.\n",
    "\n",
    "This table itself isn't actually used, instead values are derived from it are placed in related dataframes, but it's here for reader reference."
   ]
  },
  {
   "cell_type": "code",
   "execution_count": 9,
   "id": "4a631bc9",
   "metadata": {},
   "outputs": [
    {
     "data": {
      "text/html": [
       "<div>\n",
       "<style scoped>\n",
       "    .dataframe tbody tr th:only-of-type {\n",
       "        vertical-align: middle;\n",
       "    }\n",
       "\n",
       "    .dataframe tbody tr th {\n",
       "        vertical-align: top;\n",
       "    }\n",
       "\n",
       "    .dataframe thead th {\n",
       "        text-align: right;\n",
       "    }\n",
       "</style>\n",
       "<table border=\"1\" class=\"dataframe\">\n",
       "  <thead>\n",
       "    <tr style=\"text-align: right;\">\n",
       "      <th></th>\n",
       "      <th>Category</th>\n",
       "      <th>Cyst</th>\n",
       "      <th>Alpha Clot</th>\n",
       "      <th>Slasher</th>\n",
       "      <th>Rioter</th>\n",
       "      <th>Gorefast</th>\n",
       "      <th>Gorefiend</th>\n",
       "      <th>Crawler</th>\n",
       "      <th>Stalker</th>\n",
       "      <th>Bloat</th>\n",
       "      <th>Husk</th>\n",
       "      <th>Siren</th>\n",
       "      <th>Scrake</th>\n",
       "      <th>Quarterpound</th>\n",
       "      <th>Fleshpound</th>\n",
       "    </tr>\n",
       "  </thead>\n",
       "  <tbody>\n",
       "    <tr>\n",
       "      <th>0</th>\n",
       "      <td>Head Health</td>\n",
       "      <td>20.000000</td>\n",
       "      <td>20.000000</td>\n",
       "      <td>20.000000</td>\n",
       "      <td>125.000000</td>\n",
       "      <td>50.000000</td>\n",
       "      <td>150.000000</td>\n",
       "      <td>20.000000</td>\n",
       "      <td>20.00000</td>\n",
       "      <td>82.000000</td>\n",
       "      <td>220.000000</td>\n",
       "      <td>155.000000</td>\n",
       "      <td>1584.000000</td>\n",
       "      <td>1228.000000</td>\n",
       "      <td>1716.000000</td>\n",
       "    </tr>\n",
       "    <tr>\n",
       "      <th>1</th>\n",
       "      <td>Headshot Multiplier</td>\n",
       "      <td>1.100000</td>\n",
       "      <td>1.100000</td>\n",
       "      <td>1.100000</td>\n",
       "      <td>1.100000</td>\n",
       "      <td>1.100000</td>\n",
       "      <td>1.100000</td>\n",
       "      <td>1.100000</td>\n",
       "      <td>1.10000</td>\n",
       "      <td>1.000100</td>\n",
       "      <td>1.001000</td>\n",
       "      <td>1.100000</td>\n",
       "      <td>1.100000</td>\n",
       "      <td>1.100000</td>\n",
       "      <td>1.100000</td>\n",
       "    </tr>\n",
       "    <tr>\n",
       "      <th>2</th>\n",
       "      <td>Adjusted Head Health</td>\n",
       "      <td>18.180000</td>\n",
       "      <td>18.180000</td>\n",
       "      <td>18.180000</td>\n",
       "      <td>113.640000</td>\n",
       "      <td>45.450000</td>\n",
       "      <td>136.360000</td>\n",
       "      <td>18.180000</td>\n",
       "      <td>18.18000</td>\n",
       "      <td>81.990000</td>\n",
       "      <td>219.780000</td>\n",
       "      <td>140.910000</td>\n",
       "      <td>1440.000000</td>\n",
       "      <td>1116.360000</td>\n",
       "      <td>1560.000000</td>\n",
       "    </tr>\n",
       "    <tr>\n",
       "      <th>3</th>\n",
       "      <td>Dosh reward</td>\n",
       "      <td>7.000000</td>\n",
       "      <td>7.000000</td>\n",
       "      <td>7.000000</td>\n",
       "      <td>7.000000</td>\n",
       "      <td>12.000000</td>\n",
       "      <td>12.000000</td>\n",
       "      <td>10.000000</td>\n",
       "      <td>15.00000</td>\n",
       "      <td>17.000000</td>\n",
       "      <td>17.000000</td>\n",
       "      <td>25.000000</td>\n",
       "      <td>75.000000</td>\n",
       "      <td>75.000000</td>\n",
       "      <td>200.000000</td>\n",
       "    </tr>\n",
       "    <tr>\n",
       "      <th>4</th>\n",
       "      <td>Dosh HP</td>\n",
       "      <td>100.000000</td>\n",
       "      <td>100.000000</td>\n",
       "      <td>100.000000</td>\n",
       "      <td>300.000000</td>\n",
       "      <td>200.000000</td>\n",
       "      <td>200.000000</td>\n",
       "      <td>55.000000</td>\n",
       "      <td>75.00000</td>\n",
       "      <td>257.000000</td>\n",
       "      <td>600.000000</td>\n",
       "      <td>230.000000</td>\n",
       "      <td>3569.000000</td>\n",
       "      <td>1724.000000</td>\n",
       "      <td>4608.000000</td>\n",
       "    </tr>\n",
       "    <tr>\n",
       "      <th>5</th>\n",
       "      <td>Dosh Step1</td>\n",
       "      <td>8.153600</td>\n",
       "      <td>8.153600</td>\n",
       "      <td>8.153600</td>\n",
       "      <td>8.153600</td>\n",
       "      <td>13.977600</td>\n",
       "      <td>13.977600</td>\n",
       "      <td>11.648000</td>\n",
       "      <td>17.47200</td>\n",
       "      <td>19.801600</td>\n",
       "      <td>19.801600</td>\n",
       "      <td>29.120000</td>\n",
       "      <td>87.360000</td>\n",
       "      <td>87.360000</td>\n",
       "      <td>232.960000</td>\n",
       "    </tr>\n",
       "    <tr>\n",
       "      <th>6</th>\n",
       "      <td>Dosh Step2</td>\n",
       "      <td>0.081536</td>\n",
       "      <td>0.081536</td>\n",
       "      <td>0.081536</td>\n",
       "      <td>0.027179</td>\n",
       "      <td>0.069888</td>\n",
       "      <td>0.069888</td>\n",
       "      <td>0.211782</td>\n",
       "      <td>0.23296</td>\n",
       "      <td>0.077049</td>\n",
       "      <td>0.033003</td>\n",
       "      <td>0.126609</td>\n",
       "      <td>0.024477</td>\n",
       "      <td>0.050673</td>\n",
       "      <td>0.050556</td>\n",
       "    </tr>\n",
       "    <tr>\n",
       "      <th>7</th>\n",
       "      <td>Dosh Step3</td>\n",
       "      <td>8.000000</td>\n",
       "      <td>8.000000</td>\n",
       "      <td>8.000000</td>\n",
       "      <td>8.000000</td>\n",
       "      <td>14.000000</td>\n",
       "      <td>14.000000</td>\n",
       "      <td>12.000000</td>\n",
       "      <td>17.00000</td>\n",
       "      <td>20.000000</td>\n",
       "      <td>20.000000</td>\n",
       "      <td>29.000000</td>\n",
       "      <td>87.000000</td>\n",
       "      <td>87.000000</td>\n",
       "      <td>233.000000</td>\n",
       "    </tr>\n",
       "  </tbody>\n",
       "</table>\n",
       "</div>"
      ],
      "text/plain": [
       "               Category        Cyst  Alpha Clot     Slasher      Rioter  \\\n",
       "0           Head Health   20.000000   20.000000   20.000000  125.000000   \n",
       "1   Headshot Multiplier    1.100000    1.100000    1.100000    1.100000   \n",
       "2  Adjusted Head Health   18.180000   18.180000   18.180000  113.640000   \n",
       "3           Dosh reward    7.000000    7.000000    7.000000    7.000000   \n",
       "4               Dosh HP  100.000000  100.000000  100.000000  300.000000   \n",
       "5            Dosh Step1    8.153600    8.153600    8.153600    8.153600   \n",
       "6            Dosh Step2    0.081536    0.081536    0.081536    0.027179   \n",
       "7            Dosh Step3    8.000000    8.000000    8.000000    8.000000   \n",
       "\n",
       "     Gorefast   Gorefiend    Crawler   Stalker       Bloat        Husk  \\\n",
       "0   50.000000  150.000000  20.000000  20.00000   82.000000  220.000000   \n",
       "1    1.100000    1.100000   1.100000   1.10000    1.000100    1.001000   \n",
       "2   45.450000  136.360000  18.180000  18.18000   81.990000  219.780000   \n",
       "3   12.000000   12.000000  10.000000  15.00000   17.000000   17.000000   \n",
       "4  200.000000  200.000000  55.000000  75.00000  257.000000  600.000000   \n",
       "5   13.977600   13.977600  11.648000  17.47200   19.801600   19.801600   \n",
       "6    0.069888    0.069888   0.211782   0.23296    0.077049    0.033003   \n",
       "7   14.000000   14.000000  12.000000  17.00000   20.000000   20.000000   \n",
       "\n",
       "        Siren       Scrake  Quarterpound   Fleshpound  \n",
       "0  155.000000  1584.000000   1228.000000  1716.000000  \n",
       "1    1.100000     1.100000      1.100000     1.100000  \n",
       "2  140.910000  1440.000000   1116.360000  1560.000000  \n",
       "3   25.000000    75.000000     75.000000   200.000000  \n",
       "4  230.000000  3569.000000   1724.000000  4608.000000  \n",
       "5   29.120000    87.360000     87.360000   232.960000  \n",
       "6    0.126609     0.024477      0.050673     0.050556  \n",
       "7   29.000000    87.000000     87.000000   233.000000  "
      ]
     },
     "execution_count": 9,
     "metadata": {},
     "output_type": "execute_result"
    }
   ],
   "source": [
    "# Two-dimensional tables, no nested layers, \n",
    "# Gathered from SimpleCat's KF2 Stats Spreadsheet\n",
    "\n",
    "zedstats = pd.read_csv('E:\\College\\FinalProjectData\\ZedStats.csv')\n",
    "zedstats_df_display = pd.DataFrame(data=zedstats)\n",
    "zedstats_df_display"
   ]
  },
  {
   "cell_type": "code",
   "execution_count": 10,
   "id": "3ffb3e1d",
   "metadata": {},
   "outputs": [
    {
     "data": {
      "text/html": [
       "<div>\n",
       "<style scoped>\n",
       "    .dataframe tbody tr th:only-of-type {\n",
       "        vertical-align: middle;\n",
       "    }\n",
       "\n",
       "    .dataframe tbody tr th {\n",
       "        vertical-align: top;\n",
       "    }\n",
       "\n",
       "    .dataframe thead th {\n",
       "        text-align: right;\n",
       "    }\n",
       "</style>\n",
       "<table border=\"1\" class=\"dataframe\">\n",
       "  <thead>\n",
       "    <tr style=\"text-align: right;\">\n",
       "      <th></th>\n",
       "      <th>Cyst</th>\n",
       "      <th>Alpha Clot</th>\n",
       "      <th>Slasher</th>\n",
       "      <th>Rioter</th>\n",
       "      <th>Gorefast</th>\n",
       "      <th>Gorefiend</th>\n",
       "      <th>Crawler</th>\n",
       "      <th>Stalker</th>\n",
       "      <th>Bloat</th>\n",
       "      <th>Husk</th>\n",
       "      <th>Siren</th>\n",
       "      <th>Scrake</th>\n",
       "      <th>Quarterpound</th>\n",
       "      <th>Fleshpound</th>\n",
       "    </tr>\n",
       "  </thead>\n",
       "  <tbody>\n",
       "    <tr>\n",
       "      <th>0</th>\n",
       "      <td>20.0</td>\n",
       "      <td>20.0</td>\n",
       "      <td>20.0</td>\n",
       "      <td>125.0</td>\n",
       "      <td>50.0</td>\n",
       "      <td>150.0</td>\n",
       "      <td>20.0</td>\n",
       "      <td>20.0</td>\n",
       "      <td>82.0</td>\n",
       "      <td>220.0</td>\n",
       "      <td>155.0</td>\n",
       "      <td>1584.0</td>\n",
       "      <td>1228.0</td>\n",
       "      <td>1716.0</td>\n",
       "    </tr>\n",
       "  </tbody>\n",
       "</table>\n",
       "</div>"
      ],
      "text/plain": [
       "   Cyst  Alpha Clot  Slasher  Rioter  Gorefast  Gorefiend  Crawler  Stalker  \\\n",
       "0  20.0        20.0     20.0   125.0      50.0      150.0     20.0     20.0   \n",
       "\n",
       "   Bloat   Husk  Siren  Scrake  Quarterpound  Fleshpound  \n",
       "0   82.0  220.0  155.0  1584.0        1228.0      1716.0  "
      ]
     },
     "execution_count": 10,
     "metadata": {},
     "output_type": "execute_result"
    }
   ],
   "source": [
    "# This creates a version of the dataframe that is easier to feed into calculations;\n",
    "# The \"Category\" column messes up the way dataframes interact.\n",
    "zedstats_df_clean = zedstats_df_display.loc[:,'Cyst':]\n",
    "zedstats_df_clean.head(1)"
   ]
  },
  {
   "cell_type": "markdown",
   "id": "a511a3f0",
   "metadata": {},
   "source": [
    "#### 4e. Weapon Data\n",
    "Cost for initial purchase, rounds received with initial purpose, cost per magazine, cost per bullet, base damage per bullet, and damage per bullet after per bonuses are applied, noted at Total Damage. \n",
    "\n",
    "Upgraded weapons are included as a line entry with no initial bullets that costs the price of the upgrade.\n",
    "\n",
    "The HPR beside the the AR15 and bullpup entries indicate that those values are for when the commando is using Hollow Point Rounds, which boost weapon damage."
   ]
  },
  {
   "cell_type": "code",
   "execution_count": 11,
   "id": "ee33c46f",
   "metadata": {},
   "outputs": [
    {
     "data": {
      "text/html": [
       "<div>\n",
       "<style scoped>\n",
       "    .dataframe tbody tr th:only-of-type {\n",
       "        vertical-align: middle;\n",
       "    }\n",
       "\n",
       "    .dataframe tbody tr th {\n",
       "        vertical-align: top;\n",
       "    }\n",
       "\n",
       "    .dataframe thead th {\n",
       "        text-align: right;\n",
       "    }\n",
       "</style>\n",
       "<table border=\"1\" class=\"dataframe\">\n",
       "  <thead>\n",
       "    <tr style=\"text-align: right;\">\n",
       "      <th></th>\n",
       "      <th>Weapon</th>\n",
       "      <th>Purchase cost</th>\n",
       "      <th>Purchase ammo</th>\n",
       "      <th>Cost per magazine</th>\n",
       "      <th>Bullets per magazine</th>\n",
       "      <th>Max Ammo (mag+spare)</th>\n",
       "      <th>Cost per bullet</th>\n",
       "      <th>1. Base damage</th>\n",
       "      <th>Total Damage</th>\n",
       "      <th>Damage Type</th>\n",
       "    </tr>\n",
       "  </thead>\n",
       "  <tbody>\n",
       "    <tr>\n",
       "      <th>0</th>\n",
       "      <td>9mm (mando)</td>\n",
       "      <td>0</td>\n",
       "      <td>90</td>\n",
       "      <td>12.0</td>\n",
       "      <td>15</td>\n",
       "      <td>90</td>\n",
       "      <td>0.8</td>\n",
       "      <td>25</td>\n",
       "      <td>47</td>\n",
       "      <td>Handgun_9mm</td>\n",
       "    </tr>\n",
       "    <tr>\n",
       "      <th>1</th>\n",
       "      <td>AR15 HPR</td>\n",
       "      <td>200</td>\n",
       "      <td>120</td>\n",
       "      <td>20.0</td>\n",
       "      <td>20</td>\n",
       "      <td>308</td>\n",
       "      <td>1.0</td>\n",
       "      <td>30</td>\n",
       "      <td>47</td>\n",
       "      <td>AssaultRifle_AR15</td>\n",
       "    </tr>\n",
       "  </tbody>\n",
       "</table>\n",
       "</div>"
      ],
      "text/plain": [
       "        Weapon  Purchase cost  Purchase ammo  Cost per magazine  \\\n",
       "0  9mm (mando)              0             90               12.0   \n",
       "1     AR15 HPR            200            120               20.0   \n",
       "\n",
       "   Bullets per magazine  Max Ammo (mag+spare)  Cost per bullet  \\\n",
       "0                    15                    90              0.8   \n",
       "1                    20                   308              1.0   \n",
       "\n",
       "   1. Base damage  Total Damage        Damage Type  \n",
       "0              25            47        Handgun_9mm  \n",
       "1              30            47  AssaultRifle_AR15  "
      ]
     },
     "execution_count": 11,
     "metadata": {},
     "output_type": "execute_result"
    }
   ],
   "source": [
    "# Two-dimensional tables, no nested layers\n",
    "# Gathered from in-game UI and SimpleCat's KF2 Stats Spreadsheet\n",
    "\n",
    "weapons_data = pd.read_csv('E:\\College\\FinalProjectData\\WeaponStats.csv')\n",
    "weapons_df = pd.DataFrame(data=weapons_data)\n",
    "\n",
    "weapons_df.head(2)"
   ]
  },
  {
   "cell_type": "code",
   "execution_count": 12,
   "id": "c6700452",
   "metadata": {},
   "outputs": [],
   "source": [
    "weapons_df.columns = weapons_df.columns.str.strip()\n",
    "weapons_df.set_index('Weapon', inplace=True)"
   ]
  },
  {
   "cell_type": "code",
   "execution_count": 13,
   "id": "d8f005b4",
   "metadata": {},
   "outputs": [
    {
     "data": {
      "text/html": [
       "<div>\n",
       "<style scoped>\n",
       "    .dataframe tbody tr th:only-of-type {\n",
       "        vertical-align: middle;\n",
       "    }\n",
       "\n",
       "    .dataframe tbody tr th {\n",
       "        vertical-align: top;\n",
       "    }\n",
       "\n",
       "    .dataframe thead th {\n",
       "        text-align: right;\n",
       "    }\n",
       "</style>\n",
       "<table border=\"1\" class=\"dataframe\">\n",
       "  <thead>\n",
       "    <tr style=\"text-align: right;\">\n",
       "      <th></th>\n",
       "      <th>Purchase cost</th>\n",
       "      <th>Purchase ammo</th>\n",
       "      <th>Cost per magazine</th>\n",
       "      <th>Bullets per magazine</th>\n",
       "      <th>Max Ammo (mag+spare)</th>\n",
       "      <th>Cost per bullet</th>\n",
       "      <th>1. Base damage</th>\n",
       "      <th>Total Damage</th>\n",
       "      <th>Damage Type</th>\n",
       "    </tr>\n",
       "    <tr>\n",
       "      <th>Weapon</th>\n",
       "      <th></th>\n",
       "      <th></th>\n",
       "      <th></th>\n",
       "      <th></th>\n",
       "      <th></th>\n",
       "      <th></th>\n",
       "      <th></th>\n",
       "      <th></th>\n",
       "      <th></th>\n",
       "    </tr>\n",
       "  </thead>\n",
       "  <tbody>\n",
       "    <tr>\n",
       "      <th>9mm (mando)</th>\n",
       "      <td>0</td>\n",
       "      <td>90</td>\n",
       "      <td>12.0</td>\n",
       "      <td>15</td>\n",
       "      <td>90</td>\n",
       "      <td>0.8</td>\n",
       "      <td>25</td>\n",
       "      <td>47</td>\n",
       "      <td>Handgun_9mm</td>\n",
       "    </tr>\n",
       "    <tr>\n",
       "      <th>AR15 HPR</th>\n",
       "      <td>200</td>\n",
       "      <td>120</td>\n",
       "      <td>20.0</td>\n",
       "      <td>20</td>\n",
       "      <td>308</td>\n",
       "      <td>1.0</td>\n",
       "      <td>30</td>\n",
       "      <td>47</td>\n",
       "      <td>AssaultRifle_AR15</td>\n",
       "    </tr>\n",
       "  </tbody>\n",
       "</table>\n",
       "</div>"
      ],
      "text/plain": [
       "             Purchase cost  Purchase ammo  Cost per magazine  \\\n",
       "Weapon                                                         \n",
       "9mm (mando)              0             90               12.0   \n",
       "AR15 HPR               200            120               20.0   \n",
       "\n",
       "             Bullets per magazine  Max Ammo (mag+spare)  Cost per bullet  \\\n",
       "Weapon                                                                     \n",
       "9mm (mando)                    15                    90              0.8   \n",
       "AR15 HPR                       20                   308              1.0   \n",
       "\n",
       "             1. Base damage  Total Damage        Damage Type  \n",
       "Weapon                                                        \n",
       "9mm (mando)              25            47        Handgun_9mm  \n",
       "AR15 HPR                 30            47  AssaultRifle_AR15  "
      ]
     },
     "execution_count": 13,
     "metadata": {},
     "output_type": "execute_result"
    }
   ],
   "source": [
    "weapons_df.head(2)"
   ]
  },
  {
   "cell_type": "code",
   "execution_count": 14,
   "id": "9183b9a5",
   "metadata": {},
   "outputs": [
    {
     "data": {
      "text/html": [
       "<div>\n",
       "<style scoped>\n",
       "    .dataframe tbody tr th:only-of-type {\n",
       "        vertical-align: middle;\n",
       "    }\n",
       "\n",
       "    .dataframe tbody tr th {\n",
       "        vertical-align: top;\n",
       "    }\n",
       "\n",
       "    .dataframe thead th {\n",
       "        text-align: right;\n",
       "    }\n",
       "</style>\n",
       "<table border=\"1\" class=\"dataframe\">\n",
       "  <thead>\n",
       "    <tr style=\"text-align: right;\">\n",
       "      <th></th>\n",
       "      <th>Weapon</th>\n",
       "      <th>9mm (mando)</th>\n",
       "      <th>AR15 HPR</th>\n",
       "      <th>Bullpup HPR</th>\n",
       "      <th>Bullpup</th>\n",
       "      <th>SCAR</th>\n",
       "      <th>FN FAL</th>\n",
       "      <th>9mm (sharp)</th>\n",
       "      <th>Winchester</th>\n",
       "      <th>EBR</th>\n",
       "      <th>EBR+1</th>\n",
       "      <th>SPX (sharp)</th>\n",
       "      <th>SPX+1 (sharp)</th>\n",
       "      <th>SPX+2 (sharp)</th>\n",
       "      <th>9mm (slinger)</th>\n",
       "      <th>SPX (slinger)</th>\n",
       "      <th>SPX+1 (slinger)</th>\n",
       "      <th>SPX+2 (slinger)</th>\n",
       "      <th>1858 (single)</th>\n",
       "      <th>Deagle (single)</th>\n",
       "    </tr>\n",
       "  </thead>\n",
       "  <tbody>\n",
       "    <tr>\n",
       "      <th>0</th>\n",
       "      <td>Cyst</td>\n",
       "      <td>1.01</td>\n",
       "      <td>1.5</td>\n",
       "      <td>1.5</td>\n",
       "      <td>1.5</td>\n",
       "      <td>1.5</td>\n",
       "      <td>1.0</td>\n",
       "      <td>1.01</td>\n",
       "      <td>1.0</td>\n",
       "      <td>1.0</td>\n",
       "      <td>1.0</td>\n",
       "      <td>1.0</td>\n",
       "      <td>1.0</td>\n",
       "      <td>1.0</td>\n",
       "      <td>1.01</td>\n",
       "      <td>1.0</td>\n",
       "      <td>1.0</td>\n",
       "      <td>1.0</td>\n",
       "      <td>1.01</td>\n",
       "      <td>1.01</td>\n",
       "    </tr>\n",
       "    <tr>\n",
       "      <th>1</th>\n",
       "      <td>Alpha Clot</td>\n",
       "      <td>1.01</td>\n",
       "      <td>1.0</td>\n",
       "      <td>1.0</td>\n",
       "      <td>1.0</td>\n",
       "      <td>1.0</td>\n",
       "      <td>1.0</td>\n",
       "      <td>1.01</td>\n",
       "      <td>1.0</td>\n",
       "      <td>1.0</td>\n",
       "      <td>1.0</td>\n",
       "      <td>1.0</td>\n",
       "      <td>1.0</td>\n",
       "      <td>1.0</td>\n",
       "      <td>1.01</td>\n",
       "      <td>1.0</td>\n",
       "      <td>1.0</td>\n",
       "      <td>1.0</td>\n",
       "      <td>1.01</td>\n",
       "      <td>1.01</td>\n",
       "    </tr>\n",
       "  </tbody>\n",
       "</table>\n",
       "</div>"
      ],
      "text/plain": [
       "       Weapon  9mm (mando)  AR15 HPR  Bullpup HPR  Bullpup  SCAR  FN FAL  \\\n",
       "0        Cyst         1.01       1.5          1.5      1.5   1.5     1.0   \n",
       "1  Alpha Clot         1.01       1.0          1.0      1.0   1.0     1.0   \n",
       "\n",
       "   9mm (sharp)  Winchester  EBR  EBR+1  SPX (sharp)  SPX+1 (sharp)  \\\n",
       "0         1.01         1.0  1.0    1.0          1.0            1.0   \n",
       "1         1.01         1.0  1.0    1.0          1.0            1.0   \n",
       "\n",
       "   SPX+2 (sharp)  9mm (slinger)  SPX (slinger)  SPX+1 (slinger)  \\\n",
       "0            1.0           1.01            1.0              1.0   \n",
       "1            1.0           1.01            1.0              1.0   \n",
       "\n",
       "   SPX+2 (slinger)  1858 (single)  Deagle (single)  \n",
       "0              1.0           1.01             1.01  \n",
       "1              1.0           1.01             1.01  "
      ]
     },
     "execution_count": 14,
     "metadata": {},
     "output_type": "execute_result"
    }
   ],
   "source": [
    "weapons_resists = pd.read_csv('E:\\College\\FinalProjectData\\WeaponResists.csv')\n",
    "weapons_resist_df = pd.DataFrame(data=weapons_resists)\n",
    "\n",
    "weapons_resist_df.head(2)"
   ]
  },
  {
   "cell_type": "code",
   "execution_count": 15,
   "id": "6b4b0af8",
   "metadata": {},
   "outputs": [],
   "source": [
    "weapons_resist_df.columns = weapons_resist_df.columns.str.strip()\n",
    "weapons_resist_df.set_index('Weapon', inplace=True)"
   ]
  },
  {
   "cell_type": "code",
   "execution_count": 16,
   "id": "c5fbc673",
   "metadata": {},
   "outputs": [
    {
     "data": {
      "text/html": [
       "<div>\n",
       "<style scoped>\n",
       "    .dataframe tbody tr th:only-of-type {\n",
       "        vertical-align: middle;\n",
       "    }\n",
       "\n",
       "    .dataframe tbody tr th {\n",
       "        vertical-align: top;\n",
       "    }\n",
       "\n",
       "    .dataframe thead th {\n",
       "        text-align: right;\n",
       "    }\n",
       "</style>\n",
       "<table border=\"1\" class=\"dataframe\">\n",
       "  <thead>\n",
       "    <tr style=\"text-align: right;\">\n",
       "      <th></th>\n",
       "      <th>9mm (mando)</th>\n",
       "      <th>AR15 HPR</th>\n",
       "      <th>Bullpup HPR</th>\n",
       "      <th>Bullpup</th>\n",
       "      <th>SCAR</th>\n",
       "      <th>FN FAL</th>\n",
       "      <th>9mm (sharp)</th>\n",
       "      <th>Winchester</th>\n",
       "      <th>EBR</th>\n",
       "      <th>EBR+1</th>\n",
       "      <th>SPX (sharp)</th>\n",
       "      <th>SPX+1 (sharp)</th>\n",
       "      <th>SPX+2 (sharp)</th>\n",
       "      <th>9mm (slinger)</th>\n",
       "      <th>SPX (slinger)</th>\n",
       "      <th>SPX+1 (slinger)</th>\n",
       "      <th>SPX+2 (slinger)</th>\n",
       "      <th>1858 (single)</th>\n",
       "      <th>Deagle (single)</th>\n",
       "    </tr>\n",
       "    <tr>\n",
       "      <th>Weapon</th>\n",
       "      <th></th>\n",
       "      <th></th>\n",
       "      <th></th>\n",
       "      <th></th>\n",
       "      <th></th>\n",
       "      <th></th>\n",
       "      <th></th>\n",
       "      <th></th>\n",
       "      <th></th>\n",
       "      <th></th>\n",
       "      <th></th>\n",
       "      <th></th>\n",
       "      <th></th>\n",
       "      <th></th>\n",
       "      <th></th>\n",
       "      <th></th>\n",
       "      <th></th>\n",
       "      <th></th>\n",
       "      <th></th>\n",
       "    </tr>\n",
       "  </thead>\n",
       "  <tbody>\n",
       "    <tr>\n",
       "      <th>Cyst</th>\n",
       "      <td>1.01</td>\n",
       "      <td>1.5</td>\n",
       "      <td>1.5</td>\n",
       "      <td>1.5</td>\n",
       "      <td>1.5</td>\n",
       "      <td>1.0</td>\n",
       "      <td>1.01</td>\n",
       "      <td>1.0</td>\n",
       "      <td>1.0</td>\n",
       "      <td>1.0</td>\n",
       "      <td>1.0</td>\n",
       "      <td>1.0</td>\n",
       "      <td>1.0</td>\n",
       "      <td>1.01</td>\n",
       "      <td>1.0</td>\n",
       "      <td>1.0</td>\n",
       "      <td>1.0</td>\n",
       "      <td>1.01</td>\n",
       "      <td>1.01</td>\n",
       "    </tr>\n",
       "    <tr>\n",
       "      <th>Alpha Clot</th>\n",
       "      <td>1.01</td>\n",
       "      <td>1.0</td>\n",
       "      <td>1.0</td>\n",
       "      <td>1.0</td>\n",
       "      <td>1.0</td>\n",
       "      <td>1.0</td>\n",
       "      <td>1.01</td>\n",
       "      <td>1.0</td>\n",
       "      <td>1.0</td>\n",
       "      <td>1.0</td>\n",
       "      <td>1.0</td>\n",
       "      <td>1.0</td>\n",
       "      <td>1.0</td>\n",
       "      <td>1.01</td>\n",
       "      <td>1.0</td>\n",
       "      <td>1.0</td>\n",
       "      <td>1.0</td>\n",
       "      <td>1.01</td>\n",
       "      <td>1.01</td>\n",
       "    </tr>\n",
       "  </tbody>\n",
       "</table>\n",
       "</div>"
      ],
      "text/plain": [
       "            9mm (mando)  AR15 HPR  Bullpup HPR  Bullpup  SCAR  FN FAL  \\\n",
       "Weapon                                                                  \n",
       "Cyst               1.01       1.5          1.5      1.5   1.5     1.0   \n",
       "Alpha Clot         1.01       1.0          1.0      1.0   1.0     1.0   \n",
       "\n",
       "            9mm (sharp)  Winchester  EBR  EBR+1  SPX (sharp)  SPX+1 (sharp)  \\\n",
       "Weapon                                                                        \n",
       "Cyst               1.01         1.0  1.0    1.0          1.0            1.0   \n",
       "Alpha Clot         1.01         1.0  1.0    1.0          1.0            1.0   \n",
       "\n",
       "            SPX+2 (sharp)  9mm (slinger)  SPX (slinger)  SPX+1 (slinger)  \\\n",
       "Weapon                                                                     \n",
       "Cyst                  1.0           1.01            1.0              1.0   \n",
       "Alpha Clot            1.0           1.01            1.0              1.0   \n",
       "\n",
       "            SPX+2 (slinger)  1858 (single)  Deagle (single)  \n",
       "Weapon                                                       \n",
       "Cyst                    1.0           1.01             1.01  \n",
       "Alpha Clot              1.0           1.01             1.01  "
      ]
     },
     "execution_count": 16,
     "metadata": {},
     "output_type": "execute_result"
    }
   ],
   "source": [
    "weapons_resist_df.head(2)"
   ]
  },
  {
   "cell_type": "code",
   "execution_count": 17,
   "id": "cd5b711f",
   "metadata": {},
   "outputs": [
    {
     "data": {
      "text/html": [
       "<div>\n",
       "<style scoped>\n",
       "    .dataframe tbody tr th:only-of-type {\n",
       "        vertical-align: middle;\n",
       "    }\n",
       "\n",
       "    .dataframe tbody tr th {\n",
       "        vertical-align: top;\n",
       "    }\n",
       "\n",
       "    .dataframe thead th {\n",
       "        text-align: right;\n",
       "    }\n",
       "</style>\n",
       "<table border=\"1\" class=\"dataframe\">\n",
       "  <thead>\n",
       "    <tr style=\"text-align: right;\">\n",
       "      <th></th>\n",
       "      <th>Enemy Type</th>\n",
       "      <th>9mm (mando)</th>\n",
       "      <th>AR15 HPR</th>\n",
       "      <th>Bullpup HPR</th>\n",
       "      <th>Bullpup</th>\n",
       "      <th>SCAR</th>\n",
       "      <th>FN FAL</th>\n",
       "      <th>9mm (sharp)</th>\n",
       "      <th>Winchester</th>\n",
       "      <th>EBR</th>\n",
       "      <th>EBR+1</th>\n",
       "      <th>SPX (sharp)</th>\n",
       "      <th>SPX+1 (sharp)</th>\n",
       "      <th>SPX+2 (sharp)</th>\n",
       "      <th>9mm (slinger)</th>\n",
       "      <th>SPX (slinger)</th>\n",
       "      <th>SPX+1 (slinger)</th>\n",
       "      <th>SPX+2 (slinger)</th>\n",
       "      <th>1858</th>\n",
       "      <th>Deagle</th>\n",
       "    </tr>\n",
       "  </thead>\n",
       "  <tbody>\n",
       "    <tr>\n",
       "      <th>0</th>\n",
       "      <td>Cyst dmg</td>\n",
       "      <td>47.47</td>\n",
       "      <td>70.5</td>\n",
       "      <td>75.0</td>\n",
       "      <td>60.0</td>\n",
       "      <td>103.5</td>\n",
       "      <td>88.0</td>\n",
       "      <td>52.52</td>\n",
       "      <td>164.0</td>\n",
       "      <td>164.0</td>\n",
       "      <td>189.0</td>\n",
       "      <td>339.0</td>\n",
       "      <td>388.0</td>\n",
       "      <td>439.0</td>\n",
       "      <td>44.44</td>\n",
       "      <td>289.0</td>\n",
       "      <td>331.0</td>\n",
       "      <td>375.0</td>\n",
       "      <td>88.88</td>\n",
       "      <td>161.6</td>\n",
       "    </tr>\n",
       "    <tr>\n",
       "      <th>1</th>\n",
       "      <td>Alpha Clot dmg</td>\n",
       "      <td>47.47</td>\n",
       "      <td>47.0</td>\n",
       "      <td>50.0</td>\n",
       "      <td>40.0</td>\n",
       "      <td>69.0</td>\n",
       "      <td>88.0</td>\n",
       "      <td>52.52</td>\n",
       "      <td>164.0</td>\n",
       "      <td>164.0</td>\n",
       "      <td>189.0</td>\n",
       "      <td>339.0</td>\n",
       "      <td>388.0</td>\n",
       "      <td>439.0</td>\n",
       "      <td>44.44</td>\n",
       "      <td>289.0</td>\n",
       "      <td>331.0</td>\n",
       "      <td>375.0</td>\n",
       "      <td>88.88</td>\n",
       "      <td>161.6</td>\n",
       "    </tr>\n",
       "  </tbody>\n",
       "</table>\n",
       "</div>"
      ],
      "text/plain": [
       "       Enemy Type  9mm (mando)  AR15 HPR  Bullpup HPR  Bullpup   SCAR  FN FAL  \\\n",
       "0        Cyst dmg        47.47      70.5         75.0     60.0  103.5    88.0   \n",
       "1  Alpha Clot dmg        47.47      47.0         50.0     40.0   69.0    88.0   \n",
       "\n",
       "   9mm (sharp)  Winchester    EBR  EBR+1  SPX (sharp)  SPX+1 (sharp)  \\\n",
       "0        52.52       164.0  164.0  189.0        339.0          388.0   \n",
       "1        52.52       164.0  164.0  189.0        339.0          388.0   \n",
       "\n",
       "   SPX+2 (sharp)  9mm (slinger)  SPX (slinger)  SPX+1 (slinger)  \\\n",
       "0          439.0          44.44          289.0            331.0   \n",
       "1          439.0          44.44          289.0            331.0   \n",
       "\n",
       "   SPX+2 (slinger)   1858  Deagle  \n",
       "0            375.0  88.88   161.6  \n",
       "1            375.0  88.88   161.6  "
      ]
     },
     "execution_count": 17,
     "metadata": {},
     "output_type": "execute_result"
    }
   ],
   "source": [
    "weapons_zedDmg = pd.read_csv('E:\\College\\FinalProjectData\\WeaponZedDmg.csv')\n",
    "weapons_zedDmg_df = pd.DataFrame(data=weapons_zedDmg)\n",
    "\n",
    "weapons_zedDmg_df.head(2)"
   ]
  },
  {
   "cell_type": "code",
   "execution_count": 18,
   "id": "ce5eab15",
   "metadata": {},
   "outputs": [],
   "source": [
    "weapons_zedDmg_df.columns = weapons_zedDmg_df.columns.str.strip()\n",
    "weapons_zedDmg_df.set_index('Enemy Type', inplace=True)"
   ]
  },
  {
   "cell_type": "code",
   "execution_count": 19,
   "id": "18411577",
   "metadata": {},
   "outputs": [
    {
     "data": {
      "text/html": [
       "<div>\n",
       "<style scoped>\n",
       "    .dataframe tbody tr th:only-of-type {\n",
       "        vertical-align: middle;\n",
       "    }\n",
       "\n",
       "    .dataframe tbody tr th {\n",
       "        vertical-align: top;\n",
       "    }\n",
       "\n",
       "    .dataframe thead th {\n",
       "        text-align: right;\n",
       "    }\n",
       "</style>\n",
       "<table border=\"1\" class=\"dataframe\">\n",
       "  <thead>\n",
       "    <tr style=\"text-align: right;\">\n",
       "      <th></th>\n",
       "      <th>9mm (mando)</th>\n",
       "      <th>AR15 HPR</th>\n",
       "      <th>Bullpup HPR</th>\n",
       "      <th>Bullpup</th>\n",
       "      <th>SCAR</th>\n",
       "      <th>FN FAL</th>\n",
       "      <th>9mm (sharp)</th>\n",
       "      <th>Winchester</th>\n",
       "      <th>EBR</th>\n",
       "      <th>EBR+1</th>\n",
       "      <th>SPX (sharp)</th>\n",
       "      <th>SPX+1 (sharp)</th>\n",
       "      <th>SPX+2 (sharp)</th>\n",
       "      <th>9mm (slinger)</th>\n",
       "      <th>SPX (slinger)</th>\n",
       "      <th>SPX+1 (slinger)</th>\n",
       "      <th>SPX+2 (slinger)</th>\n",
       "      <th>1858</th>\n",
       "      <th>Deagle</th>\n",
       "    </tr>\n",
       "    <tr>\n",
       "      <th>Enemy Type</th>\n",
       "      <th></th>\n",
       "      <th></th>\n",
       "      <th></th>\n",
       "      <th></th>\n",
       "      <th></th>\n",
       "      <th></th>\n",
       "      <th></th>\n",
       "      <th></th>\n",
       "      <th></th>\n",
       "      <th></th>\n",
       "      <th></th>\n",
       "      <th></th>\n",
       "      <th></th>\n",
       "      <th></th>\n",
       "      <th></th>\n",
       "      <th></th>\n",
       "      <th></th>\n",
       "      <th></th>\n",
       "      <th></th>\n",
       "    </tr>\n",
       "  </thead>\n",
       "  <tbody>\n",
       "    <tr>\n",
       "      <th>Cyst dmg</th>\n",
       "      <td>47.47</td>\n",
       "      <td>70.5</td>\n",
       "      <td>75.0</td>\n",
       "      <td>60.0</td>\n",
       "      <td>103.5</td>\n",
       "      <td>88.0</td>\n",
       "      <td>52.52</td>\n",
       "      <td>164.0</td>\n",
       "      <td>164.0</td>\n",
       "      <td>189.0</td>\n",
       "      <td>339.0</td>\n",
       "      <td>388.0</td>\n",
       "      <td>439.0</td>\n",
       "      <td>44.44</td>\n",
       "      <td>289.0</td>\n",
       "      <td>331.0</td>\n",
       "      <td>375.0</td>\n",
       "      <td>88.88</td>\n",
       "      <td>161.6</td>\n",
       "    </tr>\n",
       "    <tr>\n",
       "      <th>Alpha Clot dmg</th>\n",
       "      <td>47.47</td>\n",
       "      <td>47.0</td>\n",
       "      <td>50.0</td>\n",
       "      <td>40.0</td>\n",
       "      <td>69.0</td>\n",
       "      <td>88.0</td>\n",
       "      <td>52.52</td>\n",
       "      <td>164.0</td>\n",
       "      <td>164.0</td>\n",
       "      <td>189.0</td>\n",
       "      <td>339.0</td>\n",
       "      <td>388.0</td>\n",
       "      <td>439.0</td>\n",
       "      <td>44.44</td>\n",
       "      <td>289.0</td>\n",
       "      <td>331.0</td>\n",
       "      <td>375.0</td>\n",
       "      <td>88.88</td>\n",
       "      <td>161.6</td>\n",
       "    </tr>\n",
       "  </tbody>\n",
       "</table>\n",
       "</div>"
      ],
      "text/plain": [
       "                9mm (mando)  AR15 HPR  Bullpup HPR  Bullpup   SCAR  FN FAL  \\\n",
       "Enemy Type                                                                   \n",
       "Cyst dmg              47.47      70.5         75.0     60.0  103.5    88.0   \n",
       "Alpha Clot dmg        47.47      47.0         50.0     40.0   69.0    88.0   \n",
       "\n",
       "                9mm (sharp)  Winchester    EBR  EBR+1  SPX (sharp)  \\\n",
       "Enemy Type                                                           \n",
       "Cyst dmg              52.52       164.0  164.0  189.0        339.0   \n",
       "Alpha Clot dmg        52.52       164.0  164.0  189.0        339.0   \n",
       "\n",
       "                SPX+1 (sharp)  SPX+2 (sharp)  9mm (slinger)  SPX (slinger)  \\\n",
       "Enemy Type                                                                   \n",
       "Cyst dmg                388.0          439.0          44.44          289.0   \n",
       "Alpha Clot dmg          388.0          439.0          44.44          289.0   \n",
       "\n",
       "                SPX+1 (slinger)  SPX+2 (slinger)   1858  Deagle  \n",
       "Enemy Type                                                       \n",
       "Cyst dmg                  331.0            375.0  88.88   161.6  \n",
       "Alpha Clot dmg            331.0            375.0  88.88   161.6  "
      ]
     },
     "execution_count": 19,
     "metadata": {},
     "output_type": "execute_result"
    }
   ],
   "source": [
    "weapons_zedDmg_df.head(2)"
   ]
  },
  {
   "cell_type": "markdown",
   "id": "8c160f0f",
   "metadata": {},
   "source": [
    "#### 4f. Medic Economy\n",
    "\n",
    "Medics are an important part of team economy. The imported CSV is per wave data gathered from the 17 times a medic was employed during Tamari's community tournament. Row 0 is the average earnings, and therefore the value we're concerned with."
   ]
  },
  {
   "cell_type": "code",
   "execution_count": 20,
   "id": "d68a116b",
   "metadata": {},
   "outputs": [
    {
     "data": {
      "text/html": [
       "<div>\n",
       "<style scoped>\n",
       "    .dataframe tbody tr th:only-of-type {\n",
       "        vertical-align: middle;\n",
       "    }\n",
       "\n",
       "    .dataframe tbody tr th {\n",
       "        vertical-align: top;\n",
       "    }\n",
       "\n",
       "    .dataframe thead th {\n",
       "        text-align: right;\n",
       "    }\n",
       "</style>\n",
       "<table border=\"1\" class=\"dataframe\">\n",
       "  <thead>\n",
       "    <tr style=\"text-align: right;\">\n",
       "      <th></th>\n",
       "      <th>Wave 1</th>\n",
       "      <th>Wave 2</th>\n",
       "      <th>Wave 3</th>\n",
       "      <th>Wave 4</th>\n",
       "      <th>Wave 5</th>\n",
       "    </tr>\n",
       "  </thead>\n",
       "  <tbody>\n",
       "    <tr>\n",
       "      <th>0</th>\n",
       "      <td>459</td>\n",
       "      <td>635</td>\n",
       "      <td>1034</td>\n",
       "      <td>1047</td>\n",
       "      <td>1108</td>\n",
       "    </tr>\n",
       "  </tbody>\n",
       "</table>\n",
       "</div>"
      ],
      "text/plain": [
       "   Wave 1  Wave 2  Wave 3  Wave 4  Wave 5\n",
       "0     459     635    1034    1047    1108"
      ]
     },
     "execution_count": 20,
     "metadata": {},
     "output_type": "execute_result"
    }
   ],
   "source": [
    "# Two-dimensional tables, no nested layers\n",
    "# Gathered from Tamari tournament data\n",
    "\n",
    "med_eco = pd.read_csv('E:\\College\\FinalProjectData\\MedDosh_5wave.csv')\n",
    "med_eco_df = pd.DataFrame(data=med_eco)\n",
    "med_eco_df.head(1)"
   ]
  },
  {
   "cell_type": "markdown",
   "id": "29e6a9e1",
   "metadata": {},
   "source": [
    "## 5. The Damage Formula of Killing Floor 2\n",
    "\n",
    "In Killing Floor 2, damage is modeled with a pretty complicated formula that has up to 13 steps.\n",
    "The full documentation starts in row 561 of Simple Cat's excellent Killing Floor 2 Statistics spreadsheet. https://docs.google.com/spreadsheets/d/1GDpg2mN1l_86U_RaDug0glFx8cZCuErwxZLiBKl9SyY/htmlview\n",
    "\n",
    "\n",
    "The long and the short of it for my purposes here is that it results in the Calculated Damage column in section **4e**, above, when after 1-6 are applied.\n",
    "\n",
    "Step 7 of the formula, which is hitzone damage, is dealt with in the zed statistic of \"Adjusted Head Health\" in section **4d**, above. \n",
    "\n",
    "Step 8, which is the damage weaknesses and resistances of each zed, is dealt with during the analysis below. \n",
    "\n",
    "Steps 9-13 aren't relevant when you're modeling pure headshot decapitations."
   ]
  },
  {
   "cell_type": "markdown",
   "id": "6b2fdad6",
   "metadata": {},
   "source": [
    "## 6. The Wave 1 Analysis"
   ]
  },
  {
   "cell_type": "markdown",
   "id": "19cb9f8a",
   "metadata": {},
   "source": [
    "First, we need to figure out what players we are looking at. There are a lot of possible player skill levels a designer could want to tune to. They might want to design something for intermediate players, or a mix of beginner, intermediate, and advanced players. They might want to design specifically for advanced or elite players. "
   ]
  },
  {
   "cell_type": "markdown",
   "id": "5a98faa4",
   "metadata": {},
   "source": [
    "#### 6a. Sharpshooters & gunslingers\n",
    "\n",
    "The following box plot shows the distribution of headshot accuracy values for **sharpshooters and gunslingers** in section **4a**. Specifically, these are the percentages of total shots fired that impacted a zed in the head, (HSACC (Shots))."
   ]
  },
  {
   "cell_type": "code",
   "execution_count": 21,
   "id": "b39c076b",
   "metadata": {
    "scrolled": false
   },
   "outputs": [
    {
     "data": {
      "text/plain": [
       "([<matplotlib.axis.XTick at 0x294b1242a60>], [Text(1, 0, 'HSACC (Shots)')])"
      ]
     },
     "execution_count": 21,
     "metadata": {},
     "output_type": "execute_result"
    },
    {
     "data": {
      "image/png": "[encoded data removed]",
      "text/plain": [
       "<Figure size 640x480 with 1 Axes>"
      ]
     },
     "metadata": {},
     "output_type": "display_data"
    }
   ],
   "source": [
    "fig1, ax1 = plt.subplots()\n",
    "# ax1.scatter(x=dps_acc_df['ACC'],y=dps_acc_df['HSACC (Hits)'])\n",
    "# dps_acc_plot = ax1.boxplot(x=dps_acc_df['ACC'], positions = [1])\n",
    "# dps_hsacc_plot = ax1.boxplot(x=dps_acc_df['HSACC (Shots)'], positions = [2])\n",
    "dps_hsacc_plot = ax1.boxplot(x=dps_acc_df['HSACC (Shots)'], positions = [1\n",
    "                                                                        ])\n",
    "ax1.set_title('Sharp & Slinger Headshot Accuracy')\n",
    "ax1.set_ylabel('Percentage')\n",
    "\n",
    "plt.xticks([1], ['HSACC (Shots)'])"
   ]
  },
  {
   "cell_type": "code",
   "execution_count": 22,
   "id": "e532fdcc",
   "metadata": {},
   "outputs": [
    {
     "name": "stdout",
     "output_type": "stream",
     "text": [
      "Headshot Accuracy Plot Statistics:\n",
      "  Lower Quartile (Q1): 32.426879167500005\n",
      "  Median (Q2): 40.798135599999995\n",
      "  Upper Quartile (Q3): 51.025\n",
      "  Interquartile Range (IQR): 18.598120832499994\n",
      "  Lower Whisker: 15.6274357\n",
      "  Upper Whisker: 67.2\n",
      "  Outliers: []\n",
      "\n"
     ]
    }
   ],
   "source": [
    "print(\"Headshot Accuracy Plot Statistics:\")\n",
    "print(f\"  Lower Quartile (Q1): {dps_hsacc_plot['boxes'][0].get_ydata()[1]}\")\n",
    "print(f\"  Median (Q2): {dps_hsacc_plot['medians'][0].get_ydata()[1]}\")\n",
    "print(f\"  Upper Quartile (Q3): {dps_hsacc_plot['boxes'][0].get_ydata()[3]}\")\n",
    "print(f\"  Interquartile Range (IQR): {dps_hsacc_plot['boxes'][0].get_ydata()[3] - dps_hsacc_plot['boxes'][0].get_ydata()[1]}\")\n",
    "print(f\"  Lower Whisker: {dps_hsacc_plot['whiskers'][0].get_ydata()[1]}\")\n",
    "print(f\"  Upper Whisker: {dps_hsacc_plot['whiskers'][1].get_ydata()[1]}\")\n",
    "print(f\"  Outliers: {dps_hsacc_plot['fliers'][0].get_ydata()}\")\n",
    "print(\"\")\n",
    "\n",
    "dps_hsacc = dps_hsacc_plot['boxes'][0].get_ydata()[3]/100"
   ]
  },
  {
   "cell_type": "markdown",
   "id": "88d1f04d",
   "metadata": {},
   "source": [
    "For now, I am choosing a value on the high end from this data set. I intend to return to this question with mixed sets of different players when modeling for different difficulties in the future, but for now I'm most interested in how far difficulty can be pushed for high level play. \n",
    "\n",
    "So, I will use the upper quartile values. This means that I am assuming **51.025%** of total shots fired are headshots for sharpshooters and slingers."
   ]
  },
  {
   "cell_type": "markdown",
   "id": "7c851ae4",
   "metadata": {},
   "source": [
    "#### 6b. Command Accuracy\n",
    "\n",
    "Next, the **commandos**. Once again, these are the percentages of total shots fired that impacted a zed in the head, (HSACC (Shots))."
   ]
  },
  {
   "cell_type": "code",
   "execution_count": 23,
   "id": "cacd3892",
   "metadata": {
    "scrolled": false
   },
   "outputs": [
    {
     "data": {
      "text/plain": [
       "([<matplotlib.axis.XTick at 0x294b1b08d60>], [Text(1, 0, 'HSACC (Hits)')])"
      ]
     },
     "execution_count": 23,
     "metadata": {},
     "output_type": "execute_result"
    },
    {
     "data": {
      "image/png": "[encoded data removed]",
      "text/plain": [
       "<Figure size 640x480 with 1 Axes>"
      ]
     },
     "metadata": {},
     "output_type": "display_data"
    }
   ],
   "source": [
    "fig2, ax2 = plt.subplots()\n",
    "\n",
    "mando_hsacc_plot = ax2.boxplot(x=mando_acc_df['HSACC (Shots)'], positions = [1])\n",
    "\n",
    "ax2.set_title('Commando Headshot Accuracy')\n",
    "ax2.set_ylabel('Percentage')\n",
    "\n",
    "plt.xticks([1], ['HSACC (Hits)'])"
   ]
  },
  {
   "cell_type": "code",
   "execution_count": 24,
   "id": "06117938",
   "metadata": {},
   "outputs": [
    {
     "name": "stdout",
     "output_type": "stream",
     "text": [
      "Headshot Accuracy Plot Statistics:\n",
      "  Lower Quartile (Q1): 10.48850575\n",
      "  Median (Q2): 14.75155279\n",
      "  Upper Quartile (Q3): 17.82\n",
      "  Interquartile Range (IQR): 7.33149425\n",
      "  Lower Whisker: 5.41186393\n",
      "  Upper Whisker: 28.52893456\n",
      "  Outliers: [30.43478261]\n",
      "\n"
     ]
    }
   ],
   "source": [
    "print(\"Headshot Accuracy Plot Statistics:\")\n",
    "print(f\"  Lower Quartile (Q1): {mando_hsacc_plot['boxes'][0].get_ydata()[1]}\")\n",
    "print(f\"  Median (Q2): {mando_hsacc_plot['medians'][0].get_ydata()[1]}\")\n",
    "print(f\"  Upper Quartile (Q3): {mando_hsacc_plot['boxes'][0].get_ydata()[3]}\")\n",
    "print(f\"  Interquartile Range (IQR): {mando_hsacc_plot['boxes'][0].get_ydata()[3] - mando_hsacc_plot['boxes'][0].get_ydata()[1]}\")\n",
    "print(f\"  Lower Whisker: {mando_hsacc_plot['whiskers'][0].get_ydata()[1]}\")\n",
    "print(f\"  Upper Whisker: {mando_hsacc_plot['whiskers'][1].get_ydata()[1]}\")\n",
    "print(f\"  Outliers: {mando_hsacc_plot['fliers'][0].get_ydata()}\")\n",
    "print(\"\")\n",
    "\n",
    "mando_hsacc = mando_hsacc_plot['whiskers'][1].get_ydata()[1]/100"
   ]
  },
  {
   "cell_type": "markdown",
   "id": "e5241596",
   "metadata": {},
   "source": [
    "This time, I'm going to use the upper whisker value of **28.52%**. The Commando is incentivized to hit body shots for reliability, which is outside the scope of this model. In addition, the model breaks later on if the mando accuracy is too low due to the way I've had to ignore certain mechanical interactions."
   ]
  },
  {
   "cell_type": "markdown",
   "id": "421a9701",
   "metadata": {},
   "source": [
    "### 6c. Zed Head Health Pool, Wave 1\n",
    "\n",
    "This is how much collective **Adjusted Head HP** is present for each zed in a given wave. As a reminder, the **Adjusted Head HP** is the zed's head health divided by the hitzone multiplier for its head.\n",
    "\n",
    "The file imported here, the \"ZedStats_HPMatrix,\" is just the Adjusted Head HP of every zed repeated 10 times for easy use in dataframe calculations."
   ]
  },
  {
   "cell_type": "code",
   "execution_count": 25,
   "id": "af09c536",
   "metadata": {
    "scrolled": false
   },
   "outputs": [
    {
     "data": {
      "text/html": [
       "<div>\n",
       "<style scoped>\n",
       "    .dataframe tbody tr th:only-of-type {\n",
       "        vertical-align: middle;\n",
       "    }\n",
       "\n",
       "    .dataframe tbody tr th {\n",
       "        vertical-align: top;\n",
       "    }\n",
       "\n",
       "    .dataframe thead th {\n",
       "        text-align: right;\n",
       "    }\n",
       "</style>\n",
       "<table border=\"1\" class=\"dataframe\">\n",
       "  <thead>\n",
       "    <tr style=\"text-align: right;\">\n",
       "      <th></th>\n",
       "      <th>Cyst</th>\n",
       "      <th>Alpha Clot</th>\n",
       "      <th>Slasher</th>\n",
       "      <th>Rioter</th>\n",
       "      <th>Gorefast</th>\n",
       "      <th>Gorefiend</th>\n",
       "      <th>Crawler</th>\n",
       "      <th>Stalker</th>\n",
       "      <th>Bloat</th>\n",
       "      <th>Husk</th>\n",
       "      <th>Siren</th>\n",
       "      <th>Scrake</th>\n",
       "      <th>Quarterpound</th>\n",
       "      <th>Fleshpound</th>\n",
       "    </tr>\n",
       "  </thead>\n",
       "  <tbody>\n",
       "    <tr>\n",
       "      <th>0</th>\n",
       "      <td>18.18</td>\n",
       "      <td>18.18</td>\n",
       "      <td>18.18</td>\n",
       "      <td>113.64</td>\n",
       "      <td>45.45</td>\n",
       "      <td>136.36</td>\n",
       "      <td>18.18</td>\n",
       "      <td>18.18</td>\n",
       "      <td>81.99</td>\n",
       "      <td>219.78</td>\n",
       "      <td>140.91</td>\n",
       "      <td>1440</td>\n",
       "      <td>1116.36</td>\n",
       "      <td>1560</td>\n",
       "    </tr>\n",
       "    <tr>\n",
       "      <th>1</th>\n",
       "      <td>18.18</td>\n",
       "      <td>18.18</td>\n",
       "      <td>18.18</td>\n",
       "      <td>113.64</td>\n",
       "      <td>45.45</td>\n",
       "      <td>136.36</td>\n",
       "      <td>18.18</td>\n",
       "      <td>18.18</td>\n",
       "      <td>81.99</td>\n",
       "      <td>219.78</td>\n",
       "      <td>140.91</td>\n",
       "      <td>1440</td>\n",
       "      <td>1116.36</td>\n",
       "      <td>1560</td>\n",
       "    </tr>\n",
       "  </tbody>\n",
       "</table>\n",
       "</div>"
      ],
      "text/plain": [
       "    Cyst  Alpha Clot  Slasher  Rioter  Gorefast  Gorefiend  Crawler  Stalker  \\\n",
       "0  18.18       18.18    18.18  113.64     45.45     136.36    18.18    18.18   \n",
       "1  18.18       18.18    18.18  113.64     45.45     136.36    18.18    18.18   \n",
       "\n",
       "   Bloat    Husk   Siren  Scrake  Quarterpound  Fleshpound  \n",
       "0  81.99  219.78  140.91    1440       1116.36        1560  \n",
       "1  81.99  219.78  140.91    1440       1116.36        1560  "
      ]
     },
     "execution_count": 25,
     "metadata": {},
     "output_type": "execute_result"
    }
   ],
   "source": [
    "ZedStats_HPMatrix = pd.read_csv('E:\\College\\FinalProjectData\\ZedStats_HPMatrix.csv')\n",
    "HP_Matrix_df = pd.DataFrame(data=ZedStats_HPMatrix)\n",
    "HP_Matrix_df.head(2)"
   ]
  },
  {
   "cell_type": "code",
   "execution_count": 26,
   "id": "c2241dfd",
   "metadata": {},
   "outputs": [
    {
     "data": {
      "text/html": [
       "<div>\n",
       "<style scoped>\n",
       "    .dataframe tbody tr th:only-of-type {\n",
       "        vertical-align: middle;\n",
       "    }\n",
       "\n",
       "    .dataframe tbody tr th {\n",
       "        vertical-align: top;\n",
       "    }\n",
       "\n",
       "    .dataframe thead th {\n",
       "        text-align: right;\n",
       "    }\n",
       "</style>\n",
       "<table border=\"1\" class=\"dataframe\">\n",
       "  <thead>\n",
       "    <tr style=\"text-align: right;\">\n",
       "      <th></th>\n",
       "      <th>Cyst</th>\n",
       "      <th>Alpha Clot</th>\n",
       "      <th>Slasher</th>\n",
       "      <th>Rioter</th>\n",
       "      <th>Gorefast</th>\n",
       "      <th>Gorefiend</th>\n",
       "      <th>Crawler</th>\n",
       "      <th>Stalker</th>\n",
       "      <th>Bloat</th>\n",
       "      <th>Husk</th>\n",
       "      <th>Siren</th>\n",
       "      <th>Scrake</th>\n",
       "      <th>Quarterpound</th>\n",
       "      <th>Fleshpound</th>\n",
       "    </tr>\n",
       "  </thead>\n",
       "  <tbody>\n",
       "    <tr>\n",
       "      <th>0</th>\n",
       "      <td>472.68</td>\n",
       "      <td>472.68</td>\n",
       "      <td>472.68</td>\n",
       "      <td>2272.80</td>\n",
       "      <td>1272.6</td>\n",
       "      <td>2727.20</td>\n",
       "      <td>509.04</td>\n",
       "      <td>472.68</td>\n",
       "      <td>1147.86</td>\n",
       "      <td>2197.80</td>\n",
       "      <td>1972.74</td>\n",
       "      <td>5760</td>\n",
       "      <td>0.0</td>\n",
       "      <td>3120</td>\n",
       "    </tr>\n",
       "    <tr>\n",
       "      <th>1</th>\n",
       "      <td>399.96</td>\n",
       "      <td>436.32</td>\n",
       "      <td>436.32</td>\n",
       "      <td>1590.96</td>\n",
       "      <td>1454.4</td>\n",
       "      <td>3272.64</td>\n",
       "      <td>545.40</td>\n",
       "      <td>509.04</td>\n",
       "      <td>1311.84</td>\n",
       "      <td>3076.92</td>\n",
       "      <td>2254.56</td>\n",
       "      <td>23040</td>\n",
       "      <td>0.0</td>\n",
       "      <td>21840</td>\n",
       "    </tr>\n",
       "  </tbody>\n",
       "</table>\n",
       "</div>"
      ],
      "text/plain": [
       "     Cyst  Alpha Clot  Slasher   Rioter  Gorefast  Gorefiend  Crawler  \\\n",
       "0  472.68      472.68   472.68  2272.80    1272.6    2727.20   509.04   \n",
       "1  399.96      436.32   436.32  1590.96    1454.4    3272.64   545.40   \n",
       "\n",
       "   Stalker    Bloat     Husk    Siren  Scrake  Quarterpound  Fleshpound  \n",
       "0   472.68  1147.86  2197.80  1972.74    5760           0.0        3120  \n",
       "1   509.04  1311.84  3076.92  2254.56   23040           0.0       21840  "
      ]
     },
     "execution_count": 26,
     "metadata": {},
     "output_type": "execute_result"
    }
   ],
   "source": [
    "# mb_v0a, all waves\n",
    "mb0a_by_zed = HP_Matrix_df * mb0a_df\n",
    "\n",
    "mb0a_by_zed.head(2)"
   ]
  },
  {
   "cell_type": "code",
   "execution_count": 27,
   "id": "a403a69a",
   "metadata": {},
   "outputs": [
    {
     "data": {
      "text/plain": [
       "22870.760000000002"
      ]
     },
     "execution_count": 27,
     "metadata": {},
     "output_type": "execute_result"
    }
   ],
   "source": [
    "# mb_v0a, wave 1\n",
    "mb0a_1_by_zed = mb0a_by_zed.iloc[0]\n",
    "mb0a_wave1_pool=mb0a_1_by_zed.sum()\n",
    "\n",
    "mb0a_wave1_pool"
   ]
  },
  {
   "cell_type": "markdown",
   "id": "615af590",
   "metadata": {},
   "source": [
    "#### 6c. Conclusion\n",
    "MB_v0a's wave 1 has about **22,871** adjusted Zed head HP"
   ]
  },
  {
   "cell_type": "markdown",
   "id": "bc87ec54",
   "metadata": {},
   "source": [
    "### 6d. *Zed Head Health Pool* for NVM_v1\n",
    "\n",
    "This pool represents the upper bounds of where I'm going push the model. Once players have the firepower needed to clear this, they're fine."
   ]
  },
  {
   "cell_type": "code",
   "execution_count": 28,
   "id": "e8c2db1e",
   "metadata": {},
   "outputs": [
    {
     "data": {
      "text/html": [
       "<div>\n",
       "<style scoped>\n",
       "    .dataframe tbody tr th:only-of-type {\n",
       "        vertical-align: middle;\n",
       "    }\n",
       "\n",
       "    .dataframe tbody tr th {\n",
       "        vertical-align: top;\n",
       "    }\n",
       "\n",
       "    .dataframe thead th {\n",
       "        text-align: right;\n",
       "    }\n",
       "</style>\n",
       "<table border=\"1\" class=\"dataframe\">\n",
       "  <thead>\n",
       "    <tr style=\"text-align: right;\">\n",
       "      <th></th>\n",
       "      <th>Cyst</th>\n",
       "      <th>Alpha Clot</th>\n",
       "      <th>Slasher</th>\n",
       "      <th>Rioter</th>\n",
       "      <th>Gorefast</th>\n",
       "      <th>Gorefiend</th>\n",
       "      <th>Crawler</th>\n",
       "      <th>Stalker</th>\n",
       "      <th>Bloat</th>\n",
       "      <th>Husk</th>\n",
       "      <th>Siren</th>\n",
       "      <th>Scrake</th>\n",
       "      <th>Quarterpound</th>\n",
       "      <th>Fleshpound</th>\n",
       "    </tr>\n",
       "  </thead>\n",
       "  <tbody>\n",
       "    <tr>\n",
       "      <th>8</th>\n",
       "      <td>0.0</td>\n",
       "      <td>327.24</td>\n",
       "      <td>236.34</td>\n",
       "      <td>4886.52</td>\n",
       "      <td>590.85</td>\n",
       "      <td>4636.24</td>\n",
       "      <td>509.04</td>\n",
       "      <td>363.60</td>\n",
       "      <td>2705.67</td>\n",
       "      <td>11208.78</td>\n",
       "      <td>5495.49</td>\n",
       "      <td>110880</td>\n",
       "      <td>0.0</td>\n",
       "      <td>65520</td>\n",
       "    </tr>\n",
       "    <tr>\n",
       "      <th>9</th>\n",
       "      <td>0.0</td>\n",
       "      <td>218.16</td>\n",
       "      <td>109.08</td>\n",
       "      <td>5454.72</td>\n",
       "      <td>818.10</td>\n",
       "      <td>4772.60</td>\n",
       "      <td>163.62</td>\n",
       "      <td>218.16</td>\n",
       "      <td>3279.60</td>\n",
       "      <td>12967.02</td>\n",
       "      <td>5777.31</td>\n",
       "      <td>120960</td>\n",
       "      <td>0.0</td>\n",
       "      <td>73320</td>\n",
       "    </tr>\n",
       "  </tbody>\n",
       "</table>\n",
       "</div>"
      ],
      "text/plain": [
       "   Cyst  Alpha Clot  Slasher   Rioter  Gorefast  Gorefiend  Crawler  Stalker  \\\n",
       "8   0.0      327.24   236.34  4886.52    590.85    4636.24   509.04   363.60   \n",
       "9   0.0      218.16   109.08  5454.72    818.10    4772.60   163.62   218.16   \n",
       "\n",
       "     Bloat      Husk    Siren  Scrake  Quarterpound  Fleshpound  \n",
       "8  2705.67  11208.78  5495.49  110880           0.0       65520  \n",
       "9  3279.60  12967.02  5777.31  120960           0.0       73320  "
      ]
     },
     "execution_count": 28,
     "metadata": {},
     "output_type": "execute_result"
    }
   ],
   "source": [
    "# nvm_v1, all waves\n",
    "nvm1_by_zed = HP_Matrix_df * nvm1_df\n",
    "\n",
    "nvm1_by_zed.tail(2)"
   ]
  },
  {
   "cell_type": "code",
   "execution_count": 29,
   "id": "dfb89f67",
   "metadata": {},
   "outputs": [],
   "source": [
    "# nvm_v1, wave 10\n",
    "nvm1_10_by_zed = nvm1_by_zed.iloc[9]\n",
    "# nvm1_10_by_zed"
   ]
  },
  {
   "cell_type": "code",
   "execution_count": 30,
   "id": "0d40700f",
   "metadata": {},
   "outputs": [
    {
     "data": {
      "text/plain": [
       "228058.37"
      ]
     },
     "execution_count": 30,
     "metadata": {},
     "output_type": "execute_result"
    }
   ],
   "source": [
    "nvm1_10_pool = nvm1_10_by_zed.sum()\n",
    "nvm1_10_pool"
   ]
  },
  {
   "cell_type": "markdown",
   "id": "76123f83",
   "metadata": {},
   "source": [
    "#### 6d. Conclusion\n",
    "NVM_v1's wave 10 has a monumental **228,058.37** points of adjusted Zed head HP"
   ]
  },
  {
   "cell_type": "markdown",
   "id": "b8f9c2b4",
   "metadata": {},
   "source": [
    "### 6e. Maximum Team Damage with Wave 1 Loadouts"
   ]
  },
  {
   "cell_type": "code",
   "execution_count": 31,
   "id": "43e5802a",
   "metadata": {},
   "outputs": [
    {
     "data": {
      "text/plain": [
       "189"
      ]
     },
     "execution_count": 31,
     "metadata": {},
     "output_type": "execute_result"
    }
   ],
   "source": [
    "# Setting up weapon damage variables\n",
    "nine_cmd_dmg = int(weapons_df['Total Damage'][0])\n",
    "ar15_hpr_dmg = int(weapons_df['Total Damage'][1])\n",
    "bullpup_hpr_dmg = int(weapons_df['Total Damage'][2])\n",
    "bullpup_cmd_dmg = int(weapons_df['Total Damage'][3])\n",
    "scar_cmd_dmg = int(weapons_df['Total Damage'][4])\n",
    "fnfal_cmd_dmg = int(weapons_df['Total Damage'][5])\n",
    "nine_ss_dmg = int(weapons_df['Total Damage'][6])\n",
    "winch_ss_dmg = int(weapons_df['Total Damage'][7])\n",
    "ebr_ss_dmg = int(weapons_df['Total Damage'][8])\n",
    "ebr1_ss_dmg = int(weapons_df['Total Damage'][9])\n",
    "spx_ss_dmg = int(weapons_df['Total Damage'][10])\n",
    "spx1_ss_dmg = int(weapons_df['Total Damage'][11])\n",
    "spx2_ss_dmg = int(weapons_df['Total Damage'][12])\n",
    "nine_gs_dmg = int(weapons_df['Total Damage'][13])\n",
    "spx_gs_dmg = int(weapons_df['Total Damage'][14])\n",
    "spx1_gs_dmg = int(weapons_df['Total Damage'][15])\n",
    "spx2_gs_dmg = int(weapons_df['Total Damage'][16])\n",
    "revol_gs_dmg = int(weapons_df['Total Damage'][17])\n",
    "deag_gs_dmg = int(weapons_df['Total Damage'][18])\n",
    "ebr1_ss_dmg"
   ]
  },
  {
   "cell_type": "code",
   "execution_count": 32,
   "id": "0c13a87c",
   "metadata": {},
   "outputs": [],
   "source": [
    "# REFERENCE LIST TO COPY AROUND\n",
    "# nine_cmd_dmg = int(weapons_df['Total Damage'][0])\n",
    "# ar15_hpr_dmg = int(weapons_df['Total Damage'][1])\n",
    "# bullpup_hpr_dmg = int(weapons_df['Total Damage'][2])\n",
    "# bullpup_cmd_dmg = int(weapons_df['Total Damage'][3])\n",
    "# scar_cmd_dmg = int(weapons_df['Total Damage'][4])\n",
    "# fnfal_cmd_dmg = int(weapons_df['Total Damage'][5])\n",
    "# nine_ss_dmg = int(weapons_df['Total Damage'][6])\n",
    "# winch_ss_dmg = int(weapons_df['Total Damage'][7])\n",
    "# ebr_ss_dmg = int(weapons_df['Total Damage'][8])\n",
    "# ebr1_ss_dmg = int(weapons_df['Total Damage'][9])\n",
    "# spx_ss_dmg = int(weapons_df['Total Damage'][10])\n",
    "# spx1_ss_dmg = int(weapons_df['Total Damage'][11])\n",
    "# spx2_ss_dmg = int(weapons_df['Total Damage'][12])\n",
    "# nine_gs_dmg = int(weapons_df['Total Damage'][13])\n",
    "# spx_gs_dmg = int(weapons_df['Total Damage'][14])\n",
    "# spx1_gs_dmg = int(weapons_df['Total Damage'][15])\n",
    "# spx2_gs_dmg = int(weapons_df['Total Damage'][16])\n",
    "# revol_gs_dmg = int(weapons_df['Total Damage'][17])\n",
    "# deag_gs_dmg = int(weapons_df['Total Damage'][18])"
   ]
  },
  {
   "cell_type": "markdown",
   "id": "15405f64",
   "metadata": {},
   "source": [
    "Perks will spawn in with the following ammunition loads:\n",
    "\n",
    "#### Commando\n",
    "\n",
    "- 9mm (mando), 90 rounds\n",
    "- AR15 HPR, 308 rounds\n",
    "\n",
    "#### Gunslinger 1\n",
    "\n",
    "- 9mm (slinger), 90 rounds\n",
    "- Dual 1858, 156 rounds\n",
    "\n",
    "#### Gunslinger 2\n",
    "\n",
    "- 9mm (slinger), 90 rounds\n",
    "- Dual 1858, 156 rounds\n",
    "\n",
    "#### Sharpshooter 1\n",
    "\n",
    "- 9mm (sharp), 109 rounds\n",
    "- Winchester, 117 rounds\n",
    "\n",
    "#### Sharpshooter 2\n",
    "\n",
    "- 9mm (sharp), 109 rounds\n",
    "- Winchester, 117 rounds\n",
    "\n",
    "The following code calculates the max damage of each player's loadout and stores those values in an array. "
   ]
  },
  {
   "cell_type": "code",
   "execution_count": 33,
   "id": "36c8286b",
   "metadata": {},
   "outputs": [],
   "source": [
    "team_w1_ammo = [90,308,90,156,90,156,109,117,109,117]"
   ]
  },
  {
   "cell_type": "code",
   "execution_count": 34,
   "id": "9b53e6d2",
   "metadata": {},
   "outputs": [],
   "source": [
    "# Initialize the array for collecting together the team's damage & another array for keeping things straight\n",
    "team_w1_full = np.empty(shape=(0))\n",
    "team_w1_full_labels = np.empty(shape=(0))\n",
    "team_w1_full_perShot = np.empty(shape=(0))"
   ]
  },
  {
   "cell_type": "code",
   "execution_count": 35,
   "id": "aff1ecc3",
   "metadata": {},
   "outputs": [],
   "source": [
    "# Commando, Wave 1\n",
    "cmd_w1 = []\n",
    "cmd_w1.append(nine_cmd_dmg*team_w1_ammo[0]) \n",
    "cmd_w1.append(ar15_hpr_dmg*team_w1_ammo[1])\n",
    "\n",
    "team_w1_full = np.append(team_w1_full,cmd_w1)\n",
    "\n",
    "#Assorted arrays that will help us remember and use all these values later\n",
    "team_w1_full_labels = np.append(team_w1_full_labels,'mando 9mm')\n",
    "team_w1_full_labels = np.append(team_w1_full_labels,'mando ar15hpr')\n",
    "team_w1_full_perShot = np.append(team_w1_full_perShot,nine_cmd_dmg)\n",
    "team_w1_full_perShot = np.append(team_w1_full_perShot,ar15_hpr_dmg)\n",
    "# team_w1_full"
   ]
  },
  {
   "cell_type": "code",
   "execution_count": 36,
   "id": "f2d5b9e4",
   "metadata": {},
   "outputs": [],
   "source": [
    "# Gunslinger 1, Wave 1\n",
    "gs1_w1 = []\n",
    "gs1_w1.append(nine_gs_dmg*team_w1_ammo[2]) \n",
    "gs1_w1.append(revol_gs_dmg*team_w1_ammo[3])\n",
    "\n",
    "team_w1_full = np.append(team_w1_full,gs1_w1)\n",
    "\n",
    "#Assorted arrays that will help us remember and use all these values later\n",
    "team_w1_full_labels = np.append(team_w1_full_labels,'gs1 9mm')\n",
    "team_w1_full_labels = np.append(team_w1_full_labels,'gs1 1858s')\n",
    "team_w1_full_perShot = np.append(team_w1_full_perShot,nine_gs_dmg)\n",
    "team_w1_full_perShot = np.append(team_w1_full_perShot,revol_gs_dmg)\n",
    "# team_w1_full"
   ]
  },
  {
   "cell_type": "code",
   "execution_count": 37,
   "id": "acfdc69a",
   "metadata": {},
   "outputs": [],
   "source": [
    "# Gunslinger 2, Wave 1\n",
    "gs2_w1 = []\n",
    "gs2_w1.append(nine_gs_dmg*team_w1_ammo[4]) \n",
    "gs2_w1.append(revol_gs_dmg*team_w1_ammo[5])\n",
    "\n",
    "team_w1_full = np.append(team_w1_full,gs2_w1)\n",
    "\n",
    "#Assorted arrays that will help us remember and use all these values later\n",
    "team_w1_full_labels = np.append(team_w1_full_labels,'gs2 9mm')\n",
    "team_w1_full_labels = np.append(team_w1_full_labels,'gs2 1858s')\n",
    "team_w1_full_perShot = np.append(team_w1_full_perShot,nine_gs_dmg)\n",
    "team_w1_full_perShot = np.append(team_w1_full_perShot,revol_gs_dmg)\n",
    "# team_w1_full"
   ]
  },
  {
   "cell_type": "code",
   "execution_count": 38,
   "id": "2ea2b3c5",
   "metadata": {},
   "outputs": [],
   "source": [
    "# Sharpshooter 1, Wave 1\n",
    "ss1_w1 = []\n",
    "ss1_w1.append(nine_ss_dmg*team_w1_ammo[6]) \n",
    "ss1_w1.append(winch_ss_dmg*team_w1_ammo[7])\n",
    "\n",
    "team_w1_full = np.append(team_w1_full,ss1_w1)\n",
    "\n",
    "#Assorted arrays that will help us remember and use all these values later\n",
    "team_w1_full_labels = np.append(team_w1_full_labels,'ss1 9mm')\n",
    "team_w1_full_labels = np.append(team_w1_full_labels,'ss1 winch')\n",
    "team_w1_full_perShot = np.append(team_w1_full_perShot,nine_ss_dmg)\n",
    "team_w1_full_perShot = np.append(team_w1_full_perShot,winch_ss_dmg)\n",
    "# team_w1_full"
   ]
  },
  {
   "cell_type": "code",
   "execution_count": 39,
   "id": "75f9bbcb",
   "metadata": {},
   "outputs": [],
   "source": [
    "# Sharpshooter 2, Wave 1\n",
    "ss2_w1 = []\n",
    "ss2_w1.append(nine_ss_dmg*team_w1_ammo[8]) \n",
    "ss2_w1.append(winch_ss_dmg*team_w1_ammo[9])\n",
    "\n",
    "team_w1_full = np.append(team_w1_full,ss2_w1)\n",
    "\n",
    "#Assorted arrays that will help us remember and use all these values later\n",
    "team_w1_full_labels = np.append(team_w1_full_labels,'ss2 9mm')\n",
    "team_w1_full_labels = np.append(team_w1_full_labels,'ss2 winch')\n",
    "team_w1_full_perShot = np.append(team_w1_full_perShot,nine_ss_dmg)\n",
    "team_w1_full_perShot = np.append(team_w1_full_perShot,winch_ss_dmg)\n",
    "# team_w1_full"
   ]
  },
  {
   "cell_type": "code",
   "execution_count": 40,
   "id": "d7a85f79",
   "metadata": {},
   "outputs": [
    {
     "data": {
      "text/plain": [
       "array([ 4230., 14476.,  3960., 13728.,  3960., 13728.,  5668., 19188.,\n",
       "        5668., 19188.])"
      ]
     },
     "execution_count": 40,
     "metadata": {},
     "output_type": "execute_result"
    }
   ],
   "source": [
    "team_w1_full"
   ]
  },
  {
   "cell_type": "code",
   "execution_count": 41,
   "id": "6ba355d4",
   "metadata": {},
   "outputs": [
    {
     "data": {
      "text/plain": [
       "array(['mando 9mm', 'mando ar15hpr', 'gs1 9mm', 'gs1 1858s', 'gs2 9mm',\n",
       "       'gs2 1858s', 'ss1 9mm', 'ss1 winch', 'ss2 9mm', 'ss2 winch'],\n",
       "      dtype='<U32')"
      ]
     },
     "execution_count": 41,
     "metadata": {},
     "output_type": "execute_result"
    }
   ],
   "source": [
    "team_w1_full_labels"
   ]
  },
  {
   "cell_type": "code",
   "execution_count": 42,
   "id": "e329fc0a",
   "metadata": {},
   "outputs": [
    {
     "data": {
      "text/html": [
       "<div>\n",
       "<style scoped>\n",
       "    .dataframe tbody tr th:only-of-type {\n",
       "        vertical-align: middle;\n",
       "    }\n",
       "\n",
       "    .dataframe tbody tr th {\n",
       "        vertical-align: top;\n",
       "    }\n",
       "\n",
       "    .dataframe thead th {\n",
       "        text-align: right;\n",
       "    }\n",
       "</style>\n",
       "<table border=\"1\" class=\"dataframe\">\n",
       "  <thead>\n",
       "    <tr style=\"text-align: right;\">\n",
       "      <th></th>\n",
       "      <th>mando 9mm</th>\n",
       "      <th>mando ar15hpr</th>\n",
       "      <th>gs1 9mm</th>\n",
       "      <th>gs1 1858s</th>\n",
       "      <th>gs2 9mm</th>\n",
       "      <th>gs2 1858s</th>\n",
       "      <th>ss1 9mm</th>\n",
       "      <th>ss1 winch</th>\n",
       "      <th>ss2 9mm</th>\n",
       "      <th>ss2 winch</th>\n",
       "    </tr>\n",
       "  </thead>\n",
       "  <tbody>\n",
       "    <tr>\n",
       "      <th>0</th>\n",
       "      <td>4230.0</td>\n",
       "      <td>14476.0</td>\n",
       "      <td>3960.0</td>\n",
       "      <td>13728.0</td>\n",
       "      <td>3960.0</td>\n",
       "      <td>13728.0</td>\n",
       "      <td>5668.0</td>\n",
       "      <td>19188.0</td>\n",
       "      <td>5668.0</td>\n",
       "      <td>19188.0</td>\n",
       "    </tr>\n",
       "  </tbody>\n",
       "</table>\n",
       "</div>"
      ],
      "text/plain": [
       "   mando 9mm  mando ar15hpr  gs1 9mm  gs1 1858s  gs2 9mm  gs2 1858s  ss1 9mm  \\\n",
       "0     4230.0        14476.0   3960.0    13728.0   3960.0    13728.0   5668.0   \n",
       "\n",
       "   ss1 winch  ss2 9mm  ss2 winch  \n",
       "0    19188.0   5668.0    19188.0  "
      ]
     },
     "execution_count": 42,
     "metadata": {},
     "output_type": "execute_result"
    }
   ],
   "source": [
    "team_w1_full_df = pd.DataFrame([team_w1_full],columns=team_w1_full_labels)\n",
    "team_w1_full_df"
   ]
  },
  {
   "cell_type": "code",
   "execution_count": 43,
   "id": "72390f1d",
   "metadata": {},
   "outputs": [
    {
     "data": {
      "text/plain": [
       "103794.0"
      ]
     },
     "execution_count": 43,
     "metadata": {},
     "output_type": "execute_result"
    }
   ],
   "source": [
    "# Total Team Damage\n",
    "Max_Team_Damage_w1 = sum(team_w1_full)\n",
    "Max_Team_Damage_w1"
   ]
  },
  {
   "cell_type": "code",
   "execution_count": 44,
   "id": "344fb62c",
   "metadata": {},
   "outputs": [
    {
     "data": {
      "text/plain": [
       "array([0.0407538 , 0.13946856, 0.03815249, 0.13226198, 0.03815249,\n",
       "       0.13226198, 0.05460817, 0.18486618, 0.05460817, 0.18486618])"
      ]
     },
     "execution_count": 44,
     "metadata": {},
     "output_type": "execute_result"
    }
   ],
   "source": [
    "team_w1_full_perc = team_w1_full/Max_Team_Damage_w1\n",
    "team_w1_full_perc"
   ]
  },
  {
   "cell_type": "markdown",
   "id": "4cce4611",
   "metadata": {},
   "source": [
    "#### 6e. Conclusion\n",
    "Through this process, we discover our team, if they had 100% accuracy at all times and the zeds didn't resist any damage, could deal an impressive **103,794** points of damage.\n",
    "\n",
    "However, players are not perfect aim bots, and even if they were, the zeds have resistances to player weapons."
   ]
  },
  {
   "cell_type": "markdown",
   "id": "e30a5d8c",
   "metadata": {},
   "source": [
    "### 6g. Max Team Damage after HSACC in Wave 1\n",
    "\n",
    "Now, we apply the headshot accuracies we found waaaaay back in 6a and 6b.\n",
    "We found dps_hsacc to be **51.025%** and mando_hsacc to be **17.82%**. Now, we need to modify our damage totals appropriately so we know how many shots players are actually going to land.\n",
    "\n",
    "HOWEVER: The **17.82%** does commando players a *grave* disservice in the first wave. They, too, are on semi-automatic weapons, firing at the same sorts of targets as the DPS players. So, for the first wave, and the ***first wave only***, our commando will use the DPS players' accuracies.\n",
    "\n",
    "At the end, we will also create an array with the percentage of the team's total damage that each weapon represents. This will be used to weight the ammunition expenditure from each weapon."
   ]
  },
  {
   "cell_type": "markdown",
   "id": "d9586c91",
   "metadata": {},
   "source": [
    "This first table is the total theoretical damage for each weapon."
   ]
  },
  {
   "cell_type": "code",
   "execution_count": 45,
   "id": "4221128f",
   "metadata": {
    "scrolled": true
   },
   "outputs": [
    {
     "data": {
      "text/html": [
       "<div>\n",
       "<style scoped>\n",
       "    .dataframe tbody tr th:only-of-type {\n",
       "        vertical-align: middle;\n",
       "    }\n",
       "\n",
       "    .dataframe tbody tr th {\n",
       "        vertical-align: top;\n",
       "    }\n",
       "\n",
       "    .dataframe thead th {\n",
       "        text-align: right;\n",
       "    }\n",
       "</style>\n",
       "<table border=\"1\" class=\"dataframe\">\n",
       "  <thead>\n",
       "    <tr style=\"text-align: right;\">\n",
       "      <th></th>\n",
       "      <th>mando 9mm</th>\n",
       "      <th>mando ar15hpr</th>\n",
       "      <th>gs1 9mm</th>\n",
       "      <th>gs1 1858s</th>\n",
       "      <th>gs2 9mm</th>\n",
       "      <th>gs2 1858s</th>\n",
       "      <th>ss1 9mm</th>\n",
       "      <th>ss1 winch</th>\n",
       "      <th>ss2 9mm</th>\n",
       "      <th>ss2 winch</th>\n",
       "    </tr>\n",
       "  </thead>\n",
       "  <tbody>\n",
       "    <tr>\n",
       "      <th>0</th>\n",
       "      <td>4230.0</td>\n",
       "      <td>14476.0</td>\n",
       "      <td>3960.0</td>\n",
       "      <td>13728.0</td>\n",
       "      <td>3960.0</td>\n",
       "      <td>13728.0</td>\n",
       "      <td>5668.0</td>\n",
       "      <td>19188.0</td>\n",
       "      <td>5668.0</td>\n",
       "      <td>19188.0</td>\n",
       "    </tr>\n",
       "  </tbody>\n",
       "</table>\n",
       "</div>"
      ],
      "text/plain": [
       "   mando 9mm  mando ar15hpr  gs1 9mm  gs1 1858s  gs2 9mm  gs2 1858s  ss1 9mm  \\\n",
       "0     4230.0        14476.0   3960.0    13728.0   3960.0    13728.0   5668.0   \n",
       "\n",
       "   ss1 winch  ss2 9mm  ss2 winch  \n",
       "0    19188.0   5668.0    19188.0  "
      ]
     },
     "execution_count": 45,
     "metadata": {},
     "output_type": "execute_result"
    }
   ],
   "source": [
    "team_w1_full_df = pd.DataFrame([team_w1_full],columns=team_w1_full_labels)\n",
    "team_w1_full_df"
   ]
  },
  {
   "cell_type": "markdown",
   "id": "9c66b2d7",
   "metadata": {},
   "source": [
    "Now, we change multiply those values by our 51.025% headshot accuracy"
   ]
  },
  {
   "cell_type": "code",
   "execution_count": 46,
   "id": "3aa7c3c8",
   "metadata": {
    "scrolled": true
   },
   "outputs": [
    {
     "data": {
      "text/html": [
       "<div>\n",
       "<style scoped>\n",
       "    .dataframe tbody tr th:only-of-type {\n",
       "        vertical-align: middle;\n",
       "    }\n",
       "\n",
       "    .dataframe tbody tr th {\n",
       "        vertical-align: top;\n",
       "    }\n",
       "\n",
       "    .dataframe thead th {\n",
       "        text-align: right;\n",
       "    }\n",
       "</style>\n",
       "<table border=\"1\" class=\"dataframe\">\n",
       "  <thead>\n",
       "    <tr style=\"text-align: right;\">\n",
       "      <th></th>\n",
       "      <th>mando 9mm</th>\n",
       "      <th>mando ar15hpr</th>\n",
       "      <th>gs1 9mm</th>\n",
       "      <th>gs1 1858s</th>\n",
       "      <th>gs2 9mm</th>\n",
       "      <th>gs2 1858s</th>\n",
       "      <th>ss1 9mm</th>\n",
       "      <th>ss1 winch</th>\n",
       "      <th>ss2 9mm</th>\n",
       "      <th>ss2 winch</th>\n",
       "    </tr>\n",
       "  </thead>\n",
       "  <tbody>\n",
       "    <tr>\n",
       "      <th>0</th>\n",
       "      <td>2158.3575</td>\n",
       "      <td>7386.379</td>\n",
       "      <td>2020.59</td>\n",
       "      <td>7004.712</td>\n",
       "      <td>2020.59</td>\n",
       "      <td>7004.712</td>\n",
       "      <td>2892.097</td>\n",
       "      <td>9790.677</td>\n",
       "      <td>2892.097</td>\n",
       "      <td>9790.677</td>\n",
       "    </tr>\n",
       "  </tbody>\n",
       "</table>\n",
       "</div>"
      ],
      "text/plain": [
       "   mando 9mm  mando ar15hpr  gs1 9mm  gs1 1858s  gs2 9mm  gs2 1858s   ss1 9mm  \\\n",
       "0  2158.3575       7386.379  2020.59   7004.712  2020.59   7004.712  2892.097   \n",
       "\n",
       "   ss1 winch   ss2 9mm  ss2 winch  \n",
       "0   9790.677  2892.097   9790.677  "
      ]
     },
     "execution_count": 46,
     "metadata": {},
     "output_type": "execute_result"
    }
   ],
   "source": [
    "team_w1_hsacc = np.copy(team_w1_full)\n",
    "team_w1_hsacc*=dps_hsacc\n",
    "team_w1_hsacc_df = pd.DataFrame([team_w1_hsacc],columns=team_w1_full_labels)\n",
    "team_w1_hsacc_df"
   ]
  },
  {
   "cell_type": "markdown",
   "id": "66f7c174",
   "metadata": {},
   "source": [
    "Next, we find the total."
   ]
  },
  {
   "cell_type": "code",
   "execution_count": 47,
   "id": "69d401b8",
   "metadata": {},
   "outputs": [
    {
     "data": {
      "text/plain": [
       "52960.8885"
      ]
     },
     "execution_count": 47,
     "metadata": {},
     "output_type": "execute_result"
    }
   ],
   "source": [
    "Max_Team_Damage_w1_HSACC = sum(team_w1_hsacc)\n",
    "Max_Team_Damage_w1_HSACC"
   ]
  },
  {
   "cell_type": "markdown",
   "id": "0a9b096c",
   "metadata": {},
   "source": [
    "We close out with some percentages to use later. These are identical to the percentages of total possible damage this wave, since we assigned our commando the same accuracy as the DPS players, but that will change in later waves."
   ]
  },
  {
   "cell_type": "code",
   "execution_count": 48,
   "id": "a8c72090",
   "metadata": {},
   "outputs": [
    {
     "data": {
      "text/html": [
       "<div>\n",
       "<style scoped>\n",
       "    .dataframe tbody tr th:only-of-type {\n",
       "        vertical-align: middle;\n",
       "    }\n",
       "\n",
       "    .dataframe tbody tr th {\n",
       "        vertical-align: top;\n",
       "    }\n",
       "\n",
       "    .dataframe thead th {\n",
       "        text-align: right;\n",
       "    }\n",
       "</style>\n",
       "<table border=\"1\" class=\"dataframe\">\n",
       "  <thead>\n",
       "    <tr style=\"text-align: right;\">\n",
       "      <th></th>\n",
       "      <th>mando 9mm</th>\n",
       "      <th>mando ar15hpr</th>\n",
       "      <th>gs1 9mm</th>\n",
       "      <th>gs1 1858s</th>\n",
       "      <th>gs2 9mm</th>\n",
       "      <th>gs2 1858s</th>\n",
       "      <th>ss1 9mm</th>\n",
       "      <th>ss1 winch</th>\n",
       "      <th>ss2 9mm</th>\n",
       "      <th>ss2 winch</th>\n",
       "    </tr>\n",
       "  </thead>\n",
       "  <tbody>\n",
       "    <tr>\n",
       "      <th>0</th>\n",
       "      <td>0.040754</td>\n",
       "      <td>0.139469</td>\n",
       "      <td>0.038152</td>\n",
       "      <td>0.132262</td>\n",
       "      <td>0.038152</td>\n",
       "      <td>0.132262</td>\n",
       "      <td>0.054608</td>\n",
       "      <td>0.184866</td>\n",
       "      <td>0.054608</td>\n",
       "      <td>0.184866</td>\n",
       "    </tr>\n",
       "  </tbody>\n",
       "</table>\n",
       "</div>"
      ],
      "text/plain": [
       "   mando 9mm  mando ar15hpr   gs1 9mm  gs1 1858s   gs2 9mm  gs2 1858s  \\\n",
       "0   0.040754       0.139469  0.038152   0.132262  0.038152   0.132262   \n",
       "\n",
       "    ss1 9mm  ss1 winch   ss2 9mm  ss2 winch  \n",
       "0  0.054608   0.184866  0.054608   0.184866  "
      ]
     },
     "execution_count": 48,
     "metadata": {},
     "output_type": "execute_result"
    }
   ],
   "source": [
    "# Percent of overall damage dealt by each weapon\n",
    "team_w1_hsacc_perc = team_w1_hsacc / sum(team_w1_hsacc)\n",
    "team_w1_hsacc_perc_df = pd.DataFrame([team_w1_hsacc_perc],columns=team_w1_full_labels)\n",
    "team_w1_hsacc_perc_df"
   ]
  },
  {
   "cell_type": "markdown",
   "id": "926aa6d4",
   "metadata": {},
   "source": [
    "#### 6f. Max Team Damage after HSACC Conclusion\n",
    "\n",
    "Now, we find that our team is still on track to an impressive **52,961** points of damage once accuracies are accounted for. In addition, we have percentages of that total that each weapon is expected to do.\n",
    "\n",
    "However, our work is not done."
   ]
  },
  {
   "cell_type": "markdown",
   "id": "d7215a44",
   "metadata": {},
   "source": [
    "### 6g. Max Team Damage after Weapon Resistances in Wave 1\n",
    "Weapon math in KF2 comes with the fun and exciting added complication of enemy damage resistances. This is where things can get really weird.\n",
    "\n",
    "The following is a sample of the assorted damage resistances this model has to deal with."
   ]
  },
  {
   "cell_type": "code",
   "execution_count": 49,
   "id": "f98c4e49",
   "metadata": {},
   "outputs": [
    {
     "data": {
      "text/html": [
       "<div>\n",
       "<style scoped>\n",
       "    .dataframe tbody tr th:only-of-type {\n",
       "        vertical-align: middle;\n",
       "    }\n",
       "\n",
       "    .dataframe tbody tr th {\n",
       "        vertical-align: top;\n",
       "    }\n",
       "\n",
       "    .dataframe thead th {\n",
       "        text-align: right;\n",
       "    }\n",
       "</style>\n",
       "<table border=\"1\" class=\"dataframe\">\n",
       "  <thead>\n",
       "    <tr style=\"text-align: right;\">\n",
       "      <th></th>\n",
       "      <th>9mm (mando)</th>\n",
       "      <th>AR15 HPR</th>\n",
       "      <th>Bullpup HPR</th>\n",
       "      <th>Bullpup</th>\n",
       "      <th>SCAR</th>\n",
       "      <th>FN FAL</th>\n",
       "      <th>9mm (sharp)</th>\n",
       "      <th>Winchester</th>\n",
       "      <th>EBR</th>\n",
       "      <th>EBR+1</th>\n",
       "      <th>SPX (sharp)</th>\n",
       "      <th>SPX+1 (sharp)</th>\n",
       "      <th>SPX+2 (sharp)</th>\n",
       "      <th>9mm (slinger)</th>\n",
       "      <th>SPX (slinger)</th>\n",
       "      <th>SPX+1 (slinger)</th>\n",
       "      <th>SPX+2 (slinger)</th>\n",
       "      <th>1858 (single)</th>\n",
       "      <th>Deagle (single)</th>\n",
       "    </tr>\n",
       "    <tr>\n",
       "      <th>Weapon</th>\n",
       "      <th></th>\n",
       "      <th></th>\n",
       "      <th></th>\n",
       "      <th></th>\n",
       "      <th></th>\n",
       "      <th></th>\n",
       "      <th></th>\n",
       "      <th></th>\n",
       "      <th></th>\n",
       "      <th></th>\n",
       "      <th></th>\n",
       "      <th></th>\n",
       "      <th></th>\n",
       "      <th></th>\n",
       "      <th></th>\n",
       "      <th></th>\n",
       "      <th></th>\n",
       "      <th></th>\n",
       "      <th></th>\n",
       "    </tr>\n",
       "  </thead>\n",
       "  <tbody>\n",
       "    <tr>\n",
       "      <th>Cyst</th>\n",
       "      <td>1.01</td>\n",
       "      <td>1.5</td>\n",
       "      <td>1.5</td>\n",
       "      <td>1.5</td>\n",
       "      <td>1.5</td>\n",
       "      <td>1.00</td>\n",
       "      <td>1.01</td>\n",
       "      <td>1.00</td>\n",
       "      <td>1.00</td>\n",
       "      <td>1.00</td>\n",
       "      <td>1.00</td>\n",
       "      <td>1.00</td>\n",
       "      <td>1.00</td>\n",
       "      <td>1.01</td>\n",
       "      <td>1.00</td>\n",
       "      <td>1.00</td>\n",
       "      <td>1.00</td>\n",
       "      <td>1.01</td>\n",
       "      <td>1.01</td>\n",
       "    </tr>\n",
       "    <tr>\n",
       "      <th>Alpha Clot</th>\n",
       "      <td>1.01</td>\n",
       "      <td>1.0</td>\n",
       "      <td>1.0</td>\n",
       "      <td>1.0</td>\n",
       "      <td>1.0</td>\n",
       "      <td>1.00</td>\n",
       "      <td>1.01</td>\n",
       "      <td>1.00</td>\n",
       "      <td>1.00</td>\n",
       "      <td>1.00</td>\n",
       "      <td>1.00</td>\n",
       "      <td>1.00</td>\n",
       "      <td>1.00</td>\n",
       "      <td>1.01</td>\n",
       "      <td>1.00</td>\n",
       "      <td>1.00</td>\n",
       "      <td>1.00</td>\n",
       "      <td>1.01</td>\n",
       "      <td>1.01</td>\n",
       "    </tr>\n",
       "    <tr>\n",
       "      <th>Slasher</th>\n",
       "      <td>1.01</td>\n",
       "      <td>1.0</td>\n",
       "      <td>1.0</td>\n",
       "      <td>1.0</td>\n",
       "      <td>1.0</td>\n",
       "      <td>1.00</td>\n",
       "      <td>1.01</td>\n",
       "      <td>1.00</td>\n",
       "      <td>1.00</td>\n",
       "      <td>1.00</td>\n",
       "      <td>1.00</td>\n",
       "      <td>1.00</td>\n",
       "      <td>1.00</td>\n",
       "      <td>1.01</td>\n",
       "      <td>1.00</td>\n",
       "      <td>1.00</td>\n",
       "      <td>1.00</td>\n",
       "      <td>1.01</td>\n",
       "      <td>1.01</td>\n",
       "    </tr>\n",
       "    <tr>\n",
       "      <th>Rioter</th>\n",
       "      <td>1.01</td>\n",
       "      <td>1.0</td>\n",
       "      <td>1.0</td>\n",
       "      <td>1.0</td>\n",
       "      <td>1.0</td>\n",
       "      <td>1.00</td>\n",
       "      <td>1.01</td>\n",
       "      <td>1.00</td>\n",
       "      <td>1.00</td>\n",
       "      <td>1.00</td>\n",
       "      <td>1.00</td>\n",
       "      <td>1.00</td>\n",
       "      <td>1.00</td>\n",
       "      <td>1.01</td>\n",
       "      <td>1.00</td>\n",
       "      <td>1.00</td>\n",
       "      <td>1.00</td>\n",
       "      <td>1.01</td>\n",
       "      <td>1.01</td>\n",
       "    </tr>\n",
       "    <tr>\n",
       "      <th>Gorefast</th>\n",
       "      <td>1.00</td>\n",
       "      <td>1.2</td>\n",
       "      <td>1.2</td>\n",
       "      <td>1.2</td>\n",
       "      <td>1.2</td>\n",
       "      <td>1.25</td>\n",
       "      <td>1.00</td>\n",
       "      <td>1.25</td>\n",
       "      <td>1.25</td>\n",
       "      <td>1.25</td>\n",
       "      <td>1.25</td>\n",
       "      <td>1.25</td>\n",
       "      <td>1.25</td>\n",
       "      <td>1.00</td>\n",
       "      <td>1.25</td>\n",
       "      <td>1.25</td>\n",
       "      <td>1.25</td>\n",
       "      <td>1.00</td>\n",
       "      <td>1.00</td>\n",
       "    </tr>\n",
       "  </tbody>\n",
       "</table>\n",
       "</div>"
      ],
      "text/plain": [
       "            9mm (mando)  AR15 HPR  Bullpup HPR  Bullpup  SCAR  FN FAL  \\\n",
       "Weapon                                                                  \n",
       "Cyst               1.01       1.5          1.5      1.5   1.5    1.00   \n",
       "Alpha Clot         1.01       1.0          1.0      1.0   1.0    1.00   \n",
       "Slasher            1.01       1.0          1.0      1.0   1.0    1.00   \n",
       "Rioter             1.01       1.0          1.0      1.0   1.0    1.00   \n",
       "Gorefast           1.00       1.2          1.2      1.2   1.2    1.25   \n",
       "\n",
       "            9mm (sharp)  Winchester   EBR  EBR+1  SPX (sharp)  SPX+1 (sharp)  \\\n",
       "Weapon                                                                         \n",
       "Cyst               1.01        1.00  1.00   1.00         1.00           1.00   \n",
       "Alpha Clot         1.01        1.00  1.00   1.00         1.00           1.00   \n",
       "Slasher            1.01        1.00  1.00   1.00         1.00           1.00   \n",
       "Rioter             1.01        1.00  1.00   1.00         1.00           1.00   \n",
       "Gorefast           1.00        1.25  1.25   1.25         1.25           1.25   \n",
       "\n",
       "            SPX+2 (sharp)  9mm (slinger)  SPX (slinger)  SPX+1 (slinger)  \\\n",
       "Weapon                                                                     \n",
       "Cyst                 1.00           1.01           1.00             1.00   \n",
       "Alpha Clot           1.00           1.01           1.00             1.00   \n",
       "Slasher              1.00           1.01           1.00             1.00   \n",
       "Rioter               1.00           1.01           1.00             1.00   \n",
       "Gorefast             1.25           1.00           1.25             1.25   \n",
       "\n",
       "            SPX+2 (slinger)  1858 (single)  Deagle (single)  \n",
       "Weapon                                                       \n",
       "Cyst                   1.00           1.01             1.01  \n",
       "Alpha Clot             1.00           1.01             1.01  \n",
       "Slasher                1.00           1.01             1.01  \n",
       "Rioter                 1.00           1.01             1.01  \n",
       "Gorefast               1.25           1.00             1.00  "
      ]
     },
     "execution_count": 49,
     "metadata": {},
     "output_type": "execute_result"
    }
   ],
   "source": [
    "weapons_resist_df.head(5)"
   ]
  },
  {
   "cell_type": "markdown",
   "id": "31938791",
   "metadata": {},
   "source": [
    "When one of these values is greater than 1, the weapon is receiving a bonus. When one of these values is less than 1, the weapon is losing damage. Put simply, these are multipliers."
   ]
  },
  {
   "cell_type": "markdown",
   "id": "7d214593",
   "metadata": {},
   "source": [
    "So, we know the number of each zed type in the wave."
   ]
  },
  {
   "cell_type": "code",
   "execution_count": 50,
   "id": "2bea30bc",
   "metadata": {
    "scrolled": false
   },
   "outputs": [
    {
     "data": {
      "text/html": [
       "<div>\n",
       "<style scoped>\n",
       "    .dataframe tbody tr th:only-of-type {\n",
       "        vertical-align: middle;\n",
       "    }\n",
       "\n",
       "    .dataframe tbody tr th {\n",
       "        vertical-align: top;\n",
       "    }\n",
       "\n",
       "    .dataframe thead th {\n",
       "        text-align: right;\n",
       "    }\n",
       "</style>\n",
       "<table border=\"1\" class=\"dataframe\">\n",
       "  <thead>\n",
       "    <tr style=\"text-align: right;\">\n",
       "      <th></th>\n",
       "      <th>Cyst</th>\n",
       "      <th>Alpha Clot</th>\n",
       "      <th>Slasher</th>\n",
       "      <th>Rioter</th>\n",
       "      <th>Gorefast</th>\n",
       "      <th>Gorefiend</th>\n",
       "      <th>Crawler</th>\n",
       "      <th>Stalker</th>\n",
       "      <th>Bloat</th>\n",
       "      <th>Husk</th>\n",
       "      <th>Siren</th>\n",
       "      <th>Scrake</th>\n",
       "      <th>Quarterpound</th>\n",
       "      <th>Fleshpound</th>\n",
       "    </tr>\n",
       "  </thead>\n",
       "  <tbody>\n",
       "    <tr>\n",
       "      <th>0</th>\n",
       "      <td>26</td>\n",
       "      <td>26</td>\n",
       "      <td>26</td>\n",
       "      <td>20</td>\n",
       "      <td>28</td>\n",
       "      <td>20</td>\n",
       "      <td>28</td>\n",
       "      <td>26</td>\n",
       "      <td>14</td>\n",
       "      <td>10</td>\n",
       "      <td>14</td>\n",
       "      <td>4</td>\n",
       "      <td>0</td>\n",
       "      <td>2</td>\n",
       "    </tr>\n",
       "  </tbody>\n",
       "</table>\n",
       "</div>"
      ],
      "text/plain": [
       "   Cyst  Alpha Clot  Slasher  Rioter  Gorefast  Gorefiend  Crawler  Stalker  \\\n",
       "0    26          26       26      20        28         20       28       26   \n",
       "\n",
       "   Bloat  Husk  Siren  Scrake  Quarterpound  Fleshpound  \n",
       "0     14    10     14       4             0           2  "
      ]
     },
     "execution_count": 50,
     "metadata": {},
     "output_type": "execute_result"
    }
   ],
   "source": [
    "mb0a_df.head(1)"
   ]
  },
  {
   "cell_type": "markdown",
   "id": "e8629038",
   "metadata": {},
   "source": [
    "We know the Adjusted Head HP of each zed in the wave, so we don't have to worry about hitzones:"
   ]
  },
  {
   "cell_type": "code",
   "execution_count": 51,
   "id": "9418e1d1",
   "metadata": {
    "scrolled": true
   },
   "outputs": [
    {
     "data": {
      "text/html": [
       "<div>\n",
       "<style scoped>\n",
       "    .dataframe tbody tr th:only-of-type {\n",
       "        vertical-align: middle;\n",
       "    }\n",
       "\n",
       "    .dataframe tbody tr th {\n",
       "        vertical-align: top;\n",
       "    }\n",
       "\n",
       "    .dataframe thead th {\n",
       "        text-align: right;\n",
       "    }\n",
       "</style>\n",
       "<table border=\"1\" class=\"dataframe\">\n",
       "  <thead>\n",
       "    <tr style=\"text-align: right;\">\n",
       "      <th></th>\n",
       "      <th>Cyst</th>\n",
       "      <th>Alpha Clot</th>\n",
       "      <th>Slasher</th>\n",
       "      <th>Rioter</th>\n",
       "      <th>Gorefast</th>\n",
       "      <th>Gorefiend</th>\n",
       "      <th>Crawler</th>\n",
       "      <th>Stalker</th>\n",
       "      <th>Bloat</th>\n",
       "      <th>Husk</th>\n",
       "      <th>Siren</th>\n",
       "      <th>Scrake</th>\n",
       "      <th>Quarterpound</th>\n",
       "      <th>Fleshpound</th>\n",
       "    </tr>\n",
       "  </thead>\n",
       "  <tbody>\n",
       "    <tr>\n",
       "      <th>0</th>\n",
       "      <td>18.18</td>\n",
       "      <td>18.18</td>\n",
       "      <td>18.18</td>\n",
       "      <td>113.64</td>\n",
       "      <td>45.45</td>\n",
       "      <td>136.36</td>\n",
       "      <td>18.18</td>\n",
       "      <td>18.18</td>\n",
       "      <td>81.99</td>\n",
       "      <td>219.78</td>\n",
       "      <td>140.91</td>\n",
       "      <td>1440</td>\n",
       "      <td>1116.36</td>\n",
       "      <td>1560</td>\n",
       "    </tr>\n",
       "  </tbody>\n",
       "</table>\n",
       "</div>"
      ],
      "text/plain": [
       "    Cyst  Alpha Clot  Slasher  Rioter  Gorefast  Gorefiend  Crawler  Stalker  \\\n",
       "0  18.18       18.18    18.18  113.64     45.45     136.36    18.18    18.18   \n",
       "\n",
       "   Bloat    Husk   Siren  Scrake  Quarterpound  Fleshpound  \n",
       "0  81.99  219.78  140.91    1440       1116.36        1560  "
      ]
     },
     "execution_count": 51,
     "metadata": {},
     "output_type": "execute_result"
    }
   ],
   "source": [
    "HP_Matrix_df.head(1)"
   ]
  },
  {
   "cell_type": "markdown",
   "id": "64ad4165",
   "metadata": {},
   "source": [
    "Thus, we know the total adjusted head HP of each zed type in the wave."
   ]
  },
  {
   "cell_type": "code",
   "execution_count": 52,
   "id": "4d3ed9f4",
   "metadata": {
    "scrolled": false
   },
   "outputs": [
    {
     "data": {
      "text/html": [
       "<div>\n",
       "<style scoped>\n",
       "    .dataframe tbody tr th:only-of-type {\n",
       "        vertical-align: middle;\n",
       "    }\n",
       "\n",
       "    .dataframe tbody tr th {\n",
       "        vertical-align: top;\n",
       "    }\n",
       "\n",
       "    .dataframe thead th {\n",
       "        text-align: right;\n",
       "    }\n",
       "</style>\n",
       "<table border=\"1\" class=\"dataframe\">\n",
       "  <thead>\n",
       "    <tr style=\"text-align: right;\">\n",
       "      <th></th>\n",
       "      <th>Cyst</th>\n",
       "      <th>Alpha Clot</th>\n",
       "      <th>Slasher</th>\n",
       "      <th>Rioter</th>\n",
       "      <th>Gorefast</th>\n",
       "      <th>Gorefiend</th>\n",
       "      <th>Crawler</th>\n",
       "      <th>Stalker</th>\n",
       "      <th>Bloat</th>\n",
       "      <th>Husk</th>\n",
       "      <th>Siren</th>\n",
       "      <th>Scrake</th>\n",
       "      <th>Quarterpound</th>\n",
       "      <th>Fleshpound</th>\n",
       "    </tr>\n",
       "  </thead>\n",
       "  <tbody>\n",
       "    <tr>\n",
       "      <th>0</th>\n",
       "      <td>472.68</td>\n",
       "      <td>472.68</td>\n",
       "      <td>472.68</td>\n",
       "      <td>2272.8</td>\n",
       "      <td>1272.6</td>\n",
       "      <td>2727.2</td>\n",
       "      <td>509.04</td>\n",
       "      <td>472.68</td>\n",
       "      <td>1147.86</td>\n",
       "      <td>2197.8</td>\n",
       "      <td>1972.74</td>\n",
       "      <td>5760</td>\n",
       "      <td>0.0</td>\n",
       "      <td>3120</td>\n",
       "    </tr>\n",
       "  </tbody>\n",
       "</table>\n",
       "</div>"
      ],
      "text/plain": [
       "     Cyst  Alpha Clot  Slasher  Rioter  Gorefast  Gorefiend  Crawler  Stalker  \\\n",
       "0  472.68      472.68   472.68  2272.8    1272.6     2727.2   509.04   472.68   \n",
       "\n",
       "     Bloat    Husk    Siren  Scrake  Quarterpound  Fleshpound  \n",
       "0  1147.86  2197.8  1972.74    5760           0.0        3120  "
      ]
     },
     "execution_count": 52,
     "metadata": {},
     "output_type": "execute_result"
    }
   ],
   "source": [
    "mb0a_by_zed.head(1)"
   ]
  },
  {
   "cell_type": "markdown",
   "id": "ab3ff202",
   "metadata": {},
   "source": [
    "We also know the percentage of damage each weapon is expected to do in the wave after accuracy is accounted for."
   ]
  },
  {
   "cell_type": "code",
   "execution_count": 53,
   "id": "ed2f9d9e",
   "metadata": {
    "scrolled": true
   },
   "outputs": [
    {
     "data": {
      "text/html": [
       "<div>\n",
       "<style scoped>\n",
       "    .dataframe tbody tr th:only-of-type {\n",
       "        vertical-align: middle;\n",
       "    }\n",
       "\n",
       "    .dataframe tbody tr th {\n",
       "        vertical-align: top;\n",
       "    }\n",
       "\n",
       "    .dataframe thead th {\n",
       "        text-align: right;\n",
       "    }\n",
       "</style>\n",
       "<table border=\"1\" class=\"dataframe\">\n",
       "  <thead>\n",
       "    <tr style=\"text-align: right;\">\n",
       "      <th></th>\n",
       "      <th>mando 9mm</th>\n",
       "      <th>mando ar15hpr</th>\n",
       "      <th>gs1 9mm</th>\n",
       "      <th>gs1 1858s</th>\n",
       "      <th>gs2 9mm</th>\n",
       "      <th>gs2 1858s</th>\n",
       "      <th>ss1 9mm</th>\n",
       "      <th>ss1 winch</th>\n",
       "      <th>ss2 9mm</th>\n",
       "      <th>ss2 winch</th>\n",
       "    </tr>\n",
       "  </thead>\n",
       "  <tbody>\n",
       "    <tr>\n",
       "      <th>0</th>\n",
       "      <td>0.040754</td>\n",
       "      <td>0.139469</td>\n",
       "      <td>0.038152</td>\n",
       "      <td>0.132262</td>\n",
       "      <td>0.038152</td>\n",
       "      <td>0.132262</td>\n",
       "      <td>0.054608</td>\n",
       "      <td>0.184866</td>\n",
       "      <td>0.054608</td>\n",
       "      <td>0.184866</td>\n",
       "    </tr>\n",
       "  </tbody>\n",
       "</table>\n",
       "</div>"
      ],
      "text/plain": [
       "   mando 9mm  mando ar15hpr   gs1 9mm  gs1 1858s   gs2 9mm  gs2 1858s  \\\n",
       "0   0.040754       0.139469  0.038152   0.132262  0.038152   0.132262   \n",
       "\n",
       "    ss1 9mm  ss1 winch   ss2 9mm  ss2 winch  \n",
       "0  0.054608   0.184866  0.054608   0.184866  "
      ]
     },
     "execution_count": 53,
     "metadata": {},
     "output_type": "execute_result"
    }
   ],
   "source": [
    "team_w1_hsacc_perc_df"
   ]
  },
  {
   "cell_type": "markdown",
   "id": "25fda009",
   "metadata": {},
   "source": [
    "To examine a specific case, we know that the commando's 9mm is expected to do about 4.08% of the damage in the wave, and that it has different resistances against different zeds.\n",
    "\n",
    "We know that it does, for instance, 1% higher damage to cysts."
   ]
  },
  {
   "cell_type": "markdown",
   "id": "96042afd",
   "metadata": {},
   "source": [
    "Proceeding forward with some math, the 9mm's damage is only increased a slight bit against cysts, from 47 to 47.47 because of the 1% damage bonus (47*1.01). "
   ]
  },
  {
   "cell_type": "markdown",
   "id": "8f1f6353",
   "metadata": {},
   "source": [
    "The cysts have 472.68 HP collectively. Of that 472.68, 4.08% is expected to be done by this 9mm, or about 19.28 points of damage (472.68*0.0408). That is about 0.4 rounds of 9mm. However, a bullet cannot do 40% of its damage.\n",
    "\n",
    "Against a fleshpound, the 9mm loses 25% of its damage, dealing 35.25 damage per shot.\n",
    "\n",
    "The fleshpounds have 3,120 HP, collectively.\n",
    "\n",
    "Of that 3,120 damage, the 9mm is expected to do 4.08%, or about 127.296, which at 35.25 damage per shot is 3.6 shots. Again, a bullet cannot do 40% of its damage.\n",
    "\n",
    "So, we need to find relevant multiples. We'll be doing this by dividing and rounding up. It's not a perfect solution--the perfect solution would be modeling all of the interactions shot by shot--but it's good enough for these purposes."
   ]
  },
  {
   "cell_type": "markdown",
   "id": "8bbf1068",
   "metadata": {},
   "source": [
    "First, the total adjusted Zed HP in w1"
   ]
  },
  {
   "cell_type": "code",
   "execution_count": 54,
   "id": "c2d6c1d9",
   "metadata": {},
   "outputs": [
    {
     "data": {
      "text/plain": [
       "22870.760000000002"
      ]
     },
     "execution_count": 54,
     "metadata": {},
     "output_type": "execute_result"
    }
   ],
   "source": [
    "sum(mb0a_by_zed.iloc[0])"
   ]
  },
  {
   "cell_type": "markdown",
   "id": "27f24355",
   "metadata": {},
   "source": [
    "Next, the total HP of each individual zed type in w1"
   ]
  },
  {
   "cell_type": "code",
   "execution_count": 55,
   "id": "0ca7b302",
   "metadata": {},
   "outputs": [
    {
     "data": {
      "text/plain": [
       "Cyst             472.68\n",
       "Alpha Clot       472.68\n",
       "Slasher          472.68\n",
       "Rioter          2272.80\n",
       "Gorefast        1272.60\n",
       "Gorefiend       2727.20\n",
       "Crawler          509.04\n",
       "Stalker          472.68\n",
       "Bloat           1147.86\n",
       "Husk            2197.80\n",
       "Siren           1972.74\n",
       "Scrake          5760.00\n",
       "Quarterpound       0.00\n",
       "Fleshpound      3120.00\n",
       "Name: 0, dtype: float64"
      ]
     },
     "execution_count": 55,
     "metadata": {},
     "output_type": "execute_result"
    }
   ],
   "source": [
    "mb0a_by_zed.iloc[0]"
   ]
  },
  {
   "cell_type": "markdown",
   "id": "9cbfe24f",
   "metadata": {},
   "source": [
    "Next, the percentage of damage that the commando 9mm is expected to deal"
   ]
  },
  {
   "cell_type": "code",
   "execution_count": 56,
   "id": "cff19997",
   "metadata": {},
   "outputs": [
    {
     "data": {
      "text/plain": [
       "0.040753800797733976"
      ]
     },
     "execution_count": 56,
     "metadata": {},
     "output_type": "execute_result"
    }
   ],
   "source": [
    "team_w1_hsacc_perc[0]"
   ]
  },
  {
   "cell_type": "markdown",
   "id": "b8261da4",
   "metadata": {},
   "source": [
    "The product of those"
   ]
  },
  {
   "cell_type": "code",
   "execution_count": 57,
   "id": "c8f69f10",
   "metadata": {},
   "outputs": [
    {
     "data": {
      "text/plain": [
       "Cyst             19.263507\n",
       "Alpha Clot       19.263507\n",
       "Slasher          19.263507\n",
       "Rioter           92.625238\n",
       "Gorefast         51.863287\n",
       "Gorefiend       111.143766\n",
       "Crawler          20.745315\n",
       "Stalker          19.263507\n",
       "Bloat            46.779658\n",
       "Husk             89.568703\n",
       "Siren            80.396653\n",
       "Scrake          234.741893\n",
       "Quarterpound      0.000000\n",
       "Fleshpound      127.151858\n",
       "Name: 0, dtype: float64"
      ]
     },
     "execution_count": 57,
     "metadata": {},
     "output_type": "execute_result"
    }
   ],
   "source": [
    "mb0a_by_zed.iloc[0]*team_w1_hsacc_perc[0]"
   ]
  },
  {
   "cell_type": "markdown",
   "id": "88a77207",
   "metadata": {},
   "source": [
    "Finally, the damage to each of the preceding zed types dealt by the commando's 9mm"
   ]
  },
  {
   "cell_type": "code",
   "execution_count": 58,
   "id": "5f0dac82",
   "metadata": {},
   "outputs": [
    {
     "data": {
      "text/plain": [
       "array([47.47, 47.47, 47.47, 47.47, 47.  , 47.  , 47.  , 47.  , 30.55,\n",
       "       47.  , 47.  , 37.6 , 35.25, 35.25])"
      ]
     },
     "execution_count": 58,
     "metadata": {},
     "output_type": "execute_result"
    }
   ],
   "source": [
    "weapons_zedDmg_df[\"9mm (mando)\"].values"
   ]
  },
  {
   "cell_type": "markdown",
   "id": "6dbe47c5",
   "metadata": {},
   "source": [
    "This allows us to get the number of rounds required to deal the budgeted damage to each enemy type.\n",
    "For multiple enemies, like the cysts and crawlers, it's impossible to deal less damage than a single shot, so I've enforced a floor of one round to meet those requirements."
   ]
  },
  {
   "cell_type": "code",
   "execution_count": 59,
   "id": "0a164ff4",
   "metadata": {},
   "outputs": [
    {
     "data": {
      "text/plain": [
       "array([1.        , 1.        , 1.        , 1.95123738, 1.10347419,\n",
       "       2.36476097, 1.        , 1.        , 1.53124903, 1.90571709,\n",
       "       1.71056708, 6.24313544, 0.        , 3.60714492])"
      ]
     },
     "execution_count": 59,
     "metadata": {},
     "output_type": "execute_result"
    }
   ],
   "source": [
    "np.where(mb0a_by_zed.iloc[0]*team_w1_hsacc_perc[0] / weapons_zedDmg_df[\"9mm (mando)\"].values< 1, np.ceil(mb0a_by_zed.iloc[0]*team_w1_hsacc_perc[0] / weapons_zedDmg_df[\"9mm (mando)\"].values), mb0a_by_zed.iloc[0]*team_w1_hsacc_perc[0] / weapons_zedDmg_df[\"9mm (mando)\"].values)"
   ]
  },
  {
   "cell_type": "markdown",
   "id": "7cc128d8",
   "metadata": {},
   "source": [
    "Finally, we sum the prior table to find out how many 9mm round the commando needs to land as headshots to fulfill their part of the damage budget, and we discover that the commando needs to hit with their 9mm 29 times to deal their portion of the damage."
   ]
  },
  {
   "cell_type": "code",
   "execution_count": 60,
   "id": "386f4d10",
   "metadata": {},
   "outputs": [
    {
     "data": {
      "text/plain": [
       "array([1.        , 1.        , 1.        , 1.95123738, 1.10347419,\n",
       "       2.36476097, 1.        , 1.        , 1.53124903, 1.90571709,\n",
       "       1.71056708, 6.24313544, 0.        , 3.60714492])"
      ]
     },
     "execution_count": 60,
     "metadata": {},
     "output_type": "execute_result"
    }
   ],
   "source": [
    "np.where(mb0a_by_zed.iloc[0]*team_w1_hsacc_perc[0] / weapons_zedDmg_df[\"9mm (mando)\"].values< 1, np.ceil(mb0a_by_zed.iloc[0]*team_w1_hsacc_perc[0] / weapons_zedDmg_df[\"9mm (mando)\"].values), mb0a_by_zed.iloc[0]*team_w1_hsacc_perc[0] / weapons_zedDmg_df[\"9mm (mando)\"].values)"
   ]
  },
  {
   "cell_type": "markdown",
   "id": "fb3c3b8a",
   "metadata": {},
   "source": [
    "Doing this with all of the w1 weapons, we get the following:"
   ]
  },
  {
   "cell_type": "code",
   "execution_count": 129,
   "id": "fbb12bf2",
   "metadata": {},
   "outputs": [],
   "source": [
    "w1_rounds = []\n",
    "w1_rounds.append(sum(np.where(mb0a_by_zed.iloc[0]*team_w1_hsacc_perc[0] / weapons_zedDmg_df[\"9mm (mando)\"].values< 1, np.ceil(mb0a_by_zed.iloc[0]*team_w1_hsacc_perc[0] / weapons_zedDmg_df[\"9mm (mando)\"].values), mb0a_by_zed.iloc[0]*team_w1_hsacc_perc[0] / weapons_zedDmg_df[\"9mm (mando)\"].values)))\n",
    "w1_rounds.append(sum(np.where(mb0a_by_zed.iloc[0]*team_w1_hsacc_perc[1] / weapons_zedDmg_df[\"AR15 HPR\"].values< 1, np.ceil(mb0a_by_zed.iloc[0]*team_w1_hsacc_perc[1] / weapons_zedDmg_df[\"AR15 HPR\"].values), mb0a_by_zed.iloc[0]*team_w1_hsacc_perc[1] / weapons_zedDmg_df[\"AR15 HPR\"].values)))\n",
    "w1_rounds.append(sum(np.where(mb0a_by_zed.iloc[0]*team_w1_hsacc_perc[2] / weapons_zedDmg_df[\"9mm (slinger)\"].values< 1, np.ceil(mb0a_by_zed.iloc[0]*team_w1_hsacc_perc[2] / weapons_zedDmg_df[\"9mm (slinger)\"].values), mb0a_by_zed.iloc[0]*team_w1_hsacc_perc[2] / weapons_zedDmg_df[\"9mm (slinger)\"].values)))\n",
    "w1_rounds.append(sum(np.where(mb0a_by_zed.iloc[0]*team_w1_hsacc_perc[3] / weapons_zedDmg_df[\"1858\"].values< 1, np.ceil(mb0a_by_zed.iloc[0]*team_w1_hsacc_perc[3] / weapons_zedDmg_df[\"1858\"].values), mb0a_by_zed.iloc[0]*team_w1_hsacc_perc[3] /weapons_zedDmg_df[\"1858\"].values)))\n",
    "w1_rounds.append(sum(np.where(mb0a_by_zed.iloc[0]*team_w1_hsacc_perc[4] / weapons_zedDmg_df[\"9mm (slinger)\"].values< 1, np.ceil(mb0a_by_zed.iloc[0]*team_w1_hsacc_perc[4] / weapons_zedDmg_df[\"9mm (slinger)\"].values), mb0a_by_zed.iloc[0]*team_w1_hsacc_perc[4] / weapons_zedDmg_df[\"9mm (slinger)\"].values)))\n",
    "w1_rounds.append(sum(np.where(mb0a_by_zed.iloc[0]*team_w1_hsacc_perc[5] / weapons_zedDmg_df[\"1858\"].values< 1, np.ceil(mb0a_by_zed.iloc[0]*team_w1_hsacc_perc[5] / weapons_zedDmg_df[\"1858\"].values), mb0a_by_zed.iloc[0]*team_w1_hsacc_perc[5] / weapons_zedDmg_df[\"1858\"].values)))\n",
    "w1_rounds.append(sum(np.where(mb0a_by_zed.iloc[0]*team_w1_hsacc_perc[6] / weapons_zedDmg_df[\"9mm (sharp)\"].values< 1, np.ceil(mb0a_by_zed.iloc[0]*team_w1_hsacc_perc[6] / weapons_zedDmg_df[\"9mm (sharp)\"].values), mb0a_by_zed.iloc[0]*team_w1_hsacc_perc[6] / weapons_zedDmg_df[\"9mm (sharp)\"].values)))\n",
    "w1_rounds.append(sum(np.where(mb0a_by_zed.iloc[0]*team_w1_hsacc_perc[7] / weapons_zedDmg_df[\"Winchester\"].values< 1, np.ceil(mb0a_by_zed.iloc[0]*team_w1_hsacc_perc[7] / weapons_zedDmg_df[\"Winchester\"].values), mb0a_by_zed.iloc[0]*team_w1_hsacc_perc[7] / weapons_zedDmg_df[\"Winchester\"].values)))\n",
    "w1_rounds.append(sum(np.where(mb0a_by_zed.iloc[0]*team_w1_hsacc_perc[8] / weapons_zedDmg_df[\"9mm (sharp)\"].values< 1, np.ceil(mb0a_by_zed.iloc[0]*team_w1_hsacc_perc[8] / weapons_zedDmg_df[\"9mm (sharp)\"].values), mb0a_by_zed.iloc[0]*team_w1_hsacc_perc[8] / weapons_zedDmg_df[\"9mm (sharp)\"].values)))\n",
    "w1_rounds.append(sum(np.where(mb0a_by_zed.iloc[0]*team_w1_hsacc_perc[9] / weapons_zedDmg_df[\"Winchester\"].values< 1, np.ceil(mb0a_by_zed.iloc[0]*team_w1_hsacc_perc[9] / weapons_zedDmg_df[\"Winchester\"].values), mb0a_by_zed.iloc[0]*team_w1_hsacc_perc[9] / weapons_zedDmg_df[\"Winchester\"].values)))\n"
   ]
  },
  {
   "cell_type": "code",
   "execution_count": 130,
   "id": "29477bdd",
   "metadata": {},
   "outputs": [
    {
     "data": {
      "text/plain": [
       "25.41728610720975"
      ]
     },
     "execution_count": 130,
     "metadata": {},
     "output_type": "execute_result"
    }
   ],
   "source": [
    "w1_rounds[0]"
   ]
  },
  {
   "cell_type": "markdown",
   "id": "06c17162",
   "metadata": {},
   "source": [
    "We process all of that out to generate the following table:"
   ]
  },
  {
   "cell_type": "code",
   "execution_count": 131,
   "id": "f61a234f",
   "metadata": {},
   "outputs": [
    {
     "data": {
      "text/html": [
       "<div>\n",
       "<style scoped>\n",
       "    .dataframe tbody tr th:only-of-type {\n",
       "        vertical-align: middle;\n",
       "    }\n",
       "\n",
       "    .dataframe tbody tr th {\n",
       "        vertical-align: top;\n",
       "    }\n",
       "\n",
       "    .dataframe thead th {\n",
       "        text-align: right;\n",
       "    }\n",
       "</style>\n",
       "<table border=\"1\" class=\"dataframe\">\n",
       "  <thead>\n",
       "    <tr style=\"text-align: right;\">\n",
       "      <th></th>\n",
       "      <th>mando 9mm</th>\n",
       "      <th>mando ar15hpr</th>\n",
       "      <th>gs1 9mm</th>\n",
       "      <th>gs1 1858s</th>\n",
       "      <th>gs2 9mm</th>\n",
       "      <th>gs2 1858s</th>\n",
       "      <th>ss1 9mm</th>\n",
       "      <th>ss1 winch</th>\n",
       "      <th>ss2 9mm</th>\n",
       "      <th>ss2 winch</th>\n",
       "    </tr>\n",
       "  </thead>\n",
       "  <tbody>\n",
       "    <tr>\n",
       "      <th>0</th>\n",
       "      <td>25.417286</td>\n",
       "      <td>82.459436</td>\n",
       "      <td>25.417286</td>\n",
       "      <td>40.389963</td>\n",
       "      <td>25.417286</td>\n",
       "      <td>40.389963</td>\n",
       "      <td>29.727602</td>\n",
       "      <td>31.810887</td>\n",
       "      <td>29.727602</td>\n",
       "      <td>31.810887</td>\n",
       "    </tr>\n",
       "  </tbody>\n",
       "</table>\n",
       "</div>"
      ],
      "text/plain": [
       "   mando 9mm  mando ar15hpr    gs1 9mm  gs1 1858s    gs2 9mm  gs2 1858s  \\\n",
       "0  25.417286      82.459436  25.417286  40.389963  25.417286  40.389963   \n",
       "\n",
       "     ss1 9mm  ss1 winch    ss2 9mm  ss2 winch  \n",
       "0  29.727602  31.810887  29.727602  31.810887  "
      ]
     },
     "execution_count": 131,
     "metadata": {},
     "output_type": "execute_result"
    }
   ],
   "source": [
    "w1_rounds_df = pd.DataFrame([w1_rounds],columns=team_w1_full_labels)\n",
    "w1_rounds_df"
   ]
  },
  {
   "cell_type": "markdown",
   "id": "097d8dbe",
   "metadata": {},
   "source": [
    "In addition, these rounds are not being fired with perfect accuracy, as established above. So, we divide by our accuracy value to get back to the number of shots fired to land those hits."
   ]
  },
  {
   "cell_type": "code",
   "execution_count": 65,
   "id": "32dcf359",
   "metadata": {},
   "outputs": [
    {
     "data": {
      "text/html": [
       "<div>\n",
       "<style scoped>\n",
       "    .dataframe tbody tr th:only-of-type {\n",
       "        vertical-align: middle;\n",
       "    }\n",
       "\n",
       "    .dataframe tbody tr th {\n",
       "        vertical-align: top;\n",
       "    }\n",
       "\n",
       "    .dataframe thead th {\n",
       "        text-align: right;\n",
       "    }\n",
       "</style>\n",
       "<table border=\"1\" class=\"dataframe\">\n",
       "  <thead>\n",
       "    <tr style=\"text-align: right;\">\n",
       "      <th></th>\n",
       "      <th>mando 9mm</th>\n",
       "      <th>mando ar15hpr</th>\n",
       "      <th>gs1 9mm</th>\n",
       "      <th>gs1 1858s</th>\n",
       "      <th>gs2 9mm</th>\n",
       "      <th>gs2 1858s</th>\n",
       "      <th>ss1 9mm</th>\n",
       "      <th>ss1 winch</th>\n",
       "      <th>ss2 9mm</th>\n",
       "      <th>ss2 winch</th>\n",
       "    </tr>\n",
       "  </thead>\n",
       "  <tbody>\n",
       "    <tr>\n",
       "      <th>0</th>\n",
       "      <td>50.0</td>\n",
       "      <td>162.0</td>\n",
       "      <td>50.0</td>\n",
       "      <td>79.0</td>\n",
       "      <td>50.0</td>\n",
       "      <td>79.0</td>\n",
       "      <td>58.0</td>\n",
       "      <td>62.0</td>\n",
       "      <td>58.0</td>\n",
       "      <td>62.0</td>\n",
       "    </tr>\n",
       "  </tbody>\n",
       "</table>\n",
       "</div>"
      ],
      "text/plain": [
       "   mando 9mm  mando ar15hpr  gs1 9mm  gs1 1858s  gs2 9mm  gs2 1858s  ss1 9mm  \\\n",
       "0       50.0          162.0     50.0       79.0     50.0       79.0     58.0   \n",
       "\n",
       "   ss1 winch  ss2 9mm  ss2 winch  \n",
       "0       62.0     58.0       62.0  "
      ]
     },
     "execution_count": 65,
     "metadata": {},
     "output_type": "execute_result"
    }
   ],
   "source": [
    "w1_rounds_used = round(w1_rounds_df.iloc[0]/.51025,0)\n",
    "w1_rounds_used_df = pd.DataFrame([w1_rounds_used],columns=team_w1_full_labels)\n",
    "w1_rounds_used_df"
   ]
  },
  {
   "cell_type": "code",
   "execution_count": 66,
   "id": "29efc870",
   "metadata": {},
   "outputs": [
    {
     "data": {
      "text/plain": [
       "0    50.0\n",
       "Name: mando 9mm, dtype: float64"
      ]
     },
     "execution_count": 66,
     "metadata": {},
     "output_type": "execute_result"
    }
   ],
   "source": [
    "w1_rounds_used_df[\"mando 9mm\"]"
   ]
  },
  {
   "cell_type": "markdown",
   "id": "9f873558",
   "metadata": {},
   "source": [
    "Before we move on, we have a few more things we need to address. First and foremost is double-checking how much damage the weapons are dealing without overkill. The commando 9mm as an example:"
   ]
  },
  {
   "cell_type": "code",
   "execution_count": 67,
   "id": "0f7e54c3",
   "metadata": {},
   "outputs": [
    {
     "data": {
      "text/plain": [
       "Cyst             19.263507\n",
       "Alpha Clot       19.263507\n",
       "Slasher          19.263507\n",
       "Rioter           92.625238\n",
       "Gorefast         51.863287\n",
       "Gorefiend       111.143766\n",
       "Crawler          20.745315\n",
       "Stalker          19.263507\n",
       "Bloat            46.779658\n",
       "Husk             89.568703\n",
       "Siren            80.396653\n",
       "Scrake          234.741893\n",
       "Quarterpound      0.000000\n",
       "Fleshpound      127.151858\n",
       "Name: 0, dtype: float64"
      ]
     },
     "execution_count": 67,
     "metadata": {},
     "output_type": "execute_result"
    }
   ],
   "source": [
    "mb0a_by_zed.iloc[0]*team_w1_hsacc_perc[0]"
   ]
  },
  {
   "cell_type": "code",
   "execution_count": 68,
   "id": "e0a5910b",
   "metadata": {},
   "outputs": [
    {
     "data": {
      "text/plain": [
       "932.0703971327823"
      ]
     },
     "execution_count": 68,
     "metadata": {},
     "output_type": "execute_result"
    }
   ],
   "source": [
    "sum(mb0a_by_zed.iloc[0]*team_w1_hsacc_perc[0])"
   ]
  },
  {
   "cell_type": "code",
   "execution_count": 69,
   "id": "665232a6",
   "metadata": {},
   "outputs": [],
   "source": [
    "w1_res_dmg = []"
   ]
  },
  {
   "cell_type": "code",
   "execution_count": 70,
   "id": "e699b7c5",
   "metadata": {},
   "outputs": [],
   "source": [
    "w1_rounds = []\n",
    "w1_res_dmg.append(sum(mb0a_by_zed.iloc[0]*team_w1_hsacc_perc[0]))\n",
    "w1_res_dmg.append(sum(mb0a_by_zed.iloc[0]*team_w1_hsacc_perc[1]))\n",
    "w1_res_dmg.append(sum(mb0a_by_zed.iloc[0]*team_w1_hsacc_perc[2]))\n",
    "w1_res_dmg.append(sum(mb0a_by_zed.iloc[0]*team_w1_hsacc_perc[3]))\n",
    "w1_res_dmg.append(sum(mb0a_by_zed.iloc[0]*team_w1_hsacc_perc[4]))\n",
    "w1_res_dmg.append(sum(mb0a_by_zed.iloc[0]*team_w1_hsacc_perc[5]))\n",
    "w1_res_dmg.append(sum(mb0a_by_zed.iloc[0]*team_w1_hsacc_perc[6]))\n",
    "w1_res_dmg.append(sum(mb0a_by_zed.iloc[0]*team_w1_hsacc_perc[7]))\n",
    "w1_res_dmg.append(sum(mb0a_by_zed.iloc[0]*team_w1_hsacc_perc[8]))\n",
    "w1_res_dmg.append(sum(mb0a_by_zed.iloc[0]*team_w1_hsacc_perc[9]))"
   ]
  },
  {
   "cell_type": "code",
   "execution_count": 71,
   "id": "0efc8379",
   "metadata": {},
   "outputs": [
    {
     "name": "stdout",
     "output_type": "stream",
     "text": [
      "932.0703971327823\n",
      "3189.752025743299\n",
      "872.5765419966472\n",
      "3024.932012255044\n",
      "872.5765419966472\n",
      "3024.932012255044\n",
      "1248.930262635605\n",
      "4228.029971674663\n",
      "1248.930262635605\n",
      "4228.029971674663\n"
     ]
    }
   ],
   "source": [
    "for item in w1_res_dmg:\n",
    "    print(item)"
   ]
  },
  {
   "cell_type": "code",
   "execution_count": 72,
   "id": "8ba7f65c",
   "metadata": {
    "scrolled": true
   },
   "outputs": [
    {
     "data": {
      "text/plain": [
       "22870.76"
      ]
     },
     "execution_count": 72,
     "metadata": {},
     "output_type": "execute_result"
    }
   ],
   "source": [
    "sum(w1_res_dmg)"
   ]
  },
  {
   "cell_type": "markdown",
   "id": "1d975d07",
   "metadata": {},
   "source": [
    "**22,870.76** matches the damage on the wave, so we haven't gone awry somewhere."
   ]
  },
  {
   "cell_type": "code",
   "execution_count": 73,
   "id": "01757782",
   "metadata": {},
   "outputs": [],
   "source": [
    "w1_res_dmg_over  = []\n",
    "w1_res_dmg_over.append(sum(np.ceil(mb0a_by_zed.iloc[0]*team_w1_hsacc_perc[0]/weapons_zedDmg_df[\"9mm (mando)\"].values)*weapons_zedDmg_df[\"9mm (mando)\"].values))\n",
    "w1_res_dmg_over.append(sum(np.ceil(mb0a_by_zed.iloc[0]*team_w1_hsacc_perc[1]/weapons_zedDmg_df[\"AR15 HPR\"].values)*weapons_zedDmg_df[\"AR15 HPR\"].values))\n",
    "w1_res_dmg_over.append(sum(np.ceil(mb0a_by_zed.iloc[0]*team_w1_hsacc_perc[2]/weapons_zedDmg_df[\"9mm (slinger)\"].values)*weapons_zedDmg_df[\"9mm (slinger)\"].values))\n",
    "w1_res_dmg_over.append(sum(np.ceil(mb0a_by_zed.iloc[0]*team_w1_hsacc_perc[3]/weapons_zedDmg_df[\"1858\"].values)*weapons_zedDmg_df[\"1858\"].values))\n",
    "w1_res_dmg_over.append(sum(np.ceil(mb0a_by_zed.iloc[0]*team_w1_hsacc_perc[4]/weapons_zedDmg_df[\"9mm (slinger)\"].values)*weapons_zedDmg_df[\"9mm (slinger)\"].values))\n",
    "w1_res_dmg_over.append(sum(np.ceil(mb0a_by_zed.iloc[0]*team_w1_hsacc_perc[5]/weapons_zedDmg_df[\"1858\"].values)*weapons_zedDmg_df[\"1858\"].values))\n",
    "w1_res_dmg_over.append(sum(np.ceil(mb0a_by_zed.iloc[0]*team_w1_hsacc_perc[6]/weapons_zedDmg_df[\"9mm (sharp)\"].values)*weapons_zedDmg_df[\"9mm (sharp)\"].values))\n",
    "w1_res_dmg_over.append(sum(np.ceil(mb0a_by_zed.iloc[0]*team_w1_hsacc_perc[7]/weapons_zedDmg_df[\"Winchester\"].values)*weapons_zedDmg_df[\"Winchester\"].values))\n",
    "w1_res_dmg_over.append(sum(np.ceil(mb0a_by_zed.iloc[0]*team_w1_hsacc_perc[8]/weapons_zedDmg_df[\"9mm (sharp)\"].values)*weapons_zedDmg_df[\"9mm (sharp)\"].values))\n",
    "w1_res_dmg_over.append(sum(np.ceil(mb0a_by_zed.iloc[0]*team_w1_hsacc_perc[9]/weapons_zedDmg_df[\"Winchester\"].values)*weapons_zedDmg_df[\"Winchester\"].values))"
   ]
  },
  {
   "cell_type": "code",
   "execution_count": 74,
   "id": "068dd7f0",
   "metadata": {
    "scrolled": true
   },
   "outputs": [
    {
     "data": {
      "text/plain": [
       "27564.160000000003"
      ]
     },
     "execution_count": 74,
     "metadata": {},
     "output_type": "execute_result"
    }
   ],
   "source": [
    "sum(w1_res_dmg_over)"
   ]
  },
  {
   "cell_type": "code",
   "execution_count": 75,
   "id": "ab8daa2c",
   "metadata": {},
   "outputs": [
    {
     "data": {
      "text/plain": [
       "27564"
      ]
     },
     "execution_count": 75,
     "metadata": {},
     "output_type": "execute_result"
    }
   ],
   "source": [
    "Max_Team_Damage_w1_RES = int(sum(w1_res_dmg_over))\n",
    "Max_Team_Damage_w1_RES"
   ]
  },
  {
   "cell_type": "markdown",
   "id": "ccaa853e",
   "metadata": {},
   "source": [
    "#### 6g. Max Team Damage after Weapon Resistances Conclusion\n",
    "We now know that, with our accuracies and the resistances of the zeds, we can expect that if all of the team's necessary damage was being dealt to zeds, they would do **27,564** damage. As it is, the minimum amount to deal is much closer to the wave total of **22,871**"
   ]
  },
  {
   "cell_type": "markdown",
   "id": "7404bab4",
   "metadata": {},
   "source": [
    "### 6h. The Story So Far\n",
    "So, we've done a ton of math and I would not blame anyone for getting lost, so it's time for some visuals! The following bar plot displays, from left to right:\n",
    "1. NVM_v1's wave 10 adjusted zed head HP pool. \n",
    " - *nvm1_10_pool*\n",
    "2. The team's total possible damage if they were perfectly accurate and zeds resisted no damage.. \n",
    " - *Max_Team_Damage_w1*\n",
    "3. The team's expected damage output after accuracy is accounted for. \n",
    " - *Max_Team_Damage_w1_HSACC*\n",
    "4. The team's total possible damage after accuracy and zed resistances are applied. \n",
    " - *Max_Team_Damage_w1_RES*\n",
    "5. MB_v0a's wave 1 adjusted zed head HP pool, \n",
    " - *mb0a_wave1_pool*"
   ]
  },
  {
   "cell_type": "code",
   "execution_count": 76,
   "id": "7b4c792c",
   "metadata": {},
   "outputs": [],
   "source": [
    "bar_labels_6h = ['NVM_v1 w10','Team Max','HSACC Max','Resisted Max','MB_v0a w1']"
   ]
  },
  {
   "cell_type": "code",
   "execution_count": 77,
   "id": "027d689c",
   "metadata": {},
   "outputs": [],
   "source": [
    "bar_6h_values = [nvm1_10_pool,Max_Team_Damage_w1,Max_Team_Damage_w1_HSACC,Max_Team_Damage_w1_RES,mb0a_wave1_pool]"
   ]
  },
  {
   "cell_type": "code",
   "execution_count": 78,
   "id": "6daf8bf2",
   "metadata": {
    "scrolled": false
   },
   "outputs": [
    {
     "data": {
      "text/plain": [
       "[Text(0, 0, '228058.37'),\n",
       " Text(0, 0, '103794.00'),\n",
       " Text(0, 0, '52960.89'),\n",
       " Text(0, 0, '27564.00'),\n",
       " Text(0, 0, '22870.76')]"
      ]
     },
     "execution_count": 78,
     "metadata": {},
     "output_type": "execute_result"
    },
    {
     "data": {
      "image/png": "[encoded data removed]",
      "text/plain": [
       "<Figure size 640x480 with 1 Axes>"
      ]
     },
     "metadata": {},
     "output_type": "display_data"
    }
   ],
   "source": [
    "fig3, ax3 = plt.subplots()\n",
    "bars = ax3.bar(bar_labels_6h,bar_6h_values,color=['black','purple','blue','green','red'])\n",
    "ax3.bar_label(bars, fmt='%.2f', label_type='edge')"
   ]
  },
  {
   "cell_type": "markdown",
   "id": "6bebea0f",
   "metadata": {},
   "source": [
    "#### 6h. The Story So Far Conclusion\n",
    "So, we can see that we have enough damage to complete the first wave of mb_v0a available to the team after accuracies and resistances are accounted for. In fact, if players play ideally, there's a lot of wiggle room, with more than 25,000 damage between the ammunition that players *need* and the ammunition they're anticipated to hit. There's a lot more room for wave 1 to grow.\n",
    "\n",
    "In addition, none of our damage budgets are anywhere near the NVM_v1 wave 10 cutoff. So, the greater model will continue in the future."
   ]
  },
  {
   "cell_type": "markdown",
   "id": "6812f7ab",
   "metadata": {},
   "source": [
    "### 6i. Using the Ammunition - Wave 1\n",
    "Now, we know how much damage the team is expected to deal, and roughly how much is expected to come from each of their weapons. Now, it's time to figure out how  many rounds we used and what we have left to us."
   ]
  },
  {
   "cell_type": "markdown",
   "id": "41ecf0b5",
   "metadata": {},
   "source": [
    "Now, returning the team's original ammunition load, we have the following:"
   ]
  },
  {
   "cell_type": "code",
   "execution_count": 79,
   "id": "27226da5",
   "metadata": {},
   "outputs": [
    {
     "data": {
      "text/html": [
       "<div>\n",
       "<style scoped>\n",
       "    .dataframe tbody tr th:only-of-type {\n",
       "        vertical-align: middle;\n",
       "    }\n",
       "\n",
       "    .dataframe tbody tr th {\n",
       "        vertical-align: top;\n",
       "    }\n",
       "\n",
       "    .dataframe thead th {\n",
       "        text-align: right;\n",
       "    }\n",
       "</style>\n",
       "<table border=\"1\" class=\"dataframe\">\n",
       "  <thead>\n",
       "    <tr style=\"text-align: right;\">\n",
       "      <th></th>\n",
       "      <th>mando 9mm</th>\n",
       "      <th>mando ar15hpr</th>\n",
       "      <th>gs1 9mm</th>\n",
       "      <th>gs1 1858s</th>\n",
       "      <th>gs2 9mm</th>\n",
       "      <th>gs2 1858s</th>\n",
       "      <th>ss1 9mm</th>\n",
       "      <th>ss1 winch</th>\n",
       "      <th>ss2 9mm</th>\n",
       "      <th>ss2 winch</th>\n",
       "    </tr>\n",
       "  </thead>\n",
       "  <tbody>\n",
       "    <tr>\n",
       "      <th>0</th>\n",
       "      <td>90</td>\n",
       "      <td>308</td>\n",
       "      <td>90</td>\n",
       "      <td>156</td>\n",
       "      <td>90</td>\n",
       "      <td>156</td>\n",
       "      <td>109</td>\n",
       "      <td>117</td>\n",
       "      <td>109</td>\n",
       "      <td>117</td>\n",
       "    </tr>\n",
       "  </tbody>\n",
       "</table>\n",
       "</div>"
      ],
      "text/plain": [
       "   mando 9mm  mando ar15hpr  gs1 9mm  gs1 1858s  gs2 9mm  gs2 1858s  ss1 9mm  \\\n",
       "0         90            308       90        156       90        156      109   \n",
       "\n",
       "   ss1 winch  ss2 9mm  ss2 winch  \n",
       "0        117      109        117  "
      ]
     },
     "execution_count": 79,
     "metadata": {},
     "output_type": "execute_result"
    }
   ],
   "source": [
    "team_w1_ammo_df = pd.DataFrame([team_w1_ammo],columns=team_w1_full_labels)\n",
    "team_w1_ammo_df"
   ]
  },
  {
   "cell_type": "code",
   "execution_count": 80,
   "id": "b6010a9c",
   "metadata": {},
   "outputs": [],
   "source": [
    "# w1_rounds_used_df"
   ]
  },
  {
   "cell_type": "code",
   "execution_count": 81,
   "id": "9f6c4c19",
   "metadata": {},
   "outputs": [
    {
     "data": {
      "text/html": [
       "<div>\n",
       "<style scoped>\n",
       "    .dataframe tbody tr th:only-of-type {\n",
       "        vertical-align: middle;\n",
       "    }\n",
       "\n",
       "    .dataframe tbody tr th {\n",
       "        vertical-align: top;\n",
       "    }\n",
       "\n",
       "    .dataframe thead th {\n",
       "        text-align: right;\n",
       "    }\n",
       "</style>\n",
       "<table border=\"1\" class=\"dataframe\">\n",
       "  <thead>\n",
       "    <tr style=\"text-align: right;\">\n",
       "      <th></th>\n",
       "      <th>mando 9mm</th>\n",
       "      <th>mando ar15hpr</th>\n",
       "      <th>gs1 9mm</th>\n",
       "      <th>gs1 1858s</th>\n",
       "      <th>gs2 9mm</th>\n",
       "      <th>gs2 1858s</th>\n",
       "      <th>ss1 9mm</th>\n",
       "      <th>ss1 winch</th>\n",
       "      <th>ss2 9mm</th>\n",
       "      <th>ss2 winch</th>\n",
       "    </tr>\n",
       "  </thead>\n",
       "  <tbody>\n",
       "    <tr>\n",
       "      <th>0</th>\n",
       "      <td>90.0</td>\n",
       "      <td>308.0</td>\n",
       "      <td>90.0</td>\n",
       "      <td>156.0</td>\n",
       "      <td>90.0</td>\n",
       "      <td>156.0</td>\n",
       "      <td>109.0</td>\n",
       "      <td>117.0</td>\n",
       "      <td>109.0</td>\n",
       "      <td>117.0</td>\n",
       "    </tr>\n",
       "    <tr>\n",
       "      <th>1</th>\n",
       "      <td>50.0</td>\n",
       "      <td>162.0</td>\n",
       "      <td>50.0</td>\n",
       "      <td>79.0</td>\n",
       "      <td>50.0</td>\n",
       "      <td>79.0</td>\n",
       "      <td>58.0</td>\n",
       "      <td>62.0</td>\n",
       "      <td>58.0</td>\n",
       "      <td>62.0</td>\n",
       "    </tr>\n",
       "    <tr>\n",
       "      <th>2</th>\n",
       "      <td>40.0</td>\n",
       "      <td>146.0</td>\n",
       "      <td>40.0</td>\n",
       "      <td>77.0</td>\n",
       "      <td>40.0</td>\n",
       "      <td>77.0</td>\n",
       "      <td>51.0</td>\n",
       "      <td>55.0</td>\n",
       "      <td>51.0</td>\n",
       "      <td>55.0</td>\n",
       "    </tr>\n",
       "  </tbody>\n",
       "</table>\n",
       "</div>"
      ],
      "text/plain": [
       "   mando 9mm  mando ar15hpr  gs1 9mm  gs1 1858s  gs2 9mm  gs2 1858s  ss1 9mm  \\\n",
       "0       90.0          308.0     90.0      156.0     90.0      156.0    109.0   \n",
       "1       50.0          162.0     50.0       79.0     50.0       79.0     58.0   \n",
       "2       40.0          146.0     40.0       77.0     40.0       77.0     51.0   \n",
       "\n",
       "   ss1 winch  ss2 9mm  ss2 winch  \n",
       "0      117.0    109.0      117.0  \n",
       "1       62.0     58.0       62.0  \n",
       "2       55.0     51.0       55.0  "
      ]
     },
     "execution_count": 81,
     "metadata": {},
     "output_type": "execute_result"
    }
   ],
   "source": [
    "team_w1_ammo_df = pd.concat([team_w1_ammo_df, w1_rounds_used_df.iloc[[0]]], ignore_index=True)\n",
    "diff_row1 = -team_w1_ammo_df.diff().iloc[1]\n",
    "diff_df1 = pd.DataFrame([diff_row1], columns=team_w1_ammo_df.columns)\n",
    "team_w1_ammo_use = pd.concat([team_w1_ammo_df,diff_row1.to_frame().transpose()], ignore_index=True)\n",
    "team_w1_ammo_use"
   ]
  },
  {
   "cell_type": "markdown",
   "id": "a561ac71",
   "metadata": {},
   "source": [
    "### 6j. Getting Paid\n",
    "Okay, great, we know how many bullets we used, but we still don't know how much money we have to spend. Time for more math, because nothing can be simple in this game.\n",
    "\n",
    "1. Calculate Adjusted Dosh value = Base Dosh Reward x Dosh Kill modifier x (Amount of the players / Wave Length modifier) x Game Length Dosh Scale modifier. Outcome is a FLOAT variable.\n",
    "\n",
    "    I needn't detain you with what all that is or the linear interpolation nonsense that goes into the Wave Length modifier. The values come out to:\n",
    "    Step1 = Reward * 0.7 * (12/5.769230769230769) * .8\n",
    "    \n",
    "\n",
    "2. Calculate Score Denominator value = Adjusted Dosh / Total Damage Taken By ZED. Outcome is a FLOAT variable.\n",
    "\n",
    "    Step2 = Step1 / ZedHP\n",
    "    \n",
    "\n",
    "3. Calculate player's dosh cut that depends from % of inflicted damage: Earned Dosh = Round (Damage Inflicted By Player x Score Denominator).\n",
    "\n",
    "    Step3 = (PlayerDamage*Step2)\n",
    "    \n",
    "\n",
    "4. If player has assisted in ZED kill but did not kill it themself, calculate Assistance Dosh value = Round (Earned Dosh x Perk Assist Dosh Modifer). Relevant for Sharpshooter which is the only perk in game that gets 10% more dosh (x1.1 multiplier) for assists.\n",
    "\n",
    "    Step4=(Step3 * Modifier)\n",
    "\n",
    "\n",
    "I've made a few assumptions here, to save my ailing brain and this sprawling analysis: \n",
    "1. Zeds that generally die after their head health is depleted have their full body health applied to the bonuses.\n",
    "2. For those that don't, mainly bloats and fleshpounds, I guesstimated roughly where their health bar is after the decapitation bonus is applied with most weapons.\n",
    "3. A more thorough version of this inquiry would look at the primary weapons employed in each wave and the decapitation bonus they cause to a given enemy type, how commonly that enemy type is shot by that perk and weapon, and weight the bonuses accordingly. A full computational model would be able to model on a shot by shot and player by player level. I'm content with these guesstimates.\n",
    "4. For now, I'm assuming every zed is fully killed by an individual player. \n",
    "\n",
    "The values come out to the bottom row of the following table"
   ]
  },
  {
   "cell_type": "code",
   "execution_count": 82,
   "id": "b0c5c412",
   "metadata": {
    "scrolled": true
   },
   "outputs": [
    {
     "data": {
      "text/html": [
       "<div>\n",
       "<style scoped>\n",
       "    .dataframe tbody tr th:only-of-type {\n",
       "        vertical-align: middle;\n",
       "    }\n",
       "\n",
       "    .dataframe tbody tr th {\n",
       "        vertical-align: top;\n",
       "    }\n",
       "\n",
       "    .dataframe thead th {\n",
       "        text-align: right;\n",
       "    }\n",
       "</style>\n",
       "<table border=\"1\" class=\"dataframe\">\n",
       "  <thead>\n",
       "    <tr style=\"text-align: right;\">\n",
       "      <th></th>\n",
       "      <th>Category</th>\n",
       "      <th>Cyst</th>\n",
       "      <th>Alpha Clot</th>\n",
       "      <th>Slasher</th>\n",
       "      <th>Rioter</th>\n",
       "      <th>Gorefast</th>\n",
       "      <th>Gorefiend</th>\n",
       "      <th>Crawler</th>\n",
       "      <th>Stalker</th>\n",
       "      <th>Bloat</th>\n",
       "      <th>Husk</th>\n",
       "      <th>Siren</th>\n",
       "      <th>Scrake</th>\n",
       "      <th>Quarterpound</th>\n",
       "      <th>Fleshpound</th>\n",
       "    </tr>\n",
       "  </thead>\n",
       "  <tbody>\n",
       "    <tr>\n",
       "      <th>3</th>\n",
       "      <td>Dosh reward</td>\n",
       "      <td>7.000000</td>\n",
       "      <td>7.000000</td>\n",
       "      <td>7.000000</td>\n",
       "      <td>7.000000</td>\n",
       "      <td>12.000000</td>\n",
       "      <td>12.000000</td>\n",
       "      <td>10.000000</td>\n",
       "      <td>15.00000</td>\n",
       "      <td>17.000000</td>\n",
       "      <td>17.000000</td>\n",
       "      <td>25.000000</td>\n",
       "      <td>75.000000</td>\n",
       "      <td>75.000000</td>\n",
       "      <td>200.000000</td>\n",
       "    </tr>\n",
       "    <tr>\n",
       "      <th>4</th>\n",
       "      <td>Dosh HP</td>\n",
       "      <td>100.000000</td>\n",
       "      <td>100.000000</td>\n",
       "      <td>100.000000</td>\n",
       "      <td>300.000000</td>\n",
       "      <td>200.000000</td>\n",
       "      <td>200.000000</td>\n",
       "      <td>55.000000</td>\n",
       "      <td>75.00000</td>\n",
       "      <td>257.000000</td>\n",
       "      <td>600.000000</td>\n",
       "      <td>230.000000</td>\n",
       "      <td>3569.000000</td>\n",
       "      <td>1724.000000</td>\n",
       "      <td>4608.000000</td>\n",
       "    </tr>\n",
       "    <tr>\n",
       "      <th>5</th>\n",
       "      <td>Dosh Step1</td>\n",
       "      <td>8.153600</td>\n",
       "      <td>8.153600</td>\n",
       "      <td>8.153600</td>\n",
       "      <td>8.153600</td>\n",
       "      <td>13.977600</td>\n",
       "      <td>13.977600</td>\n",
       "      <td>11.648000</td>\n",
       "      <td>17.47200</td>\n",
       "      <td>19.801600</td>\n",
       "      <td>19.801600</td>\n",
       "      <td>29.120000</td>\n",
       "      <td>87.360000</td>\n",
       "      <td>87.360000</td>\n",
       "      <td>232.960000</td>\n",
       "    </tr>\n",
       "    <tr>\n",
       "      <th>6</th>\n",
       "      <td>Dosh Step2</td>\n",
       "      <td>0.081536</td>\n",
       "      <td>0.081536</td>\n",
       "      <td>0.081536</td>\n",
       "      <td>0.027179</td>\n",
       "      <td>0.069888</td>\n",
       "      <td>0.069888</td>\n",
       "      <td>0.211782</td>\n",
       "      <td>0.23296</td>\n",
       "      <td>0.077049</td>\n",
       "      <td>0.033003</td>\n",
       "      <td>0.126609</td>\n",
       "      <td>0.024477</td>\n",
       "      <td>0.050673</td>\n",
       "      <td>0.050556</td>\n",
       "    </tr>\n",
       "    <tr>\n",
       "      <th>7</th>\n",
       "      <td>Dosh Step3</td>\n",
       "      <td>8.000000</td>\n",
       "      <td>8.000000</td>\n",
       "      <td>8.000000</td>\n",
       "      <td>8.000000</td>\n",
       "      <td>14.000000</td>\n",
       "      <td>14.000000</td>\n",
       "      <td>12.000000</td>\n",
       "      <td>17.00000</td>\n",
       "      <td>20.000000</td>\n",
       "      <td>20.000000</td>\n",
       "      <td>29.000000</td>\n",
       "      <td>87.000000</td>\n",
       "      <td>87.000000</td>\n",
       "      <td>233.000000</td>\n",
       "    </tr>\n",
       "  </tbody>\n",
       "</table>\n",
       "</div>"
      ],
      "text/plain": [
       "      Category        Cyst  Alpha Clot     Slasher      Rioter    Gorefast  \\\n",
       "3  Dosh reward    7.000000    7.000000    7.000000    7.000000   12.000000   \n",
       "4      Dosh HP  100.000000  100.000000  100.000000  300.000000  200.000000   \n",
       "5   Dosh Step1    8.153600    8.153600    8.153600    8.153600   13.977600   \n",
       "6   Dosh Step2    0.081536    0.081536    0.081536    0.027179    0.069888   \n",
       "7   Dosh Step3    8.000000    8.000000    8.000000    8.000000   14.000000   \n",
       "\n",
       "    Gorefiend    Crawler   Stalker       Bloat        Husk       Siren  \\\n",
       "3   12.000000  10.000000  15.00000   17.000000   17.000000   25.000000   \n",
       "4  200.000000  55.000000  75.00000  257.000000  600.000000  230.000000   \n",
       "5   13.977600  11.648000  17.47200   19.801600   19.801600   29.120000   \n",
       "6    0.069888   0.211782   0.23296    0.077049    0.033003    0.126609   \n",
       "7   14.000000  12.000000  17.00000   20.000000   20.000000   29.000000   \n",
       "\n",
       "        Scrake  Quarterpound   Fleshpound  \n",
       "3    75.000000     75.000000   200.000000  \n",
       "4  3569.000000   1724.000000  4608.000000  \n",
       "5    87.360000     87.360000   232.960000  \n",
       "6     0.024477      0.050673     0.050556  \n",
       "7    87.000000     87.000000   233.000000  "
      ]
     },
     "execution_count": 82,
     "metadata": {},
     "output_type": "execute_result"
    }
   ],
   "source": [
    "zedstats_df_display.iloc[3:8]"
   ]
  },
  {
   "cell_type": "code",
   "execution_count": 83,
   "id": "577e8385",
   "metadata": {},
   "outputs": [
    {
     "data": {
      "text/html": [
       "<div>\n",
       "<style scoped>\n",
       "    .dataframe tbody tr th:only-of-type {\n",
       "        vertical-align: middle;\n",
       "    }\n",
       "\n",
       "    .dataframe tbody tr th {\n",
       "        vertical-align: top;\n",
       "    }\n",
       "\n",
       "    .dataframe thead th {\n",
       "        text-align: right;\n",
       "    }\n",
       "</style>\n",
       "<table border=\"1\" class=\"dataframe\">\n",
       "  <thead>\n",
       "    <tr style=\"text-align: right;\">\n",
       "      <th></th>\n",
       "      <th>mando 9mm</th>\n",
       "      <th>mando ar15hpr</th>\n",
       "      <th>gs1 9mm</th>\n",
       "      <th>gs1 1858s</th>\n",
       "      <th>gs2 9mm</th>\n",
       "      <th>gs2 1858s</th>\n",
       "      <th>ss1 9mm</th>\n",
       "      <th>ss1 winch</th>\n",
       "      <th>ss2 9mm</th>\n",
       "      <th>ss2 winch</th>\n",
       "    </tr>\n",
       "  </thead>\n",
       "  <tbody>\n",
       "    <tr>\n",
       "      <th>0</th>\n",
       "      <td>90.0</td>\n",
       "      <td>308.0</td>\n",
       "      <td>90.0</td>\n",
       "      <td>156.0</td>\n",
       "      <td>90.0</td>\n",
       "      <td>156.0</td>\n",
       "      <td>109.0</td>\n",
       "      <td>117.0</td>\n",
       "      <td>109.0</td>\n",
       "      <td>117.0</td>\n",
       "    </tr>\n",
       "    <tr>\n",
       "      <th>1</th>\n",
       "      <td>50.0</td>\n",
       "      <td>162.0</td>\n",
       "      <td>50.0</td>\n",
       "      <td>79.0</td>\n",
       "      <td>50.0</td>\n",
       "      <td>79.0</td>\n",
       "      <td>58.0</td>\n",
       "      <td>62.0</td>\n",
       "      <td>58.0</td>\n",
       "      <td>62.0</td>\n",
       "    </tr>\n",
       "    <tr>\n",
       "      <th>2</th>\n",
       "      <td>40.0</td>\n",
       "      <td>146.0</td>\n",
       "      <td>40.0</td>\n",
       "      <td>77.0</td>\n",
       "      <td>40.0</td>\n",
       "      <td>77.0</td>\n",
       "      <td>51.0</td>\n",
       "      <td>55.0</td>\n",
       "      <td>51.0</td>\n",
       "      <td>55.0</td>\n",
       "    </tr>\n",
       "  </tbody>\n",
       "</table>\n",
       "</div>"
      ],
      "text/plain": [
       "   mando 9mm  mando ar15hpr  gs1 9mm  gs1 1858s  gs2 9mm  gs2 1858s  ss1 9mm  \\\n",
       "0       90.0          308.0     90.0      156.0     90.0      156.0    109.0   \n",
       "1       50.0          162.0     50.0       79.0     50.0       79.0     58.0   \n",
       "2       40.0          146.0     40.0       77.0     40.0       77.0     51.0   \n",
       "\n",
       "   ss1 winch  ss2 9mm  ss2 winch  \n",
       "0      117.0    109.0      117.0  \n",
       "1       62.0     58.0       62.0  \n",
       "2       55.0     51.0       55.0  "
      ]
     },
     "execution_count": 83,
     "metadata": {},
     "output_type": "execute_result"
    }
   ],
   "source": [
    "team_w1_ammo_use"
   ]
  },
  {
   "cell_type": "code",
   "execution_count": 84,
   "id": "61b194ee",
   "metadata": {},
   "outputs": [
    {
     "data": {
      "text/plain": [
       "array([  8.,   8.,   8.,   8.,  14.,  14.,  12.,  17.,  20.,  20.,  29.,\n",
       "        87.,  87., 233.])"
      ]
     },
     "execution_count": 84,
     "metadata": {},
     "output_type": "execute_result"
    }
   ],
   "source": [
    "dosh_per_zed = zedstats_df_clean.iloc[7].to_numpy()\n",
    "dosh_per_zed"
   ]
  },
  {
   "cell_type": "code",
   "execution_count": 85,
   "id": "0284e803",
   "metadata": {},
   "outputs": [
    {
     "data": {
      "text/plain": [
       "3934.0"
      ]
     },
     "execution_count": 85,
     "metadata": {},
     "output_type": "execute_result"
    }
   ],
   "source": [
    "dosh_per_zed_w1 = mb0a_df.iloc[0]*dosh_per_zed\n",
    "team_dosh_w1 = sum(dosh_per_zed_w1)\n",
    "team_dosh_w1"
   ]
  },
  {
   "cell_type": "code",
   "execution_count": 86,
   "id": "41f27f6d",
   "metadata": {},
   "outputs": [
    {
     "data": {
      "text/plain": [
       "Wave 1     459\n",
       "Wave 2     635\n",
       "Wave 3    1034\n",
       "Wave 4    1047\n",
       "Wave 5    1108\n",
       "Name: 0, dtype: int64"
      ]
     },
     "execution_count": 86,
     "metadata": {},
     "output_type": "execute_result"
    }
   ],
   "source": [
    "med_eco_df.iloc[0]"
   ]
  },
  {
   "cell_type": "code",
   "execution_count": 87,
   "id": "d0143028",
   "metadata": {},
   "outputs": [
    {
     "data": {
      "text/plain": [
       "459"
      ]
     },
     "execution_count": 87,
     "metadata": {},
     "output_type": "execute_result"
    }
   ],
   "source": [
    "med_dosh_w1 = med_eco_df['Wave 1'][0]\n",
    "med_dosh_w1"
   ]
  },
  {
   "cell_type": "markdown",
   "id": "eff0f17e",
   "metadata": {},
   "source": [
    "The medic will earn 459, and the reast of the team will earn 3,934 dosh. \n",
    "\n",
    "Then, the team gets bonus dosh. This is equal to the total dosh, and is split evenly among the six players.\n",
    "\n",
    "For the model, I am going to weight the money earned by the team by the anticipated damage percentage of each player"
   ]
  },
  {
   "cell_type": "code",
   "execution_count": 88,
   "id": "343d0ea9",
   "metadata": {},
   "outputs": [
    {
     "data": {
      "text/plain": [
       "array([0.0407538 , 0.13946856, 0.03815249, 0.13226198, 0.03815249,\n",
       "       0.13226198, 0.05460817, 0.18486618, 0.05460817, 0.18486618])"
      ]
     },
     "execution_count": 88,
     "metadata": {},
     "output_type": "execute_result"
    }
   ],
   "source": [
    "team_w1_hsacc_perc"
   ]
  },
  {
   "cell_type": "code",
   "execution_count": 89,
   "id": "56219fbc",
   "metadata": {},
   "outputs": [
    {
     "data": {
      "text/plain": [
       "array([0.18022236, 0.17041447, 0.17041447, 0.23947434, 0.23947434])"
      ]
     },
     "execution_count": 89,
     "metadata": {},
     "output_type": "execute_result"
    }
   ],
   "source": [
    "dosh_split_w1_perc = np.sum(team_w1_hsacc_perc.reshape(-1,2), axis=1)\n",
    "dosh_split_w1_perc"
   ]
  },
  {
   "cell_type": "code",
   "execution_count": 90,
   "id": "d6bd0610",
   "metadata": {},
   "outputs": [
    {
     "data": {
      "text/plain": [
       "array([709., 670., 670., 942., 942.])"
      ]
     },
     "execution_count": 90,
     "metadata": {},
     "output_type": "execute_result"
    }
   ],
   "source": [
    "dosh_split_w1 = np.round(dosh_split_w1_perc*team_dosh_w1)\n",
    "dosh_split_w1"
   ]
  },
  {
   "cell_type": "code",
   "execution_count": 91,
   "id": "66810b94",
   "metadata": {},
   "outputs": [
    {
     "data": {
      "text/plain": [
       "-1.0"
      ]
     },
     "execution_count": 91,
     "metadata": {},
     "output_type": "execute_result"
    }
   ],
   "source": [
    "sum(dosh_split_w1)-team_dosh_w1"
   ]
  },
  {
   "cell_type": "markdown",
   "id": "851dbad3",
   "metadata": {},
   "source": [
    "There's no dosh left over, and the -1 represents an acceptable rounding error."
   ]
  },
  {
   "cell_type": "code",
   "execution_count": 92,
   "id": "43fb4b45",
   "metadata": {},
   "outputs": [
    {
     "data": {
      "text/plain": [
       "array([709., 670., 670., 942., 942.])"
      ]
     },
     "execution_count": 92,
     "metadata": {},
     "output_type": "execute_result"
    }
   ],
   "source": [
    "dosh_split_w1"
   ]
  },
  {
   "cell_type": "code",
   "execution_count": 93,
   "id": "d7cc6902",
   "metadata": {},
   "outputs": [
    {
     "data": {
      "text/plain": [
       "array([709., 670., 670., 942., 942., 459.])"
      ]
     },
     "execution_count": 93,
     "metadata": {},
     "output_type": "execute_result"
    }
   ],
   "source": [
    "dosh_split_w1 = np.concatenate((dosh_split_w1, [med_dosh_w1]))\n",
    "dosh_split_w1"
   ]
  },
  {
   "cell_type": "code",
   "execution_count": 94,
   "id": "fc79548e",
   "metadata": {},
   "outputs": [
    {
     "data": {
      "text/plain": [
       "732.0"
      ]
     },
     "execution_count": 94,
     "metadata": {},
     "output_type": "execute_result"
    }
   ],
   "source": [
    "w1_bonus = round(sum(dosh_split_w1)/6,0)\n",
    "w1_bonus"
   ]
  },
  {
   "cell_type": "code",
   "execution_count": 95,
   "id": "95d40c81",
   "metadata": {},
   "outputs": [
    {
     "data": {
      "text/plain": [
       "array([1441., 1402., 1402., 1674., 1674., 1191.])"
      ]
     },
     "execution_count": 95,
     "metadata": {},
     "output_type": "execute_result"
    }
   ],
   "source": [
    "dosh_split_w1 = dosh_split_w1 + w1_bonus\n",
    "dosh_split_w1"
   ]
  },
  {
   "cell_type": "code",
   "execution_count": 96,
   "id": "ee5bcfc4",
   "metadata": {
    "scrolled": false
   },
   "outputs": [
    {
     "data": {
      "text/html": [
       "<div>\n",
       "<style scoped>\n",
       "    .dataframe tbody tr th:only-of-type {\n",
       "        vertical-align: middle;\n",
       "    }\n",
       "\n",
       "    .dataframe tbody tr th {\n",
       "        vertical-align: top;\n",
       "    }\n",
       "\n",
       "    .dataframe thead th {\n",
       "        text-align: right;\n",
       "    }\n",
       "</style>\n",
       "<table border=\"1\" class=\"dataframe\">\n",
       "  <thead>\n",
       "    <tr style=\"text-align: right;\">\n",
       "      <th></th>\n",
       "      <th>mando</th>\n",
       "      <th>gs1</th>\n",
       "      <th>gs2</th>\n",
       "      <th>ss1</th>\n",
       "      <th>ss2</th>\n",
       "      <th>medic</th>\n",
       "    </tr>\n",
       "  </thead>\n",
       "  <tbody>\n",
       "    <tr>\n",
       "      <th>0</th>\n",
       "      <td>1441.0</td>\n",
       "      <td>1402.0</td>\n",
       "      <td>1402.0</td>\n",
       "      <td>1674.0</td>\n",
       "      <td>1674.0</td>\n",
       "      <td>1191.0</td>\n",
       "    </tr>\n",
       "  </tbody>\n",
       "</table>\n",
       "</div>"
      ],
      "text/plain": [
       "    mando     gs1     gs2     ss1     ss2   medic\n",
       "0  1441.0  1402.0  1402.0  1674.0  1674.0  1191.0"
      ]
     },
     "execution_count": 96,
     "metadata": {},
     "output_type": "execute_result"
    }
   ],
   "source": [
    "dosh_split_w1_labels = ['mando','gs1','gs2','ss1','ss2','medic']\n",
    "dosh_split_w1_df = pd.DataFrame([dosh_split_w1],columns=dosh_split_w1_labels)\n",
    "dosh_split_w1_df"
   ]
  },
  {
   "cell_type": "code",
   "execution_count": 97,
   "id": "6408ae07",
   "metadata": {},
   "outputs": [
    {
     "data": {
      "text/html": [
       "<div>\n",
       "<style scoped>\n",
       "    .dataframe tbody tr th:only-of-type {\n",
       "        vertical-align: middle;\n",
       "    }\n",
       "\n",
       "    .dataframe tbody tr th {\n",
       "        vertical-align: top;\n",
       "    }\n",
       "\n",
       "    .dataframe thead th {\n",
       "        text-align: right;\n",
       "    }\n",
       "</style>\n",
       "<table border=\"1\" class=\"dataframe\">\n",
       "  <thead>\n",
       "    <tr style=\"text-align: right;\">\n",
       "      <th></th>\n",
       "      <th>mando 9mm</th>\n",
       "      <th>mando ar15hpr</th>\n",
       "      <th>gs1 9mm</th>\n",
       "      <th>gs1 1858s</th>\n",
       "      <th>gs2 9mm</th>\n",
       "      <th>gs2 1858s</th>\n",
       "      <th>ss1 9mm</th>\n",
       "      <th>ss1 winch</th>\n",
       "      <th>ss2 9mm</th>\n",
       "      <th>ss2 winch</th>\n",
       "    </tr>\n",
       "  </thead>\n",
       "  <tbody>\n",
       "    <tr>\n",
       "      <th>0</th>\n",
       "      <td>90.0</td>\n",
       "      <td>308.0</td>\n",
       "      <td>90.0</td>\n",
       "      <td>156.0</td>\n",
       "      <td>90.0</td>\n",
       "      <td>156.0</td>\n",
       "      <td>109.0</td>\n",
       "      <td>117.0</td>\n",
       "      <td>109.0</td>\n",
       "      <td>117.0</td>\n",
       "    </tr>\n",
       "    <tr>\n",
       "      <th>1</th>\n",
       "      <td>50.0</td>\n",
       "      <td>162.0</td>\n",
       "      <td>50.0</td>\n",
       "      <td>79.0</td>\n",
       "      <td>50.0</td>\n",
       "      <td>79.0</td>\n",
       "      <td>58.0</td>\n",
       "      <td>62.0</td>\n",
       "      <td>58.0</td>\n",
       "      <td>62.0</td>\n",
       "    </tr>\n",
       "    <tr>\n",
       "      <th>2</th>\n",
       "      <td>40.0</td>\n",
       "      <td>146.0</td>\n",
       "      <td>40.0</td>\n",
       "      <td>77.0</td>\n",
       "      <td>40.0</td>\n",
       "      <td>77.0</td>\n",
       "      <td>51.0</td>\n",
       "      <td>55.0</td>\n",
       "      <td>51.0</td>\n",
       "      <td>55.0</td>\n",
       "    </tr>\n",
       "  </tbody>\n",
       "</table>\n",
       "</div>"
      ],
      "text/plain": [
       "   mando 9mm  mando ar15hpr  gs1 9mm  gs1 1858s  gs2 9mm  gs2 1858s  ss1 9mm  \\\n",
       "0       90.0          308.0     90.0      156.0     90.0      156.0    109.0   \n",
       "1       50.0          162.0     50.0       79.0     50.0       79.0     58.0   \n",
       "2       40.0          146.0     40.0       77.0     40.0       77.0     51.0   \n",
       "\n",
       "   ss1 winch  ss2 9mm  ss2 winch  \n",
       "0      117.0    109.0      117.0  \n",
       "1       62.0     58.0       62.0  \n",
       "2       55.0     51.0       55.0  "
      ]
     },
     "execution_count": 97,
     "metadata": {},
     "output_type": "execute_result"
    }
   ],
   "source": [
    "team_w1_ammo_use"
   ]
  },
  {
   "cell_type": "markdown",
   "id": "96bc1397",
   "metadata": {},
   "source": [
    "### 6k. Spending the money\n",
    "Now that we know how much money each player has and how much they need, we can spend the money."
   ]
  },
  {
   "cell_type": "code",
   "execution_count": 98,
   "id": "dd526fbe",
   "metadata": {
    "scrolled": false
   },
   "outputs": [
    {
     "data": {
      "text/html": [
       "<div>\n",
       "<style scoped>\n",
       "    .dataframe tbody tr th:only-of-type {\n",
       "        vertical-align: middle;\n",
       "    }\n",
       "\n",
       "    .dataframe tbody tr th {\n",
       "        vertical-align: top;\n",
       "    }\n",
       "\n",
       "    .dataframe thead th {\n",
       "        text-align: right;\n",
       "    }\n",
       "</style>\n",
       "<table border=\"1\" class=\"dataframe\">\n",
       "  <thead>\n",
       "    <tr style=\"text-align: right;\">\n",
       "      <th></th>\n",
       "      <th>Unnamed: 0</th>\n",
       "      <th>mando budget</th>\n",
       "      <th>mando 9mm</th>\n",
       "      <th>mando ar15hpr</th>\n",
       "      <th>mando bullpup</th>\n",
       "      <th>mando nade</th>\n",
       "      <th>Sell/Donate</th>\n",
       "      <th>Cost</th>\n",
       "      <th>gs1 budget</th>\n",
       "      <th>gs1 9mm</th>\n",
       "      <th>...</th>\n",
       "      <th>ss2 winch</th>\n",
       "      <th>ss2 ebr1</th>\n",
       "      <th>ss2 freeze</th>\n",
       "      <th>Sell/Donate.4</th>\n",
       "      <th>Cost.4</th>\n",
       "      <th>Medic Budget</th>\n",
       "      <th>Medic 201</th>\n",
       "      <th>Medic nade</th>\n",
       "      <th>Sell/Donate.5</th>\n",
       "      <th>Cost.5</th>\n",
       "    </tr>\n",
       "  </thead>\n",
       "  <tbody>\n",
       "    <tr>\n",
       "      <th>0</th>\n",
       "      <td>Ammo Cost</td>\n",
       "      <td>NaN</td>\n",
       "      <td>0.8</td>\n",
       "      <td>1.0</td>\n",
       "      <td>0.9375</td>\n",
       "      <td>40.0</td>\n",
       "      <td>NaN</td>\n",
       "      <td>NaN</td>\n",
       "      <td>NaN</td>\n",
       "      <td>0.8</td>\n",
       "      <td>...</td>\n",
       "      <td>2.6667</td>\n",
       "      <td>2.65</td>\n",
       "      <td>40.0</td>\n",
       "      <td>NaN</td>\n",
       "      <td>NaN</td>\n",
       "      <td>NaN</td>\n",
       "      <td>NaN</td>\n",
       "      <td>40.0</td>\n",
       "      <td>NaN</td>\n",
       "      <td>NaN</td>\n",
       "    </tr>\n",
       "    <tr>\n",
       "      <th>1</th>\n",
       "      <td>Starting Ammo</td>\n",
       "      <td>NaN</td>\n",
       "      <td>90.0</td>\n",
       "      <td>308.0</td>\n",
       "      <td>NaN</td>\n",
       "      <td>NaN</td>\n",
       "      <td>NaN</td>\n",
       "      <td>NaN</td>\n",
       "      <td>NaN</td>\n",
       "      <td>90.0</td>\n",
       "      <td>...</td>\n",
       "      <td>117.0000</td>\n",
       "      <td>NaN</td>\n",
       "      <td>NaN</td>\n",
       "      <td>NaN</td>\n",
       "      <td>NaN</td>\n",
       "      <td>NaN</td>\n",
       "      <td>NaN</td>\n",
       "      <td>NaN</td>\n",
       "      <td>NaN</td>\n",
       "      <td>NaN</td>\n",
       "    </tr>\n",
       "    <tr>\n",
       "      <th>2</th>\n",
       "      <td>Spent Ammo</td>\n",
       "      <td>NaN</td>\n",
       "      <td>79.0</td>\n",
       "      <td>268.0</td>\n",
       "      <td>NaN</td>\n",
       "      <td>NaN</td>\n",
       "      <td>NaN</td>\n",
       "      <td>NaN</td>\n",
       "      <td>NaN</td>\n",
       "      <td>79.0</td>\n",
       "      <td>...</td>\n",
       "      <td>102.0000</td>\n",
       "      <td>NaN</td>\n",
       "      <td>NaN</td>\n",
       "      <td>NaN</td>\n",
       "      <td>NaN</td>\n",
       "      <td>NaN</td>\n",
       "      <td>NaN</td>\n",
       "      <td>NaN</td>\n",
       "      <td>NaN</td>\n",
       "      <td>NaN</td>\n",
       "    </tr>\n",
       "    <tr>\n",
       "      <th>3</th>\n",
       "      <td>Remaining Ammo</td>\n",
       "      <td>NaN</td>\n",
       "      <td>11.0</td>\n",
       "      <td>40.0</td>\n",
       "      <td>NaN</td>\n",
       "      <td>NaN</td>\n",
       "      <td>NaN</td>\n",
       "      <td>NaN</td>\n",
       "      <td>NaN</td>\n",
       "      <td>11.0</td>\n",
       "      <td>...</td>\n",
       "      <td>15.0000</td>\n",
       "      <td>NaN</td>\n",
       "      <td>0.0</td>\n",
       "      <td>NaN</td>\n",
       "      <td>NaN</td>\n",
       "      <td>NaN</td>\n",
       "      <td>NaN</td>\n",
       "      <td>NaN</td>\n",
       "      <td>NaN</td>\n",
       "      <td>NaN</td>\n",
       "    </tr>\n",
       "    <tr>\n",
       "      <th>4</th>\n",
       "      <td>Trader 1</td>\n",
       "      <td>1484.0</td>\n",
       "      <td>NaN</td>\n",
       "      <td>NaN</td>\n",
       "      <td>90.0000</td>\n",
       "      <td>0.0</td>\n",
       "      <td>0.0</td>\n",
       "      <td>650.0</td>\n",
       "      <td>1366.0</td>\n",
       "      <td>0.0</td>\n",
       "      <td>...</td>\n",
       "      <td>0.0000</td>\n",
       "      <td>60.00</td>\n",
       "      <td>NaN</td>\n",
       "      <td>NaN</td>\n",
       "      <td>1100.0</td>\n",
       "      <td>1191.0</td>\n",
       "      <td>650.0</td>\n",
       "      <td>NaN</td>\n",
       "      <td>NaN</td>\n",
       "      <td>650.0</td>\n",
       "    </tr>\n",
       "    <tr>\n",
       "      <th>5</th>\n",
       "      <td>3985</td>\n",
       "      <td>834.0</td>\n",
       "      <td>0.0</td>\n",
       "      <td>0.0</td>\n",
       "      <td>264.0000</td>\n",
       "      <td>0.0</td>\n",
       "      <td>0.0</td>\n",
       "      <td>247.5</td>\n",
       "      <td>716.0</td>\n",
       "      <td>0.0</td>\n",
       "      <td>...</td>\n",
       "      <td>0.0000</td>\n",
       "      <td>110.00</td>\n",
       "      <td>NaN</td>\n",
       "      <td>NaN</td>\n",
       "      <td>291.5</td>\n",
       "      <td>541.0</td>\n",
       "      <td>0.0</td>\n",
       "      <td>0.0</td>\n",
       "      <td>0.0</td>\n",
       "      <td>0.0</td>\n",
       "    </tr>\n",
       "    <tr>\n",
       "      <th>6</th>\n",
       "      <td>2604.5</td>\n",
       "      <td>586.5</td>\n",
       "      <td>0.0</td>\n",
       "      <td>120.0</td>\n",
       "      <td>0.0000</td>\n",
       "      <td>0.0</td>\n",
       "      <td>0.0</td>\n",
       "      <td>120.0</td>\n",
       "      <td>441.0</td>\n",
       "      <td>0.0</td>\n",
       "      <td>...</td>\n",
       "      <td>0.0000</td>\n",
       "      <td>0.00</td>\n",
       "      <td>0.0</td>\n",
       "      <td>0.0</td>\n",
       "      <td>0.0</td>\n",
       "      <td>541.0</td>\n",
       "      <td>0.0</td>\n",
       "      <td>0.0</td>\n",
       "      <td>0.0</td>\n",
       "      <td>0.0</td>\n",
       "    </tr>\n",
       "    <tr>\n",
       "      <th>7</th>\n",
       "      <td>2444.5</td>\n",
       "      <td>466.5</td>\n",
       "      <td>0.0</td>\n",
       "      <td>0.0</td>\n",
       "      <td>0.0000</td>\n",
       "      <td>0.0</td>\n",
       "      <td>0.0</td>\n",
       "      <td>0.0</td>\n",
       "      <td>541.0</td>\n",
       "      <td>0.0</td>\n",
       "      <td>...</td>\n",
       "      <td>0.0000</td>\n",
       "      <td>0.00</td>\n",
       "      <td>0.0</td>\n",
       "      <td>0.0</td>\n",
       "      <td>0.0</td>\n",
       "      <td>541.0</td>\n",
       "      <td>0.0</td>\n",
       "      <td>0.0</td>\n",
       "      <td>0.0</td>\n",
       "      <td>0.0</td>\n",
       "    </tr>\n",
       "    <tr>\n",
       "      <th>8</th>\n",
       "      <td>2044.5</td>\n",
       "      <td>466.5</td>\n",
       "      <td>0.0</td>\n",
       "      <td>0.0</td>\n",
       "      <td>0.0000</td>\n",
       "      <td>0.0</td>\n",
       "      <td>0.0</td>\n",
       "      <td>0.0</td>\n",
       "      <td>341.0</td>\n",
       "      <td>0.0</td>\n",
       "      <td>...</td>\n",
       "      <td>0.0000</td>\n",
       "      <td>0.00</td>\n",
       "      <td>0.0</td>\n",
       "      <td>0.0</td>\n",
       "      <td>0.0</td>\n",
       "      <td>541.0</td>\n",
       "      <td>0.0</td>\n",
       "      <td>0.0</td>\n",
       "      <td>40.0</td>\n",
       "      <td>40.0</td>\n",
       "    </tr>\n",
       "    <tr>\n",
       "      <th>9</th>\n",
       "      <td>2044.5</td>\n",
       "      <td>466.5</td>\n",
       "      <td>0.0</td>\n",
       "      <td>0.0</td>\n",
       "      <td>0.0000</td>\n",
       "      <td>0.0</td>\n",
       "      <td>466.5</td>\n",
       "      <td>466.5</td>\n",
       "      <td>0.0</td>\n",
       "      <td>0.0</td>\n",
       "      <td>...</td>\n",
       "      <td>0.0000</td>\n",
       "      <td>0.00</td>\n",
       "      <td>0.0</td>\n",
       "      <td>-466.5</td>\n",
       "      <td>-466.5</td>\n",
       "      <td>501.0</td>\n",
       "      <td>0.0</td>\n",
       "      <td>0.0</td>\n",
       "      <td>0.0</td>\n",
       "      <td>0.0</td>\n",
       "    </tr>\n",
       "    <tr>\n",
       "      <th>10</th>\n",
       "      <td>1344.5</td>\n",
       "      <td>0.0</td>\n",
       "      <td>0.0</td>\n",
       "      <td>0.0</td>\n",
       "      <td>0.0000</td>\n",
       "      <td>0.0</td>\n",
       "      <td>0.0</td>\n",
       "      <td>0.0</td>\n",
       "      <td>0.0</td>\n",
       "      <td>0.0</td>\n",
       "      <td>...</td>\n",
       "      <td>0.0000</td>\n",
       "      <td>0.00</td>\n",
       "      <td>0.0</td>\n",
       "      <td>700.0</td>\n",
       "      <td>700.0</td>\n",
       "      <td>501.0</td>\n",
       "      <td>0.0</td>\n",
       "      <td>0.0</td>\n",
       "      <td>80.0</td>\n",
       "      <td>80.0</td>\n",
       "    </tr>\n",
       "    <tr>\n",
       "      <th>11</th>\n",
       "      <td>644.5</td>\n",
       "      <td>0.0</td>\n",
       "      <td>0.0</td>\n",
       "      <td>0.0</td>\n",
       "      <td>0.0000</td>\n",
       "      <td>0.0</td>\n",
       "      <td>0.0</td>\n",
       "      <td>0.0</td>\n",
       "      <td>0.0</td>\n",
       "      <td>0.0</td>\n",
       "      <td>...</td>\n",
       "      <td>0.0000</td>\n",
       "      <td>0.00</td>\n",
       "      <td>0.0</td>\n",
       "      <td>0.0</td>\n",
       "      <td>0.0</td>\n",
       "      <td>421.0</td>\n",
       "      <td>0.0</td>\n",
       "      <td>0.0</td>\n",
       "      <td>41.0</td>\n",
       "      <td>41.0</td>\n",
       "    </tr>\n",
       "    <tr>\n",
       "      <th>12</th>\n",
       "      <td>644.5</td>\n",
       "      <td>0.0</td>\n",
       "      <td>0.0</td>\n",
       "      <td>0.0</td>\n",
       "      <td>0.0000</td>\n",
       "      <td>0.0</td>\n",
       "      <td>0.0</td>\n",
       "      <td>0.0</td>\n",
       "      <td>0.0</td>\n",
       "      <td>0.0</td>\n",
       "      <td>...</td>\n",
       "      <td>0.0000</td>\n",
       "      <td>0.00</td>\n",
       "      <td>0.0</td>\n",
       "      <td>0.0</td>\n",
       "      <td>0.0</td>\n",
       "      <td>380.0</td>\n",
       "      <td>0.0</td>\n",
       "      <td>0.0</td>\n",
       "      <td>0.0</td>\n",
       "      <td>0.0</td>\n",
       "    </tr>\n",
       "    <tr>\n",
       "      <th>13</th>\n",
       "      <td>444.5</td>\n",
       "      <td>0.0</td>\n",
       "      <td>0.0</td>\n",
       "      <td>0.0</td>\n",
       "      <td>0.0000</td>\n",
       "      <td>0.0</td>\n",
       "      <td>0.0</td>\n",
       "      <td>0.0</td>\n",
       "      <td>0.0</td>\n",
       "      <td>0.0</td>\n",
       "      <td>...</td>\n",
       "      <td>0.0000</td>\n",
       "      <td>0.00</td>\n",
       "      <td>0.0</td>\n",
       "      <td>-180.0</td>\n",
       "      <td>-180.0</td>\n",
       "      <td>380.0</td>\n",
       "      <td>0.0</td>\n",
       "      <td>0.0</td>\n",
       "      <td>180.0</td>\n",
       "      <td>180.0</td>\n",
       "    </tr>\n",
       "    <tr>\n",
       "      <th>14</th>\n",
       "      <td>444.5</td>\n",
       "      <td>0.0</td>\n",
       "      <td>0.0</td>\n",
       "      <td>0.0</td>\n",
       "      <td>0.0000</td>\n",
       "      <td>0.0</td>\n",
       "      <td>0.0</td>\n",
       "      <td>0.0</td>\n",
       "      <td>0.0</td>\n",
       "      <td>0.0</td>\n",
       "      <td>...</td>\n",
       "      <td>0.0000</td>\n",
       "      <td>0.00</td>\n",
       "      <td>6.0</td>\n",
       "      <td>0.0</td>\n",
       "      <td>240.0</td>\n",
       "      <td>200.0</td>\n",
       "      <td>0.0</td>\n",
       "      <td>5.0</td>\n",
       "      <td>0.0</td>\n",
       "      <td>200.0</td>\n",
       "    </tr>\n",
       "    <tr>\n",
       "      <th>15</th>\n",
       "      <td>4.5</td>\n",
       "      <td>0.0</td>\n",
       "      <td>0.0</td>\n",
       "      <td>0.0</td>\n",
       "      <td>0.0000</td>\n",
       "      <td>0.0</td>\n",
       "      <td>0.0</td>\n",
       "      <td>0.0</td>\n",
       "      <td>0.0</td>\n",
       "      <td>0.0</td>\n",
       "      <td>...</td>\n",
       "      <td>0.0000</td>\n",
       "      <td>0.00</td>\n",
       "      <td>0.0</td>\n",
       "      <td>0.0</td>\n",
       "      <td>0.0</td>\n",
       "      <td>0.0</td>\n",
       "      <td>0.0</td>\n",
       "      <td>0.0</td>\n",
       "      <td>0.0</td>\n",
       "      <td>0.0</td>\n",
       "    </tr>\n",
       "    <tr>\n",
       "      <th>16</th>\n",
       "      <td>4.5</td>\n",
       "      <td>0.0</td>\n",
       "      <td>0.0</td>\n",
       "      <td>0.0</td>\n",
       "      <td>0.0000</td>\n",
       "      <td>0.0</td>\n",
       "      <td>0.0</td>\n",
       "      <td>0.0</td>\n",
       "      <td>0.0</td>\n",
       "      <td>0.0</td>\n",
       "      <td>...</td>\n",
       "      <td>0.0000</td>\n",
       "      <td>0.00</td>\n",
       "      <td>0.0</td>\n",
       "      <td>0.0</td>\n",
       "      <td>0.0</td>\n",
       "      <td>0.0</td>\n",
       "      <td>0.0</td>\n",
       "      <td>0.0</td>\n",
       "      <td>0.0</td>\n",
       "      <td>0.0</td>\n",
       "    </tr>\n",
       "    <tr>\n",
       "      <th>17</th>\n",
       "      <td>4.5</td>\n",
       "      <td>0.0</td>\n",
       "      <td>NaN</td>\n",
       "      <td>NaN</td>\n",
       "      <td>NaN</td>\n",
       "      <td>NaN</td>\n",
       "      <td>NaN</td>\n",
       "      <td>NaN</td>\n",
       "      <td>0.0</td>\n",
       "      <td>NaN</td>\n",
       "      <td>...</td>\n",
       "      <td>NaN</td>\n",
       "      <td>NaN</td>\n",
       "      <td>NaN</td>\n",
       "      <td>NaN</td>\n",
       "      <td>NaN</td>\n",
       "      <td>0.0</td>\n",
       "      <td>NaN</td>\n",
       "      <td>NaN</td>\n",
       "      <td>NaN</td>\n",
       "      <td>NaN</td>\n",
       "    </tr>\n",
       "  </tbody>\n",
       "</table>\n",
       "<p>18 rows × 41 columns</p>\n",
       "</div>"
      ],
      "text/plain": [
       "        Unnamed: 0  mando budget  mando 9mm  mando ar15hpr  mando bullpup  \\\n",
       "0        Ammo Cost           NaN        0.8            1.0         0.9375   \n",
       "1    Starting Ammo           NaN       90.0          308.0            NaN   \n",
       "2       Spent Ammo           NaN       79.0          268.0            NaN   \n",
       "3   Remaining Ammo           NaN       11.0           40.0            NaN   \n",
       "4         Trader 1        1484.0        NaN            NaN        90.0000   \n",
       "5             3985         834.0        0.0            0.0       264.0000   \n",
       "6           2604.5         586.5        0.0          120.0         0.0000   \n",
       "7           2444.5         466.5        0.0            0.0         0.0000   \n",
       "8           2044.5         466.5        0.0            0.0         0.0000   \n",
       "9           2044.5         466.5        0.0            0.0         0.0000   \n",
       "10          1344.5           0.0        0.0            0.0         0.0000   \n",
       "11           644.5           0.0        0.0            0.0         0.0000   \n",
       "12           644.5           0.0        0.0            0.0         0.0000   \n",
       "13           444.5           0.0        0.0            0.0         0.0000   \n",
       "14           444.5           0.0        0.0            0.0         0.0000   \n",
       "15             4.5           0.0        0.0            0.0         0.0000   \n",
       "16             4.5           0.0        0.0            0.0         0.0000   \n",
       "17             4.5           0.0        NaN            NaN            NaN   \n",
       "\n",
       "    mando nade  Sell/Donate   Cost  gs1 budget  gs1 9mm  ...  ss2 winch  \\\n",
       "0         40.0          NaN    NaN         NaN      0.8  ...     2.6667   \n",
       "1          NaN          NaN    NaN         NaN     90.0  ...   117.0000   \n",
       "2          NaN          NaN    NaN         NaN     79.0  ...   102.0000   \n",
       "3          NaN          NaN    NaN         NaN     11.0  ...    15.0000   \n",
       "4          0.0          0.0  650.0      1366.0      0.0  ...     0.0000   \n",
       "5          0.0          0.0  247.5       716.0      0.0  ...     0.0000   \n",
       "6          0.0          0.0  120.0       441.0      0.0  ...     0.0000   \n",
       "7          0.0          0.0    0.0       541.0      0.0  ...     0.0000   \n",
       "8          0.0          0.0    0.0       341.0      0.0  ...     0.0000   \n",
       "9          0.0        466.5  466.5         0.0      0.0  ...     0.0000   \n",
       "10         0.0          0.0    0.0         0.0      0.0  ...     0.0000   \n",
       "11         0.0          0.0    0.0         0.0      0.0  ...     0.0000   \n",
       "12         0.0          0.0    0.0         0.0      0.0  ...     0.0000   \n",
       "13         0.0          0.0    0.0         0.0      0.0  ...     0.0000   \n",
       "14         0.0          0.0    0.0         0.0      0.0  ...     0.0000   \n",
       "15         0.0          0.0    0.0         0.0      0.0  ...     0.0000   \n",
       "16         0.0          0.0    0.0         0.0      0.0  ...     0.0000   \n",
       "17         NaN          NaN    NaN         0.0      NaN  ...        NaN   \n",
       "\n",
       "    ss2 ebr1  ss2 freeze  Sell/Donate.4  Cost.4  Medic Budget  Medic 201  \\\n",
       "0       2.65        40.0            NaN     NaN           NaN        NaN   \n",
       "1        NaN         NaN            NaN     NaN           NaN        NaN   \n",
       "2        NaN         NaN            NaN     NaN           NaN        NaN   \n",
       "3        NaN         0.0            NaN     NaN           NaN        NaN   \n",
       "4      60.00         NaN            NaN  1100.0        1191.0      650.0   \n",
       "5     110.00         NaN            NaN   291.5         541.0        0.0   \n",
       "6       0.00         0.0            0.0     0.0         541.0        0.0   \n",
       "7       0.00         0.0            0.0     0.0         541.0        0.0   \n",
       "8       0.00         0.0            0.0     0.0         541.0        0.0   \n",
       "9       0.00         0.0         -466.5  -466.5         501.0        0.0   \n",
       "10      0.00         0.0          700.0   700.0         501.0        0.0   \n",
       "11      0.00         0.0            0.0     0.0         421.0        0.0   \n",
       "12      0.00         0.0            0.0     0.0         380.0        0.0   \n",
       "13      0.00         0.0         -180.0  -180.0         380.0        0.0   \n",
       "14      0.00         6.0            0.0   240.0         200.0        0.0   \n",
       "15      0.00         0.0            0.0     0.0           0.0        0.0   \n",
       "16      0.00         0.0            0.0     0.0           0.0        0.0   \n",
       "17       NaN         NaN            NaN     NaN           0.0        NaN   \n",
       "\n",
       "    Medic nade  Sell/Donate.5  Cost.5  \n",
       "0         40.0            NaN     NaN  \n",
       "1          NaN            NaN     NaN  \n",
       "2          NaN            NaN     NaN  \n",
       "3          NaN            NaN     NaN  \n",
       "4          NaN            NaN   650.0  \n",
       "5          0.0            0.0     0.0  \n",
       "6          0.0            0.0     0.0  \n",
       "7          0.0            0.0     0.0  \n",
       "8          0.0           40.0    40.0  \n",
       "9          0.0            0.0     0.0  \n",
       "10         0.0           80.0    80.0  \n",
       "11         0.0           41.0    41.0  \n",
       "12         0.0            0.0     0.0  \n",
       "13         0.0          180.0   180.0  \n",
       "14         5.0            0.0   200.0  \n",
       "15         0.0            0.0     0.0  \n",
       "16         0.0            0.0     0.0  \n",
       "17         NaN            NaN     NaN  \n",
       "\n",
       "[18 rows x 41 columns]"
      ]
     },
     "execution_count": 98,
     "metadata": {},
     "output_type": "execute_result"
    }
   ],
   "source": [
    "trader1_csv = pd.read_csv('E:\\College\\FinalProjectData\\Trader1.csv')\n",
    "\n",
    "trader1_df = pd.DataFrame(data=trader1_csv)\n",
    "trader1_df"
   ]
  },
  {
   "cell_type": "markdown",
   "id": "244df915",
   "metadata": {},
   "source": [
    "There's a ton of math here that's hard to present and various players were trading money about, but the things to understand are as follows:\n",
    "- Commando bought a bullpup and filled it\n",
    "- Commando bought 120 rounds of AR15 to go to 160 rounds\n",
    "- Commando bought 2 grenades\n",
    "\n",
    "- Slinger 1 bought an SPX and filled it\n",
    "- Slinger 1 sold their starting dual 1858s\n",
    "- Slinger 1 bought a new set of dual 1858s to be at full ammunition\n",
    "\n",
    "- Slinger 2 bought an SPX and filled it\n",
    "- Slinger 2 sold their starting dual 1858s\n",
    "- Slinger 2 bought a new set of dual 1858s to be at full ammunition\n",
    "\n",
    "- Sharp 1 bought an EBR, filled it, and upgraded it to +1\n",
    "- Sharp 1 bought 5 grenades\n",
    "\n",
    "- Sharp 2 bought an EBR, filled it, and upgraded it to +1\n",
    "- Sharp 2 bought 6 grenades"
   ]
  },
  {
   "cell_type": "markdown",
   "id": "b2d45b4e",
   "metadata": {},
   "source": [
    "## 7. The Wave 2 Analysis\n",
    "This is where the inquiry leaves off for now. I intend to return to this project in the future, hopefully in a way where I don't have to go on an emergency reprogramming spree at the last minute after finding bad logic. More code exists beyond this point, but it's not doing anything useful."
   ]
  },
  {
   "cell_type": "markdown",
   "id": "8d1bc643",
   "metadata": {},
   "source": [
    "### 7a. Zed Head Health Pool - Wave 2\n",
    "\n",
    "A new wave means a new pool of enemies. We're going to continue using mb_v0a for now to see how well it adheres to its design goal of pushing the team economy."
   ]
  },
  {
   "cell_type": "code",
   "execution_count": 99,
   "id": "1d8fda8c",
   "metadata": {},
   "outputs": [
    {
     "data": {
      "text/plain": [
       "array(['Cyst', 'Alpha Clot', 'Slasher', 'Rioter', 'Gorefast', 'Gorefiend',\n",
       "       'Crawler', 'Stalker', 'Bloat', 'Husk', 'Siren', 'Scrake',\n",
       "       'Quarterpound', 'Fleshpound'], dtype=object)"
      ]
     },
     "execution_count": 99,
     "metadata": {},
     "output_type": "execute_result"
    }
   ],
   "source": [
    "mb0a_w2_labels = mb0a_df.columns.values\n",
    "mb0a_w2_labels"
   ]
  },
  {
   "cell_type": "code",
   "execution_count": 100,
   "id": "7a2f7575",
   "metadata": {},
   "outputs": [
    {
     "data": {
      "text/html": [
       "<div>\n",
       "<style scoped>\n",
       "    .dataframe tbody tr th:only-of-type {\n",
       "        vertical-align: middle;\n",
       "    }\n",
       "\n",
       "    .dataframe tbody tr th {\n",
       "        vertical-align: top;\n",
       "    }\n",
       "\n",
       "    .dataframe thead th {\n",
       "        text-align: right;\n",
       "    }\n",
       "</style>\n",
       "<table border=\"1\" class=\"dataframe\">\n",
       "  <thead>\n",
       "    <tr style=\"text-align: right;\">\n",
       "      <th></th>\n",
       "      <th>Cyst</th>\n",
       "      <th>Alpha Clot</th>\n",
       "      <th>Slasher</th>\n",
       "      <th>Rioter</th>\n",
       "      <th>Gorefast</th>\n",
       "      <th>Gorefiend</th>\n",
       "      <th>Crawler</th>\n",
       "      <th>Stalker</th>\n",
       "      <th>Bloat</th>\n",
       "      <th>Husk</th>\n",
       "      <th>Siren</th>\n",
       "      <th>Scrake</th>\n",
       "      <th>Quarterpound</th>\n",
       "      <th>Fleshpound</th>\n",
       "    </tr>\n",
       "  </thead>\n",
       "  <tbody>\n",
       "    <tr>\n",
       "      <th>0</th>\n",
       "      <td>22</td>\n",
       "      <td>24</td>\n",
       "      <td>24</td>\n",
       "      <td>14</td>\n",
       "      <td>32</td>\n",
       "      <td>24</td>\n",
       "      <td>30</td>\n",
       "      <td>28</td>\n",
       "      <td>16</td>\n",
       "      <td>14</td>\n",
       "      <td>16</td>\n",
       "      <td>16</td>\n",
       "      <td>0</td>\n",
       "      <td>14</td>\n",
       "    </tr>\n",
       "  </tbody>\n",
       "</table>\n",
       "</div>"
      ],
      "text/plain": [
       "   Cyst  Alpha Clot  Slasher  Rioter  Gorefast  Gorefiend  Crawler  Stalker  \\\n",
       "0    22          24       24      14        32         24       30       28   \n",
       "\n",
       "   Bloat  Husk  Siren  Scrake  Quarterpound  Fleshpound  \n",
       "0     16    14     16      16             0          14  "
      ]
     },
     "execution_count": 100,
     "metadata": {},
     "output_type": "execute_result"
    }
   ],
   "source": [
    "mb0a_w2_zeds = mb0a_df.iloc[1].values\n",
    "mb0a_w2_zeds_df = pd.DataFrame([mb0a_w2_zeds],columns=mb0a_w2_labels)\n",
    "mb0a_w2_zeds_df"
   ]
  },
  {
   "cell_type": "code",
   "execution_count": 101,
   "id": "398432e6",
   "metadata": {},
   "outputs": [
    {
     "data": {
      "text/plain": [
       "array([  399.96,   436.32,   436.32,  1590.96,  1454.4 ,  3272.64,\n",
       "         545.4 ,   509.04,  1311.84,  3076.92,  2254.56, 23040.  ,\n",
       "           0.  , 21840.  ])"
      ]
     },
     "execution_count": 101,
     "metadata": {},
     "output_type": "execute_result"
    }
   ],
   "source": [
    "mb0a_w2_by_zed = mb0a_by_zed.iloc[1].values\n",
    "mb0a_w2_by_zed"
   ]
  },
  {
   "cell_type": "code",
   "execution_count": 102,
   "id": "19014e42",
   "metadata": {},
   "outputs": [
    {
     "data": {
      "text/html": [
       "<div>\n",
       "<style scoped>\n",
       "    .dataframe tbody tr th:only-of-type {\n",
       "        vertical-align: middle;\n",
       "    }\n",
       "\n",
       "    .dataframe tbody tr th {\n",
       "        vertical-align: top;\n",
       "    }\n",
       "\n",
       "    .dataframe thead th {\n",
       "        text-align: right;\n",
       "    }\n",
       "</style>\n",
       "<table border=\"1\" class=\"dataframe\">\n",
       "  <thead>\n",
       "    <tr style=\"text-align: right;\">\n",
       "      <th></th>\n",
       "      <th>Cyst</th>\n",
       "      <th>Alpha Clot</th>\n",
       "      <th>Slasher</th>\n",
       "      <th>Rioter</th>\n",
       "      <th>Gorefast</th>\n",
       "      <th>Gorefiend</th>\n",
       "      <th>Crawler</th>\n",
       "      <th>Stalker</th>\n",
       "      <th>Bloat</th>\n",
       "      <th>Husk</th>\n",
       "      <th>Siren</th>\n",
       "      <th>Scrake</th>\n",
       "      <th>Quarterpound</th>\n",
       "      <th>Fleshpound</th>\n",
       "    </tr>\n",
       "  </thead>\n",
       "  <tbody>\n",
       "    <tr>\n",
       "      <th>0</th>\n",
       "      <td>399.96</td>\n",
       "      <td>436.32</td>\n",
       "      <td>436.32</td>\n",
       "      <td>1590.96</td>\n",
       "      <td>1454.4</td>\n",
       "      <td>3272.64</td>\n",
       "      <td>545.4</td>\n",
       "      <td>509.04</td>\n",
       "      <td>1311.84</td>\n",
       "      <td>3076.92</td>\n",
       "      <td>2254.56</td>\n",
       "      <td>23040.0</td>\n",
       "      <td>0.0</td>\n",
       "      <td>21840.0</td>\n",
       "    </tr>\n",
       "  </tbody>\n",
       "</table>\n",
       "</div>"
      ],
      "text/plain": [
       "     Cyst  Alpha Clot  Slasher   Rioter  Gorefast  Gorefiend  Crawler  \\\n",
       "0  399.96      436.32   436.32  1590.96    1454.4    3272.64    545.4   \n",
       "\n",
       "   Stalker    Bloat     Husk    Siren   Scrake  Quarterpound  Fleshpound  \n",
       "0   509.04  1311.84  3076.92  2254.56  23040.0           0.0     21840.0  "
      ]
     },
     "execution_count": 102,
     "metadata": {},
     "output_type": "execute_result"
    }
   ],
   "source": [
    "mb0a_w2_by_zed_df = pd.DataFrame([mb0a_w2_by_zed],columns=mb0a_w2_labels)\n",
    "mb0a_w2_by_zed_df"
   ]
  },
  {
   "cell_type": "code",
   "execution_count": 103,
   "id": "3d0d7f48",
   "metadata": {},
   "outputs": [
    {
     "data": {
      "text/plain": [
       "60168.36"
      ]
     },
     "execution_count": 103,
     "metadata": {},
     "output_type": "execute_result"
    }
   ],
   "source": [
    "# mb_v0a, wave 2\n",
    "mb0a_wave2_pool=mb0a_w2_by_zed.sum()\n",
    "\n",
    "mb0a_wave2_pool"
   ]
  },
  {
   "cell_type": "markdown",
   "id": "311dde07",
   "metadata": {},
   "source": [
    "#### 7a. Zed Head Health Pool Conclusion\n",
    "We can see that wave 2 is an extremely significant increase in lethality and Zed HP. Wave 1 had 22870.76 zed head HP. Wave 2 has nearly tripled that, to **60,168.36** head HP."
   ]
  },
  {
   "cell_type": "markdown",
   "id": "186d8f63",
   "metadata": {},
   "source": [
    "### 7b. Team Loadouts - Wave 2\n",
    "The players have new loadouts going into this wave. They are as follows:"
   ]
  },
  {
   "cell_type": "code",
   "execution_count": 104,
   "id": "741de8be",
   "metadata": {},
   "outputs": [
    {
     "data": {
      "text/plain": [
       "['mando 9mm',\n",
       " 'mando ar15 hpr',\n",
       " 'mando bullpup hpr',\n",
       " 'gs1 9mm',\n",
       " 'gs1 1858s',\n",
       " 'gs1 SPX',\n",
       " 'gs2 9mm',\n",
       " 'gs2 1858s',\n",
       " 'gs2 SPX',\n",
       " 'ss1 9mm',\n",
       " 'ss1 winch',\n",
       " 'ss1 ebr1',\n",
       " 'ss2 9mm',\n",
       " 'ss2 winch',\n",
       " 'ss2 ebr1']"
      ]
     },
     "execution_count": 104,
     "metadata": {},
     "output_type": "execute_result"
    }
   ],
   "source": [
    "team_w2_full_labels = ['mando 9mm','mando ar15 hpr','mando bullpup hpr','gs1 9mm','gs1 1858s','gs1 SPX','gs2 9mm','gs2 1858s','gs2 SPX', 'ss1 9mm','ss1 winch','ss1 ebr1','ss2 9mm','ss2 winch','ss2 ebr1',]\n",
    "team_w2_full_labels"
   ]
  },
  {
   "cell_type": "code",
   "execution_count": 105,
   "id": "0449d447",
   "metadata": {},
   "outputs": [
    {
     "data": {
      "text/html": [
       "<div>\n",
       "<style scoped>\n",
       "    .dataframe tbody tr th:only-of-type {\n",
       "        vertical-align: middle;\n",
       "    }\n",
       "\n",
       "    .dataframe tbody tr th {\n",
       "        vertical-align: top;\n",
       "    }\n",
       "\n",
       "    .dataframe thead th {\n",
       "        text-align: right;\n",
       "    }\n",
       "</style>\n",
       "<table border=\"1\" class=\"dataframe\">\n",
       "  <thead>\n",
       "    <tr style=\"text-align: right;\">\n",
       "      <th></th>\n",
       "      <th>mando 9mm</th>\n",
       "      <th>mando ar15 hpr</th>\n",
       "      <th>mando bullpup hpr</th>\n",
       "      <th>gs1 9mm</th>\n",
       "      <th>gs1 1858s</th>\n",
       "      <th>gs1 SPX</th>\n",
       "      <th>gs2 9mm</th>\n",
       "      <th>gs2 1858s</th>\n",
       "      <th>gs2 SPX</th>\n",
       "      <th>ss1 9mm</th>\n",
       "      <th>ss1 winch</th>\n",
       "      <th>ss1 ebr1</th>\n",
       "      <th>ss2 9mm</th>\n",
       "      <th>ss2 winch</th>\n",
       "      <th>ss2 ebr1</th>\n",
       "    </tr>\n",
       "  </thead>\n",
       "  <tbody>\n",
       "    <tr>\n",
       "      <th>0</th>\n",
       "      <td>11</td>\n",
       "      <td>160</td>\n",
       "      <td>354</td>\n",
       "      <td>11</td>\n",
       "      <td>156</td>\n",
       "      <td>80</td>\n",
       "      <td>11</td>\n",
       "      <td>156</td>\n",
       "      <td>80</td>\n",
       "      <td>14</td>\n",
       "      <td>15</td>\n",
       "      <td>170</td>\n",
       "      <td>14</td>\n",
       "      <td>15</td>\n",
       "      <td>170</td>\n",
       "    </tr>\n",
       "  </tbody>\n",
       "</table>\n",
       "</div>"
      ],
      "text/plain": [
       "   mando 9mm  mando ar15 hpr  mando bullpup hpr  gs1 9mm  gs1 1858s  gs1 SPX  \\\n",
       "0         11             160                354       11        156       80   \n",
       "\n",
       "   gs2 9mm  gs2 1858s  gs2 SPX  ss1 9mm  ss1 winch  ss1 ebr1  ss2 9mm  \\\n",
       "0       11        156       80       14         15       170       14   \n",
       "\n",
       "   ss2 winch  ss2 ebr1  \n",
       "0         15       170  "
      ]
     },
     "execution_count": 105,
     "metadata": {},
     "output_type": "execute_result"
    }
   ],
   "source": [
    "team_w2_ammo = [11,160,354,11,156,80,11,156,80,14,15,170,14,15,170]\n",
    "team_w2_ammo_df = pd.DataFrame([team_w2_ammo],columns=team_w2_full_labels)\n",
    "team_w2_ammo_df"
   ]
  },
  {
   "cell_type": "code",
   "execution_count": 106,
   "id": "c13b1a81",
   "metadata": {},
   "outputs": [],
   "source": [
    "team_w2_full = np.empty(shape=(0))\n",
    "team_w2_full_perShot = np.empty(shape=(0))"
   ]
  },
  {
   "cell_type": "code",
   "execution_count": 107,
   "id": "b70797fa",
   "metadata": {},
   "outputs": [],
   "source": [
    "# Commando, Wave 2\n",
    "cmd_w2 = []\n",
    "cmd_w2.append(nine_cmd_dmg*team_w2_ammo[0]) \n",
    "cmd_w2.append(ar15_hpr_dmg*team_w2_ammo[1])\n",
    "cmd_w2.append(bullpup_hpr_dmg*team_w2_ammo[2])\n",
    "\n",
    "team_w2_full = np.append(team_w2_full,cmd_w2)\n",
    "\n",
    "# team_w2_full"
   ]
  },
  {
   "cell_type": "code",
   "execution_count": 108,
   "id": "29e9763f",
   "metadata": {},
   "outputs": [],
   "source": [
    "# Gunslinger 1, Wave 2\n",
    "gs1_w2 = []\n",
    "gs1_w2.append(nine_gs_dmg*team_w2_ammo[3]) \n",
    "gs1_w2.append(revol_gs_dmg*team_w2_ammo[4])\n",
    "gs1_w2.append(spx_gs_dmg*team_w2_ammo[5])\n",
    "\n",
    "team_w2_full = np.append(team_w2_full,gs1_w2)\n",
    "\n",
    "# team_w2_full"
   ]
  },
  {
   "cell_type": "code",
   "execution_count": 109,
   "id": "9d9a9a10",
   "metadata": {},
   "outputs": [],
   "source": [
    "# Gunslinger 2, Wave 2\n",
    "gs2_w2 = []\n",
    "gs2_w2.append(nine_gs_dmg*team_w2_ammo[6]) \n",
    "gs2_w2.append(revol_gs_dmg*team_w2_ammo[7])\n",
    "gs2_w2.append(spx_gs_dmg*team_w2_ammo[8])\n",
    "\n",
    "team_w2_full = np.append(team_w2_full,gs2_w2)\n",
    "\n",
    "# team_w2_full"
   ]
  },
  {
   "cell_type": "code",
   "execution_count": 110,
   "id": "1061a619",
   "metadata": {},
   "outputs": [],
   "source": [
    "# Sharpshooter 1, Wave 2\n",
    "ss1_w2 = []\n",
    "ss1_w2.append(nine_ss_dmg*team_w2_ammo[9]) \n",
    "ss1_w2.append(winch_ss_dmg*team_w2_ammo[10])\n",
    "ss1_w2.append(ebr1_ss_dmg*team_w2_ammo[11])\n",
    "\n",
    "team_w2_full = np.append(team_w2_full,ss1_w2)\n",
    "\n",
    "# team_w2_full"
   ]
  },
  {
   "cell_type": "code",
   "execution_count": 111,
   "id": "d476dfa9",
   "metadata": {},
   "outputs": [],
   "source": [
    "# Sharpshooter 2, Wave 2\n",
    "ss2_w2 = []\n",
    "ss2_w2.append(nine_ss_dmg*team_w2_ammo[9]) \n",
    "ss2_w2.append(winch_ss_dmg*team_w2_ammo[10])\n",
    "ss2_w2.append(ebr1_ss_dmg*team_w2_ammo[11])\n",
    "\n",
    "team_w2_full = np.append(team_w2_full,ss2_w2)\n",
    "\n",
    "# team_w2_full"
   ]
  },
  {
   "cell_type": "code",
   "execution_count": 112,
   "id": "f39ca5c8",
   "metadata": {},
   "outputs": [
    {
     "data": {
      "text/html": [
       "<div>\n",
       "<style scoped>\n",
       "    .dataframe tbody tr th:only-of-type {\n",
       "        vertical-align: middle;\n",
       "    }\n",
       "\n",
       "    .dataframe tbody tr th {\n",
       "        vertical-align: top;\n",
       "    }\n",
       "\n",
       "    .dataframe thead th {\n",
       "        text-align: right;\n",
       "    }\n",
       "</style>\n",
       "<table border=\"1\" class=\"dataframe\">\n",
       "  <thead>\n",
       "    <tr style=\"text-align: right;\">\n",
       "      <th></th>\n",
       "      <th>mando 9mm</th>\n",
       "      <th>mando ar15 hpr</th>\n",
       "      <th>mando bullpup hpr</th>\n",
       "      <th>gs1 9mm</th>\n",
       "      <th>gs1 1858s</th>\n",
       "      <th>gs1 SPX</th>\n",
       "      <th>gs2 9mm</th>\n",
       "      <th>gs2 1858s</th>\n",
       "      <th>gs2 SPX</th>\n",
       "      <th>ss1 9mm</th>\n",
       "      <th>ss1 winch</th>\n",
       "      <th>ss1 ebr1</th>\n",
       "      <th>ss2 9mm</th>\n",
       "      <th>ss2 winch</th>\n",
       "      <th>ss2 ebr1</th>\n",
       "    </tr>\n",
       "  </thead>\n",
       "  <tbody>\n",
       "    <tr>\n",
       "      <th>0</th>\n",
       "      <td>517.0</td>\n",
       "      <td>7520.0</td>\n",
       "      <td>17700.0</td>\n",
       "      <td>484.0</td>\n",
       "      <td>13728.0</td>\n",
       "      <td>23120.0</td>\n",
       "      <td>484.0</td>\n",
       "      <td>13728.0</td>\n",
       "      <td>23120.0</td>\n",
       "      <td>728.0</td>\n",
       "      <td>2460.0</td>\n",
       "      <td>32130.0</td>\n",
       "      <td>728.0</td>\n",
       "      <td>2460.0</td>\n",
       "      <td>32130.0</td>\n",
       "    </tr>\n",
       "  </tbody>\n",
       "</table>\n",
       "</div>"
      ],
      "text/plain": [
       "   mando 9mm  mando ar15 hpr  mando bullpup hpr  gs1 9mm  gs1 1858s  gs1 SPX  \\\n",
       "0      517.0          7520.0            17700.0    484.0    13728.0  23120.0   \n",
       "\n",
       "   gs2 9mm  gs2 1858s  gs2 SPX  ss1 9mm  ss1 winch  ss1 ebr1  ss2 9mm  \\\n",
       "0    484.0    13728.0  23120.0    728.0     2460.0   32130.0    728.0   \n",
       "\n",
       "   ss2 winch  ss2 ebr1  \n",
       "0     2460.0   32130.0  "
      ]
     },
     "execution_count": 112,
     "metadata": {},
     "output_type": "execute_result"
    }
   ],
   "source": [
    "team_w2_full_df = pd.DataFrame([team_w2_full],columns=team_w2_full_labels)\n",
    "team_w2_full_df"
   ]
  },
  {
   "cell_type": "code",
   "execution_count": 113,
   "id": "a492c710",
   "metadata": {},
   "outputs": [
    {
     "data": {
      "text/plain": [
       "171037.0"
      ]
     },
     "execution_count": 113,
     "metadata": {},
     "output_type": "execute_result"
    }
   ],
   "source": [
    "# Total Team Damage\n",
    "Max_Team_Damage_w2 = sum(team_w2_full)\n",
    "Max_Team_Damage_w2"
   ]
  },
  {
   "cell_type": "markdown",
   "id": "d3422fca",
   "metadata": {},
   "source": [
    "#### 7b. Team Loadouts Conclusion\n",
    "We can see that the team's capacity to deal with enemies has nearly doubled to **171,037** points of damage, were there to be no resistances and 100% headshot accuracy."
   ]
  },
  {
   "cell_type": "markdown",
   "id": "c9d2c08d",
   "metadata": {},
   "source": [
    "### 7c. Max Wave 2 Team Damage after HSACC\n",
    "\n",
    "Now, we apply the headshot accuracies we found waaaaay back in 6a and 6b.\n",
    "We found dps_hsacc to be **51.025%** and mando_hsacc to be **28.52%**. Now, we need to modify our damage totals appropriately so we know how many shots players are actually going to land.\n",
    "\n",
    "For this wave, we will now be using the 17.82% commando accuracy, now that they have a primary automatic weapon.\n",
    "\n",
    "At the end, we will also create an array with the percentage of the team's total damage that each weapon represents. This will be used to weight the ammunition expenditure from each weapon."
   ]
  },
  {
   "cell_type": "markdown",
   "id": "ab1c434f",
   "metadata": {},
   "source": [
    "First, we look at our full damage values found in 7b:"
   ]
  },
  {
   "cell_type": "code",
   "execution_count": 114,
   "id": "0bacf98b",
   "metadata": {
    "scrolled": true
   },
   "outputs": [
    {
     "data": {
      "text/html": [
       "<div>\n",
       "<style scoped>\n",
       "    .dataframe tbody tr th:only-of-type {\n",
       "        vertical-align: middle;\n",
       "    }\n",
       "\n",
       "    .dataframe tbody tr th {\n",
       "        vertical-align: top;\n",
       "    }\n",
       "\n",
       "    .dataframe thead th {\n",
       "        text-align: right;\n",
       "    }\n",
       "</style>\n",
       "<table border=\"1\" class=\"dataframe\">\n",
       "  <thead>\n",
       "    <tr style=\"text-align: right;\">\n",
       "      <th></th>\n",
       "      <th>mando 9mm</th>\n",
       "      <th>mando ar15 hpr</th>\n",
       "      <th>mando bullpup hpr</th>\n",
       "      <th>gs1 9mm</th>\n",
       "      <th>gs1 1858s</th>\n",
       "      <th>gs1 SPX</th>\n",
       "      <th>gs2 9mm</th>\n",
       "      <th>gs2 1858s</th>\n",
       "      <th>gs2 SPX</th>\n",
       "      <th>ss1 9mm</th>\n",
       "      <th>ss1 winch</th>\n",
       "      <th>ss1 ebr1</th>\n",
       "      <th>ss2 9mm</th>\n",
       "      <th>ss2 winch</th>\n",
       "      <th>ss2 ebr1</th>\n",
       "    </tr>\n",
       "  </thead>\n",
       "  <tbody>\n",
       "    <tr>\n",
       "      <th>0</th>\n",
       "      <td>517.0</td>\n",
       "      <td>7520.0</td>\n",
       "      <td>17700.0</td>\n",
       "      <td>484.0</td>\n",
       "      <td>13728.0</td>\n",
       "      <td>23120.0</td>\n",
       "      <td>484.0</td>\n",
       "      <td>13728.0</td>\n",
       "      <td>23120.0</td>\n",
       "      <td>728.0</td>\n",
       "      <td>2460.0</td>\n",
       "      <td>32130.0</td>\n",
       "      <td>728.0</td>\n",
       "      <td>2460.0</td>\n",
       "      <td>32130.0</td>\n",
       "    </tr>\n",
       "  </tbody>\n",
       "</table>\n",
       "</div>"
      ],
      "text/plain": [
       "   mando 9mm  mando ar15 hpr  mando bullpup hpr  gs1 9mm  gs1 1858s  gs1 SPX  \\\n",
       "0      517.0          7520.0            17700.0    484.0    13728.0  23120.0   \n",
       "\n",
       "   gs2 9mm  gs2 1858s  gs2 SPX  ss1 9mm  ss1 winch  ss1 ebr1  ss2 9mm  \\\n",
       "0    484.0    13728.0  23120.0    728.0     2460.0   32130.0    728.0   \n",
       "\n",
       "   ss2 winch  ss2 ebr1  \n",
       "0     2460.0   32130.0  "
      ]
     },
     "execution_count": 114,
     "metadata": {},
     "output_type": "execute_result"
    }
   ],
   "source": [
    "team_w2_full_df"
   ]
  },
  {
   "cell_type": "markdown",
   "id": "e6c263b3",
   "metadata": {},
   "source": [
    "Then, we apply our accuracies:"
   ]
  },
  {
   "cell_type": "code",
   "execution_count": 115,
   "id": "880e0c3d",
   "metadata": {},
   "outputs": [
    {
     "data": {
      "text/html": [
       "<div>\n",
       "<style scoped>\n",
       "    .dataframe tbody tr th:only-of-type {\n",
       "        vertical-align: middle;\n",
       "    }\n",
       "\n",
       "    .dataframe tbody tr th {\n",
       "        vertical-align: top;\n",
       "    }\n",
       "\n",
       "    .dataframe thead th {\n",
       "        text-align: right;\n",
       "    }\n",
       "</style>\n",
       "<table border=\"1\" class=\"dataframe\">\n",
       "  <thead>\n",
       "    <tr style=\"text-align: right;\">\n",
       "      <th></th>\n",
       "      <th>mando 9mm</th>\n",
       "      <th>mando ar15 hpr</th>\n",
       "      <th>mando bullpup hpr</th>\n",
       "      <th>gs1 9mm</th>\n",
       "      <th>gs1 1858s</th>\n",
       "      <th>gs1 SPX</th>\n",
       "      <th>gs2 9mm</th>\n",
       "      <th>gs2 1858s</th>\n",
       "      <th>gs2 SPX</th>\n",
       "      <th>ss1 9mm</th>\n",
       "      <th>ss1 winch</th>\n",
       "      <th>ss1 ebr1</th>\n",
       "      <th>ss2 9mm</th>\n",
       "      <th>ss2 winch</th>\n",
       "      <th>ss2 ebr1</th>\n",
       "    </tr>\n",
       "  </thead>\n",
       "  <tbody>\n",
       "    <tr>\n",
       "      <th>0</th>\n",
       "      <td>147.494592</td>\n",
       "      <td>2145.375879</td>\n",
       "      <td>5049.621417</td>\n",
       "      <td>246.961</td>\n",
       "      <td>7004.712</td>\n",
       "      <td>11796.98</td>\n",
       "      <td>246.961</td>\n",
       "      <td>7004.712</td>\n",
       "      <td>11796.98</td>\n",
       "      <td>371.462</td>\n",
       "      <td>1255.215</td>\n",
       "      <td>16394.3325</td>\n",
       "      <td>371.462</td>\n",
       "      <td>1255.215</td>\n",
       "      <td>16394.3325</td>\n",
       "    </tr>\n",
       "  </tbody>\n",
       "</table>\n",
       "</div>"
      ],
      "text/plain": [
       "    mando 9mm  mando ar15 hpr  mando bullpup hpr  gs1 9mm  gs1 1858s  \\\n",
       "0  147.494592     2145.375879        5049.621417  246.961   7004.712   \n",
       "\n",
       "    gs1 SPX  gs2 9mm  gs2 1858s   gs2 SPX  ss1 9mm  ss1 winch    ss1 ebr1  \\\n",
       "0  11796.98  246.961   7004.712  11796.98  371.462   1255.215  16394.3325   \n",
       "\n",
       "   ss2 9mm  ss2 winch    ss2 ebr1  \n",
       "0  371.462   1255.215  16394.3325  "
      ]
     },
     "execution_count": 115,
     "metadata": {},
     "output_type": "execute_result"
    }
   ],
   "source": [
    "team_w2_hsacc = np.copy(team_w2_full)\n",
    "team_w2_hsacc[:3] *= mando_hsacc\n",
    "team_w2_hsacc[3:] *= dps_hsacc\n",
    "team_w2_hsacc_df = pd.DataFrame([team_w2_hsacc],columns=team_w2_full_labels)\n",
    "team_w2_hsacc_df"
   ]
  },
  {
   "cell_type": "code",
   "execution_count": 116,
   "id": "01dd7f7b",
   "metadata": {},
   "outputs": [
    {
     "data": {
      "text/plain": [
       "81481.8168877072"
      ]
     },
     "execution_count": 116,
     "metadata": {},
     "output_type": "execute_result"
    }
   ],
   "source": [
    "Max_Team_Damage_w2_HSACC = sum(team_w2_hsacc)\n",
    "Max_Team_Damage_w2_HSACC"
   ]
  },
  {
   "cell_type": "markdown",
   "id": "733f0e40",
   "metadata": {},
   "source": [
    "This is disturbingly close to our wave HP total already."
   ]
  },
  {
   "cell_type": "markdown",
   "id": "288928c6",
   "metadata": {},
   "source": [
    "We close out with some percentages to use later. These are identical to the percentages of total possible damage this wave, since we assigned our commando the same accuracy as the DPS players, but that will change in later waves."
   ]
  },
  {
   "cell_type": "code",
   "execution_count": 117,
   "id": "22649301",
   "metadata": {},
   "outputs": [
    {
     "data": {
      "text/html": [
       "<div>\n",
       "<style scoped>\n",
       "    .dataframe tbody tr th:only-of-type {\n",
       "        vertical-align: middle;\n",
       "    }\n",
       "\n",
       "    .dataframe tbody tr th {\n",
       "        vertical-align: top;\n",
       "    }\n",
       "\n",
       "    .dataframe thead th {\n",
       "        text-align: right;\n",
       "    }\n",
       "</style>\n",
       "<table border=\"1\" class=\"dataframe\">\n",
       "  <thead>\n",
       "    <tr style=\"text-align: right;\">\n",
       "      <th></th>\n",
       "      <th>mando 9mm</th>\n",
       "      <th>mando ar15 hpr</th>\n",
       "      <th>mando bullpup hpr</th>\n",
       "      <th>gs1 9mm</th>\n",
       "      <th>gs1 1858s</th>\n",
       "      <th>gs1 SPX</th>\n",
       "      <th>gs2 9mm</th>\n",
       "      <th>gs2 1858s</th>\n",
       "      <th>gs2 SPX</th>\n",
       "      <th>ss1 9mm</th>\n",
       "      <th>ss1 winch</th>\n",
       "      <th>ss1 ebr1</th>\n",
       "      <th>ss2 9mm</th>\n",
       "      <th>ss2 winch</th>\n",
       "      <th>ss2 ebr1</th>\n",
       "    </tr>\n",
       "  </thead>\n",
       "  <tbody>\n",
       "    <tr>\n",
       "      <th>0</th>\n",
       "      <td>0.00181</td>\n",
       "      <td>0.02633</td>\n",
       "      <td>0.061972</td>\n",
       "      <td>0.003031</td>\n",
       "      <td>0.085967</td>\n",
       "      <td>0.144781</td>\n",
       "      <td>0.003031</td>\n",
       "      <td>0.085967</td>\n",
       "      <td>0.144781</td>\n",
       "      <td>0.004559</td>\n",
       "      <td>0.015405</td>\n",
       "      <td>0.201202</td>\n",
       "      <td>0.004559</td>\n",
       "      <td>0.015405</td>\n",
       "      <td>0.201202</td>\n",
       "    </tr>\n",
       "  </tbody>\n",
       "</table>\n",
       "</div>"
      ],
      "text/plain": [
       "   mando 9mm  mando ar15 hpr  mando bullpup hpr   gs1 9mm  gs1 1858s  \\\n",
       "0    0.00181         0.02633           0.061972  0.003031   0.085967   \n",
       "\n",
       "    gs1 SPX   gs2 9mm  gs2 1858s   gs2 SPX   ss1 9mm  ss1 winch  ss1 ebr1  \\\n",
       "0  0.144781  0.003031   0.085967  0.144781  0.004559   0.015405  0.201202   \n",
       "\n",
       "    ss2 9mm  ss2 winch  ss2 ebr1  \n",
       "0  0.004559   0.015405  0.201202  "
      ]
     },
     "execution_count": 117,
     "metadata": {},
     "output_type": "execute_result"
    }
   ],
   "source": [
    "# Percent of overall damage dealt by each weapon\n",
    "team_w2_hsacc_perc = team_w2_hsacc / sum(team_w2_hsacc)\n",
    "team_w2_hsacc_perc_df = pd.DataFrame([team_w2_hsacc_perc],columns=team_w2_full_labels)\n",
    "team_w2_hsacc_perc_df"
   ]
  },
  {
   "cell_type": "markdown",
   "id": "6e00af40",
   "metadata": {},
   "source": [
    "#### 7c. Max Wave 2 Team Damage after HSACC Conclusion\n",
    "\n",
    "Now, we find that our team is expected to be an alarmingly low **81,482** points of damage once accuracies are accounted for. In addition, we have percentages of that total that each weapon is expected to do.\n",
    "\n",
    "However, our work is not done."
   ]
  },
  {
   "cell_type": "markdown",
   "id": "4b4cc5b7",
   "metadata": {},
   "source": [
    "### 7d. Max Team Damage after Weapon Resistances in Wave 2\n",
    "Weapon math in KF2 comes with the fun and exciting added complication of enemy damage resistances. This is where things can get really weird."
   ]
  },
  {
   "cell_type": "code",
   "execution_count": 119,
   "id": "c08d6172",
   "metadata": {},
   "outputs": [
    {
     "data": {
      "text/html": [
       "<div>\n",
       "<style scoped>\n",
       "    .dataframe tbody tr th:only-of-type {\n",
       "        vertical-align: middle;\n",
       "    }\n",
       "\n",
       "    .dataframe tbody tr th {\n",
       "        vertical-align: top;\n",
       "    }\n",
       "\n",
       "    .dataframe thead th {\n",
       "        text-align: right;\n",
       "    }\n",
       "</style>\n",
       "<table border=\"1\" class=\"dataframe\">\n",
       "  <thead>\n",
       "    <tr style=\"text-align: right;\">\n",
       "      <th></th>\n",
       "      <th>Cyst</th>\n",
       "      <th>Alpha Clot</th>\n",
       "      <th>Slasher</th>\n",
       "      <th>Rioter</th>\n",
       "      <th>Gorefast</th>\n",
       "      <th>Gorefiend</th>\n",
       "      <th>Crawler</th>\n",
       "      <th>Stalker</th>\n",
       "      <th>Bloat</th>\n",
       "      <th>Husk</th>\n",
       "      <th>Siren</th>\n",
       "      <th>Scrake</th>\n",
       "      <th>Quarterpound</th>\n",
       "      <th>Fleshpound</th>\n",
       "    </tr>\n",
       "  </thead>\n",
       "  <tbody>\n",
       "    <tr>\n",
       "      <th>0</th>\n",
       "      <td>399.96</td>\n",
       "      <td>436.32</td>\n",
       "      <td>436.32</td>\n",
       "      <td>1590.96</td>\n",
       "      <td>1454.4</td>\n",
       "      <td>3272.64</td>\n",
       "      <td>545.4</td>\n",
       "      <td>509.04</td>\n",
       "      <td>1311.84</td>\n",
       "      <td>3076.92</td>\n",
       "      <td>2254.56</td>\n",
       "      <td>23040.0</td>\n",
       "      <td>0.0</td>\n",
       "      <td>21840.0</td>\n",
       "    </tr>\n",
       "  </tbody>\n",
       "</table>\n",
       "</div>"
      ],
      "text/plain": [
       "     Cyst  Alpha Clot  Slasher   Rioter  Gorefast  Gorefiend  Crawler  \\\n",
       "0  399.96      436.32   436.32  1590.96    1454.4    3272.64    545.4   \n",
       "\n",
       "   Stalker    Bloat     Husk    Siren   Scrake  Quarterpound  Fleshpound  \n",
       "0   509.04  1311.84  3076.92  2254.56  23040.0           0.0     21840.0  "
      ]
     },
     "execution_count": 119,
     "metadata": {},
     "output_type": "execute_result"
    }
   ],
   "source": [
    "mb0a_w2_by_zed_df = pd.DataFrame([mb0a_w2_by_zed],columns=mb0a_w2_labels)\n",
    "mb0a_w2_by_zed_df"
   ]
  },
  {
   "cell_type": "code",
   "execution_count": 120,
   "id": "a9f32822",
   "metadata": {},
   "outputs": [
    {
     "data": {
      "text/html": [
       "<div>\n",
       "<style scoped>\n",
       "    .dataframe tbody tr th:only-of-type {\n",
       "        vertical-align: middle;\n",
       "    }\n",
       "\n",
       "    .dataframe tbody tr th {\n",
       "        vertical-align: top;\n",
       "    }\n",
       "\n",
       "    .dataframe thead th {\n",
       "        text-align: right;\n",
       "    }\n",
       "</style>\n",
       "<table border=\"1\" class=\"dataframe\">\n",
       "  <thead>\n",
       "    <tr style=\"text-align: right;\">\n",
       "      <th></th>\n",
       "      <th>mando 9mm</th>\n",
       "      <th>mando ar15 hpr</th>\n",
       "      <th>mando bullpup hpr</th>\n",
       "      <th>gs1 9mm</th>\n",
       "      <th>gs1 1858s</th>\n",
       "      <th>gs1 SPX</th>\n",
       "      <th>gs2 9mm</th>\n",
       "      <th>gs2 1858s</th>\n",
       "      <th>gs2 SPX</th>\n",
       "      <th>ss1 9mm</th>\n",
       "      <th>ss1 winch</th>\n",
       "      <th>ss1 ebr1</th>\n",
       "      <th>ss2 9mm</th>\n",
       "      <th>ss2 winch</th>\n",
       "      <th>ss2 ebr1</th>\n",
       "    </tr>\n",
       "  </thead>\n",
       "  <tbody>\n",
       "    <tr>\n",
       "      <th>0</th>\n",
       "      <td>517.0</td>\n",
       "      <td>7520.0</td>\n",
       "      <td>17700.0</td>\n",
       "      <td>484.0</td>\n",
       "      <td>13728.0</td>\n",
       "      <td>23120.0</td>\n",
       "      <td>484.0</td>\n",
       "      <td>13728.0</td>\n",
       "      <td>23120.0</td>\n",
       "      <td>728.0</td>\n",
       "      <td>2460.0</td>\n",
       "      <td>32130.0</td>\n",
       "      <td>728.0</td>\n",
       "      <td>2460.0</td>\n",
       "      <td>32130.0</td>\n",
       "    </tr>\n",
       "  </tbody>\n",
       "</table>\n",
       "</div>"
      ],
      "text/plain": [
       "   mando 9mm  mando ar15 hpr  mando bullpup hpr  gs1 9mm  gs1 1858s  gs1 SPX  \\\n",
       "0      517.0          7520.0            17700.0    484.0    13728.0  23120.0   \n",
       "\n",
       "   gs2 9mm  gs2 1858s  gs2 SPX  ss1 9mm  ss1 winch  ss1 ebr1  ss2 9mm  \\\n",
       "0    484.0    13728.0  23120.0    728.0     2460.0   32130.0    728.0   \n",
       "\n",
       "   ss2 winch  ss2 ebr1  \n",
       "0     2460.0   32130.0  "
      ]
     },
     "execution_count": 120,
     "metadata": {},
     "output_type": "execute_result"
    }
   ],
   "source": [
    "team_w2_full_df"
   ]
  },
  {
   "cell_type": "code",
   "execution_count": 121,
   "id": "5c804405",
   "metadata": {},
   "outputs": [
    {
     "data": {
      "text/plain": [
       "2.5825951290524425"
      ]
     },
     "execution_count": 121,
     "metadata": {},
     "output_type": "execute_result"
    }
   ],
   "source": [
    "sum(mb0a_w2_by_zed/zedstats_df_clean.iloc[7]*team_w2_hsacc_perc[0])"
   ]
  },
  {
   "cell_type": "code",
   "execution_count": 122,
   "id": "d6912591",
   "metadata": {},
   "outputs": [],
   "source": [
    "# Declaring our array for this set of calculations\n",
    "team_w2_res = []"
   ]
  },
  {
   "cell_type": "code",
   "execution_count": 123,
   "id": "d8e57bdd",
   "metadata": {},
   "outputs": [
    {
     "data": {
      "text/plain": [
       "[2.5825951290524425]"
      ]
     },
     "execution_count": 123,
     "metadata": {},
     "output_type": "execute_result"
    }
   ],
   "source": [
    "# Resisted damage = sum(mb0a_v1 wave2 / zedstats resistance row * percent of damage weapon it is expected to do)\n",
    "\n",
    "# 9mm\n",
    "team_w2_res.append(sum(mb0a_w2_by_zed/zedstats_df_clean.iloc[7]*team_w2_hsacc_perc[0]))\n",
    "team_w2_res"
   ]
  },
  {
   "cell_type": "markdown",
   "id": "09fd0609",
   "metadata": {},
   "source": [
    "#### 7d. Max Team Damage after Weapon Resistances in Wave 2 Conclusion\n",
    "We now know that, with our accuracies and the resistances of the zeds, we can expect our team to do about **72,283** points of damage to the zeds"
   ]
  },
  {
   "cell_type": "markdown",
   "id": "24b09aa0",
   "metadata": {},
   "source": [
    "### 7e. The Story So Far - Wave 2\n",
    "So, we've done a ton more math and I would not blame anyone for getting lost, so it's time for the return of the visuals! The following bar plot displays, from left to right:\n",
    "1. NVM_v1's wave 10 adjusted zed head HP pool. \n",
    " - *nvm1_10_pool*\n",
    "2. The team's total possible damage for wave 2 if they were perfectly accurate and zeds resisted no damage.. \n",
    " - *Max_Team_Damage_w2*\n",
    "3. The team's expected damage output after accuracy is accounted for. \n",
    " - *Max_Team_Damage_w2_HSACC*\n",
    "4. The team's total possible damage after accuracy and zed resistances are applied. \n",
    " - *Max_Team_Damage_w2_RES*\n",
    "5. MB_v0a's wave 1 adjusted zed head HP pool, \n",
    " - *mb0a_wave2_pool*"
   ]
  },
  {
   "cell_type": "code",
   "execution_count": 124,
   "id": "2dc97c45",
   "metadata": {
    "scrolled": false
   },
   "outputs": [
    {
     "ename": "NameError",
     "evalue": "name 'Max_Team_Damage_w2_RES' is not defined",
     "output_type": "error",
     "traceback": [
      "\u001b[1;31m---------------------------------------------------------------------------\u001b[0m",
      "\u001b[1;31mNameError\u001b[0m                                 Traceback (most recent call last)",
      "Cell \u001b[1;32mIn[124], line 2\u001b[0m\n\u001b[0;32m      1\u001b[0m bar_labels_7e \u001b[38;5;241m=\u001b[39m [\u001b[38;5;124m'\u001b[39m\u001b[38;5;124mNVM_v1 w10\u001b[39m\u001b[38;5;124m'\u001b[39m,\u001b[38;5;124m'\u001b[39m\u001b[38;5;124mTeam Max2\u001b[39m\u001b[38;5;124m'\u001b[39m,\u001b[38;5;124m'\u001b[39m\u001b[38;5;124mHSACC Max2\u001b[39m\u001b[38;5;124m'\u001b[39m,\u001b[38;5;124m'\u001b[39m\u001b[38;5;124mResist Max2\u001b[39m\u001b[38;5;124m'\u001b[39m,\u001b[38;5;124m'\u001b[39m\u001b[38;5;124mMB_v0a w2\u001b[39m\u001b[38;5;124m'\u001b[39m]\n\u001b[1;32m----> 2\u001b[0m bar_7e_values \u001b[38;5;241m=\u001b[39m [nvm1_10_pool,Max_Team_Damage_w2,Max_Team_Damage_w2_HSACC,\u001b[43mMax_Team_Damage_w2_RES\u001b[49m,mb0a_wave2_pool]\n\u001b[0;32m      4\u001b[0m fig4, ax4 \u001b[38;5;241m=\u001b[39m plt\u001b[38;5;241m.\u001b[39msubplots()\n\u001b[0;32m      5\u001b[0m bars \u001b[38;5;241m=\u001b[39m ax4\u001b[38;5;241m.\u001b[39mbar(bar_labels_7e,bar_7e_values,color\u001b[38;5;241m=\u001b[39m[\u001b[38;5;124m'\u001b[39m\u001b[38;5;124mblack\u001b[39m\u001b[38;5;124m'\u001b[39m,\u001b[38;5;124m'\u001b[39m\u001b[38;5;124mpurple\u001b[39m\u001b[38;5;124m'\u001b[39m,\u001b[38;5;124m'\u001b[39m\u001b[38;5;124mblue\u001b[39m\u001b[38;5;124m'\u001b[39m,\u001b[38;5;124m'\u001b[39m\u001b[38;5;124mgreen\u001b[39m\u001b[38;5;124m'\u001b[39m,\u001b[38;5;124m'\u001b[39m\u001b[38;5;124mred\u001b[39m\u001b[38;5;124m'\u001b[39m])\n",
      "\u001b[1;31mNameError\u001b[0m: name 'Max_Team_Damage_w2_RES' is not defined"
     ]
    }
   ],
   "source": [
    "bar_labels_7e = ['NVM_v1 w10','Team Max2','HSACC Max2','Resist Max2','MB_v0a w2']\n",
    "bar_7e_values = [nvm1_10_pool,Max_Team_Damage_w2,Max_Team_Damage_w2_HSACC,Max_Team_Damage_w2_RES,mb0a_wave2_pool]\n",
    "\n",
    "fig4, ax4 = plt.subplots()\n",
    "bars = ax4.bar(bar_labels_7e,bar_7e_values,color=['black','purple','blue','green','red'])\n",
    "ax4.bar_label(bars, fmt='%.2f', label_type='edge')"
   ]
  },
  {
   "cell_type": "code",
   "execution_count": null,
   "id": "3609fa39",
   "metadata": {},
   "outputs": [],
   "source": [
    "Max_Team_Damage_w2_RES - mb0a_wave2_pool"
   ]
  },
  {
   "cell_type": "markdown",
   "id": "1c2cc23d",
   "metadata": {},
   "source": [
    "#### 7e. The Story So Far - Wave 2 Conclusion\n",
    "So, we can see that we have enough damage to complete the next wave of mb_v0a available to the team after accuracies and resistances are accounted for (green bar), but none of our damage budgets are anywhere near the NVM_v1 wave 10 cutoff. So, the model continues.\n",
    "\n",
    "The data so far also speaks to the importance of medics and synergystic play. The team is only just *barely* clearing these waves, with little room to spare. Had there been joint takedowns on wave 1 and medic buffs in the mix, the margin would be larger."
   ]
  },
  {
   "cell_type": "markdown",
   "id": "ee55abdf",
   "metadata": {},
   "source": [
    "### 7f. What's Next?\n",
    "\n",
    "I could call this good enough and move on, but I really want to push the limit. There's still **12,114** damage remaining in the guns. Let's empty them all out by swapping cysts for larges.\n",
    "\n",
    "Adding 4 fleshpounds and 4 scrakes accounts for just about all of that, leaving only a roughly **180** point damage margin. The medic had better be on their A-game with buffs and maybe even some damage!"
   ]
  },
  {
   "cell_type": "markdown",
   "id": "8261992e",
   "metadata": {},
   "source": [
    "## 8. The Analysis - Wave 2b"
   ]
  },
  {
   "cell_type": "markdown",
   "id": "4d4149aa",
   "metadata": {},
   "source": [
    "### 8a. Zed Head Health Pool - Wave 2b\n",
    "\n",
    "We have to reconstitute the pool of enemies a little, but there's not too much work to do."
   ]
  },
  {
   "cell_type": "markdown",
   "id": "67edd859",
   "metadata": {},
   "source": [
    "We get the existing MB wave 2 values."
   ]
  },
  {
   "cell_type": "code",
   "execution_count": 133,
   "id": "64bda60e",
   "metadata": {},
   "outputs": [
    {
     "data": {
      "text/plain": [
       "array([22, 24, 24, 14, 32, 24, 30, 28, 16, 14, 16, 16,  0, 14],\n",
       "      dtype=int64)"
      ]
     },
     "execution_count": 133,
     "metadata": {},
     "output_type": "execute_result"
    }
   ],
   "source": [
    "mb0a_w2_zeds = mb0a_df.iloc[1].values\n",
    "mb0a_w2_zeds"
   ]
  },
  {
   "cell_type": "markdown",
   "id": "836f6ae3",
   "metadata": {},
   "source": [
    "Now, we change them. We're losing 8 cysts, the first slot, and gaining 4 scrakes and 4 fleshpounds to create wave 2b"
   ]
  },
  {
   "cell_type": "code",
   "execution_count": 134,
   "id": "e6f2a980",
   "metadata": {},
   "outputs": [
    {
     "data": {
      "text/html": [
       "<div>\n",
       "<style scoped>\n",
       "    .dataframe tbody tr th:only-of-type {\n",
       "        vertical-align: middle;\n",
       "    }\n",
       "\n",
       "    .dataframe tbody tr th {\n",
       "        vertical-align: top;\n",
       "    }\n",
       "\n",
       "    .dataframe thead th {\n",
       "        text-align: right;\n",
       "    }\n",
       "</style>\n",
       "<table border=\"1\" class=\"dataframe\">\n",
       "  <thead>\n",
       "    <tr style=\"text-align: right;\">\n",
       "      <th></th>\n",
       "      <th>Cyst</th>\n",
       "      <th>Alpha Clot</th>\n",
       "      <th>Slasher</th>\n",
       "      <th>Rioter</th>\n",
       "      <th>Gorefast</th>\n",
       "      <th>Gorefiend</th>\n",
       "      <th>Crawler</th>\n",
       "      <th>Stalker</th>\n",
       "      <th>Bloat</th>\n",
       "      <th>Husk</th>\n",
       "      <th>Siren</th>\n",
       "      <th>Scrake</th>\n",
       "      <th>Quarterpound</th>\n",
       "      <th>Fleshpound</th>\n",
       "    </tr>\n",
       "  </thead>\n",
       "  <tbody>\n",
       "    <tr>\n",
       "      <th>0</th>\n",
       "      <td>14</td>\n",
       "      <td>24</td>\n",
       "      <td>24</td>\n",
       "      <td>14</td>\n",
       "      <td>32</td>\n",
       "      <td>24</td>\n",
       "      <td>30</td>\n",
       "      <td>28</td>\n",
       "      <td>16</td>\n",
       "      <td>14</td>\n",
       "      <td>16</td>\n",
       "      <td>20</td>\n",
       "      <td>0</td>\n",
       "      <td>18</td>\n",
       "    </tr>\n",
       "  </tbody>\n",
       "</table>\n",
       "</div>"
      ],
      "text/plain": [
       "   Cyst  Alpha Clot  Slasher  Rioter  Gorefast  Gorefiend  Crawler  Stalker  \\\n",
       "0    14          24       24      14        32         24       30       28   \n",
       "\n",
       "   Bloat  Husk  Siren  Scrake  Quarterpound  Fleshpound  \n",
       "0     16    14     16      20             0          18  "
      ]
     },
     "execution_count": 134,
     "metadata": {},
     "output_type": "execute_result"
    }
   ],
   "source": [
    "mb0a_w2b_zeds = [14, 24, 24, 14, 32, 24, 30, 28, 16, 14, 16, 20,  0, 18]\n",
    "mb0a_w2b_zeds_df = pd.DataFrame([mb0a_w2b_zeds],columns=mb0a_w2_labels)\n",
    "mb0a_w2b_zeds_df"
   ]
  },
  {
   "cell_type": "code",
   "execution_count": 135,
   "id": "fdf4d1a6",
   "metadata": {},
   "outputs": [
    {
     "data": {
      "text/html": [
       "<div>\n",
       "<style scoped>\n",
       "    .dataframe tbody tr th:only-of-type {\n",
       "        vertical-align: middle;\n",
       "    }\n",
       "\n",
       "    .dataframe tbody tr th {\n",
       "        vertical-align: top;\n",
       "    }\n",
       "\n",
       "    .dataframe thead th {\n",
       "        text-align: right;\n",
       "    }\n",
       "</style>\n",
       "<table border=\"1\" class=\"dataframe\">\n",
       "  <thead>\n",
       "    <tr style=\"text-align: right;\">\n",
       "      <th></th>\n",
       "      <th>Cyst</th>\n",
       "      <th>Alpha Clot</th>\n",
       "      <th>Slasher</th>\n",
       "      <th>Rioter</th>\n",
       "      <th>Gorefast</th>\n",
       "      <th>Gorefiend</th>\n",
       "      <th>Crawler</th>\n",
       "      <th>Stalker</th>\n",
       "      <th>Bloat</th>\n",
       "      <th>Husk</th>\n",
       "      <th>Siren</th>\n",
       "      <th>Scrake</th>\n",
       "      <th>Quarterpound</th>\n",
       "      <th>Fleshpound</th>\n",
       "    </tr>\n",
       "  </thead>\n",
       "  <tbody>\n",
       "    <tr>\n",
       "      <th>0</th>\n",
       "      <td>254.52</td>\n",
       "      <td>436.32</td>\n",
       "      <td>436.32</td>\n",
       "      <td>1590.96</td>\n",
       "      <td>1454.4</td>\n",
       "      <td>3272.64</td>\n",
       "      <td>545.4</td>\n",
       "      <td>509.04</td>\n",
       "      <td>1311.84</td>\n",
       "      <td>3076.92</td>\n",
       "      <td>2254.56</td>\n",
       "      <td>28800.0</td>\n",
       "      <td>0.0</td>\n",
       "      <td>28080.0</td>\n",
       "    </tr>\n",
       "  </tbody>\n",
       "</table>\n",
       "</div>"
      ],
      "text/plain": [
       "     Cyst  Alpha Clot  Slasher   Rioter  Gorefast  Gorefiend  Crawler  \\\n",
       "0  254.52      436.32   436.32  1590.96    1454.4    3272.64    545.4   \n",
       "\n",
       "   Stalker    Bloat     Husk    Siren   Scrake  Quarterpound  Fleshpound  \n",
       "0   509.04  1311.84  3076.92  2254.56  28800.0           0.0     28080.0  "
      ]
     },
     "execution_count": 135,
     "metadata": {},
     "output_type": "execute_result"
    }
   ],
   "source": [
    "mb0a_w2b_by_zed = mb0a_w2b_zeds * HP_Matrix_df.iloc[0]\n",
    "# mb0a_w2b_by_zed\n",
    "mb0a_w2b_by_zed_df = pd.DataFrame([mb0a_w2b_by_zed],columns=mb0a_w2_labels)\n",
    "mb0a_w2b_by_zed_df"
   ]
  },
  {
   "cell_type": "code",
   "execution_count": 136,
   "id": "6c0b1b80",
   "metadata": {},
   "outputs": [
    {
     "data": {
      "text/plain": [
       "72022.92"
      ]
     },
     "execution_count": 136,
     "metadata": {},
     "output_type": "execute_result"
    }
   ],
   "source": [
    "# mb_v0a, wave 2b\n",
    "mb0a_w2b_pool=mb0a_w2b_by_zed.sum()\n",
    "\n",
    "mb0a_w2b_pool"
   ]
  },
  {
   "cell_type": "markdown",
   "id": "8284393d",
   "metadata": {},
   "source": [
    "#### 8a. Zed Head Health Pool Conclusion - Wave 2b\n",
    "We can see that wave 2 is an extremely significant increase in lethality and Zed HP. Wave 1 had 22870.76 zed head HP, and now wave 2b has more than tripled that to **72,023**. It a ridiculous number this early."
   ]
  },
  {
   "cell_type": "markdown",
   "id": "4b701a41",
   "metadata": {},
   "source": [
    "### 8b. Team Loadouts - Wave 2b\n",
    "Very little to do here. Teams have the same eco as our first run at this wave, so I'm just restating values for reference here."
   ]
  },
  {
   "cell_type": "code",
   "execution_count": 137,
   "id": "3d6d7dee",
   "metadata": {},
   "outputs": [
    {
     "data": {
      "text/plain": [
       "171037.0"
      ]
     },
     "execution_count": 137,
     "metadata": {},
     "output_type": "execute_result"
    }
   ],
   "source": [
    "Max_Team_Damage_w2"
   ]
  },
  {
   "cell_type": "markdown",
   "id": "5c094f88",
   "metadata": {},
   "source": [
    "As before, the max damage the team can output before accuracy resistances are applied is **171,037**."
   ]
  },
  {
   "cell_type": "markdown",
   "id": "5b60bd53",
   "metadata": {},
   "source": [
    "### 8c. Max Team Damage after HSACC - Wave 2b"
   ]
  },
  {
   "cell_type": "markdown",
   "id": "b06e48cd",
   "metadata": {},
   "source": [
    "Again, just restating some important values and percentages. Nothing about our accuracies is expected to change."
   ]
  },
  {
   "cell_type": "code",
   "execution_count": 138,
   "id": "5314d327",
   "metadata": {},
   "outputs": [
    {
     "data": {
      "text/html": [
       "<div>\n",
       "<style scoped>\n",
       "    .dataframe tbody tr th:only-of-type {\n",
       "        vertical-align: middle;\n",
       "    }\n",
       "\n",
       "    .dataframe tbody tr th {\n",
       "        vertical-align: top;\n",
       "    }\n",
       "\n",
       "    .dataframe thead th {\n",
       "        text-align: right;\n",
       "    }\n",
       "</style>\n",
       "<table border=\"1\" class=\"dataframe\">\n",
       "  <thead>\n",
       "    <tr style=\"text-align: right;\">\n",
       "      <th></th>\n",
       "      <th>mando 9mm</th>\n",
       "      <th>mando ar15 hpr</th>\n",
       "      <th>mando bullpup hpr</th>\n",
       "      <th>gs1 9mm</th>\n",
       "      <th>gs1 1858s</th>\n",
       "      <th>gs1 SPX</th>\n",
       "      <th>gs2 9mm</th>\n",
       "      <th>gs2 1858s</th>\n",
       "      <th>gs2 SPX</th>\n",
       "      <th>ss1 9mm</th>\n",
       "      <th>ss1 winch</th>\n",
       "      <th>ss1 ebr1</th>\n",
       "      <th>ss2 9mm</th>\n",
       "      <th>ss2 winch</th>\n",
       "      <th>ss2 ebr1</th>\n",
       "    </tr>\n",
       "  </thead>\n",
       "  <tbody>\n",
       "    <tr>\n",
       "      <th>0</th>\n",
       "      <td>0.00181</td>\n",
       "      <td>0.02633</td>\n",
       "      <td>0.061972</td>\n",
       "      <td>0.003031</td>\n",
       "      <td>0.085967</td>\n",
       "      <td>0.144781</td>\n",
       "      <td>0.003031</td>\n",
       "      <td>0.085967</td>\n",
       "      <td>0.144781</td>\n",
       "      <td>0.004559</td>\n",
       "      <td>0.015405</td>\n",
       "      <td>0.201202</td>\n",
       "      <td>0.004559</td>\n",
       "      <td>0.015405</td>\n",
       "      <td>0.201202</td>\n",
       "    </tr>\n",
       "  </tbody>\n",
       "</table>\n",
       "</div>"
      ],
      "text/plain": [
       "   mando 9mm  mando ar15 hpr  mando bullpup hpr   gs1 9mm  gs1 1858s  \\\n",
       "0    0.00181         0.02633           0.061972  0.003031   0.085967   \n",
       "\n",
       "    gs1 SPX   gs2 9mm  gs2 1858s   gs2 SPX   ss1 9mm  ss1 winch  ss1 ebr1  \\\n",
       "0  0.144781  0.003031   0.085967  0.144781  0.004559   0.015405  0.201202   \n",
       "\n",
       "    ss2 9mm  ss2 winch  ss2 ebr1  \n",
       "0  0.004559   0.015405  0.201202  "
      ]
     },
     "execution_count": 138,
     "metadata": {},
     "output_type": "execute_result"
    }
   ],
   "source": [
    "# Percent of overall damage expected to be dealt by each weapon\n",
    "team_w2_hsacc_perc_df"
   ]
  },
  {
   "cell_type": "code",
   "execution_count": 139,
   "id": "b3807c4a",
   "metadata": {},
   "outputs": [
    {
     "data": {
      "text/plain": [
       "81481.8168877072"
      ]
     },
     "execution_count": 139,
     "metadata": {},
     "output_type": "execute_result"
    }
   ],
   "source": [
    "# Maximum damage before zed resistances are applied\n",
    "Max_Team_Damage_w2_HSACC"
   ]
  },
  {
   "cell_type": "markdown",
   "id": "b9f76f1b",
   "metadata": {},
   "source": [
    "Our max damage before resistances is **81,482**."
   ]
  },
  {
   "cell_type": "markdown",
   "id": "1367e23f",
   "metadata": {},
   "source": [
    "### 8d. Max Team Damage after Weapon Resistances - Wave 2b\n",
    "Time to calculate resistances."
   ]
  },
  {
   "cell_type": "code",
   "execution_count": 140,
   "id": "3540bb8a",
   "metadata": {
    "scrolled": true
   },
   "outputs": [
    {
     "data": {
      "text/html": [
       "<div>\n",
       "<style scoped>\n",
       "    .dataframe tbody tr th:only-of-type {\n",
       "        vertical-align: middle;\n",
       "    }\n",
       "\n",
       "    .dataframe tbody tr th {\n",
       "        vertical-align: top;\n",
       "    }\n",
       "\n",
       "    .dataframe thead th {\n",
       "        text-align: right;\n",
       "    }\n",
       "</style>\n",
       "<table border=\"1\" class=\"dataframe\">\n",
       "  <thead>\n",
       "    <tr style=\"text-align: right;\">\n",
       "      <th></th>\n",
       "      <th>Cyst</th>\n",
       "      <th>Alpha Clot</th>\n",
       "      <th>Slasher</th>\n",
       "      <th>Rioter</th>\n",
       "      <th>Gorefast</th>\n",
       "      <th>Gorefiend</th>\n",
       "      <th>Crawler</th>\n",
       "      <th>Stalker</th>\n",
       "      <th>Bloat</th>\n",
       "      <th>Husk</th>\n",
       "      <th>Siren</th>\n",
       "      <th>Scrake</th>\n",
       "      <th>Quarterpound</th>\n",
       "      <th>Fleshpound</th>\n",
       "    </tr>\n",
       "  </thead>\n",
       "  <tbody>\n",
       "    <tr>\n",
       "      <th>0</th>\n",
       "      <td>254.52</td>\n",
       "      <td>436.32</td>\n",
       "      <td>436.32</td>\n",
       "      <td>1590.96</td>\n",
       "      <td>1454.4</td>\n",
       "      <td>3272.64</td>\n",
       "      <td>545.4</td>\n",
       "      <td>509.04</td>\n",
       "      <td>1311.84</td>\n",
       "      <td>3076.92</td>\n",
       "      <td>2254.56</td>\n",
       "      <td>28800.0</td>\n",
       "      <td>0.0</td>\n",
       "      <td>28080.0</td>\n",
       "    </tr>\n",
       "  </tbody>\n",
       "</table>\n",
       "</div>"
      ],
      "text/plain": [
       "     Cyst  Alpha Clot  Slasher   Rioter  Gorefast  Gorefiend  Crawler  \\\n",
       "0  254.52      436.32   436.32  1590.96    1454.4    3272.64    545.4   \n",
       "\n",
       "   Stalker    Bloat     Husk    Siren   Scrake  Quarterpound  Fleshpound  \n",
       "0   509.04  1311.84  3076.92  2254.56  28800.0           0.0     28080.0  "
      ]
     },
     "execution_count": 140,
     "metadata": {},
     "output_type": "execute_result"
    }
   ],
   "source": [
    "mb0a_w2b_by_zed_df"
   ]
  },
  {
   "cell_type": "code",
   "execution_count": 141,
   "id": "daafbdc7",
   "metadata": {},
   "outputs": [],
   "source": [
    "# team_w2_full_df"
   ]
  },
  {
   "cell_type": "code",
   "execution_count": 142,
   "id": "0a583a34",
   "metadata": {},
   "outputs": [
    {
     "data": {
      "text/plain": [
       "[2.7180091105893434]"
      ]
     },
     "execution_count": 142,
     "metadata": {},
     "output_type": "execute_result"
    }
   ],
   "source": [
    "# Declaring our array for this set of calculations\n",
    "team_w2b_res = []\n",
    "# 9mm\n",
    "team_w2b_res.append(sum(mb0a_w2b_by_zed/zedstats_df_clean.iloc[7]*team_w2_hsacc_perc[0]))\n",
    "team_w2b_res"
   ]
  },
  {
   "cell_type": "code",
   "execution_count": 143,
   "id": "ee01c75d",
   "metadata": {},
   "outputs": [
    {
     "ename": "IndexError",
     "evalue": "single positional indexer is out-of-bounds",
     "output_type": "error",
     "traceback": [
      "\u001b[1;31m---------------------------------------------------------------------------\u001b[0m",
      "\u001b[1;31mIndexError\u001b[0m                                Traceback (most recent call last)",
      "Cell \u001b[1;32mIn[143], line 8\u001b[0m\n\u001b[0;32m      6\u001b[0m team_w2b_res\u001b[38;5;241m.\u001b[39mappend(\u001b[38;5;28msum\u001b[39m(mb0a_w2b_by_zed\u001b[38;5;241m/\u001b[39mzedstats_df_clean\u001b[38;5;241m.\u001b[39miloc[\u001b[38;5;241m7\u001b[39m]\u001b[38;5;241m*\u001b[39mteam_w2_hsacc_perc[\u001b[38;5;241m3\u001b[39m]))\n\u001b[0;32m      7\u001b[0m \u001b[38;5;66;03m#gs1 1858s\u001b[39;00m\n\u001b[1;32m----> 8\u001b[0m team_w2b_res\u001b[38;5;241m.\u001b[39mappend(\u001b[38;5;28msum\u001b[39m(mb0a_w2b_by_zed\u001b[38;5;241m/\u001b[39m\u001b[43mzedstats_df_clean\u001b[49m\u001b[38;5;241;43m.\u001b[39;49m\u001b[43miloc\u001b[49m\u001b[43m[\u001b[49m\u001b[38;5;241;43m8\u001b[39;49m\u001b[43m]\u001b[49m\u001b[38;5;241m*\u001b[39mteam_w2_hsacc_perc[\u001b[38;5;241m4\u001b[39m]))\n\u001b[0;32m      9\u001b[0m \u001b[38;5;66;03m#gs1 SPX\u001b[39;00m\n\u001b[0;32m     10\u001b[0m team_w2b_res\u001b[38;5;241m.\u001b[39mappend(\u001b[38;5;28msum\u001b[39m(mb0a_w2b_by_zed\u001b[38;5;241m/\u001b[39mzedstats_df_clean\u001b[38;5;241m.\u001b[39miloc[\u001b[38;5;241m5\u001b[39m]\u001b[38;5;241m*\u001b[39mteam_w2_hsacc_perc[\u001b[38;5;241m5\u001b[39m]))\n",
      "File \u001b[1;32m~\\anaconda3\\lib\\site-packages\\pandas\\core\\indexing.py:967\u001b[0m, in \u001b[0;36m_LocationIndexer.__getitem__\u001b[1;34m(self, key)\u001b[0m\n\u001b[0;32m    964\u001b[0m axis \u001b[38;5;241m=\u001b[39m \u001b[38;5;28mself\u001b[39m\u001b[38;5;241m.\u001b[39maxis \u001b[38;5;129;01mor\u001b[39;00m \u001b[38;5;241m0\u001b[39m\n\u001b[0;32m    966\u001b[0m maybe_callable \u001b[38;5;241m=\u001b[39m com\u001b[38;5;241m.\u001b[39mapply_if_callable(key, \u001b[38;5;28mself\u001b[39m\u001b[38;5;241m.\u001b[39mobj)\n\u001b[1;32m--> 967\u001b[0m \u001b[38;5;28;01mreturn\u001b[39;00m \u001b[38;5;28;43mself\u001b[39;49m\u001b[38;5;241;43m.\u001b[39;49m\u001b[43m_getitem_axis\u001b[49m\u001b[43m(\u001b[49m\u001b[43mmaybe_callable\u001b[49m\u001b[43m,\u001b[49m\u001b[43m \u001b[49m\u001b[43maxis\u001b[49m\u001b[38;5;241;43m=\u001b[39;49m\u001b[43maxis\u001b[49m\u001b[43m)\u001b[49m\n",
      "File \u001b[1;32m~\\anaconda3\\lib\\site-packages\\pandas\\core\\indexing.py:1520\u001b[0m, in \u001b[0;36m_iLocIndexer._getitem_axis\u001b[1;34m(self, key, axis)\u001b[0m\n\u001b[0;32m   1517\u001b[0m     \u001b[38;5;28;01mraise\u001b[39;00m \u001b[38;5;167;01mTypeError\u001b[39;00m(\u001b[38;5;124m\"\u001b[39m\u001b[38;5;124mCannot index by location index with a non-integer key\u001b[39m\u001b[38;5;124m\"\u001b[39m)\n\u001b[0;32m   1519\u001b[0m \u001b[38;5;66;03m# validate the location\u001b[39;00m\n\u001b[1;32m-> 1520\u001b[0m \u001b[38;5;28;43mself\u001b[39;49m\u001b[38;5;241;43m.\u001b[39;49m\u001b[43m_validate_integer\u001b[49m\u001b[43m(\u001b[49m\u001b[43mkey\u001b[49m\u001b[43m,\u001b[49m\u001b[43m \u001b[49m\u001b[43maxis\u001b[49m\u001b[43m)\u001b[49m\n\u001b[0;32m   1522\u001b[0m \u001b[38;5;28;01mreturn\u001b[39;00m \u001b[38;5;28mself\u001b[39m\u001b[38;5;241m.\u001b[39mobj\u001b[38;5;241m.\u001b[39m_ixs(key, axis\u001b[38;5;241m=\u001b[39maxis)\n",
      "File \u001b[1;32m~\\anaconda3\\lib\\site-packages\\pandas\\core\\indexing.py:1452\u001b[0m, in \u001b[0;36m_iLocIndexer._validate_integer\u001b[1;34m(self, key, axis)\u001b[0m\n\u001b[0;32m   1450\u001b[0m len_axis \u001b[38;5;241m=\u001b[39m \u001b[38;5;28mlen\u001b[39m(\u001b[38;5;28mself\u001b[39m\u001b[38;5;241m.\u001b[39mobj\u001b[38;5;241m.\u001b[39m_get_axis(axis))\n\u001b[0;32m   1451\u001b[0m \u001b[38;5;28;01mif\u001b[39;00m key \u001b[38;5;241m>\u001b[39m\u001b[38;5;241m=\u001b[39m len_axis \u001b[38;5;129;01mor\u001b[39;00m key \u001b[38;5;241m<\u001b[39m \u001b[38;5;241m-\u001b[39mlen_axis:\n\u001b[1;32m-> 1452\u001b[0m     \u001b[38;5;28;01mraise\u001b[39;00m \u001b[38;5;167;01mIndexError\u001b[39;00m(\u001b[38;5;124m\"\u001b[39m\u001b[38;5;124msingle positional indexer is out-of-bounds\u001b[39m\u001b[38;5;124m\"\u001b[39m)\n",
      "\u001b[1;31mIndexError\u001b[0m: single positional indexer is out-of-bounds"
     ]
    }
   ],
   "source": [
    "# AR15 hpr\n",
    "team_w2b_res.append(sum(mb0a_w2b_by_zed/zedstats_df_clean.iloc[3]*team_w2_hsacc_perc[1]))\n",
    "#bullpup\n",
    "team_w2b_res.append(sum(mb0a_w2b_by_zed/zedstats_df_clean.iloc[4]*team_w2_hsacc_perc[2]))\n",
    "#gs1 9mm\n",
    "team_w2b_res.append(sum(mb0a_w2b_by_zed/zedstats_df_clean.iloc[7]*team_w2_hsacc_perc[3]))\n",
    "#gs1 1858s\n",
    "team_w2b_res.append(sum(mb0a_w2b_by_zed/zedstats_df_clean.iloc[8]*team_w2_hsacc_perc[4]))\n",
    "#gs1 SPX\n",
    "team_w2b_res.append(sum(mb0a_w2b_by_zed/zedstats_df_clean.iloc[5]*team_w2_hsacc_perc[5]))\n",
    "#gs2 9mm\n",
    "team_w2b_res.append(sum(mb0a_w2b_by_zed/zedstats_df_clean.iloc[7]*team_w2_hsacc_perc[6]))\n",
    "#gs2 1858s\n",
    "team_w2b_res.append(sum(mb0a_w2b_by_zed/zedstats_df_clean.iloc[8]*team_w2_hsacc_perc[7]))\n",
    "#gs2 SPX\n",
    "team_w2b_res.append(sum(mb0a_w2b_by_zed/zedstats_df_clean.iloc[5]*team_w2_hsacc_perc[8]))\n",
    "#ss1 9mm\n",
    "team_w2b_res.append(sum(mb0a_w2b_by_zed/zedstats_df_clean.iloc[7]*team_w2_hsacc_perc[9]))\n",
    "#ss1 winch\n",
    "team_w2b_res.append(sum(mb0a_w2b_by_zed/zedstats_df_clean.iloc[5]*team_w2_hsacc_perc[10]))\n",
    "#ss1 ebr\n",
    "team_w2b_res.append(sum(mb0a_w2b_by_zed/zedstats_df_clean.iloc[5]*team_w2_hsacc_perc[11]))\n",
    "#ss2 9mm\n",
    "team_w2b_res.append(sum(mb0a_w2b_by_zed/zedstats_df_clean.iloc[7]*team_w2_hsacc_perc[9]))\n",
    "#ss2 winch\n",
    "team_w2b_res.append(sum(mb0a_w2b_by_zed/zedstats_df_clean.iloc[5]*team_w2_hsacc_perc[10]))\n",
    "#ss2 ebr\n",
    "team_w2b_res.append(sum(mb0a_w2b_by_zed/zedstats_df_clean.iloc[5]*team_w2_hsacc_perc[11]))\n",
    "\n",
    "# Make sure we didn't forget anything\n",
    "team_w2b_res_df = pd.DataFrame([team_w2b_res],columns=team_w2_full_labels)\n",
    "team_w2b_res_df"
   ]
  },
  {
   "cell_type": "code",
   "execution_count": null,
   "id": "700e1198",
   "metadata": {},
   "outputs": [],
   "source": [
    "team_w2b_res_perc = np.copy(team_w2b_res)\n",
    "team_w2b_res_perc = team_w2b_res_perc/sum(team_w2b_res)\n",
    "team_w2b_res_perc_df = pd.DataFrame([team_w2b_res_perc],columns=team_w2_full_labels)\n",
    "team_w2b_res_perc_df"
   ]
  },
  {
   "cell_type": "code",
   "execution_count": 144,
   "id": "a83b1761",
   "metadata": {},
   "outputs": [
    {
     "ename": "NameError",
     "evalue": "name 'team_w2b_res_perc' is not defined",
     "output_type": "error",
     "traceback": [
      "\u001b[1;31m---------------------------------------------------------------------------\u001b[0m",
      "\u001b[1;31mNameError\u001b[0m                                 Traceback (most recent call last)",
      "Cell \u001b[1;32mIn[144], line 2\u001b[0m\n\u001b[0;32m      1\u001b[0m \u001b[38;5;66;03m# Quick sanity check\u001b[39;00m\n\u001b[1;32m----> 2\u001b[0m \u001b[38;5;28msum\u001b[39m(\u001b[43mteam_w2b_res_perc\u001b[49m)\n",
      "\u001b[1;31mNameError\u001b[0m: name 'team_w2b_res_perc' is not defined"
     ]
    }
   ],
   "source": [
    "# Quick sanity check\n",
    "sum(team_w2b_res_perc)"
   ]
  },
  {
   "cell_type": "code",
   "execution_count": 145,
   "id": "303b1589",
   "metadata": {},
   "outputs": [
    {
     "data": {
      "text/plain": [
       "58.81939630378899"
      ]
     },
     "execution_count": 145,
     "metadata": {},
     "output_type": "execute_result"
    }
   ],
   "source": [
    "Max_Team_Damage_w2b_RES = sum(team_w2b_res)\n",
    "Max_Team_Damage_w2b_RES"
   ]
  },
  {
   "cell_type": "markdown",
   "id": "4b2a54e5",
   "metadata": {},
   "source": [
    "#### 7d. Max Team Damage after Weapon Resistances in Wave 2 Conclusion\n",
    "We now know that, with our accuracies and the resistances of the zeds, we can expect our team to do about **72,283** points of damage to the zeds. That just *barely* clears the necessary value."
   ]
  },
  {
   "cell_type": "markdown",
   "id": "877464be",
   "metadata": {},
   "source": [
    "### 8e. The Story So Far - Wave 2b\n",
    "We've found an outer edge, and it's time to see the fruits of our labors. The following bar plot displays, from left to right:\n",
    "1. NVM_v1's wave 10 adjusted zed head HP pool. \n",
    " - *nvm1_10_pool*\n",
    "2. The team's total possible damage for wave 2 if they were perfectly accurate and zeds resisted no damage.. \n",
    " - *Max_Team_Damage_w2*\n",
    "3. The team's expected damage output after accuracy is accounted for. \n",
    " - *Max_Team_Damage_w2_HSACC*\n",
    "4. The team's total possible damage after accuracy and zed resistances are applied. \n",
    " - *Max_Team_Damage_w2_RES*\n",
    "5. MB_v0a's wave 1 adjusted zed head HP pool, \n",
    " - *mb0a_wave2_pool*"
   ]
  },
  {
   "cell_type": "code",
   "execution_count": 146,
   "id": "72ab493c",
   "metadata": {},
   "outputs": [
    {
     "data": {
      "text/plain": [
       "58.81939630378899"
      ]
     },
     "execution_count": 146,
     "metadata": {},
     "output_type": "execute_result"
    }
   ],
   "source": [
    "Max_Team_Damage_w2b_RES"
   ]
  },
  {
   "cell_type": "code",
   "execution_count": 147,
   "id": "2aebcf76",
   "metadata": {},
   "outputs": [
    {
     "data": {
      "text/plain": [
       "[Text(0, 0, '228058.37'),\n",
       " Text(0, 0, '171037.00'),\n",
       " Text(0, 0, '81481.82'),\n",
       " Text(0, 0, '58.82'),\n",
       " Text(0, 0, '60168.36')]"
      ]
     },
     "execution_count": 147,
     "metadata": {},
     "output_type": "execute_result"
    },
    {
     "data": {
      "image/png": "[encoded data removed]",
      "text/plain": [
       "<Figure size 640x480 with 1 Axes>"
      ]
     },
     "metadata": {},
     "output_type": "display_data"
    }
   ],
   "source": [
    "bar_labels_8e = ['NVM_v1 w10','Team Max2','HSACC Max2','Resist Max2','MB_v0a w2']\n",
    "bar_8e_values = [nvm1_10_pool,Max_Team_Damage_w2,Max_Team_Damage_w2_HSACC,Max_Team_Damage_w2b_RES,mb0a_wave2_pool]\n",
    "\n",
    "fig5, ax5 = plt.subplots()\n",
    "bars = ax5.bar(bar_labels_8e,bar_8e_values,color=['black','purple','blue','green','red'])\n",
    "ax5.bar_label(bars, fmt='%.2f', label_type='edge')"
   ]
  },
  {
   "cell_type": "markdown",
   "id": "2f5b2bdd",
   "metadata": {},
   "source": [
    "24.\tRepeat with next wave\n",
    "25.\t_**LINE PLOT**_ of team money per wave.\n",
    "26.\tConglomerate _**LINE PLOT**_ of team money per wave for different cycles.\n",
    "27.\tWhen _Expected Team Damage Pool_ is greater than _NVM_v1 w10 Adjusted Head Health Pool_, cut the model off. Players, if they play well, can deal with basically any number of zeds in waves after this point. It is the \"Git Gud\" Threshold."
   ]
  },
  {
   "cell_type": "code",
   "execution_count": null,
   "id": "8e1c57aa",
   "metadata": {},
   "outputs": [],
   "source": []
  }
 ],
 "metadata": {
  "kernelspec": {
   "display_name": "Python 3 (ipykernel)",
   "language": "python",
   "name": "python3"
  },
  "language_info": {
   "codemirror_mode": {
    "name": "ipython",
    "version": 3
   },
   "file_extension": ".py",
   "mimetype": "text/x-python",
   "name": "python",
   "nbconvert_exporter": "python",
   "pygments_lexer": "ipython3",
   "version": "3.9.18"
  }
 },
 "nbformat": 4,
 "nbformat_minor": 5
}
